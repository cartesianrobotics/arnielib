{
 "cells": [
  {
   "cell_type": "code",
   "execution_count": 19,
   "metadata": {},
   "outputs": [],
   "source": [
    "import pandas as pd\n",
    "from scipy.optimize import curve_fit\n",
    "import matplotlib.pyplot as plt\n",
    "import seaborn as sns\n",
    "\n",
    "%matplotlib inline"
   ]
  },
  {
   "cell_type": "code",
   "execution_count": 20,
   "metadata": {},
   "outputs": [],
   "source": [
    "data_path = './Pipette_Calibration/'"
   ]
  },
  {
   "cell_type": "code",
   "execution_count": 21,
   "metadata": {},
   "outputs": [],
   "source": [
    "p1000_data = data_path + '19121401_Pipette_Calibration - 1000.csv'\n",
    "p200_data = data_path + '19121401_Pipette_Calibration - 200.csv'\n",
    "p20_data = data_path + '19121401_Pipette_Calibration - 20.csv'\n",
    "p20A_data = data_path + '19121401_Pipette_Calibration - 20_A.csv'"
   ]
  },
  {
   "cell_type": "code",
   "execution_count": 90,
   "metadata": {},
   "outputs": [],
   "source": [
    "p1000df = pd.read_csv(p1000_data, skiprows=2)\n",
    "p200df = pd.read_csv(p200_data, skiprows=2)\n",
    "p20df = pd.read_csv(p20_data, skiprows=2)\n",
    "p20Adf = pd.read_csv(p20A_data, skiprows=2)"
   ]
  },
  {
   "cell_type": "code",
   "execution_count": 91,
   "metadata": {},
   "outputs": [
    {
     "data": {
      "text/html": [
       "<div>\n",
       "<style scoped>\n",
       "    .dataframe tbody tr th:only-of-type {\n",
       "        vertical-align: middle;\n",
       "    }\n",
       "\n",
       "    .dataframe tbody tr th {\n",
       "        vertical-align: top;\n",
       "    }\n",
       "\n",
       "    .dataframe thead th {\n",
       "        text-align: right;\n",
       "    }\n",
       "</style>\n",
       "<table border=\"1\" class=\"dataframe\">\n",
       "  <thead>\n",
       "    <tr style=\"text-align: right;\">\n",
       "      <th></th>\n",
       "      <th>Plunger_pos</th>\n",
       "      <th>Plunger</th>\n",
       "      <th>mass_mL</th>\n",
       "      <th>mass</th>\n",
       "    </tr>\n",
       "  </thead>\n",
       "  <tbody>\n",
       "    <tr>\n",
       "      <th>0</th>\n",
       "      <td>0</td>\n",
       "      <td>0</td>\n",
       "      <td>0.9860</td>\n",
       "      <td>986.0</td>\n",
       "    </tr>\n",
       "    <tr>\n",
       "      <th>1</th>\n",
       "      <td>0</td>\n",
       "      <td>0</td>\n",
       "      <td>1.0014</td>\n",
       "      <td>1001.4</td>\n",
       "    </tr>\n",
       "    <tr>\n",
       "      <th>2</th>\n",
       "      <td>0</td>\n",
       "      <td>0</td>\n",
       "      <td>0.9932</td>\n",
       "      <td>993.2</td>\n",
       "    </tr>\n",
       "    <tr>\n",
       "      <th>3</th>\n",
       "      <td>0</td>\n",
       "      <td>0</td>\n",
       "      <td>0.9927</td>\n",
       "      <td>992.7</td>\n",
       "    </tr>\n",
       "    <tr>\n",
       "      <th>4</th>\n",
       "      <td>21</td>\n",
       "      <td>-21</td>\n",
       "      <td>1.6332</td>\n",
       "      <td>1633.2</td>\n",
       "    </tr>\n",
       "  </tbody>\n",
       "</table>\n",
       "</div>"
      ],
      "text/plain": [
       "   Plunger_pos  Plunger  mass_mL    mass\n",
       "0            0        0   0.9860   986.0\n",
       "1            0        0   1.0014  1001.4\n",
       "2            0        0   0.9932   993.2\n",
       "3            0        0   0.9927   992.7\n",
       "4           21      -21   1.6332  1633.2"
      ]
     },
     "execution_count": 91,
     "metadata": {},
     "output_type": "execute_result"
    }
   ],
   "source": [
    "p1000df.head()"
   ]
  },
  {
   "cell_type": "code",
   "execution_count": 92,
   "metadata": {},
   "outputs": [
    {
     "data": {
      "text/html": [
       "<div>\n",
       "<style scoped>\n",
       "    .dataframe tbody tr th:only-of-type {\n",
       "        vertical-align: middle;\n",
       "    }\n",
       "\n",
       "    .dataframe tbody tr th {\n",
       "        vertical-align: top;\n",
       "    }\n",
       "\n",
       "    .dataframe thead th {\n",
       "        text-align: right;\n",
       "    }\n",
       "</style>\n",
       "<table border=\"1\" class=\"dataframe\">\n",
       "  <thead>\n",
       "    <tr style=\"text-align: right;\">\n",
       "      <th></th>\n",
       "      <th>Plunger</th>\n",
       "      <th>Before</th>\n",
       "      <th>After</th>\n",
       "      <th>mass</th>\n",
       "    </tr>\n",
       "  </thead>\n",
       "  <tbody>\n",
       "    <tr>\n",
       "      <th>0</th>\n",
       "      <td>-6</td>\n",
       "      <td>0.9868</td>\n",
       "      <td>0.9910</td>\n",
       "      <td>4.2</td>\n",
       "    </tr>\n",
       "    <tr>\n",
       "      <th>1</th>\n",
       "      <td>-6</td>\n",
       "      <td>0.9788</td>\n",
       "      <td>0.9834</td>\n",
       "      <td>4.6</td>\n",
       "    </tr>\n",
       "    <tr>\n",
       "      <th>2</th>\n",
       "      <td>-6</td>\n",
       "      <td>0.9850</td>\n",
       "      <td>0.9904</td>\n",
       "      <td>5.4</td>\n",
       "    </tr>\n",
       "    <tr>\n",
       "      <th>3</th>\n",
       "      <td>-21</td>\n",
       "      <td>0.9787</td>\n",
       "      <td>0.9927</td>\n",
       "      <td>14.0</td>\n",
       "    </tr>\n",
       "    <tr>\n",
       "      <th>4</th>\n",
       "      <td>-11</td>\n",
       "      <td>0.9798</td>\n",
       "      <td>0.9868</td>\n",
       "      <td>7.0</td>\n",
       "    </tr>\n",
       "  </tbody>\n",
       "</table>\n",
       "</div>"
      ],
      "text/plain": [
       "   Plunger  Before   After  mass\n",
       "0       -6  0.9868  0.9910   4.2\n",
       "1       -6  0.9788  0.9834   4.6\n",
       "2       -6  0.9850  0.9904   5.4\n",
       "3      -21  0.9787  0.9927  14.0\n",
       "4      -11  0.9798  0.9868   7.0"
      ]
     },
     "execution_count": 92,
     "metadata": {},
     "output_type": "execute_result"
    }
   ],
   "source": [
    "p20Adf.head()"
   ]
  },
  {
   "cell_type": "code",
   "execution_count": 93,
   "metadata": {},
   "outputs": [],
   "source": [
    "p1000grouped = p1000df.groupby('Plunger').mean()\n",
    "p200grouped = p200df.groupby('Plunger').mean()\n",
    "p20grouped = p20df.groupby('Plunger').mean()\n",
    "p20Agrouped = p20Adf.groupby('Plunger').mean()"
   ]
  },
  {
   "cell_type": "code",
   "execution_count": 94,
   "metadata": {},
   "outputs": [],
   "source": [
    "p1000grouped['std'] = p1000df.groupby('Plunger').std()['mass']\n",
    "p200grouped['std'] = p200df.groupby('Plunger').std()['mass']\n",
    "p20grouped['std'] = p20df.groupby('Plunger').std()['mass']\n",
    "p20Agrouped['std'] = p20Adf.groupby('Plunger').std()['mass']"
   ]
  },
  {
   "cell_type": "code",
   "execution_count": 95,
   "metadata": {},
   "outputs": [
    {
     "data": {
      "text/html": [
       "<div>\n",
       "<style scoped>\n",
       "    .dataframe tbody tr th:only-of-type {\n",
       "        vertical-align: middle;\n",
       "    }\n",
       "\n",
       "    .dataframe tbody tr th {\n",
       "        vertical-align: top;\n",
       "    }\n",
       "\n",
       "    .dataframe thead th {\n",
       "        text-align: right;\n",
       "    }\n",
       "</style>\n",
       "<table border=\"1\" class=\"dataframe\">\n",
       "  <thead>\n",
       "    <tr style=\"text-align: right;\">\n",
       "      <th></th>\n",
       "      <th>Before</th>\n",
       "      <th>After</th>\n",
       "      <th>mass</th>\n",
       "      <th>std</th>\n",
       "    </tr>\n",
       "    <tr>\n",
       "      <th>Plunger</th>\n",
       "      <th></th>\n",
       "      <th></th>\n",
       "      <th></th>\n",
       "      <th></th>\n",
       "    </tr>\n",
       "  </thead>\n",
       "  <tbody>\n",
       "    <tr>\n",
       "      <th>-26</th>\n",
       "      <td>0.986650</td>\n",
       "      <td>1.003350</td>\n",
       "      <td>16.700</td>\n",
       "      <td>0.489898</td>\n",
       "    </tr>\n",
       "    <tr>\n",
       "      <th>-21</th>\n",
       "      <td>0.988175</td>\n",
       "      <td>1.002075</td>\n",
       "      <td>13.900</td>\n",
       "      <td>0.503322</td>\n",
       "    </tr>\n",
       "    <tr>\n",
       "      <th>-16</th>\n",
       "      <td>0.985550</td>\n",
       "      <td>0.997350</td>\n",
       "      <td>11.800</td>\n",
       "      <td>0.909212</td>\n",
       "    </tr>\n",
       "    <tr>\n",
       "      <th>-11</th>\n",
       "      <td>0.984975</td>\n",
       "      <td>0.993000</td>\n",
       "      <td>8.025</td>\n",
       "      <td>1.515201</td>\n",
       "    </tr>\n",
       "    <tr>\n",
       "      <th>-6</th>\n",
       "      <td>0.984150</td>\n",
       "      <td>0.988900</td>\n",
       "      <td>4.750</td>\n",
       "      <td>0.500000</td>\n",
       "    </tr>\n",
       "    <tr>\n",
       "      <th>-1</th>\n",
       "      <td>0.989100</td>\n",
       "      <td>0.990750</td>\n",
       "      <td>1.650</td>\n",
       "      <td>0.754983</td>\n",
       "    </tr>\n",
       "    <tr>\n",
       "      <th>0</th>\n",
       "      <td>0.986800</td>\n",
       "      <td>0.987900</td>\n",
       "      <td>1.100</td>\n",
       "      <td>NaN</td>\n",
       "    </tr>\n",
       "  </tbody>\n",
       "</table>\n",
       "</div>"
      ],
      "text/plain": [
       "           Before     After    mass       std\n",
       "Plunger                                      \n",
       "-26      0.986650  1.003350  16.700  0.489898\n",
       "-21      0.988175  1.002075  13.900  0.503322\n",
       "-16      0.985550  0.997350  11.800  0.909212\n",
       "-11      0.984975  0.993000   8.025  1.515201\n",
       "-6       0.984150  0.988900   4.750  0.500000\n",
       "-1       0.989100  0.990750   1.650  0.754983\n",
       " 0       0.986800  0.987900   1.100       NaN"
      ]
     },
     "execution_count": 95,
     "metadata": {},
     "output_type": "execute_result"
    }
   ],
   "source": [
    "p20Agrouped"
   ]
  },
  {
   "cell_type": "code",
   "execution_count": 96,
   "metadata": {},
   "outputs": [],
   "source": [
    "p20Agrouped = p20Agrouped.rename(columns={'Mass': 'mass'})"
   ]
  },
  {
   "cell_type": "code",
   "execution_count": 97,
   "metadata": {},
   "outputs": [],
   "source": [
    "p20grouped = p20Agrouped.copy()"
   ]
  },
  {
   "cell_type": "code",
   "execution_count": 98,
   "metadata": {},
   "outputs": [],
   "source": [
    "p1000grouped['mass'] = p1000grouped.mass - p1000grouped.mass.loc[0]\n",
    "p200grouped['mass'] = p200grouped.mass - p200grouped.mass.loc[0]\n",
    "p20grouped['mass'] = p20grouped.mass - p20grouped.mass.loc[0]"
   ]
  },
  {
   "cell_type": "code",
   "execution_count": 99,
   "metadata": {},
   "outputs": [],
   "source": [
    "p1000grouped = p1000grouped.reset_index()\n",
    "p200grouped = p200grouped.reset_index()\n",
    "p20grouped = p20grouped.reset_index()"
   ]
  },
  {
   "cell_type": "code",
   "execution_count": 100,
   "metadata": {},
   "outputs": [
    {
     "data": {
      "text/html": [
       "<div>\n",
       "<style scoped>\n",
       "    .dataframe tbody tr th:only-of-type {\n",
       "        vertical-align: middle;\n",
       "    }\n",
       "\n",
       "    .dataframe tbody tr th {\n",
       "        vertical-align: top;\n",
       "    }\n",
       "\n",
       "    .dataframe thead th {\n",
       "        text-align: right;\n",
       "    }\n",
       "</style>\n",
       "<table border=\"1\" class=\"dataframe\">\n",
       "  <thead>\n",
       "    <tr style=\"text-align: right;\">\n",
       "      <th></th>\n",
       "      <th>index</th>\n",
       "      <th>Plunger</th>\n",
       "      <th>Plunger_pos</th>\n",
       "      <th>mass_mL</th>\n",
       "      <th>mass</th>\n",
       "      <th>std</th>\n",
       "    </tr>\n",
       "  </thead>\n",
       "  <tbody>\n",
       "    <tr>\n",
       "      <th>0</th>\n",
       "      <td>0</td>\n",
       "      <td>-26</td>\n",
       "      <td>26</td>\n",
       "      <td>1.789350</td>\n",
       "      <td>796.025</td>\n",
       "      <td>2.577466</td>\n",
       "    </tr>\n",
       "    <tr>\n",
       "      <th>1</th>\n",
       "      <td>1</td>\n",
       "      <td>-21</td>\n",
       "      <td>21</td>\n",
       "      <td>1.634450</td>\n",
       "      <td>641.125</td>\n",
       "      <td>5.535642</td>\n",
       "    </tr>\n",
       "    <tr>\n",
       "      <th>2</th>\n",
       "      <td>2</td>\n",
       "      <td>-16</td>\n",
       "      <td>16</td>\n",
       "      <td>1.487825</td>\n",
       "      <td>494.500</td>\n",
       "      <td>8.716412</td>\n",
       "    </tr>\n",
       "    <tr>\n",
       "      <th>3</th>\n",
       "      <td>3</td>\n",
       "      <td>-11</td>\n",
       "      <td>11</td>\n",
       "      <td>1.327825</td>\n",
       "      <td>334.500</td>\n",
       "      <td>10.510748</td>\n",
       "    </tr>\n",
       "    <tr>\n",
       "      <th>4</th>\n",
       "      <td>4</td>\n",
       "      <td>-6</td>\n",
       "      <td>6</td>\n",
       "      <td>1.179800</td>\n",
       "      <td>186.475</td>\n",
       "      <td>4.167333</td>\n",
       "    </tr>\n",
       "    <tr>\n",
       "      <th>5</th>\n",
       "      <td>5</td>\n",
       "      <td>-1</td>\n",
       "      <td>1</td>\n",
       "      <td>1.024525</td>\n",
       "      <td>31.200</td>\n",
       "      <td>4.170831</td>\n",
       "    </tr>\n",
       "    <tr>\n",
       "      <th>6</th>\n",
       "      <td>6</td>\n",
       "      <td>0</td>\n",
       "      <td>0</td>\n",
       "      <td>0.993325</td>\n",
       "      <td>0.000</td>\n",
       "      <td>6.305223</td>\n",
       "    </tr>\n",
       "  </tbody>\n",
       "</table>\n",
       "</div>"
      ],
      "text/plain": [
       "   index  Plunger  Plunger_pos   mass_mL     mass        std\n",
       "0      0      -26           26  1.789350  796.025   2.577466\n",
       "1      1      -21           21  1.634450  641.125   5.535642\n",
       "2      2      -16           16  1.487825  494.500   8.716412\n",
       "3      3      -11           11  1.327825  334.500  10.510748\n",
       "4      4       -6            6  1.179800  186.475   4.167333\n",
       "5      5       -1            1  1.024525   31.200   4.170831\n",
       "6      6        0            0  0.993325    0.000   6.305223"
      ]
     },
     "execution_count": 100,
     "metadata": {},
     "output_type": "execute_result"
    }
   ],
   "source": [
    "p1000grouped.reset_index()"
   ]
  },
  {
   "cell_type": "code",
   "execution_count": 101,
   "metadata": {},
   "outputs": [
    {
     "data": {
      "image/png": "[encoded data removed]",
      "text/plain": [
       "<Figure size 432x288 with 1 Axes>"
      ]
     },
     "metadata": {
      "needs_background": "light"
     },
     "output_type": "display_data"
    }
   ],
   "source": [
    "ax = sns.lineplot(x=\"Plunger\", y=\"mass\", err_style=\"bars\", ci=68, data=p1000df)"
   ]
  },
  {
   "cell_type": "code",
   "execution_count": 102,
   "metadata": {},
   "outputs": [
    {
     "data": {
      "image/png": "[encoded data removed]",
      "text/plain": [
       "<Figure size 432x288 with 1 Axes>"
      ]
     },
     "metadata": {
      "needs_background": "light"
     },
     "output_type": "display_data"
    }
   ],
   "source": [
    "ax = sns.lineplot(x=\"Plunger\", y=\"mass\", err_style=\"bars\", ci=68, data=p200df)"
   ]
  },
  {
   "cell_type": "code",
   "execution_count": 103,
   "metadata": {},
   "outputs": [
    {
     "data": {
      "image/png": "[encoded data removed]",
      "text/plain": [
       "<Figure size 432x288 with 1 Axes>"
      ]
     },
     "metadata": {
      "needs_background": "light"
     },
     "output_type": "display_data"
    }
   ],
   "source": [
    "ax = sns.lineplot(x=\"Plunger\", y=\"mass\", err_style=\"bars\", ci=68, data=p20Adf)"
   ]
  },
  {
   "cell_type": "code",
   "execution_count": 104,
   "metadata": {},
   "outputs": [
    {
     "data": {
      "text/html": [
       "<div>\n",
       "<style scoped>\n",
       "    .dataframe tbody tr th:only-of-type {\n",
       "        vertical-align: middle;\n",
       "    }\n",
       "\n",
       "    .dataframe tbody tr th {\n",
       "        vertical-align: top;\n",
       "    }\n",
       "\n",
       "    .dataframe thead th {\n",
       "        text-align: right;\n",
       "    }\n",
       "</style>\n",
       "<table border=\"1\" class=\"dataframe\">\n",
       "  <thead>\n",
       "    <tr style=\"text-align: right;\">\n",
       "      <th></th>\n",
       "      <th>Plunger</th>\n",
       "      <th>Plunger_pos</th>\n",
       "      <th>mass_mL</th>\n",
       "      <th>mass</th>\n",
       "      <th>std</th>\n",
       "    </tr>\n",
       "  </thead>\n",
       "  <tbody>\n",
       "    <tr>\n",
       "      <th>0</th>\n",
       "      <td>-26</td>\n",
       "      <td>26</td>\n",
       "      <td>1.789350</td>\n",
       "      <td>796.025</td>\n",
       "      <td>2.577466</td>\n",
       "    </tr>\n",
       "    <tr>\n",
       "      <th>1</th>\n",
       "      <td>-21</td>\n",
       "      <td>21</td>\n",
       "      <td>1.634450</td>\n",
       "      <td>641.125</td>\n",
       "      <td>5.535642</td>\n",
       "    </tr>\n",
       "    <tr>\n",
       "      <th>2</th>\n",
       "      <td>-16</td>\n",
       "      <td>16</td>\n",
       "      <td>1.487825</td>\n",
       "      <td>494.500</td>\n",
       "      <td>8.716412</td>\n",
       "    </tr>\n",
       "    <tr>\n",
       "      <th>3</th>\n",
       "      <td>-11</td>\n",
       "      <td>11</td>\n",
       "      <td>1.327825</td>\n",
       "      <td>334.500</td>\n",
       "      <td>10.510748</td>\n",
       "    </tr>\n",
       "    <tr>\n",
       "      <th>4</th>\n",
       "      <td>-6</td>\n",
       "      <td>6</td>\n",
       "      <td>1.179800</td>\n",
       "      <td>186.475</td>\n",
       "      <td>4.167333</td>\n",
       "    </tr>\n",
       "  </tbody>\n",
       "</table>\n",
       "</div>"
      ],
      "text/plain": [
       "   Plunger  Plunger_pos   mass_mL     mass        std\n",
       "0      -26           26  1.789350  796.025   2.577466\n",
       "1      -21           21  1.634450  641.125   5.535642\n",
       "2      -16           16  1.487825  494.500   8.716412\n",
       "3      -11           11  1.327825  334.500  10.510748\n",
       "4       -6            6  1.179800  186.475   4.167333"
      ]
     },
     "execution_count": 104,
     "metadata": {},
     "output_type": "execute_result"
    }
   ],
   "source": [
    "p1000grouped.head()"
   ]
  },
  {
   "cell_type": "code",
   "execution_count": 105,
   "metadata": {},
   "outputs": [
    {
     "data": {
      "text/html": [
       "<div>\n",
       "<style scoped>\n",
       "    .dataframe tbody tr th:only-of-type {\n",
       "        vertical-align: middle;\n",
       "    }\n",
       "\n",
       "    .dataframe tbody tr th {\n",
       "        vertical-align: top;\n",
       "    }\n",
       "\n",
       "    .dataframe thead th {\n",
       "        text-align: right;\n",
       "    }\n",
       "</style>\n",
       "<table border=\"1\" class=\"dataframe\">\n",
       "  <thead>\n",
       "    <tr style=\"text-align: right;\">\n",
       "      <th></th>\n",
       "      <th>Plunger</th>\n",
       "      <th>Before</th>\n",
       "      <th>After</th>\n",
       "      <th>mass</th>\n",
       "      <th>std</th>\n",
       "    </tr>\n",
       "  </thead>\n",
       "  <tbody>\n",
       "    <tr>\n",
       "      <th>0</th>\n",
       "      <td>-26</td>\n",
       "      <td>0.986650</td>\n",
       "      <td>1.003350</td>\n",
       "      <td>15.600</td>\n",
       "      <td>0.489898</td>\n",
       "    </tr>\n",
       "    <tr>\n",
       "      <th>1</th>\n",
       "      <td>-21</td>\n",
       "      <td>0.988175</td>\n",
       "      <td>1.002075</td>\n",
       "      <td>12.800</td>\n",
       "      <td>0.503322</td>\n",
       "    </tr>\n",
       "    <tr>\n",
       "      <th>2</th>\n",
       "      <td>-16</td>\n",
       "      <td>0.985550</td>\n",
       "      <td>0.997350</td>\n",
       "      <td>10.700</td>\n",
       "      <td>0.909212</td>\n",
       "    </tr>\n",
       "    <tr>\n",
       "      <th>3</th>\n",
       "      <td>-11</td>\n",
       "      <td>0.984975</td>\n",
       "      <td>0.993000</td>\n",
       "      <td>6.925</td>\n",
       "      <td>1.515201</td>\n",
       "    </tr>\n",
       "    <tr>\n",
       "      <th>4</th>\n",
       "      <td>-6</td>\n",
       "      <td>0.984150</td>\n",
       "      <td>0.988900</td>\n",
       "      <td>3.650</td>\n",
       "      <td>0.500000</td>\n",
       "    </tr>\n",
       "    <tr>\n",
       "      <th>5</th>\n",
       "      <td>-1</td>\n",
       "      <td>0.989100</td>\n",
       "      <td>0.990750</td>\n",
       "      <td>0.550</td>\n",
       "      <td>0.754983</td>\n",
       "    </tr>\n",
       "    <tr>\n",
       "      <th>6</th>\n",
       "      <td>0</td>\n",
       "      <td>0.986800</td>\n",
       "      <td>0.987900</td>\n",
       "      <td>0.000</td>\n",
       "      <td>NaN</td>\n",
       "    </tr>\n",
       "  </tbody>\n",
       "</table>\n",
       "</div>"
      ],
      "text/plain": [
       "   Plunger    Before     After    mass       std\n",
       "0      -26  0.986650  1.003350  15.600  0.489898\n",
       "1      -21  0.988175  1.002075  12.800  0.503322\n",
       "2      -16  0.985550  0.997350  10.700  0.909212\n",
       "3      -11  0.984975  0.993000   6.925  1.515201\n",
       "4       -6  0.984150  0.988900   3.650  0.500000\n",
       "5       -1  0.989100  0.990750   0.550  0.754983\n",
       "6        0  0.986800  0.987900   0.000       NaN"
      ]
     },
     "execution_count": 105,
     "metadata": {},
     "output_type": "execute_result"
    }
   ],
   "source": [
    "p20grouped"
   ]
  },
  {
   "cell_type": "code",
   "execution_count": 106,
   "metadata": {},
   "outputs": [],
   "source": [
    "#p20grouped = p20grouped[p20grouped.Plunger >= 11]\n",
    "#p200grouped = p200grouped[p200grouped.Plunger <= -1]"
   ]
  },
  {
   "cell_type": "code",
   "execution_count": 107,
   "metadata": {},
   "outputs": [
    {
     "data": {
      "text/html": [
       "<div>\n",
       "<style scoped>\n",
       "    .dataframe tbody tr th:only-of-type {\n",
       "        vertical-align: middle;\n",
       "    }\n",
       "\n",
       "    .dataframe tbody tr th {\n",
       "        vertical-align: top;\n",
       "    }\n",
       "\n",
       "    .dataframe thead th {\n",
       "        text-align: right;\n",
       "    }\n",
       "</style>\n",
       "<table border=\"1\" class=\"dataframe\">\n",
       "  <thead>\n",
       "    <tr style=\"text-align: right;\">\n",
       "      <th></th>\n",
       "      <th>Plunger</th>\n",
       "      <th>Plunger_pos</th>\n",
       "      <th>mass_mL</th>\n",
       "      <th>mass</th>\n",
       "      <th>std</th>\n",
       "    </tr>\n",
       "  </thead>\n",
       "  <tbody>\n",
       "    <tr>\n",
       "      <th>0</th>\n",
       "      <td>-26</td>\n",
       "      <td>26</td>\n",
       "      <td>1.151050</td>\n",
       "      <td>157.725</td>\n",
       "      <td>5.700000</td>\n",
       "    </tr>\n",
       "    <tr>\n",
       "      <th>1</th>\n",
       "      <td>-21</td>\n",
       "      <td>21</td>\n",
       "      <td>1.125200</td>\n",
       "      <td>131.875</td>\n",
       "      <td>5.799425</td>\n",
       "    </tr>\n",
       "    <tr>\n",
       "      <th>2</th>\n",
       "      <td>-16</td>\n",
       "      <td>16</td>\n",
       "      <td>1.082975</td>\n",
       "      <td>89.650</td>\n",
       "      <td>1.755705</td>\n",
       "    </tr>\n",
       "    <tr>\n",
       "      <th>3</th>\n",
       "      <td>-11</td>\n",
       "      <td>11</td>\n",
       "      <td>1.054825</td>\n",
       "      <td>61.500</td>\n",
       "      <td>6.564234</td>\n",
       "    </tr>\n",
       "    <tr>\n",
       "      <th>4</th>\n",
       "      <td>-6</td>\n",
       "      <td>6</td>\n",
       "      <td>1.020725</td>\n",
       "      <td>27.400</td>\n",
       "      <td>4.174825</td>\n",
       "    </tr>\n",
       "    <tr>\n",
       "      <th>5</th>\n",
       "      <td>-1</td>\n",
       "      <td>1</td>\n",
       "      <td>0.993625</td>\n",
       "      <td>0.300</td>\n",
       "      <td>4.761915</td>\n",
       "    </tr>\n",
       "    <tr>\n",
       "      <th>6</th>\n",
       "      <td>0</td>\n",
       "      <td>0</td>\n",
       "      <td>0.993325</td>\n",
       "      <td>0.000</td>\n",
       "      <td>6.305223</td>\n",
       "    </tr>\n",
       "  </tbody>\n",
       "</table>\n",
       "</div>"
      ],
      "text/plain": [
       "   Plunger  Plunger_pos   mass_mL     mass       std\n",
       "0      -26           26  1.151050  157.725  5.700000\n",
       "1      -21           21  1.125200  131.875  5.799425\n",
       "2      -16           16  1.082975   89.650  1.755705\n",
       "3      -11           11  1.054825   61.500  6.564234\n",
       "4       -6            6  1.020725   27.400  4.174825\n",
       "5       -1            1  0.993625    0.300  4.761915\n",
       "6        0            0  0.993325    0.000  6.305223"
      ]
     },
     "execution_count": 107,
     "metadata": {},
     "output_type": "execute_result"
    }
   ],
   "source": [
    "p200grouped"
   ]
  },
  {
   "cell_type": "code",
   "execution_count": 108,
   "metadata": {},
   "outputs": [],
   "source": [
    "def f(x, A, B): # this is your 'straight line' y=f(x)\n",
    "    return A*x + B"
   ]
  },
  {
   "cell_type": "code",
   "execution_count": 109,
   "metadata": {},
   "outputs": [],
   "source": [
    "popt_1000, pcov_1000 = curve_fit(f, p1000grouped.mass, p1000grouped.Plunger) # your data x, y to fit\n",
    "popt_200, pcov_200 = curve_fit(f, p200grouped.mass, p200grouped.Plunger) # your data x, y to fit\n",
    "popt_20, pcov_20 = curve_fit(f, p20grouped.mass, p20grouped.Plunger) # your data x, y to fit"
   ]
  },
  {
   "cell_type": "code",
   "execution_count": 110,
   "metadata": {},
   "outputs": [
    {
     "data": {
      "text/plain": [
       "array([-0.03269068,  0.0282737 ])"
      ]
     },
     "execution_count": 110,
     "metadata": {},
     "output_type": "execute_result"
    }
   ],
   "source": [
    "popt_1000"
   ]
  },
  {
   "cell_type": "code",
   "execution_count": 111,
   "metadata": {},
   "outputs": [],
   "source": [
    "k_1000 = popt_1000[0]\n",
    "b_1000 = popt_1000[1]\n",
    "k_200 = popt_200[0]\n",
    "b_200 = popt_200[1]\n",
    "k_20 = popt_20[0]\n",
    "b_20 = popt_20[1]"
   ]
  },
  {
   "cell_type": "code",
   "execution_count": 112,
   "metadata": {},
   "outputs": [
    {
     "data": {
      "text/plain": [
       "(-0.032690675081371225, 0.02827370409092112)"
      ]
     },
     "execution_count": 112,
     "metadata": {},
     "output_type": "execute_result"
    }
   ],
   "source": [
    "k_1000, b_1000"
   ]
  },
  {
   "cell_type": "code",
   "execution_count": 121,
   "metadata": {},
   "outputs": [
    {
     "data": {
      "text/plain": [
       "(-0.15859245180518214, -0.958195131933648)"
      ]
     },
     "execution_count": 121,
     "metadata": {},
     "output_type": "execute_result"
    }
   ],
   "source": [
    "k_200, b_200"
   ]
  },
  {
   "cell_type": "code",
   "execution_count": 122,
   "metadata": {},
   "outputs": [
    {
     "data": {
      "text/plain": [
       "(-1.6287116213729622, 0.11457730909173938)"
      ]
     },
     "execution_count": 122,
     "metadata": {},
     "output_type": "execute_result"
    }
   ],
   "source": [
    "k_20, b_20"
   ]
  },
  {
   "cell_type": "code",
   "execution_count": 113,
   "metadata": {},
   "outputs": [],
   "source": [
    "p1000grouped['fit'] = p1000grouped.mass * k_1000 + b_1000"
   ]
  },
  {
   "cell_type": "code",
   "execution_count": 114,
   "metadata": {},
   "outputs": [
    {
     "data": {
      "text/html": [
       "<div>\n",
       "<style scoped>\n",
       "    .dataframe tbody tr th:only-of-type {\n",
       "        vertical-align: middle;\n",
       "    }\n",
       "\n",
       "    .dataframe tbody tr th {\n",
       "        vertical-align: top;\n",
       "    }\n",
       "\n",
       "    .dataframe thead th {\n",
       "        text-align: right;\n",
       "    }\n",
       "</style>\n",
       "<table border=\"1\" class=\"dataframe\">\n",
       "  <thead>\n",
       "    <tr style=\"text-align: right;\">\n",
       "      <th></th>\n",
       "      <th>Plunger</th>\n",
       "      <th>Plunger_pos</th>\n",
       "      <th>mass_mL</th>\n",
       "      <th>mass</th>\n",
       "      <th>std</th>\n",
       "      <th>fit</th>\n",
       "    </tr>\n",
       "  </thead>\n",
       "  <tbody>\n",
       "    <tr>\n",
       "      <th>0</th>\n",
       "      <td>-26</td>\n",
       "      <td>26</td>\n",
       "      <td>1.789350</td>\n",
       "      <td>796.025</td>\n",
       "      <td>2.577466</td>\n",
       "      <td>-25.994321</td>\n",
       "    </tr>\n",
       "    <tr>\n",
       "      <th>1</th>\n",
       "      <td>-21</td>\n",
       "      <td>21</td>\n",
       "      <td>1.634450</td>\n",
       "      <td>641.125</td>\n",
       "      <td>5.535642</td>\n",
       "      <td>-20.930535</td>\n",
       "    </tr>\n",
       "    <tr>\n",
       "      <th>2</th>\n",
       "      <td>-16</td>\n",
       "      <td>16</td>\n",
       "      <td>1.487825</td>\n",
       "      <td>494.500</td>\n",
       "      <td>8.716412</td>\n",
       "      <td>-16.137265</td>\n",
       "    </tr>\n",
       "    <tr>\n",
       "      <th>3</th>\n",
       "      <td>-11</td>\n",
       "      <td>11</td>\n",
       "      <td>1.327825</td>\n",
       "      <td>334.500</td>\n",
       "      <td>10.510748</td>\n",
       "      <td>-10.906757</td>\n",
       "    </tr>\n",
       "    <tr>\n",
       "      <th>4</th>\n",
       "      <td>-6</td>\n",
       "      <td>6</td>\n",
       "      <td>1.179800</td>\n",
       "      <td>186.475</td>\n",
       "      <td>4.167333</td>\n",
       "      <td>-6.067720</td>\n",
       "    </tr>\n",
       "    <tr>\n",
       "      <th>5</th>\n",
       "      <td>-1</td>\n",
       "      <td>1</td>\n",
       "      <td>1.024525</td>\n",
       "      <td>31.200</td>\n",
       "      <td>4.170831</td>\n",
       "      <td>-0.991675</td>\n",
       "    </tr>\n",
       "    <tr>\n",
       "      <th>6</th>\n",
       "      <td>0</td>\n",
       "      <td>0</td>\n",
       "      <td>0.993325</td>\n",
       "      <td>0.000</td>\n",
       "      <td>6.305223</td>\n",
       "      <td>0.028274</td>\n",
       "    </tr>\n",
       "  </tbody>\n",
       "</table>\n",
       "</div>"
      ],
      "text/plain": [
       "   Plunger  Plunger_pos   mass_mL     mass        std        fit\n",
       "0      -26           26  1.789350  796.025   2.577466 -25.994321\n",
       "1      -21           21  1.634450  641.125   5.535642 -20.930535\n",
       "2      -16           16  1.487825  494.500   8.716412 -16.137265\n",
       "3      -11           11  1.327825  334.500  10.510748 -10.906757\n",
       "4       -6            6  1.179800  186.475   4.167333  -6.067720\n",
       "5       -1            1  1.024525   31.200   4.170831  -0.991675\n",
       "6        0            0  0.993325    0.000   6.305223   0.028274"
      ]
     },
     "execution_count": 114,
     "metadata": {},
     "output_type": "execute_result"
    }
   ],
   "source": [
    "p1000grouped"
   ]
  },
  {
   "cell_type": "code",
   "execution_count": 115,
   "metadata": {},
   "outputs": [
    {
     "data": {
      "text/html": [
       "<div>\n",
       "<style scoped>\n",
       "    .dataframe tbody tr th:only-of-type {\n",
       "        vertical-align: middle;\n",
       "    }\n",
       "\n",
       "    .dataframe tbody tr th {\n",
       "        vertical-align: top;\n",
       "    }\n",
       "\n",
       "    .dataframe thead th {\n",
       "        text-align: right;\n",
       "    }\n",
       "</style>\n",
       "<table border=\"1\" class=\"dataframe\">\n",
       "  <thead>\n",
       "    <tr style=\"text-align: right;\">\n",
       "      <th></th>\n",
       "      <th>Plunger</th>\n",
       "      <th>Before</th>\n",
       "      <th>After</th>\n",
       "      <th>mass</th>\n",
       "      <th>std</th>\n",
       "    </tr>\n",
       "  </thead>\n",
       "  <tbody>\n",
       "    <tr>\n",
       "      <th>0</th>\n",
       "      <td>-26</td>\n",
       "      <td>0.986650</td>\n",
       "      <td>1.003350</td>\n",
       "      <td>15.600</td>\n",
       "      <td>0.489898</td>\n",
       "    </tr>\n",
       "    <tr>\n",
       "      <th>1</th>\n",
       "      <td>-21</td>\n",
       "      <td>0.988175</td>\n",
       "      <td>1.002075</td>\n",
       "      <td>12.800</td>\n",
       "      <td>0.503322</td>\n",
       "    </tr>\n",
       "    <tr>\n",
       "      <th>2</th>\n",
       "      <td>-16</td>\n",
       "      <td>0.985550</td>\n",
       "      <td>0.997350</td>\n",
       "      <td>10.700</td>\n",
       "      <td>0.909212</td>\n",
       "    </tr>\n",
       "    <tr>\n",
       "      <th>3</th>\n",
       "      <td>-11</td>\n",
       "      <td>0.984975</td>\n",
       "      <td>0.993000</td>\n",
       "      <td>6.925</td>\n",
       "      <td>1.515201</td>\n",
       "    </tr>\n",
       "    <tr>\n",
       "      <th>4</th>\n",
       "      <td>-6</td>\n",
       "      <td>0.984150</td>\n",
       "      <td>0.988900</td>\n",
       "      <td>3.650</td>\n",
       "      <td>0.500000</td>\n",
       "    </tr>\n",
       "    <tr>\n",
       "      <th>5</th>\n",
       "      <td>-1</td>\n",
       "      <td>0.989100</td>\n",
       "      <td>0.990750</td>\n",
       "      <td>0.550</td>\n",
       "      <td>0.754983</td>\n",
       "    </tr>\n",
       "    <tr>\n",
       "      <th>6</th>\n",
       "      <td>0</td>\n",
       "      <td>0.986800</td>\n",
       "      <td>0.987900</td>\n",
       "      <td>0.000</td>\n",
       "      <td>NaN</td>\n",
       "    </tr>\n",
       "  </tbody>\n",
       "</table>\n",
       "</div>"
      ],
      "text/plain": [
       "   Plunger    Before     After    mass       std\n",
       "0      -26  0.986650  1.003350  15.600  0.489898\n",
       "1      -21  0.988175  1.002075  12.800  0.503322\n",
       "2      -16  0.985550  0.997350  10.700  0.909212\n",
       "3      -11  0.984975  0.993000   6.925  1.515201\n",
       "4       -6  0.984150  0.988900   3.650  0.500000\n",
       "5       -1  0.989100  0.990750   0.550  0.754983\n",
       "6        0  0.986800  0.987900   0.000       NaN"
      ]
     },
     "execution_count": 115,
     "metadata": {},
     "output_type": "execute_result"
    }
   ],
   "source": [
    "p20grouped"
   ]
  },
  {
   "cell_type": "code",
   "execution_count": 116,
   "metadata": {},
   "outputs": [
    {
     "data": {
      "text/plain": [
       "-0.958195131933648"
      ]
     },
     "execution_count": 116,
     "metadata": {},
     "output_type": "execute_result"
    }
   ],
   "source": [
    "0 * k_200 + b_200"
   ]
  },
  {
   "cell_type": "code",
   "execution_count": 117,
   "metadata": {},
   "outputs": [
    {
     "data": {
      "text/plain": [
       "0.08200307666428014"
      ]
     },
     "execution_count": 117,
     "metadata": {},
     "output_type": "execute_result"
    }
   ],
   "source": [
    "0.02 * k_20 + b_20"
   ]
  },
  {
   "cell_type": "code",
   "execution_count": 118,
   "metadata": {},
   "outputs": [
    {
     "data": {
      "text/plain": [
       "0.10806246260624754"
      ]
     },
     "execution_count": 118,
     "metadata": {},
     "output_type": "execute_result"
    }
   ],
   "source": [
    "0.004 * k_20 + b_20"
   ]
  },
  {
   "cell_type": "code",
   "execution_count": 119,
   "metadata": {},
   "outputs": [
    {
     "data": {
      "text/plain": [
       "0.11294859747036642"
      ]
     },
     "execution_count": 119,
     "metadata": {},
     "output_type": "execute_result"
    }
   ],
   "source": [
    "0.001 * k_20 + b_20"
   ]
  },
  {
   "cell_type": "code",
   "execution_count": 120,
   "metadata": {},
   "outputs": [
    {
     "data": {
      "text/plain": [
       "-0.004416970990450103"
      ]
     },
     "execution_count": 120,
     "metadata": {},
     "output_type": "execute_result"
    }
   ],
   "source": [
    "1 * k_1000 + b_1000"
   ]
  },
  {
   "cell_type": "code",
   "execution_count": null,
   "metadata": {},
   "outputs": [],
   "source": []
  }
 ],
 "metadata": {
  "kernelspec": {
   "display_name": "Python 3",
   "language": "python",
   "name": "python3"
  },
  "language_info": {
   "codemirror_mode": {
    "name": "ipython",
    "version": 3
   },
   "file_extension": ".py",
   "mimetype": "text/x-python",
   "name": "python",
   "nbconvert_exporter": "python",
   "pygments_lexer": "ipython3",
   "version": "3.7.4"
  },
  "toc": {
   "base_numbering": 1,
   "nav_menu": {},
   "number_sections": true,
   "sideBar": true,
   "skip_h1_title": false,
   "title_cell": "Table of Contents",
   "title_sidebar": "Contents",
   "toc_cell": false,
   "toc_position": {},
   "toc_section_display": true,
   "toc_window_display": false
  }
 },
 "nbformat": 4,
 "nbformat_minor": 2
}
