{
 "cells": [
  {
   "cell_type": "markdown",
   "metadata": {},
   "source": [
    "# In case tool is stuck in the robot"
   ]
  },
  {
   "cell_type": "code",
   "execution_count": 8,
   "metadata": {},
   "outputs": [],
   "source": [
    "import low_level_comm as llc\n",
    "import cartesian\n",
    "import tools"
   ]
  },
  {
   "cell_type": "code",
   "execution_count": 10,
   "metadata": {},
   "outputs": [],
   "source": [
    "ar = cartesian.arnie('COM4')\n",
    "ar.home()"
   ]
  },
  {
   "cell_type": "code",
   "execution_count": 24,
   "metadata": {},
   "outputs": [],
   "source": [
    "tp = tools.mobile_touch_probe(ar, tool_name='mobile_probe', welcome_message='mobile touch probe')"
   ]
  },
  {
   "cell_type": "code",
   "execution_count": null,
   "metadata": {},
   "outputs": [],
   "source": [
    "tp.isTouched()"
   ]
  },
  {
   "cell_type": "code",
   "execution_count": 25,
   "metadata": {},
   "outputs": [],
   "source": [
    "tp.returnTool()"
   ]
  },
  {
   "cell_type": "code",
   "execution_count": 26,
   "metadata": {},
   "outputs": [],
   "source": [
    "ar.close()"
   ]
  },
  {
   "cell_type": "markdown",
   "metadata": {},
   "source": [
    "# Testing mobile_touch_probe.approachUntilTouch()"
   ]
  },
  {
   "cell_type": "code",
   "execution_count": 1,
   "metadata": {},
   "outputs": [],
   "source": [
    "import low_level_comm as llc\n",
    "import cartesian\n",
    "import tools\n",
    "from importlib import reload \n",
    "import logging"
   ]
  },
  {
   "cell_type": "code",
   "execution_count": 2,
   "metadata": {},
   "outputs": [
    {
     "name": "stdout",
     "output_type": "stream",
     "text": [
      "c:\\Users\\sergi\\Dropbox\\workspace\\arnielib\\arnietest.log\n"
     ]
    },
    {
     "name": "stderr",
     "output_type": "stream",
     "text": [
      "The process cannot access the file because it is being used by another process.\n"
     ]
    }
   ],
   "source": [
    "!del arnietest.log"
   ]
  },
  {
   "cell_type": "code",
   "execution_count": 3,
   "metadata": {},
   "outputs": [],
   "source": [
    "logging.basicConfig(level=logging.DEBUG, \n",
    "                    format='%(asctime)s %(message)s',\n",
    "                    handlers=[logging.FileHandler(filename='arnietest.log')])\n",
    "logger = logging.getLogger()"
   ]
  },
  {
   "cell_type": "code",
   "execution_count": 22,
   "metadata": {},
   "outputs": [],
   "source": [
    "ar = cartesian.arnie('COM4', 'COM6')\n",
    "ar.home()"
   ]
  },
  {
   "cell_type": "code",
   "execution_count": 6,
   "metadata": {},
   "outputs": [],
   "source": [
    "touch_probe=tools.mobile_touch_probe.getTool(ar)"
   ]
  },
  {
   "cell_type": "code",
   "execution_count": 7,
   "metadata": {},
   "outputs": [],
   "source": [
    "ar.move(x=500, y=300)"
   ]
  },
  {
   "cell_type": "code",
   "execution_count": 8,
   "metadata": {},
   "outputs": [],
   "source": [
    "ar.move(z=599, speed_z=5000)"
   ]
  },
  {
   "cell_type": "code",
   "execution_count": 9,
   "metadata": {},
   "outputs": [
    {
     "data": {
      "text/plain": [
       "610.0"
      ]
     },
     "execution_count": 9,
     "metadata": {},
     "output_type": "execute_result"
    }
   ],
   "source": [
    "touch_probe.approachUntilTouch('x', 10)"
   ]
  },
  {
   "cell_type": "code",
   "execution_count": 11,
   "metadata": {},
   "outputs": [
    {
     "data": {
      "text/plain": [
       "600.0"
      ]
     },
     "execution_count": 11,
     "metadata": {},
     "output_type": "execute_result"
    }
   ],
   "source": [
    "touch_probe.approachUntilTouch('x', -10, retract=True)"
   ]
  },
  {
   "cell_type": "code",
   "execution_count": 12,
   "metadata": {},
   "outputs": [],
   "source": [
    "ar.move(z=550, speed_z=5000)"
   ]
  },
  {
   "cell_type": "code",
   "execution_count": 13,
   "metadata": {},
   "outputs": [
    {
     "data": {
      "text/plain": [
       "605.0"
      ]
     },
     "execution_count": 13,
     "metadata": {},
     "output_type": "execute_result"
    }
   ],
   "source": [
    "touch_probe.approachUntilTouch('z', 5)"
   ]
  },
  {
   "cell_type": "code",
   "execution_count": 14,
   "metadata": {},
   "outputs": [],
   "source": [
    "ar.move(z=599, speed_z=5000)\n",
    "ar.move(x=500, y=300)"
   ]
  },
  {
   "cell_type": "code",
   "execution_count": 15,
   "metadata": {},
   "outputs": [
    {
     "data": {
      "text/plain": [
       "460.0"
      ]
     },
     "execution_count": 15,
     "metadata": {},
     "output_type": "execute_result"
    }
   ],
   "source": [
    "touch_probe.approachUntilTouch('x', -10)"
   ]
  },
  {
   "cell_type": "code",
   "execution_count": 16,
   "metadata": {},
   "outputs": [],
   "source": [
    "ar.move_delta(dx=10)"
   ]
  },
  {
   "cell_type": "code",
   "execution_count": 17,
   "metadata": {},
   "outputs": [
    {
     "data": {
      "text/plain": [
       "335.0"
      ]
     },
     "execution_count": 17,
     "metadata": {},
     "output_type": "execute_result"
    }
   ],
   "source": [
    "touch_probe.approachUntilTouch('y', 5)"
   ]
  },
  {
   "cell_type": "code",
   "execution_count": 18,
   "metadata": {},
   "outputs": [
    {
     "data": {
      "text/plain": [
       "335.0"
      ]
     },
     "execution_count": 18,
     "metadata": {},
     "output_type": "execute_result"
    }
   ],
   "source": [
    "touch_probe.approachUntilTouch('y', -5)"
   ]
  },
  {
   "cell_type": "code",
   "execution_count": 19,
   "metadata": {},
   "outputs": [
    {
     "data": {
      "text/plain": [
       "330.0"
      ]
     },
     "execution_count": 19,
     "metadata": {},
     "output_type": "execute_result"
    }
   ],
   "source": [
    "touch_probe.approachUntilTouch('y', -5, retract=True)"
   ]
  },
  {
   "cell_type": "code",
   "execution_count": 30,
   "metadata": {},
   "outputs": [],
   "source": [
    "import param"
   ]
  },
  {
   "cell_type": "code",
   "execution_count": 31,
   "metadata": {},
   "outputs": [],
   "source": [
    "[x, y, z] = param.getToolDockingPoint('mobile_probe')"
   ]
  },
  {
   "cell_type": "code",
   "execution_count": 32,
   "metadata": {},
   "outputs": [],
   "source": [
    "touch_probe.returnToolToCoord(x, y, z, 200)"
   ]
  },
  {
   "cell_type": "code",
   "execution_count": 23,
   "metadata": {},
   "outputs": [
    {
     "ename": "SerialException",
     "evalue": "Attempting to use a port that is not open",
     "output_type": "error",
     "traceback": [
      "\u001b[1;31m---------------------------------------------------------------------------\u001b[0m",
      "\u001b[1;31mSerialException\u001b[0m                           Traceback (most recent call last)",
      "\u001b[1;32m<ipython-input-23-5e3f82f64b45>\u001b[0m in \u001b[0;36m<module>\u001b[1;34m\u001b[0m\n\u001b[1;32m----> 1\u001b[1;33m \u001b[0mtouch_probe\u001b[0m\u001b[1;33m.\u001b[0m\u001b[0mreturnTool\u001b[0m\u001b[1;33m(\u001b[0m\u001b[1;33m)\u001b[0m\u001b[1;33m\u001b[0m\u001b[1;33m\u001b[0m\u001b[0m\n\u001b[0m",
      "\u001b[1;32mc:\\Users\\sergi\\Dropbox\\workspace\\arnielib\\tools.py\u001b[0m in \u001b[0;36mreturnTool\u001b[1;34m(self)\u001b[0m\n\u001b[0;32m    236\u001b[0m             \u001b[0mself\u001b[0m\u001b[1;33m.\u001b[0m\u001b[0mz_safe\u001b[0m \u001b[1;33m=\u001b[0m \u001b[1;36m0\u001b[0m\u001b[1;33m\u001b[0m\u001b[1;33m\u001b[0m\u001b[0m\n\u001b[0;32m    237\u001b[0m \u001b[1;33m\u001b[0m\u001b[0m\n\u001b[1;32m--> 238\u001b[1;33m         \u001b[0mself\u001b[0m\u001b[1;33m.\u001b[0m\u001b[0mreturnToolToCoord\u001b[0m\u001b[1;33m(\u001b[0m\u001b[0mself\u001b[0m\u001b[1;33m.\u001b[0m\u001b[0mx_dock\u001b[0m\u001b[1;33m,\u001b[0m \u001b[0mself\u001b[0m\u001b[1;33m.\u001b[0m\u001b[0my_dock\u001b[0m\u001b[1;33m,\u001b[0m \u001b[0mself\u001b[0m\u001b[1;33m.\u001b[0m\u001b[0mz_dock\u001b[0m\u001b[1;33m,\u001b[0m \u001b[0mself\u001b[0m\u001b[1;33m.\u001b[0m\u001b[0mz_safe\u001b[0m\u001b[1;33m)\u001b[0m\u001b[1;33m\u001b[0m\u001b[1;33m\u001b[0m\u001b[0m\n\u001b[0m\u001b[0;32m    239\u001b[0m \u001b[1;33m\u001b[0m\u001b[0m\n\u001b[0;32m    240\u001b[0m \u001b[1;33m\u001b[0m\u001b[0m\n",
      "\u001b[1;32mc:\\Users\\sergi\\Dropbox\\workspace\\arnielib\\tools.py\u001b[0m in \u001b[0;36mreturnToolToCoord\u001b[1;34m(self, x, y, z, z_init, speed_xy, speed_z)\u001b[0m\n\u001b[0;32m    251\u001b[0m         \u001b[1;32mexcept\u001b[0m\u001b[1;33m:\u001b[0m\u001b[1;33m\u001b[0m\u001b[1;33m\u001b[0m\u001b[0m\n\u001b[0;32m    252\u001b[0m             \u001b[1;32mpass\u001b[0m\u001b[1;33m\u001b[0m\u001b[1;33m\u001b[0m\u001b[0m\n\u001b[1;32m--> 253\u001b[1;33m         \u001b[0mself\u001b[0m\u001b[1;33m.\u001b[0m\u001b[0mrobot\u001b[0m\u001b[1;33m.\u001b[0m\u001b[0mreturnToolToCoord\u001b[0m\u001b[1;33m(\u001b[0m\u001b[0mx\u001b[0m\u001b[1;33m,\u001b[0m \u001b[0my\u001b[0m\u001b[1;33m,\u001b[0m \u001b[0mz\u001b[0m\u001b[1;33m,\u001b[0m \u001b[0mz_init\u001b[0m\u001b[1;33m,\u001b[0m \u001b[0mspeed_xy\u001b[0m\u001b[1;33m,\u001b[0m \u001b[0mspeed_z\u001b[0m\u001b[1;33m)\u001b[0m\u001b[1;33m\u001b[0m\u001b[1;33m\u001b[0m\u001b[0m\n\u001b[0m\u001b[0;32m    254\u001b[0m \u001b[1;33m\u001b[0m\u001b[0m\n\u001b[0;32m    255\u001b[0m \u001b[1;33m\u001b[0m\u001b[0m\n",
      "\u001b[1;32mc:\\Users\\sergi\\Dropbox\\workspace\\arnielib\\cartesian.py\u001b[0m in \u001b[0;36mreturnToolToCoord\u001b[1;34m(self, x, y, z, z_init, speed_xy, speed_z)\u001b[0m\n\u001b[0;32m    474\u001b[0m         \u001b[0mself\u001b[0m\u001b[1;33m.\u001b[0m\u001b[0mmove\u001b[0m\u001b[1;33m(\u001b[0m\u001b[0mx\u001b[0m\u001b[1;33m=\u001b[0m\u001b[0mx\u001b[0m\u001b[1;33m,\u001b[0m \u001b[0my\u001b[0m\u001b[1;33m=\u001b[0m\u001b[0my\u001b[0m\u001b[1;33m,\u001b[0m \u001b[0mz\u001b[0m\u001b[1;33m=\u001b[0m\u001b[0mz\u001b[0m\u001b[1;33m,\u001b[0m \u001b[0mz_first\u001b[0m\u001b[1;33m=\u001b[0m\u001b[1;32mFalse\u001b[0m\u001b[1;33m,\u001b[0m \u001b[0mspeed_xy\u001b[0m\u001b[1;33m=\u001b[0m\u001b[0mspeed_xy\u001b[0m\u001b[1;33m,\u001b[0m \u001b[0mspeed_z\u001b[0m\u001b[1;33m=\u001b[0m\u001b[0mSPEED_Z_MOVING_DOWN\u001b[0m\u001b[1;33m)\u001b[0m\u001b[1;33m\u001b[0m\u001b[1;33m\u001b[0m\u001b[0m\n\u001b[0;32m    475\u001b[0m         \u001b[1;31m# Opening tool\u001b[0m\u001b[1;33m\u001b[0m\u001b[1;33m\u001b[0m\u001b[1;33m\u001b[0m\u001b[0m\n\u001b[1;32m--> 476\u001b[1;33m         \u001b[0mself\u001b[0m\u001b[1;33m.\u001b[0m\u001b[0mopenTool\u001b[0m\u001b[1;33m(\u001b[0m\u001b[1;33m)\u001b[0m\u001b[1;33m\u001b[0m\u001b[1;33m\u001b[0m\u001b[0m\n\u001b[0m\u001b[0;32m    477\u001b[0m         \u001b[1;31m# Moving back to the safe position\u001b[0m\u001b[1;33m\u001b[0m\u001b[1;33m\u001b[0m\u001b[1;33m\u001b[0m\u001b[0m\n\u001b[0;32m    478\u001b[0m         \u001b[0mself\u001b[0m\u001b[1;33m.\u001b[0m\u001b[0mmove\u001b[0m\u001b[1;33m(\u001b[0m\u001b[0mz\u001b[0m\u001b[1;33m=\u001b[0m\u001b[0mz_init\u001b[0m\u001b[1;33m)\u001b[0m\u001b[1;33m\u001b[0m\u001b[1;33m\u001b[0m\u001b[0m\n",
      "\u001b[1;32mc:\\Users\\sergi\\Dropbox\\workspace\\arnielib\\cartesian.py\u001b[0m in \u001b[0;36mopenTool\u001b[1;34m(self)\u001b[0m\n\u001b[0;32m    333\u001b[0m         \u001b[1;34m\"\"\"Docker opens to accept a tool\"\"\"\u001b[0m\u001b[1;33m\u001b[0m\u001b[1;33m\u001b[0m\u001b[0m\n\u001b[0;32m    334\u001b[0m         \u001b[0mlogging\u001b[0m\u001b[1;33m.\u001b[0m\u001b[0minfo\u001b[0m\u001b[1;33m(\u001b[0m\u001b[1;34m\"Arnie openTool: Opening tool docker to accept a new tool.\"\u001b[0m\u001b[1;33m)\u001b[0m\u001b[1;33m\u001b[0m\u001b[1;33m\u001b[0m\u001b[0m\n\u001b[1;32m--> 335\u001b[1;33m         \u001b[0mself\u001b[0m\u001b[1;33m.\u001b[0m\u001b[0mdocker\u001b[0m\u001b[1;33m.\u001b[0m\u001b[0msetServoPosition\u001b[0m\u001b[1;33m(\u001b[0m\u001b[1;36m10\u001b[0m\u001b[1;33m)\u001b[0m\u001b[1;33m\u001b[0m\u001b[1;33m\u001b[0m\u001b[0m\n\u001b[0m\u001b[0;32m    336\u001b[0m         \u001b[0mtime\u001b[0m\u001b[1;33m.\u001b[0m\u001b[0msleep\u001b[0m\u001b[1;33m(\u001b[0m\u001b[1;36m1\u001b[0m\u001b[1;33m)\u001b[0m\u001b[1;33m\u001b[0m\u001b[1;33m\u001b[0m\u001b[0m\n\u001b[0;32m    337\u001b[0m \u001b[1;33m\u001b[0m\u001b[0m\n",
      "\u001b[1;32mc:\\Users\\sergi\\Dropbox\\workspace\\arnielib\\cartesian.py\u001b[0m in \u001b[0;36msetServoPosition\u001b[1;34m(self, value)\u001b[0m\n\u001b[0;32m     69\u001b[0m         \u001b[0mAcceptable\u001b[0m \u001b[0mvalues\u001b[0m \u001b[0mare\u001b[0m \u001b[1;36m1\u001b[0m\u001b[1;33m-\u001b[0m\u001b[1;36m180.\u001b[0m\u001b[1;33m\u001b[0m\u001b[1;33m\u001b[0m\u001b[0m\n\u001b[0;32m     70\u001b[0m         \"\"\"\n\u001b[1;32m---> 71\u001b[1;33m         \u001b[0mself\u001b[0m\u001b[1;33m.\u001b[0m\u001b[0mwrite\u001b[0m\u001b[1;33m(\u001b[0m\u001b[0mstr\u001b[0m\u001b[1;33m(\u001b[0m\u001b[0mvalue\u001b[0m\u001b[1;33m)\u001b[0m\u001b[1;33m)\u001b[0m\u001b[1;33m\u001b[0m\u001b[1;33m\u001b[0m\u001b[0m\n\u001b[0m\u001b[0;32m     72\u001b[0m \u001b[1;33m\u001b[0m\u001b[0m\n\u001b[0;32m     73\u001b[0m \u001b[1;33m\u001b[0m\u001b[0m\n",
      "\u001b[1;32mc:\\Users\\sergi\\Dropbox\\workspace\\arnielib\\low_level_comm.py\u001b[0m in \u001b[0;36mwrite\u001b[1;34m(self, expression, eol)\u001b[0m\n\u001b[0;32m    168\u001b[0m         \u001b[1;31m# Cleaning input buffer (so the buffer will contain only response of a device\u001b[0m\u001b[1;33m\u001b[0m\u001b[1;33m\u001b[0m\u001b[1;33m\u001b[0m\u001b[0m\n\u001b[0;32m    169\u001b[0m         \u001b[1;31m# to the command send within this function)\u001b[0m\u001b[1;33m\u001b[0m\u001b[1;33m\u001b[0m\u001b[1;33m\u001b[0m\u001b[0m\n\u001b[1;32m--> 170\u001b[1;33m         \u001b[0mself\u001b[0m\u001b[1;33m.\u001b[0m\u001b[0mport\u001b[0m\u001b[1;33m.\u001b[0m\u001b[0mflushInput\u001b[0m\u001b[1;33m(\u001b[0m\u001b[1;33m)\u001b[0m\u001b[1;33m\u001b[0m\u001b[1;33m\u001b[0m\u001b[0m\n\u001b[0m\u001b[0;32m    171\u001b[0m         \u001b[1;31m# Strip all EOL characters for consistency\u001b[0m\u001b[1;33m\u001b[0m\u001b[1;33m\u001b[0m\u001b[1;33m\u001b[0m\u001b[0m\n\u001b[0;32m    172\u001b[0m         \u001b[0mexpression\u001b[0m \u001b[1;33m=\u001b[0m \u001b[0mexpression\u001b[0m\u001b[1;33m.\u001b[0m\u001b[0mstrip\u001b[0m\u001b[1;33m(\u001b[0m\u001b[1;33m)\u001b[0m\u001b[1;33m\u001b[0m\u001b[1;33m\u001b[0m\u001b[0m\n",
      "\u001b[1;32m~\\Anaconda3\\lib\\site-packages\\serial\\serialutil.py\u001b[0m in \u001b[0;36mflushInput\u001b[1;34m(self)\u001b[0m\n\u001b[0;32m    582\u001b[0m \u001b[1;33m\u001b[0m\u001b[0m\n\u001b[0;32m    583\u001b[0m     \u001b[1;32mdef\u001b[0m \u001b[0mflushInput\u001b[0m\u001b[1;33m(\u001b[0m\u001b[0mself\u001b[0m\u001b[1;33m)\u001b[0m\u001b[1;33m:\u001b[0m\u001b[1;33m\u001b[0m\u001b[1;33m\u001b[0m\u001b[0m\n\u001b[1;32m--> 584\u001b[1;33m         \u001b[0mself\u001b[0m\u001b[1;33m.\u001b[0m\u001b[0mreset_input_buffer\u001b[0m\u001b[1;33m(\u001b[0m\u001b[1;33m)\u001b[0m\u001b[1;33m\u001b[0m\u001b[1;33m\u001b[0m\u001b[0m\n\u001b[0m\u001b[0;32m    585\u001b[0m \u001b[1;33m\u001b[0m\u001b[0m\n\u001b[0;32m    586\u001b[0m     \u001b[1;32mdef\u001b[0m \u001b[0mflushOutput\u001b[0m\u001b[1;33m(\u001b[0m\u001b[0mself\u001b[0m\u001b[1;33m)\u001b[0m\u001b[1;33m:\u001b[0m\u001b[1;33m\u001b[0m\u001b[1;33m\u001b[0m\u001b[0m\n",
      "\u001b[1;32m~\\Anaconda3\\lib\\site-packages\\serial\\serialwin32.py\u001b[0m in \u001b[0;36mreset_input_buffer\u001b[1;34m(self)\u001b[0m\n\u001b[0;32m    350\u001b[0m         \u001b[1;34m\"\"\"Clear input buffer, discarding all that is in the buffer.\"\"\"\u001b[0m\u001b[1;33m\u001b[0m\u001b[1;33m\u001b[0m\u001b[0m\n\u001b[0;32m    351\u001b[0m         \u001b[1;32mif\u001b[0m \u001b[1;32mnot\u001b[0m \u001b[0mself\u001b[0m\u001b[1;33m.\u001b[0m\u001b[0mis_open\u001b[0m\u001b[1;33m:\u001b[0m\u001b[1;33m\u001b[0m\u001b[1;33m\u001b[0m\u001b[0m\n\u001b[1;32m--> 352\u001b[1;33m             \u001b[1;32mraise\u001b[0m \u001b[0mportNotOpenError\u001b[0m\u001b[1;33m\u001b[0m\u001b[1;33m\u001b[0m\u001b[0m\n\u001b[0m\u001b[0;32m    353\u001b[0m         \u001b[0mwin32\u001b[0m\u001b[1;33m.\u001b[0m\u001b[0mPurgeComm\u001b[0m\u001b[1;33m(\u001b[0m\u001b[0mself\u001b[0m\u001b[1;33m.\u001b[0m\u001b[0m_port_handle\u001b[0m\u001b[1;33m,\u001b[0m \u001b[0mwin32\u001b[0m\u001b[1;33m.\u001b[0m\u001b[0mPURGE_RXCLEAR\u001b[0m \u001b[1;33m|\u001b[0m \u001b[0mwin32\u001b[0m\u001b[1;33m.\u001b[0m\u001b[0mPURGE_RXABORT\u001b[0m\u001b[1;33m)\u001b[0m\u001b[1;33m\u001b[0m\u001b[1;33m\u001b[0m\u001b[0m\n\u001b[0;32m    354\u001b[0m \u001b[1;33m\u001b[0m\u001b[0m\n",
      "\u001b[1;32mc:\\Users\\sergi\\Dropbox\\workspace\\arnielib\\cartesian.py\u001b[0m in \u001b[0;36mmoveAxis\u001b[1;34m(self, axis, destination, speed)\u001b[0m\n\u001b[0;32m    188\u001b[0m             \u001b[0mlogging\u001b[0m\u001b[1;33m.\u001b[0m\u001b[0minfo\u001b[0m\u001b[1;33m(\u001b[0m\u001b[1;34m\"moveAxis: G-code command generated: %s\"\u001b[0m\u001b[1;33m,\u001b[0m \u001b[0mfull_cmd\u001b[0m\u001b[1;33m)\u001b[0m\u001b[1;33m\u001b[0m\u001b[1;33m\u001b[0m\u001b[0m\n\u001b[0;32m    189\u001b[0m \u001b[1;33m\u001b[0m\u001b[0m\n\u001b[1;32m--> 190\u001b[1;33m             \u001b[0mself\u001b[0m\u001b[1;33m.\u001b[0m\u001b[0mwriteAndWait\u001b[0m\u001b[1;33m(\u001b[0m\u001b[0mfull_cmd\u001b[0m\u001b[1;33m)\u001b[0m\u001b[1;33m\u001b[0m\u001b[1;33m\u001b[0m\u001b[0m\n\u001b[0m\u001b[0;32m    191\u001b[0m         \u001b[1;32mexcept\u001b[0m\u001b[1;33m:\u001b[0m\u001b[1;33m\u001b[0m\u001b[1;33m\u001b[0m\u001b[0m\n\u001b[0;32m    192\u001b[0m             \u001b[0mlogging\u001b[0m\u001b[1;33m.\u001b[0m\u001b[0mwarning\u001b[0m\u001b[1;33m(\u001b[0m\u001b[1;34m\"moveAxis: Attempted to move carriage to the new position along the axis %s\"\u001b[0m\u001b[1;33m,\u001b[0m \u001b[0maxis\u001b[0m\u001b[1;33m)\u001b[0m\u001b[1;33m\u001b[0m\u001b[1;33m\u001b[0m\u001b[0m\n",
      "\u001b[1;32mc:\\Users\\sergi\\Dropbox\\workspace\\arnielib\\low_level_comm.py\u001b[0m in \u001b[0;36mwriteAndWait\u001b[1;34m(self, expression, eol, confirm_message)\u001b[0m\n\u001b[0;32m    242\u001b[0m         \u001b[0mFunction\u001b[0m \u001b[0mwill\u001b[0m \u001b[1;32mreturn\u001b[0m \u001b[0man\u001b[0m \u001b[0moutput\u001b[0m \u001b[0mmessage\u001b[0m\u001b[1;33m\u001b[0m\u001b[1;33m\u001b[0m\u001b[0m\n\u001b[0;32m    243\u001b[0m         \"\"\"\n\u001b[1;32m--> 244\u001b[1;33m         \u001b[0mself\u001b[0m\u001b[1;33m.\u001b[0m\u001b[0mwrite\u001b[0m\u001b[1;33m(\u001b[0m\u001b[0mexpression\u001b[0m\u001b[1;33m,\u001b[0m \u001b[0meol\u001b[0m\u001b[1;33m)\u001b[0m\u001b[1;33m\u001b[0m\u001b[1;33m\u001b[0m\u001b[0m\n\u001b[0m\u001b[0;32m    245\u001b[0m         \u001b[0mself\u001b[0m\u001b[1;33m.\u001b[0m\u001b[0mrecent_message\u001b[0m \u001b[1;33m=\u001b[0m \u001b[0mself\u001b[0m\u001b[1;33m.\u001b[0m\u001b[0mreadBufferUntilMatch\u001b[0m\u001b[1;33m(\u001b[0m\u001b[0mpattern\u001b[0m\u001b[1;33m=\u001b[0m\u001b[0mconfirm_message\u001b[0m\u001b[1;33m)\u001b[0m\u001b[1;33m\u001b[0m\u001b[1;33m\u001b[0m\u001b[0m\n\u001b[0;32m    246\u001b[0m         \u001b[1;32mreturn\u001b[0m \u001b[0mself\u001b[0m\u001b[1;33m.\u001b[0m\u001b[0mrecent_message\u001b[0m\u001b[1;33m\u001b[0m\u001b[1;33m\u001b[0m\u001b[0m\n",
      "\u001b[1;32mc:\\Users\\sergi\\Dropbox\\workspace\\arnielib\\low_level_comm.py\u001b[0m in \u001b[0;36mwrite\u001b[1;34m(self, expression, eol)\u001b[0m\n\u001b[0;32m    168\u001b[0m         \u001b[1;31m# Cleaning input buffer (so the buffer will contain only response of a device\u001b[0m\u001b[1;33m\u001b[0m\u001b[1;33m\u001b[0m\u001b[1;33m\u001b[0m\u001b[0m\n\u001b[0;32m    169\u001b[0m         \u001b[1;31m# to the command send within this function)\u001b[0m\u001b[1;33m\u001b[0m\u001b[1;33m\u001b[0m\u001b[1;33m\u001b[0m\u001b[0m\n\u001b[1;32m--> 170\u001b[1;33m         \u001b[0mself\u001b[0m\u001b[1;33m.\u001b[0m\u001b[0mport\u001b[0m\u001b[1;33m.\u001b[0m\u001b[0mflushInput\u001b[0m\u001b[1;33m(\u001b[0m\u001b[1;33m)\u001b[0m\u001b[1;33m\u001b[0m\u001b[1;33m\u001b[0m\u001b[0m\n\u001b[0m\u001b[0;32m    171\u001b[0m         \u001b[1;31m# Strip all EOL characters for consistency\u001b[0m\u001b[1;33m\u001b[0m\u001b[1;33m\u001b[0m\u001b[1;33m\u001b[0m\u001b[0m\n\u001b[0;32m    172\u001b[0m         \u001b[0mexpression\u001b[0m \u001b[1;33m=\u001b[0m \u001b[0mexpression\u001b[0m\u001b[1;33m.\u001b[0m\u001b[0mstrip\u001b[0m\u001b[1;33m(\u001b[0m\u001b[1;33m)\u001b[0m\u001b[1;33m\u001b[0m\u001b[1;33m\u001b[0m\u001b[0m\n",
      "\u001b[1;32m~\\Anaconda3\\lib\\site-packages\\serial\\serialutil.py\u001b[0m in \u001b[0;36mflushInput\u001b[1;34m(self)\u001b[0m\n\u001b[0;32m    582\u001b[0m \u001b[1;33m\u001b[0m\u001b[0m\n\u001b[0;32m    583\u001b[0m     \u001b[1;32mdef\u001b[0m \u001b[0mflushInput\u001b[0m\u001b[1;33m(\u001b[0m\u001b[0mself\u001b[0m\u001b[1;33m)\u001b[0m\u001b[1;33m:\u001b[0m\u001b[1;33m\u001b[0m\u001b[1;33m\u001b[0m\u001b[0m\n\u001b[1;32m--> 584\u001b[1;33m         \u001b[0mself\u001b[0m\u001b[1;33m.\u001b[0m\u001b[0mreset_input_buffer\u001b[0m\u001b[1;33m(\u001b[0m\u001b[1;33m)\u001b[0m\u001b[1;33m\u001b[0m\u001b[1;33m\u001b[0m\u001b[0m\n\u001b[0m\u001b[0;32m    585\u001b[0m \u001b[1;33m\u001b[0m\u001b[0m\n\u001b[0;32m    586\u001b[0m     \u001b[1;32mdef\u001b[0m \u001b[0mflushOutput\u001b[0m\u001b[1;33m(\u001b[0m\u001b[0mself\u001b[0m\u001b[1;33m)\u001b[0m\u001b[1;33m:\u001b[0m\u001b[1;33m\u001b[0m\u001b[1;33m\u001b[0m\u001b[0m\n",
      "\u001b[1;32m~\\Anaconda3\\lib\\site-packages\\serial\\serialwin32.py\u001b[0m in \u001b[0;36mreset_input_buffer\u001b[1;34m(self)\u001b[0m\n\u001b[0;32m    350\u001b[0m         \u001b[1;34m\"\"\"Clear input buffer, discarding all that is in the buffer.\"\"\"\u001b[0m\u001b[1;33m\u001b[0m\u001b[1;33m\u001b[0m\u001b[0m\n\u001b[0;32m    351\u001b[0m         \u001b[1;32mif\u001b[0m \u001b[1;32mnot\u001b[0m \u001b[0mself\u001b[0m\u001b[1;33m.\u001b[0m\u001b[0mis_open\u001b[0m\u001b[1;33m:\u001b[0m\u001b[1;33m\u001b[0m\u001b[1;33m\u001b[0m\u001b[0m\n\u001b[1;32m--> 352\u001b[1;33m             \u001b[1;32mraise\u001b[0m \u001b[0mportNotOpenError\u001b[0m\u001b[1;33m\u001b[0m\u001b[1;33m\u001b[0m\u001b[0m\n\u001b[0m\u001b[0;32m    353\u001b[0m         \u001b[0mwin32\u001b[0m\u001b[1;33m.\u001b[0m\u001b[0mPurgeComm\u001b[0m\u001b[1;33m(\u001b[0m\u001b[0mself\u001b[0m\u001b[1;33m.\u001b[0m\u001b[0m_port_handle\u001b[0m\u001b[1;33m,\u001b[0m \u001b[0mwin32\u001b[0m\u001b[1;33m.\u001b[0m\u001b[0mPURGE_RXCLEAR\u001b[0m \u001b[1;33m|\u001b[0m \u001b[0mwin32\u001b[0m\u001b[1;33m.\u001b[0m\u001b[0mPURGE_RXABORT\u001b[0m\u001b[1;33m)\u001b[0m\u001b[1;33m\u001b[0m\u001b[1;33m\u001b[0m\u001b[0m\n\u001b[0;32m    354\u001b[0m \u001b[1;33m\u001b[0m\u001b[0m\n",
      "\u001b[1;32mc:\\Users\\sergi\\Dropbox\\workspace\\arnielib\\cartesian.py\u001b[0m in \u001b[0;36mmoveXY\u001b[1;34m(self, x, y, speed)\u001b[0m\n\u001b[0;32m    218\u001b[0m             \u001b[0mlogging\u001b[0m\u001b[1;33m.\u001b[0m\u001b[0minfo\u001b[0m\u001b[1;33m(\u001b[0m\u001b[1;34m\"moveXY: G-code command generated: %s\"\u001b[0m\u001b[1;33m,\u001b[0m \u001b[0mfull_cmd\u001b[0m\u001b[1;33m)\u001b[0m\u001b[1;33m\u001b[0m\u001b[1;33m\u001b[0m\u001b[0m\n\u001b[0;32m    219\u001b[0m \u001b[1;33m\u001b[0m\u001b[0m\n\u001b[1;32m--> 220\u001b[1;33m             \u001b[0mself\u001b[0m\u001b[1;33m.\u001b[0m\u001b[0mwriteAndWait\u001b[0m\u001b[1;33m(\u001b[0m\u001b[0mfull_cmd\u001b[0m\u001b[1;33m)\u001b[0m\u001b[1;33m\u001b[0m\u001b[1;33m\u001b[0m\u001b[0m\n\u001b[0m\u001b[0;32m    221\u001b[0m         \u001b[1;32mexcept\u001b[0m\u001b[1;33m:\u001b[0m\u001b[1;33m\u001b[0m\u001b[1;33m\u001b[0m\u001b[0m\n\u001b[0;32m    222\u001b[0m             \u001b[0mlogging\u001b[0m\u001b[1;33m.\u001b[0m\u001b[0mwarning\u001b[0m\u001b[1;33m(\u001b[0m\u001b[1;34m\"moveXY: Attempted to move carriage to the new position with coordinates:\"\u001b[0m\u001b[1;33m)\u001b[0m\u001b[1;33m\u001b[0m\u001b[1;33m\u001b[0m\u001b[0m\n",
      "\u001b[1;32mc:\\Users\\sergi\\Dropbox\\workspace\\arnielib\\low_level_comm.py\u001b[0m in \u001b[0;36mwriteAndWait\u001b[1;34m(self, expression, eol, confirm_message)\u001b[0m\n\u001b[0;32m    242\u001b[0m         \u001b[0mFunction\u001b[0m \u001b[0mwill\u001b[0m \u001b[1;32mreturn\u001b[0m \u001b[0man\u001b[0m \u001b[0moutput\u001b[0m \u001b[0mmessage\u001b[0m\u001b[1;33m\u001b[0m\u001b[1;33m\u001b[0m\u001b[0m\n\u001b[0;32m    243\u001b[0m         \"\"\"\n\u001b[1;32m--> 244\u001b[1;33m         \u001b[0mself\u001b[0m\u001b[1;33m.\u001b[0m\u001b[0mwrite\u001b[0m\u001b[1;33m(\u001b[0m\u001b[0mexpression\u001b[0m\u001b[1;33m,\u001b[0m \u001b[0meol\u001b[0m\u001b[1;33m)\u001b[0m\u001b[1;33m\u001b[0m\u001b[1;33m\u001b[0m\u001b[0m\n\u001b[0m\u001b[0;32m    245\u001b[0m         \u001b[0mself\u001b[0m\u001b[1;33m.\u001b[0m\u001b[0mrecent_message\u001b[0m \u001b[1;33m=\u001b[0m \u001b[0mself\u001b[0m\u001b[1;33m.\u001b[0m\u001b[0mreadBufferUntilMatch\u001b[0m\u001b[1;33m(\u001b[0m\u001b[0mpattern\u001b[0m\u001b[1;33m=\u001b[0m\u001b[0mconfirm_message\u001b[0m\u001b[1;33m)\u001b[0m\u001b[1;33m\u001b[0m\u001b[1;33m\u001b[0m\u001b[0m\n\u001b[0;32m    246\u001b[0m         \u001b[1;32mreturn\u001b[0m \u001b[0mself\u001b[0m\u001b[1;33m.\u001b[0m\u001b[0mrecent_message\u001b[0m\u001b[1;33m\u001b[0m\u001b[1;33m\u001b[0m\u001b[0m\n",
      "\u001b[1;32mc:\\Users\\sergi\\Dropbox\\workspace\\arnielib\\low_level_comm.py\u001b[0m in \u001b[0;36mwrite\u001b[1;34m(self, expression, eol)\u001b[0m\n\u001b[0;32m    168\u001b[0m         \u001b[1;31m# Cleaning input buffer (so the buffer will contain only response of a device\u001b[0m\u001b[1;33m\u001b[0m\u001b[1;33m\u001b[0m\u001b[1;33m\u001b[0m\u001b[0m\n\u001b[0;32m    169\u001b[0m         \u001b[1;31m# to the command send within this function)\u001b[0m\u001b[1;33m\u001b[0m\u001b[1;33m\u001b[0m\u001b[1;33m\u001b[0m\u001b[0m\n\u001b[1;32m--> 170\u001b[1;33m         \u001b[0mself\u001b[0m\u001b[1;33m.\u001b[0m\u001b[0mport\u001b[0m\u001b[1;33m.\u001b[0m\u001b[0mflushInput\u001b[0m\u001b[1;33m(\u001b[0m\u001b[1;33m)\u001b[0m\u001b[1;33m\u001b[0m\u001b[1;33m\u001b[0m\u001b[0m\n\u001b[0m\u001b[0;32m    171\u001b[0m         \u001b[1;31m# Strip all EOL characters for consistency\u001b[0m\u001b[1;33m\u001b[0m\u001b[1;33m\u001b[0m\u001b[1;33m\u001b[0m\u001b[0m\n\u001b[0;32m    172\u001b[0m         \u001b[0mexpression\u001b[0m \u001b[1;33m=\u001b[0m \u001b[0mexpression\u001b[0m\u001b[1;33m.\u001b[0m\u001b[0mstrip\u001b[0m\u001b[1;33m(\u001b[0m\u001b[1;33m)\u001b[0m\u001b[1;33m\u001b[0m\u001b[1;33m\u001b[0m\u001b[0m\n",
      "\u001b[1;32m~\\Anaconda3\\lib\\site-packages\\serial\\serialutil.py\u001b[0m in \u001b[0;36mflushInput\u001b[1;34m(self)\u001b[0m\n\u001b[0;32m    582\u001b[0m \u001b[1;33m\u001b[0m\u001b[0m\n\u001b[0;32m    583\u001b[0m     \u001b[1;32mdef\u001b[0m \u001b[0mflushInput\u001b[0m\u001b[1;33m(\u001b[0m\u001b[0mself\u001b[0m\u001b[1;33m)\u001b[0m\u001b[1;33m:\u001b[0m\u001b[1;33m\u001b[0m\u001b[1;33m\u001b[0m\u001b[0m\n\u001b[1;32m--> 584\u001b[1;33m         \u001b[0mself\u001b[0m\u001b[1;33m.\u001b[0m\u001b[0mreset_input_buffer\u001b[0m\u001b[1;33m(\u001b[0m\u001b[1;33m)\u001b[0m\u001b[1;33m\u001b[0m\u001b[1;33m\u001b[0m\u001b[0m\n\u001b[0m\u001b[0;32m    585\u001b[0m \u001b[1;33m\u001b[0m\u001b[0m\n\u001b[0;32m    586\u001b[0m     \u001b[1;32mdef\u001b[0m \u001b[0mflushOutput\u001b[0m\u001b[1;33m(\u001b[0m\u001b[0mself\u001b[0m\u001b[1;33m)\u001b[0m\u001b[1;33m:\u001b[0m\u001b[1;33m\u001b[0m\u001b[1;33m\u001b[0m\u001b[0m\n",
      "\u001b[1;32m~\\Anaconda3\\lib\\site-packages\\serial\\serialwin32.py\u001b[0m in \u001b[0;36mreset_input_buffer\u001b[1;34m(self)\u001b[0m\n\u001b[0;32m    350\u001b[0m         \u001b[1;34m\"\"\"Clear input buffer, discarding all that is in the buffer.\"\"\"\u001b[0m\u001b[1;33m\u001b[0m\u001b[1;33m\u001b[0m\u001b[0m\n\u001b[0;32m    351\u001b[0m         \u001b[1;32mif\u001b[0m \u001b[1;32mnot\u001b[0m \u001b[0mself\u001b[0m\u001b[1;33m.\u001b[0m\u001b[0mis_open\u001b[0m\u001b[1;33m:\u001b[0m\u001b[1;33m\u001b[0m\u001b[1;33m\u001b[0m\u001b[0m\n\u001b[1;32m--> 352\u001b[1;33m             \u001b[1;32mraise\u001b[0m \u001b[0mportNotOpenError\u001b[0m\u001b[1;33m\u001b[0m\u001b[1;33m\u001b[0m\u001b[0m\n\u001b[0m\u001b[0;32m    353\u001b[0m         \u001b[0mwin32\u001b[0m\u001b[1;33m.\u001b[0m\u001b[0mPurgeComm\u001b[0m\u001b[1;33m(\u001b[0m\u001b[0mself\u001b[0m\u001b[1;33m.\u001b[0m\u001b[0m_port_handle\u001b[0m\u001b[1;33m,\u001b[0m \u001b[0mwin32\u001b[0m\u001b[1;33m.\u001b[0m\u001b[0mPURGE_RXCLEAR\u001b[0m \u001b[1;33m|\u001b[0m \u001b[0mwin32\u001b[0m\u001b[1;33m.\u001b[0m\u001b[0mPURGE_RXABORT\u001b[0m\u001b[1;33m)\u001b[0m\u001b[1;33m\u001b[0m\u001b[1;33m\u001b[0m\u001b[0m\n\u001b[0;32m    354\u001b[0m \u001b[1;33m\u001b[0m\u001b[0m\n",
      "\u001b[1;32mc:\\Users\\sergi\\Dropbox\\workspace\\arnielib\\cartesian.py\u001b[0m in \u001b[0;36mmoveAxis\u001b[1;34m(self, axis, destination, speed)\u001b[0m\n\u001b[0;32m    188\u001b[0m             \u001b[0mlogging\u001b[0m\u001b[1;33m.\u001b[0m\u001b[0minfo\u001b[0m\u001b[1;33m(\u001b[0m\u001b[1;34m\"moveAxis: G-code command generated: %s\"\u001b[0m\u001b[1;33m,\u001b[0m \u001b[0mfull_cmd\u001b[0m\u001b[1;33m)\u001b[0m\u001b[1;33m\u001b[0m\u001b[1;33m\u001b[0m\u001b[0m\n\u001b[0;32m    189\u001b[0m \u001b[1;33m\u001b[0m\u001b[0m\n\u001b[1;32m--> 190\u001b[1;33m             \u001b[0mself\u001b[0m\u001b[1;33m.\u001b[0m\u001b[0mwriteAndWait\u001b[0m\u001b[1;33m(\u001b[0m\u001b[0mfull_cmd\u001b[0m\u001b[1;33m)\u001b[0m\u001b[1;33m\u001b[0m\u001b[1;33m\u001b[0m\u001b[0m\n\u001b[0m\u001b[0;32m    191\u001b[0m         \u001b[1;32mexcept\u001b[0m\u001b[1;33m:\u001b[0m\u001b[1;33m\u001b[0m\u001b[1;33m\u001b[0m\u001b[0m\n\u001b[0;32m    192\u001b[0m             \u001b[0mlogging\u001b[0m\u001b[1;33m.\u001b[0m\u001b[0mwarning\u001b[0m\u001b[1;33m(\u001b[0m\u001b[1;34m\"moveAxis: Attempted to move carriage to the new position along the axis %s\"\u001b[0m\u001b[1;33m,\u001b[0m \u001b[0maxis\u001b[0m\u001b[1;33m)\u001b[0m\u001b[1;33m\u001b[0m\u001b[1;33m\u001b[0m\u001b[0m\n",
      "\u001b[1;32mc:\\Users\\sergi\\Dropbox\\workspace\\arnielib\\low_level_comm.py\u001b[0m in \u001b[0;36mwriteAndWait\u001b[1;34m(self, expression, eol, confirm_message)\u001b[0m\n\u001b[0;32m    242\u001b[0m         \u001b[0mFunction\u001b[0m \u001b[0mwill\u001b[0m \u001b[1;32mreturn\u001b[0m \u001b[0man\u001b[0m \u001b[0moutput\u001b[0m \u001b[0mmessage\u001b[0m\u001b[1;33m\u001b[0m\u001b[1;33m\u001b[0m\u001b[0m\n\u001b[0;32m    243\u001b[0m         \"\"\"\n\u001b[1;32m--> 244\u001b[1;33m         \u001b[0mself\u001b[0m\u001b[1;33m.\u001b[0m\u001b[0mwrite\u001b[0m\u001b[1;33m(\u001b[0m\u001b[0mexpression\u001b[0m\u001b[1;33m,\u001b[0m \u001b[0meol\u001b[0m\u001b[1;33m)\u001b[0m\u001b[1;33m\u001b[0m\u001b[1;33m\u001b[0m\u001b[0m\n\u001b[0m\u001b[0;32m    245\u001b[0m         \u001b[0mself\u001b[0m\u001b[1;33m.\u001b[0m\u001b[0mrecent_message\u001b[0m \u001b[1;33m=\u001b[0m \u001b[0mself\u001b[0m\u001b[1;33m.\u001b[0m\u001b[0mreadBufferUntilMatch\u001b[0m\u001b[1;33m(\u001b[0m\u001b[0mpattern\u001b[0m\u001b[1;33m=\u001b[0m\u001b[0mconfirm_message\u001b[0m\u001b[1;33m)\u001b[0m\u001b[1;33m\u001b[0m\u001b[1;33m\u001b[0m\u001b[0m\n\u001b[0;32m    246\u001b[0m         \u001b[1;32mreturn\u001b[0m \u001b[0mself\u001b[0m\u001b[1;33m.\u001b[0m\u001b[0mrecent_message\u001b[0m\u001b[1;33m\u001b[0m\u001b[1;33m\u001b[0m\u001b[0m\n",
      "\u001b[1;32mc:\\Users\\sergi\\Dropbox\\workspace\\arnielib\\low_level_comm.py\u001b[0m in \u001b[0;36mwrite\u001b[1;34m(self, expression, eol)\u001b[0m\n\u001b[0;32m    168\u001b[0m         \u001b[1;31m# Cleaning input buffer (so the buffer will contain only response of a device\u001b[0m\u001b[1;33m\u001b[0m\u001b[1;33m\u001b[0m\u001b[1;33m\u001b[0m\u001b[0m\n\u001b[0;32m    169\u001b[0m         \u001b[1;31m# to the command send within this function)\u001b[0m\u001b[1;33m\u001b[0m\u001b[1;33m\u001b[0m\u001b[1;33m\u001b[0m\u001b[0m\n\u001b[1;32m--> 170\u001b[1;33m         \u001b[0mself\u001b[0m\u001b[1;33m.\u001b[0m\u001b[0mport\u001b[0m\u001b[1;33m.\u001b[0m\u001b[0mflushInput\u001b[0m\u001b[1;33m(\u001b[0m\u001b[1;33m)\u001b[0m\u001b[1;33m\u001b[0m\u001b[1;33m\u001b[0m\u001b[0m\n\u001b[0m\u001b[0;32m    171\u001b[0m         \u001b[1;31m# Strip all EOL characters for consistency\u001b[0m\u001b[1;33m\u001b[0m\u001b[1;33m\u001b[0m\u001b[1;33m\u001b[0m\u001b[0m\n\u001b[0;32m    172\u001b[0m         \u001b[0mexpression\u001b[0m \u001b[1;33m=\u001b[0m \u001b[0mexpression\u001b[0m\u001b[1;33m.\u001b[0m\u001b[0mstrip\u001b[0m\u001b[1;33m(\u001b[0m\u001b[1;33m)\u001b[0m\u001b[1;33m\u001b[0m\u001b[1;33m\u001b[0m\u001b[0m\n",
      "\u001b[1;32m~\\Anaconda3\\lib\\site-packages\\serial\\serialutil.py\u001b[0m in \u001b[0;36mflushInput\u001b[1;34m(self)\u001b[0m\n\u001b[0;32m    582\u001b[0m \u001b[1;33m\u001b[0m\u001b[0m\n\u001b[0;32m    583\u001b[0m     \u001b[1;32mdef\u001b[0m \u001b[0mflushInput\u001b[0m\u001b[1;33m(\u001b[0m\u001b[0mself\u001b[0m\u001b[1;33m)\u001b[0m\u001b[1;33m:\u001b[0m\u001b[1;33m\u001b[0m\u001b[1;33m\u001b[0m\u001b[0m\n\u001b[1;32m--> 584\u001b[1;33m         \u001b[0mself\u001b[0m\u001b[1;33m.\u001b[0m\u001b[0mreset_input_buffer\u001b[0m\u001b[1;33m(\u001b[0m\u001b[1;33m)\u001b[0m\u001b[1;33m\u001b[0m\u001b[1;33m\u001b[0m\u001b[0m\n\u001b[0m\u001b[0;32m    585\u001b[0m \u001b[1;33m\u001b[0m\u001b[0m\n\u001b[0;32m    586\u001b[0m     \u001b[1;32mdef\u001b[0m \u001b[0mflushOutput\u001b[0m\u001b[1;33m(\u001b[0m\u001b[0mself\u001b[0m\u001b[1;33m)\u001b[0m\u001b[1;33m:\u001b[0m\u001b[1;33m\u001b[0m\u001b[1;33m\u001b[0m\u001b[0m\n",
      "\u001b[1;32m~\\Anaconda3\\lib\\site-packages\\serial\\serialwin32.py\u001b[0m in \u001b[0;36mreset_input_buffer\u001b[1;34m(self)\u001b[0m\n\u001b[0;32m    350\u001b[0m         \u001b[1;34m\"\"\"Clear input buffer, discarding all that is in the buffer.\"\"\"\u001b[0m\u001b[1;33m\u001b[0m\u001b[1;33m\u001b[0m\u001b[0m\n\u001b[0;32m    351\u001b[0m         \u001b[1;32mif\u001b[0m \u001b[1;32mnot\u001b[0m \u001b[0mself\u001b[0m\u001b[1;33m.\u001b[0m\u001b[0mis_open\u001b[0m\u001b[1;33m:\u001b[0m\u001b[1;33m\u001b[0m\u001b[1;33m\u001b[0m\u001b[0m\n\u001b[1;32m--> 352\u001b[1;33m             \u001b[1;32mraise\u001b[0m \u001b[0mportNotOpenError\u001b[0m\u001b[1;33m\u001b[0m\u001b[1;33m\u001b[0m\u001b[0m\n\u001b[0m\u001b[0;32m    353\u001b[0m         \u001b[0mwin32\u001b[0m\u001b[1;33m.\u001b[0m\u001b[0mPurgeComm\u001b[0m\u001b[1;33m(\u001b[0m\u001b[0mself\u001b[0m\u001b[1;33m.\u001b[0m\u001b[0m_port_handle\u001b[0m\u001b[1;33m,\u001b[0m \u001b[0mwin32\u001b[0m\u001b[1;33m.\u001b[0m\u001b[0mPURGE_RXCLEAR\u001b[0m \u001b[1;33m|\u001b[0m \u001b[0mwin32\u001b[0m\u001b[1;33m.\u001b[0m\u001b[0mPURGE_RXABORT\u001b[0m\u001b[1;33m)\u001b[0m\u001b[1;33m\u001b[0m\u001b[1;33m\u001b[0m\u001b[0m\n\u001b[0;32m    354\u001b[0m \u001b[1;33m\u001b[0m\u001b[0m\n",
      "\u001b[1;31mSerialException\u001b[0m: Attempting to use a port that is not open"
     ]
    }
   ],
   "source": [
    "touch_probe.returnTool()"
   ]
  },
  {
   "cell_type": "code",
   "execution_count": 20,
   "metadata": {},
   "outputs": [],
   "source": [
    "ar.close()"
   ]
  },
  {
   "cell_type": "markdown",
   "metadata": {},
   "source": [
    "# Testing mobile_touch_probe.findWall()"
   ]
  },
  {
   "cell_type": "code",
   "execution_count": 21,
   "metadata": {},
   "outputs": [],
   "source": [
    "import low_level_comm as llc\n",
    "import cartesian\n",
    "import tools\n",
    "import time"
   ]
  },
  {
   "cell_type": "code",
   "execution_count": 2,
   "metadata": {},
   "outputs": [],
   "source": [
    "ar = cartesian.arnie('COM4', 'COM6')\n",
    "ar.home()"
   ]
  },
  {
   "cell_type": "code",
   "execution_count": 3,
   "metadata": {},
   "outputs": [],
   "source": [
    "tp = tools.mobile_touch_probe.getTool(ar)"
   ]
  },
  {
   "cell_type": "code",
   "execution_count": 10,
   "metadata": {},
   "outputs": [],
   "source": [
    "ar.move(x=550, y=300)\n",
    "ar.move(z=599, speed_z=10000)"
   ]
  },
  {
   "cell_type": "code",
   "execution_count": 31,
   "metadata": {},
   "outputs": [],
   "source": [
    "step_dict = {\n",
    "                0: {'step_fwd': 12, 'speed_xy_fwd': 5000, 'speed_z_fwd':5000,\n",
    "                    'step_back': 12, 'speed_xy_back': 5000, 'speed_z_back':5000},\n",
    "                1: {'step_fwd': 1.2, 'speed_xy_fwd': 100, 'speed_z_fwd':3000,\n",
    "                    'step_back': 4, 'speed_xy_back': 2000, 'speed_z_back':2000},\n",
    "                2: {'step_fwd': 0.2, 'speed_xy_fwd': 50, 'speed_z_fwd':1000,\n",
    "                    'step_back': 0.4, 'speed_xy_back': 100, 'speed_z_back':1000},\n",
    "                3: {'step_fwd': 0.03, 'speed_xy_fwd': 25, 'speed_z_fwd':1000,\n",
    "                    'step_back': 0.1, 'speed_xy_back': 50, 'speed_z_back':1000},\n",
    "            }"
   ]
  },
  {
   "cell_type": "code",
   "execution_count": 41,
   "metadata": {},
   "outputs": [],
   "source": [
    "step_dict = {\n",
    "                0: {'step_fwd': 12, 'speed_xy_fwd': 5000, 'speed_z_fwd':5000,\n",
    "                    'step_back': 12, 'speed_xy_back': 5000, 'speed_z_back':5000},\n",
    "                1: {'step_fwd': 3, 'speed_xy_fwd': 2000, 'speed_z_fwd':3000,\n",
    "                    'step_back': 6, 'speed_xy_back': 5000, 'speed_z_back':2000},\n",
    "                2: {'step_fwd': 0.75, 'speed_xy_fwd': 200, 'speed_z_fwd':1000,\n",
    "                    'step_back': 1.5, 'speed_xy_back': 500, 'speed_z_back':1000},\n",
    "                3: {'step_fwd': 0.2, 'speed_xy_fwd': 100, 'speed_z_fwd':1000,\n",
    "                    'step_back': 0.4, 'speed_xy_back': 100, 'speed_z_back':1000},\n",
    "                4: {'step_fwd': 0.05, 'speed_xy_fwd': 25, 'speed_z_fwd':1000,\n",
    "                    'step_back': 0.1, 'speed_xy_back': 50, 'speed_z_back':1000},\n",
    "            }"
   ]
  },
  {
   "cell_type": "code",
   "execution_count": 12,
   "metadata": {},
   "outputs": [
    {
     "name": "stdout",
     "output_type": "stream",
     "text": [
      "Mobile touch probe response: 0\n",
      "\n",
      "Mobile touch probe response: 0\n",
      "\n",
      "Mobile touch probe response: 0\n",
      "\n",
      "Mobile touch probe response: 0\n",
      "\n",
      "Mobile touch probe response: 0\n",
      "\n",
      "Mobile touch probe response: 0\n",
      "\n",
      "Mobile touch probe response: 1\n",
      "\n",
      "Mobile touch probe response: 1\n",
      "\n",
      "Mobile touch probe response: 0\n",
      "\n",
      "Mobile touch probe response: 0\n",
      "\n",
      "Mobile touch probe response: 1\n",
      "\n",
      "Mobile touch probe response: 1\n",
      "\n",
      "Mobile touch probe response: 1\n",
      "\n",
      "Mobile touch probe response: 1\n",
      "\n",
      "Mobile touch probe response: 0\n",
      "\n",
      "Mobile touch probe response: 0\n",
      "\n",
      "Mobile touch probe response: 0\n",
      "\n",
      "Mobile touch probe response: 1\n",
      "\n",
      "Mobile touch probe response: 1\n",
      "\n",
      "Mobile touch probe response: 1\n",
      "\n",
      "Mobile touch probe response: 1\n",
      "\n",
      "Mobile touch probe response: 0\n",
      "\n",
      "Mobile touch probe response: 0\n",
      "\n",
      "Mobile touch probe response: 0\n",
      "\n",
      "Mobile touch probe response: 0\n",
      "\n",
      "Mobile touch probe response: 1\n",
      "\n"
     ]
    },
    {
     "data": {
      "text/plain": [
       "606.4"
      ]
     },
     "execution_count": 12,
     "metadata": {},
     "output_type": "execute_result"
    }
   ],
   "source": [
    "tp.findWall('x', 1, step_dict=step_dict)"
   ]
  },
  {
   "cell_type": "markdown",
   "metadata": {},
   "source": [
    "607.0 606.7 606.9 606.9 606.8 606.8 606.7 "
   ]
  },
  {
   "cell_type": "markdown",
   "metadata": {},
   "source": [
    "606.4 606.4 606.4"
   ]
  },
  {
   "cell_type": "code",
   "execution_count": 36,
   "metadata": {},
   "outputs": [],
   "source": [
    "# Calibration test\n",
    "import random as rnd\n",
    "import statistics as stat"
   ]
  },
  {
   "cell_type": "code",
   "execution_count": 42,
   "metadata": {},
   "outputs": [
    {
     "name": "stdout",
     "output_type": "stream",
     "text": [
      "Mobile touch probe response: 0\n",
      "\n",
      "Mobile touch probe response: 0\n",
      "\n",
      "Mobile touch probe response: 0\n",
      "\n",
      "Mobile touch probe response: 0\n",
      "\n",
      "Mobile touch probe response: 0\n",
      "\n",
      "Mobile touch probe response: 0\n",
      "\n",
      "Mobile touch probe response: 0\n",
      "\n",
      "Mobile touch probe response: 0\n",
      "\n",
      "Mobile touch probe response: 0\n",
      "\n",
      "Mobile touch probe response: 1\n",
      "\n",
      "Mobile touch probe response: 1\n",
      "\n",
      "Mobile touch probe response: 1\n",
      "\n",
      "Mobile touch probe response: 1\n",
      "\n",
      "Mobile touch probe response: 0\n",
      "\n",
      "Mobile touch probe response: 0\n",
      "\n",
      "Mobile touch probe response: 0\n",
      "\n",
      "Mobile touch probe response: 0\n",
      "\n",
      "Mobile touch probe response: 1\n",
      "\n",
      "Mobile touch probe response: 1\n",
      "\n",
      "Mobile touch probe response: 1\n",
      "\n",
      "Mobile touch probe response: 0\n",
      "\n",
      "Mobile touch probe response: 0\n",
      "\n",
      "Mobile touch probe response: 0\n",
      "\n",
      "Mobile touch probe response: 1\n",
      "\n",
      "Mobile touch probe response: 1\n",
      "\n",
      "Mobile touch probe response: 0\n",
      "\n",
      "Mobile touch probe response: 0\n",
      "\n",
      "Mobile touch probe response: 0\n",
      "\n",
      "Mobile touch probe response: 1\n",
      "\n",
      "Mobile touch probe response: 1\n",
      "\n",
      "Mobile touch probe response: 1\n",
      "\n",
      "Mobile touch probe response: 1\n",
      "\n",
      "Mobile touch probe response: 1\n",
      "\n",
      "Mobile touch probe response: 1\n",
      "\n",
      "Mobile touch probe response: 1\n",
      "\n",
      "Mobile touch probe response: 0\n",
      "\n",
      "Mobile touch probe response: 0\n",
      "\n",
      "Mobile touch probe response: 0\n",
      "\n",
      "Mobile touch probe response: 0\n",
      "\n",
      "Mobile touch probe response: 0\n",
      "\n",
      "Mobile touch probe response: 0\n",
      "\n",
      "Mobile touch probe response: 0\n",
      "\n",
      "Mobile touch probe response: 0\n",
      "\n",
      "Mobile touch probe response: 0\n",
      "\n",
      "Mobile touch probe response: 0\n",
      "\n",
      "Mobile touch probe response: 0\n",
      "\n",
      "Mobile touch probe response: 0\n",
      "\n",
      "Mobile touch probe response: 0\n",
      "\n",
      "Mobile touch probe response: 1\n",
      "\n",
      "Mobile touch probe response: 0\n",
      "\n",
      "Mobile touch probe response: 0\n",
      "\n",
      "Mobile touch probe response: 0\n",
      "\n",
      "Mobile touch probe response: 0\n",
      "\n",
      "Mobile touch probe response: 0\n",
      "\n",
      "Mobile touch probe response: 0\n",
      "\n",
      "Mobile touch probe response: 0\n",
      "\n",
      "Mobile touch probe response: 0\n",
      "\n",
      "Mobile touch probe response: 0\n",
      "\n",
      "Mobile touch probe response: 0\n",
      "\n",
      "Mobile touch probe response: 1\n",
      "\n",
      "Mobile touch probe response: 1\n",
      "\n",
      "Mobile touch probe response: 0\n",
      "\n",
      "Mobile touch probe response: 0\n",
      "\n",
      "Mobile touch probe response: 1\n",
      "\n",
      "Mobile touch probe response: 0\n",
      "\n",
      "Mobile touch probe response: 0\n",
      "\n",
      "Mobile touch probe response: 1\n",
      "\n",
      "Mobile touch probe response: 1\n",
      "\n",
      "Mobile touch probe response: 1\n",
      "\n",
      "Mobile touch probe response: 0\n",
      "\n",
      "Mobile touch probe response: 0\n",
      "\n",
      "Mobile touch probe response: 0\n",
      "\n",
      "Mobile touch probe response: 1\n",
      "\n",
      "Mobile touch probe response: 1\n",
      "\n",
      "Mobile touch probe response: 1\n",
      "\n",
      "Mobile touch probe response: 1\n",
      "\n",
      "Mobile touch probe response: 0\n",
      "\n",
      "Mobile touch probe response: 0\n",
      "\n",
      "Mobile touch probe response: 0\n",
      "\n",
      "Mobile touch probe response: 0\n",
      "\n",
      "Mobile touch probe response: 0\n",
      "\n",
      "Mobile touch probe response: 0\n",
      "\n",
      "Mobile touch probe response: 0\n",
      "\n",
      "Mobile touch probe response: 1\n",
      "\n",
      "Mobile touch probe response: 0\n",
      "\n",
      "Mobile touch probe response: 0\n",
      "\n",
      "Mobile touch probe response: 0\n",
      "\n",
      "Mobile touch probe response: 0\n",
      "\n",
      "Mobile touch probe response: 0\n",
      "\n",
      "Mobile touch probe response: 0\n",
      "\n",
      "Mobile touch probe response: 0\n",
      "\n",
      "Mobile touch probe response: 0\n",
      "\n",
      "Mobile touch probe response: 0\n",
      "\n",
      "Mobile touch probe response: 0\n",
      "\n",
      "Mobile touch probe response: 1\n",
      "\n",
      "Mobile touch probe response: 1\n",
      "\n",
      "Mobile touch probe response: 1\n",
      "\n",
      "Mobile touch probe response: 1\n",
      "\n",
      "Mobile touch probe response: 0\n",
      "\n",
      "Mobile touch probe response: 0\n",
      "\n",
      "Mobile touch probe response: 0\n",
      "\n",
      "Mobile touch probe response: 1\n",
      "\n",
      "Mobile touch probe response: 1\n",
      "\n",
      "Mobile touch probe response: 0\n",
      "\n",
      "Mobile touch probe response: 0\n",
      "\n",
      "Mobile touch probe response: 0\n",
      "\n",
      "Mobile touch probe response: 0\n",
      "\n",
      "Mobile touch probe response: 1\n",
      "\n",
      "Mobile touch probe response: 1\n",
      "\n",
      "Mobile touch probe response: 0\n",
      "\n",
      "Mobile touch probe response: 0\n",
      "\n",
      "Mobile touch probe response: 0\n",
      "\n",
      "Mobile touch probe response: 1\n",
      "\n",
      "Mobile touch probe response: 1\n",
      "\n",
      "Mobile touch probe response: 1\n",
      "\n",
      "Mobile touch probe response: 1\n",
      "\n",
      "Mobile touch probe response: 1\n",
      "\n",
      "Mobile touch probe response: 1\n",
      "\n",
      "Mobile touch probe response: 1\n",
      "\n",
      "Mobile touch probe response: 0\n",
      "\n",
      "Mobile touch probe response: 0\n",
      "\n",
      "Mobile touch probe response: 0\n",
      "\n",
      "Mobile touch probe response: 0\n",
      "\n",
      "Mobile touch probe response: 0\n",
      "\n",
      "Mobile touch probe response: 0\n",
      "\n",
      "Mobile touch probe response: 0\n",
      "\n",
      "Mobile touch probe response: 1\n",
      "\n",
      "Mobile touch probe response: 0\n",
      "\n",
      "Mobile touch probe response: 0\n",
      "\n",
      "Mobile touch probe response: 0\n",
      "\n",
      "Mobile touch probe response: 0\n",
      "\n",
      "Mobile touch probe response: 0\n",
      "\n",
      "Mobile touch probe response: 0\n",
      "\n",
      "Mobile touch probe response: 0\n",
      "\n",
      "Mobile touch probe response: 0\n",
      "\n",
      "Mobile touch probe response: 0\n",
      "\n",
      "Mobile touch probe response: 1\n",
      "\n",
      "Mobile touch probe response: 1\n",
      "\n",
      "Mobile touch probe response: 0\n",
      "\n",
      "Mobile touch probe response: 0\n",
      "\n",
      "Mobile touch probe response: 1\n",
      "\n",
      "Mobile touch probe response: 0\n",
      "\n",
      "Mobile touch probe response: 0\n",
      "\n",
      "Mobile touch probe response: 0\n",
      "\n",
      "Mobile touch probe response: 1\n",
      "\n",
      "Mobile touch probe response: 1\n",
      "\n",
      "Mobile touch probe response: 0\n",
      "\n",
      "Mobile touch probe response: 0\n",
      "\n",
      "Mobile touch probe response: 0\n",
      "\n",
      "Mobile touch probe response: 1\n",
      "\n",
      "Mobile touch probe response: 1\n",
      "\n",
      "Mobile touch probe response: 1\n",
      "\n",
      "Mobile touch probe response: 1\n",
      "\n",
      "Mobile touch probe response: 1\n",
      "\n",
      "Mobile touch probe response: 0\n",
      "\n",
      "Mobile touch probe response: 0\n",
      "\n",
      "Mobile touch probe response: 0\n",
      "\n",
      "Mobile touch probe response: 0\n",
      "\n",
      "Mobile touch probe response: 0\n",
      "\n",
      "Mobile touch probe response: 0\n",
      "\n",
      "Mobile touch probe response: 0\n",
      "\n",
      "Mobile touch probe response: 0\n",
      "\n",
      "Mobile touch probe response: 0\n",
      "\n",
      "Mobile touch probe response: 1\n",
      "\n",
      "Mobile touch probe response: 0\n",
      "\n",
      "Mobile touch probe response: 0\n",
      "\n",
      "Mobile touch probe response: 0\n",
      "\n",
      "Mobile touch probe response: 0\n",
      "\n",
      "Mobile touch probe response: 0\n",
      "\n",
      "Mobile touch probe response: 0\n",
      "\n",
      "Mobile touch probe response: 0\n",
      "\n",
      "Mobile touch probe response: 0\n",
      "\n",
      "Mobile touch probe response: 0\n",
      "\n",
      "Mobile touch probe response: 1\n",
      "\n",
      "Mobile touch probe response: 1\n",
      "\n",
      "Mobile touch probe response: 0\n",
      "\n",
      "Mobile touch probe response: 0\n",
      "\n",
      "Mobile touch probe response: 1\n",
      "\n",
      "Mobile touch probe response: 0\n",
      "\n",
      "Mobile touch probe response: 0\n",
      "\n",
      "Mobile touch probe response: 0\n",
      "\n",
      "Mobile touch probe response: 0\n",
      "\n",
      "Mobile touch probe response: 0\n",
      "\n",
      "Mobile touch probe response: 1\n",
      "\n",
      "Mobile touch probe response: 1\n",
      "\n",
      "Mobile touch probe response: 1\n",
      "\n",
      "Mobile touch probe response: 1\n",
      "\n",
      "Mobile touch probe response: 0\n",
      "\n",
      "Mobile touch probe response: 0\n",
      "\n",
      "Mobile touch probe response: 0\n",
      "\n",
      "Mobile touch probe response: 1\n",
      "\n",
      "Mobile touch probe response: 1\n",
      "\n",
      "Mobile touch probe response: 0\n",
      "\n",
      "Mobile touch probe response: 0\n",
      "\n",
      "Mobile touch probe response: 0\n",
      "\n",
      "Mobile touch probe response: 0\n",
      "\n",
      "Mobile touch probe response: 0\n",
      "\n",
      "Mobile touch probe response: 0\n",
      "\n",
      "Mobile touch probe response: 0\n",
      "\n",
      "Mobile touch probe response: 0\n",
      "\n",
      "Mobile touch probe response: 0\n",
      "\n",
      "Mobile touch probe response: 1\n",
      "\n",
      "Mobile touch probe response: 0\n",
      "\n",
      "Mobile touch probe response: 0\n",
      "\n",
      "Mobile touch probe response: 0\n",
      "\n",
      "Mobile touch probe response: 0\n",
      "\n",
      "Mobile touch probe response: 0\n",
      "\n",
      "Mobile touch probe response: 0\n",
      "\n",
      "Mobile touch probe response: 0\n",
      "\n",
      "Mobile touch probe response: 0\n",
      "\n",
      "Mobile touch probe response: 1\n",
      "\n",
      "Mobile touch probe response: 1\n",
      "\n",
      "Mobile touch probe response: 1\n",
      "\n",
      "Mobile touch probe response: 1\n",
      "\n",
      "Mobile touch probe response: 0\n",
      "\n",
      "Mobile touch probe response: 0\n",
      "\n",
      "Mobile touch probe response: 0\n",
      "\n",
      "Mobile touch probe response: 0\n",
      "\n",
      "Mobile touch probe response: 0\n",
      "\n",
      "Mobile touch probe response: 1\n",
      "\n",
      "Mobile touch probe response: 1\n",
      "\n",
      "Mobile touch probe response: 0\n",
      "\n",
      "Mobile touch probe response: 0\n",
      "\n",
      "Mobile touch probe response: 0\n",
      "\n",
      "Mobile touch probe response: 0\n",
      "\n",
      "Mobile touch probe response: 1\n",
      "\n",
      "Mobile touch probe response: 1\n",
      "\n",
      "Mobile touch probe response: 1\n",
      "\n",
      "Mobile touch probe response: 0\n",
      "\n",
      "Mobile touch probe response: 0\n",
      "\n",
      "Mobile touch probe response: 0\n",
      "\n",
      "Mobile touch probe response: 1\n",
      "\n",
      "Mobile touch probe response: 1\n",
      "\n",
      "Mobile touch probe response: 1\n",
      "\n",
      "Mobile touch probe response: 1\n",
      "\n",
      "Mobile touch probe response: 0\n",
      "\n",
      "Mobile touch probe response: 0\n",
      "\n",
      "Mobile touch probe response: 0\n",
      "\n",
      "Mobile touch probe response: 0\n",
      "\n",
      "Mobile touch probe response: 0\n",
      "\n",
      "Mobile touch probe response: 0\n",
      "\n",
      "Mobile touch probe response: 0\n",
      "\n",
      "Mobile touch probe response: 0\n",
      "\n",
      "Mobile touch probe response: 1\n",
      "\n",
      "Mobile touch probe response: 0\n",
      "\n",
      "Mobile touch probe response: 0\n",
      "\n",
      "Mobile touch probe response: 0\n",
      "\n",
      "Mobile touch probe response: 0\n",
      "\n",
      "Mobile touch probe response: 0\n",
      "\n",
      "Mobile touch probe response: 0\n",
      "\n",
      "Mobile touch probe response: 0\n",
      "\n",
      "Mobile touch probe response: 0\n",
      "\n",
      "Mobile touch probe response: 0\n",
      "\n",
      "Mobile touch probe response: 1\n",
      "\n",
      "Mobile touch probe response: 1\n",
      "\n",
      "Mobile touch probe response: 1\n",
      "\n",
      "Mobile touch probe response: 1\n",
      "\n"
     ]
    },
    {
     "name": "stdout",
     "output_type": "stream",
     "text": [
      "Mobile touch probe response: 0\n",
      "\n",
      "Mobile touch probe response: 0\n",
      "\n",
      "Mobile touch probe response: 0\n",
      "\n",
      "Mobile touch probe response: 0\n",
      "\n",
      "Mobile touch probe response: 1\n",
      "\n",
      "Mobile touch probe response: 1\n",
      "\n",
      "Mobile touch probe response: 1\n",
      "\n",
      "Mobile touch probe response: 0\n",
      "\n",
      "Mobile touch probe response: 0\n",
      "\n",
      "Mobile touch probe response: 0\n",
      "\n",
      "Mobile touch probe response: 1\n",
      "\n",
      "Mobile touch probe response: 1\n",
      "\n",
      "Mobile touch probe response: 0\n",
      "\n",
      "Mobile touch probe response: 0\n",
      "\n",
      "Mobile touch probe response: 0\n",
      "\n",
      "Mobile touch probe response: 1\n",
      "\n",
      "Mobile touch probe response: 1\n",
      "\n",
      "Mobile touch probe response: 1\n",
      "\n",
      "Mobile touch probe response: 1\n",
      "\n",
      "Mobile touch probe response: 1\n",
      "\n",
      "Mobile touch probe response: 1\n",
      "\n",
      "Mobile touch probe response: 1\n",
      "\n",
      "Mobile touch probe response: 0\n",
      "\n",
      "Mobile touch probe response: 0\n",
      "\n",
      "Mobile touch probe response: 0\n",
      "\n",
      "Mobile touch probe response: 0\n",
      "\n",
      "Mobile touch probe response: 0\n",
      "\n",
      "Mobile touch probe response: 0\n",
      "\n",
      "Mobile touch probe response: 0\n",
      "\n",
      "Mobile touch probe response: 0\n",
      "\n",
      "Mobile touch probe response: 0\n",
      "\n",
      "Mobile touch probe response: 0\n",
      "\n",
      "Mobile touch probe response: 0\n",
      "\n",
      "Mobile touch probe response: 0\n",
      "\n",
      "Mobile touch probe response: 0\n",
      "\n",
      "Mobile touch probe response: 1\n",
      "\n",
      "Mobile touch probe response: 0\n",
      "\n",
      "Mobile touch probe response: 0\n",
      "\n",
      "Mobile touch probe response: 0\n",
      "\n",
      "Mobile touch probe response: 0\n",
      "\n",
      "Mobile touch probe response: 0\n",
      "\n",
      "Mobile touch probe response: 0\n",
      "\n",
      "Mobile touch probe response: 1\n",
      "\n",
      "Mobile touch probe response: 1\n",
      "\n",
      "Mobile touch probe response: 0\n",
      "\n",
      "Mobile touch probe response: 0\n",
      "\n",
      "Mobile touch probe response: 1\n",
      "\n",
      "Mobile touch probe response: 0\n",
      "\n",
      "Mobile touch probe response: 0\n",
      "\n",
      "Mobile touch probe response: 0\n",
      "\n",
      "Mobile touch probe response: 0\n",
      "\n",
      "Mobile touch probe response: 0\n",
      "\n",
      "Mobile touch probe response: 1\n",
      "\n",
      "Mobile touch probe response: 1\n",
      "\n",
      "Mobile touch probe response: 1\n",
      "\n",
      "Mobile touch probe response: 1\n",
      "\n",
      "Mobile touch probe response: 0\n",
      "\n",
      "Mobile touch probe response: 0\n",
      "\n",
      "Mobile touch probe response: 0\n",
      "\n",
      "Mobile touch probe response: 1\n",
      "\n",
      "Mobile touch probe response: 1\n",
      "\n",
      "Mobile touch probe response: 0\n",
      "\n",
      "Mobile touch probe response: 0\n",
      "\n",
      "Mobile touch probe response: 0\n",
      "\n",
      "Mobile touch probe response: 0\n",
      "\n",
      "Mobile touch probe response: 0\n",
      "\n",
      "Mobile touch probe response: 0\n",
      "\n",
      "Mobile touch probe response: 0\n",
      "\n",
      "Mobile touch probe response: 0\n",
      "\n",
      "Mobile touch probe response: 0\n",
      "\n",
      "Mobile touch probe response: 1\n",
      "\n",
      "Mobile touch probe response: 0\n",
      "\n",
      "Mobile touch probe response: 0\n",
      "\n",
      "Mobile touch probe response: 0\n",
      "\n",
      "Mobile touch probe response: 0\n",
      "\n",
      "Mobile touch probe response: 0\n",
      "\n",
      "Mobile touch probe response: 0\n",
      "\n",
      "Mobile touch probe response: 1\n",
      "\n",
      "Mobile touch probe response: 1\n",
      "\n",
      "Mobile touch probe response: 0\n",
      "\n",
      "Mobile touch probe response: 0\n",
      "\n",
      "Mobile touch probe response: 1\n",
      "\n",
      "Mobile touch probe response: 0\n",
      "\n",
      "Mobile touch probe response: 0\n",
      "\n",
      "Mobile touch probe response: 0\n",
      "\n",
      "Mobile touch probe response: 0\n",
      "\n",
      "Mobile touch probe response: 0\n",
      "\n",
      "Mobile touch probe response: 1\n",
      "\n",
      "Mobile touch probe response: 1\n",
      "\n",
      "Mobile touch probe response: 1\n",
      "\n",
      "Mobile touch probe response: 1\n",
      "\n",
      "Mobile touch probe response: 0\n",
      "\n",
      "Mobile touch probe response: 0\n",
      "\n",
      "Mobile touch probe response: 0\n",
      "\n",
      "Mobile touch probe response: 1\n",
      "\n",
      "Mobile touch probe response: 1\n",
      "\n",
      "Mobile touch probe response: 0\n",
      "\n",
      "Mobile touch probe response: 0\n",
      "\n",
      "Mobile touch probe response: 0\n",
      "\n",
      "Mobile touch probe response: 0\n",
      "\n",
      "Mobile touch probe response: 0\n",
      "\n",
      "Mobile touch probe response: 0\n",
      "\n",
      "Mobile touch probe response: 0\n",
      "\n",
      "Mobile touch probe response: 0\n",
      "\n",
      "Mobile touch probe response: 0\n",
      "\n",
      "Mobile touch probe response: 1\n",
      "\n",
      "Mobile touch probe response: 0\n",
      "\n",
      "Mobile touch probe response: 0\n",
      "\n",
      "Mobile touch probe response: 0\n",
      "\n",
      "Mobile touch probe response: 0\n",
      "\n",
      "Mobile touch probe response: 0\n",
      "\n",
      "Mobile touch probe response: 0\n",
      "\n",
      "Mobile touch probe response: 0\n",
      "\n",
      "Mobile touch probe response: 0\n",
      "\n",
      "Mobile touch probe response: 0\n",
      "\n",
      "Mobile touch probe response: 0\n",
      "\n",
      "Mobile touch probe response: 1\n",
      "\n",
      "Mobile touch probe response: 1\n",
      "\n",
      "Mobile touch probe response: 0\n",
      "\n",
      "Mobile touch probe response: 0\n",
      "\n",
      "Mobile touch probe response: 1\n",
      "\n",
      "Mobile touch probe response: 0\n",
      "\n",
      "Mobile touch probe response: 0\n",
      "\n",
      "Mobile touch probe response: 0\n",
      "\n",
      "Mobile touch probe response: 0\n",
      "\n",
      "Mobile touch probe response: 0\n",
      "\n",
      "Mobile touch probe response: 1\n",
      "\n",
      "Mobile touch probe response: 1\n",
      "\n",
      "Mobile touch probe response: 1\n",
      "\n",
      "Mobile touch probe response: 1\n",
      "\n",
      "Mobile touch probe response: 0\n",
      "\n",
      "Mobile touch probe response: 0\n",
      "\n",
      "Mobile touch probe response: 0\n",
      "\n",
      "Mobile touch probe response: 1\n",
      "\n",
      "Mobile touch probe response: 1\n",
      "\n",
      "Mobile touch probe response: 0\n",
      "\n",
      "Mobile touch probe response: 0\n",
      "\n",
      "Mobile touch probe response: 0\n",
      "\n",
      "Mobile touch probe response: 0\n",
      "\n",
      "Mobile touch probe response: 0\n",
      "\n",
      "Mobile touch probe response: 0\n",
      "\n",
      "Mobile touch probe response: 0\n",
      "\n",
      "Mobile touch probe response: 0\n",
      "\n",
      "Mobile touch probe response: 0\n",
      "\n",
      "Mobile touch probe response: 1\n",
      "\n"
     ]
    }
   ],
   "source": [
    "x_values = []\n",
    "ar.move(x=550, y=300)\n",
    "ar.move(z=599, speed_z=10000)\n",
    "calibration_start_time = time.time()\n",
    "for i in range(10):\n",
    "    ar.move(x=rnd.randrange(480, 550))\n",
    "    val = tp.findWall('x', 1, step_dict=step_dict)\n",
    "    x_values.append(val)\n",
    "calibration_end_time = time.time()"
   ]
  },
  {
   "cell_type": "code",
   "execution_count": 27,
   "metadata": {},
   "outputs": [
    {
     "data": {
      "text/plain": [
       "100.26671719551086"
      ]
     },
     "execution_count": 27,
     "metadata": {},
     "output_type": "execute_result"
    }
   ],
   "source": [
    "calibration_end_time - calibration_start_time"
   ]
  },
  {
   "cell_type": "code",
   "execution_count": 33,
   "metadata": {},
   "outputs": [
    {
     "data": {
      "text/plain": [
       "118.42463731765747"
      ]
     },
     "execution_count": 33,
     "metadata": {},
     "output_type": "execute_result"
    }
   ],
   "source": [
    "calibration_end_time - calibration_start_time"
   ]
  },
  {
   "cell_type": "code",
   "execution_count": 43,
   "metadata": {},
   "outputs": [
    {
     "data": {
      "text/plain": [
       "102.76152777671814"
      ]
     },
     "execution_count": 43,
     "metadata": {},
     "output_type": "execute_result"
    }
   ],
   "source": [
    "calibration_end_time - calibration_start_time"
   ]
  },
  {
   "cell_type": "code",
   "execution_count": 44,
   "metadata": {},
   "outputs": [],
   "source": [
    "x_values5 = x_values.copy()"
   ]
  },
  {
   "cell_type": "code",
   "execution_count": 29,
   "metadata": {},
   "outputs": [
    {
     "data": {
      "text/plain": [
       "[606.6,\n",
       " 606.6,\n",
       " 606.6,\n",
       " 606.4,\n",
       " 606.4,\n",
       " 606.4,\n",
       " 606.4,\n",
       " 606.4,\n",
       " 606.4,\n",
       " 606.4,\n",
       " 606.6,\n",
       " 606.6,\n",
       " 606.6,\n",
       " 606.6,\n",
       " 606.4,\n",
       " 606.4,\n",
       " 606.3,\n",
       " 606.4,\n",
       " 606.4,\n",
       " 606.6,\n",
       " 606.6,\n",
       " 606.6,\n",
       " 606.4,\n",
       " 606.6,\n",
       " 606.6,\n",
       " 606.4,\n",
       " 606.4,\n",
       " 606.6,\n",
       " 606.6,\n",
       " 606.4,\n",
       " 606.4,\n",
       " 606.4,\n",
       " 606.4,\n",
       " 606.4,\n",
       " 606.4,\n",
       " 606.4,\n",
       " 606.6,\n",
       " 606.6,\n",
       " 606.6,\n",
       " 606.4]"
      ]
     },
     "execution_count": 29,
     "metadata": {},
     "output_type": "execute_result"
    }
   ],
   "source": [
    "x_values2"
   ]
  },
  {
   "cell_type": "code",
   "execution_count": 30,
   "metadata": {},
   "outputs": [
    {
     "data": {
      "text/plain": [
       "[606.4, 606.53, 606.4, 606.4, 606.33, 606.4, 606.4, 606.6, 606.4, 606.53]"
      ]
     },
     "execution_count": 30,
     "metadata": {},
     "output_type": "execute_result"
    }
   ],
   "source": [
    "x_values3"
   ]
  },
  {
   "cell_type": "code",
   "execution_count": 35,
   "metadata": {},
   "outputs": [
    {
     "data": {
      "text/plain": [
       "[606.5, 606.4, 606.6, 606.4, 606.6, 606.6, 606.4, 606.69, 606.4, 606.6]"
      ]
     },
     "execution_count": 35,
     "metadata": {},
     "output_type": "execute_result"
    }
   ],
   "source": [
    "x_values4"
   ]
  },
  {
   "cell_type": "code",
   "execution_count": 45,
   "metadata": {},
   "outputs": [
    {
     "data": {
      "text/plain": [
       "[606.5, 606.35, 606.45, 606.5, 606.5, 606.4, 606.5, 606.5, 606.5, 606.5]"
      ]
     },
     "execution_count": 45,
     "metadata": {},
     "output_type": "execute_result"
    }
   ],
   "source": [
    "x_values5"
   ]
  },
  {
   "cell_type": "code",
   "execution_count": 38,
   "metadata": {},
   "outputs": [
    {
     "data": {
      "text/plain": [
       "0.10349656255906924"
      ]
     },
     "execution_count": 38,
     "metadata": {},
     "output_type": "execute_result"
    }
   ],
   "source": [
    "stat.stdev(x_values2)"
   ]
  },
  {
   "cell_type": "code",
   "execution_count": 39,
   "metadata": {},
   "outputs": [
    {
     "data": {
      "text/plain": [
       "0.08399074023036317"
      ]
     },
     "execution_count": 39,
     "metadata": {},
     "output_type": "execute_result"
    }
   ],
   "source": [
    "stat.stdev(x_values3)"
   ]
  },
  {
   "cell_type": "code",
   "execution_count": 40,
   "metadata": {},
   "outputs": [
    {
     "data": {
      "text/plain": [
       "0.11179842972463881"
      ]
     },
     "execution_count": 40,
     "metadata": {},
     "output_type": "execute_result"
    }
   ],
   "source": [
    "stat.stdev(x_values4)"
   ]
  },
  {
   "cell_type": "code",
   "execution_count": 46,
   "metadata": {},
   "outputs": [
    {
     "data": {
      "text/plain": [
       "0.05374838498865277"
      ]
     },
     "execution_count": 46,
     "metadata": {},
     "output_type": "execute_result"
    }
   ],
   "source": [
    "stat.stdev(x_values5)"
   ]
  },
  {
   "cell_type": "code",
   "execution_count": 19,
   "metadata": {},
   "outputs": [
    {
     "data": {
      "text/plain": [
       "480"
      ]
     },
     "execution_count": 19,
     "metadata": {},
     "output_type": "execute_result"
    }
   ],
   "source": [
    "rnd.randrange(480, 550)"
   ]
  },
  {
   "cell_type": "code",
   "execution_count": 47,
   "metadata": {},
   "outputs": [],
   "source": [
    "tp.returnTool()"
   ]
  },
  {
   "cell_type": "code",
   "execution_count": 48,
   "metadata": {},
   "outputs": [],
   "source": [
    "ar.close()"
   ]
  },
  {
   "cell_type": "markdown",
   "metadata": {},
   "source": [
    "# Testing mobile_touch_probe.findCenterInner()"
   ]
  },
  {
   "cell_type": "code",
   "execution_count": 7,
   "metadata": {},
   "outputs": [],
   "source": [
    "import low_level_comm as llc\n",
    "import cartesian\n",
    "import tools\n",
    "import time\n",
    "from importlib import reload "
   ]
  },
  {
   "cell_type": "code",
   "execution_count": 17,
   "metadata": {},
   "outputs": [],
   "source": [
    "tools=reload(tools)"
   ]
  },
  {
   "cell_type": "code",
   "execution_count": 3,
   "metadata": {},
   "outputs": [],
   "source": [
    "ar = cartesian.arnie('COM4')\n",
    "ar.home()"
   ]
  },
  {
   "cell_type": "code",
   "execution_count": 4,
   "metadata": {},
   "outputs": [],
   "source": [
    "tp = tools.mobile_touch_probe.getTool(ar)"
   ]
  },
  {
   "cell_type": "code",
   "execution_count": 5,
   "metadata": {},
   "outputs": [],
   "source": [
    "ar.move(x=550, y=300, z=599, z_first=False, speed_z=10000)"
   ]
  },
  {
   "cell_type": "code",
   "execution_count": 10,
   "metadata": {},
   "outputs": [
    {
     "name": "stdout",
     "output_type": "stream",
     "text": [
      "Mobile touch probe response: 0\n",
      "\n",
      "Mobile touch probe response: 0\n",
      "\n",
      "Mobile touch probe response: 0\n",
      "\n",
      "Mobile touch probe response: 0\n",
      "\n",
      "Mobile touch probe response: 0\n",
      "\n",
      "Mobile touch probe response: 0\n",
      "\n",
      "Mobile touch probe response: 0\n",
      "\n",
      "Mobile touch probe response: 0\n",
      "\n",
      "Mobile touch probe response: 0\n",
      "\n",
      "Mobile touch probe response: 0\n",
      "\n",
      "Mobile touch probe response: 0\n",
      "\n",
      "Mobile touch probe response: 0\n",
      "\n",
      "Mobile touch probe response: 0\n",
      "\n",
      "Mobile touch probe response: 1\n",
      "\n",
      "Mobile touch probe response: 1\n",
      "\n",
      "Mobile touch probe response: 1\n",
      "\n",
      "Mobile touch probe response: 0\n",
      "\n",
      "Mobile touch probe response: 0\n",
      "\n",
      "Mobile touch probe response: 1\n",
      "\n",
      "Mobile touch probe response: 0\n",
      "\n",
      "Mobile touch probe response: 0\n",
      "\n",
      "Mobile touch probe response: 0\n",
      "\n",
      "Mobile touch probe response: 0\n",
      "\n",
      "Mobile touch probe response: 1\n",
      "\n",
      "Mobile touch probe response: 1\n",
      "\n",
      "Mobile touch probe response: 1\n",
      "\n",
      "Mobile touch probe response: 0\n",
      "\n",
      "Mobile touch probe response: 0\n",
      "\n",
      "Mobile touch probe response: 0\n",
      "\n",
      "Mobile touch probe response: 1\n",
      "\n",
      "Mobile touch probe response: 1\n",
      "\n",
      "Mobile touch probe response: 1\n",
      "\n",
      "Mobile touch probe response: 1\n",
      "\n",
      "Mobile touch probe response: 0\n",
      "\n",
      "Mobile touch probe response: 0\n",
      "\n",
      "Mobile touch probe response: 0\n",
      "\n",
      "Mobile touch probe response: 0\n",
      "\n",
      "Mobile touch probe response: 0\n",
      "\n",
      "Mobile touch probe response: 0\n",
      "\n",
      "Mobile touch probe response: 0\n",
      "\n",
      "Mobile touch probe response: 1\n",
      "\n",
      "Mobile touch probe response: 0\n",
      "\n",
      "Mobile touch probe response: 0\n",
      "\n",
      "Mobile touch probe response: 0\n",
      "\n",
      "Mobile touch probe response: 0\n",
      "\n",
      "Mobile touch probe response: 0\n",
      "\n",
      "Mobile touch probe response: 0\n",
      "\n",
      "Mobile touch probe response: 0\n",
      "\n",
      "Mobile touch probe response: 0\n",
      "\n",
      "Mobile touch probe response: 0\n",
      "\n",
      "Mobile touch probe response: 0\n",
      "\n",
      "Mobile touch probe response: 0\n",
      "\n",
      "Mobile touch probe response: 0\n",
      "\n",
      "Mobile touch probe response: 0\n",
      "\n",
      "Mobile touch probe response: 1\n",
      "\n",
      "Mobile touch probe response: 1\n",
      "\n",
      "Mobile touch probe response: 1\n",
      "\n",
      "Mobile touch probe response: 0\n",
      "\n",
      "Mobile touch probe response: 0\n",
      "\n",
      "Mobile touch probe response: 1\n",
      "\n",
      "Mobile touch probe response: 0\n",
      "\n",
      "Mobile touch probe response: 0\n",
      "\n",
      "Mobile touch probe response: 0\n",
      "\n",
      "Mobile touch probe response: 0\n",
      "\n",
      "Mobile touch probe response: 1\n",
      "\n",
      "Mobile touch probe response: 1\n",
      "\n",
      "Mobile touch probe response: 1\n",
      "\n",
      "Mobile touch probe response: 1\n",
      "\n",
      "Mobile touch probe response: 0\n",
      "\n",
      "Mobile touch probe response: 0\n",
      "\n",
      "Mobile touch probe response: 0\n",
      "\n",
      "Mobile touch probe response: 0\n",
      "\n",
      "Mobile touch probe response: 0\n",
      "\n",
      "Mobile touch probe response: 1\n",
      "\n",
      "Mobile touch probe response: 1\n",
      "\n",
      "Mobile touch probe response: 1\n",
      "\n",
      "Mobile touch probe response: 1\n",
      "\n",
      "Mobile touch probe response: 1\n",
      "\n",
      "Mobile touch probe response: 1\n",
      "\n",
      "Mobile touch probe response: 1\n",
      "\n",
      "Mobile touch probe response: 0\n",
      "\n",
      "Mobile touch probe response: 0\n",
      "\n",
      "Mobile touch probe response: 0\n",
      "\n",
      "Mobile touch probe response: 0\n",
      "\n",
      "Mobile touch probe response: 0\n",
      "\n",
      "Mobile touch probe response: 0\n",
      "\n",
      "Mobile touch probe response: 0\n",
      "\n",
      "Mobile touch probe response: 1\n",
      "\n"
     ]
    },
    {
     "data": {
      "text/plain": [
       "139.54999999999995"
      ]
     },
     "execution_count": 10,
     "metadata": {},
     "output_type": "execute_result"
    }
   ],
   "source": [
    "tp.findCenterInner('x')"
   ]
  },
  {
   "cell_type": "code",
   "execution_count": 11,
   "metadata": {},
   "outputs": [],
   "source": [
    "tp.close()"
   ]
  },
  {
   "cell_type": "code",
   "execution_count": 18,
   "metadata": {},
   "outputs": [
    {
     "name": "stderr",
     "output_type": "stream",
     "text": [
      "ERROR:root:matchPortsWithDevices(): could not execute finiding device in list.\n",
      "ERROR:root:matchPortsWithDevices(): Provided patterns_list: ['mobile touch probe']\n",
      "ERROR:root:None\n"
     ]
    }
   ],
   "source": [
    "tp = tools.mobile_touch_probe(ar)"
   ]
  },
  {
   "cell_type": "code",
   "execution_count": 21,
   "metadata": {},
   "outputs": [
    {
     "name": "stdout",
     "output_type": "stream",
     "text": [
      "Mobile touch probe response: 0\n",
      "\n",
      "Mobile touch probe response: 0\n",
      "\n",
      "Mobile touch probe response: 0\n",
      "\n",
      "Mobile touch probe response: 0\n",
      "\n",
      "Mobile touch probe response: 0\n",
      "\n",
      "Mobile touch probe response: 0\n",
      "\n",
      "Mobile touch probe response: 0\n",
      "\n",
      "Mobile touch probe response: 0\n",
      "\n",
      "Mobile touch probe response: 0\n",
      "\n",
      "Mobile touch probe response: 0\n",
      "\n",
      "Mobile touch probe response: 0\n",
      "\n",
      "Mobile touch probe response: 0\n",
      "\n",
      "Mobile touch probe response: 0\n",
      "\n",
      "Mobile touch probe response: 1\n",
      "\n",
      "Mobile touch probe response: 1\n",
      "\n",
      "Mobile touch probe response: 1\n",
      "\n",
      "Mobile touch probe response: 0\n",
      "\n",
      "Mobile touch probe response: 0\n",
      "\n",
      "Mobile touch probe response: 1\n",
      "\n",
      "Mobile touch probe response: 0\n",
      "\n",
      "Mobile touch probe response: 0\n",
      "\n",
      "Mobile touch probe response: 0\n",
      "\n",
      "Mobile touch probe response: 1\n",
      "\n",
      "Mobile touch probe response: 1\n",
      "\n",
      "Mobile touch probe response: 0\n",
      "\n",
      "Mobile touch probe response: 0\n",
      "\n",
      "Mobile touch probe response: 0\n",
      "\n",
      "Mobile touch probe response: 1\n",
      "\n",
      "Mobile touch probe response: 1\n",
      "\n",
      "Mobile touch probe response: 1\n",
      "\n",
      "Mobile touch probe response: 1\n",
      "\n",
      "Mobile touch probe response: 0\n",
      "\n",
      "Mobile touch probe response: 0\n",
      "\n",
      "Mobile touch probe response: 0\n",
      "\n",
      "Mobile touch probe response: 0\n",
      "\n",
      "Mobile touch probe response: 0\n",
      "\n",
      "Mobile touch probe response: 0\n",
      "\n",
      "Mobile touch probe response: 0\n",
      "\n",
      "Mobile touch probe response: 1\n",
      "\n",
      "Mobile touch probe response: 0\n",
      "\n",
      "Mobile touch probe response: 0\n",
      "\n",
      "Mobile touch probe response: 0\n",
      "\n",
      "Mobile touch probe response: 0\n",
      "\n",
      "Mobile touch probe response: 0\n",
      "\n",
      "Mobile touch probe response: 0\n",
      "\n",
      "Mobile touch probe response: 0\n",
      "\n",
      "Mobile touch probe response: 0\n",
      "\n",
      "Mobile touch probe response: 0\n",
      "\n",
      "Mobile touch probe response: 0\n",
      "\n",
      "Mobile touch probe response: 0\n",
      "\n",
      "Mobile touch probe response: 0\n",
      "\n",
      "Mobile touch probe response: 0\n",
      "\n",
      "Mobile touch probe response: 1\n",
      "\n",
      "Mobile touch probe response: 1\n",
      "\n",
      "Mobile touch probe response: 1\n",
      "\n",
      "Mobile touch probe response: 0\n",
      "\n",
      "Mobile touch probe response: 0\n",
      "\n",
      "Mobile touch probe response: 1\n",
      "\n",
      "Mobile touch probe response: 0\n",
      "\n",
      "Mobile touch probe response: 0\n",
      "\n",
      "Mobile touch probe response: 0\n",
      "\n",
      "Mobile touch probe response: 0\n",
      "\n",
      "Mobile touch probe response: 1\n",
      "\n",
      "Mobile touch probe response: 1\n",
      "\n",
      "Mobile touch probe response: 1\n",
      "\n",
      "Mobile touch probe response: 1\n",
      "\n",
      "Mobile touch probe response: 0\n",
      "\n",
      "Mobile touch probe response: 0\n",
      "\n",
      "Mobile touch probe response: 0\n",
      "\n",
      "Mobile touch probe response: 0\n",
      "\n",
      "Mobile touch probe response: 0\n",
      "\n",
      "Mobile touch probe response: 1\n",
      "\n",
      "Mobile touch probe response: 1\n",
      "\n",
      "Mobile touch probe response: 1\n",
      "\n",
      "Mobile touch probe response: 1\n",
      "\n",
      "Mobile touch probe response: 1\n",
      "\n",
      "Mobile touch probe response: 1\n",
      "\n",
      "Mobile touch probe response: 1\n",
      "\n",
      "Mobile touch probe response: 1\n",
      "\n",
      "Mobile touch probe response: 1\n",
      "\n",
      "Mobile touch probe response: 0\n",
      "\n",
      "Mobile touch probe response: 0\n",
      "\n",
      "Mobile touch probe response: 0\n",
      "\n",
      "Mobile touch probe response: 0\n",
      "\n",
      "Mobile touch probe response: 0\n",
      "\n",
      "Mobile touch probe response: 1\n",
      "\n"
     ]
    },
    {
     "data": {
      "text/plain": [
       "536.975"
      ]
     },
     "execution_count": 21,
     "metadata": {},
     "output_type": "execute_result"
    }
   ],
   "source": [
    "tp.findCenterInner('x')"
   ]
  },
  {
   "cell_type": "code",
   "execution_count": 22,
   "metadata": {},
   "outputs": [],
   "source": [
    "ar.move(x=536.975)"
   ]
  },
  {
   "cell_type": "markdown",
   "metadata": {},
   "source": [
    "# Testing mobile_touch_probe.findCenterInner()"
   ]
  },
  {
   "cell_type": "code",
   "execution_count": 1,
   "metadata": {},
   "outputs": [],
   "source": [
    "import low_level_comm as llc\n",
    "import cartesian\n",
    "import tools\n",
    "import time\n",
    "from importlib import reload "
   ]
  },
  {
   "cell_type": "code",
   "execution_count": 2,
   "metadata": {},
   "outputs": [],
   "source": [
    "ar = cartesian.arnie('COM4')\n",
    "ar.home()"
   ]
  },
  {
   "cell_type": "code",
   "execution_count": 3,
   "metadata": {},
   "outputs": [
    {
     "name": "stderr",
     "output_type": "stream",
     "text": [
      "ERROR:root:matchPortsWithDevices(): could not execute finiding device in list.\n",
      "ERROR:root:matchPortsWithDevices(): Provided patterns_list: ['mobile touch probe']\n",
      "ERROR:root:None\n"
     ]
    }
   ],
   "source": [
    "tp = tools.mobile_touch_probe(ar)"
   ]
  },
  {
   "cell_type": "code",
   "execution_count": 4,
   "metadata": {},
   "outputs": [],
   "source": [
    "ar.move(x=600, y=300, z=599, z_first=False, speed_z=10000)"
   ]
  },
  {
   "cell_type": "code",
   "execution_count": 5,
   "metadata": {},
   "outputs": [
    {
     "name": "stdout",
     "output_type": "stream",
     "text": [
      "Mobile touch probe response: 0\n",
      "\n",
      "Mobile touch probe response: 0\n",
      "\n",
      "Mobile touch probe response: 1\n",
      "\n",
      "Mobile touch probe response: 1\n",
      "\n",
      "Mobile touch probe response: 0\n",
      "\n",
      "Mobile touch probe response: 0\n",
      "\n",
      "Mobile touch probe response: 1\n",
      "\n",
      "Mobile touch probe response: 1\n",
      "\n",
      "Mobile touch probe response: 1\n",
      "\n",
      "Mobile touch probe response: 0\n",
      "\n",
      "Mobile touch probe response: 0\n",
      "\n",
      "Mobile touch probe response: 0\n",
      "\n",
      "Mobile touch probe response: 1\n",
      "\n",
      "Mobile touch probe response: 1\n",
      "\n",
      "Mobile touch probe response: 1\n",
      "\n",
      "Mobile touch probe response: 0\n",
      "\n",
      "Mobile touch probe response: 0\n",
      "\n",
      "Mobile touch probe response: 0\n",
      "\n",
      "Mobile touch probe response: 1\n",
      "\n",
      "Mobile touch probe response: 1\n",
      "\n",
      "Mobile touch probe response: 1\n",
      "\n",
      "Mobile touch probe response: 1\n",
      "\n",
      "Mobile touch probe response: 0\n",
      "\n",
      "Mobile touch probe response: 0\n",
      "\n",
      "Mobile touch probe response: 0\n",
      "\n",
      "Mobile touch probe response: 0\n",
      "\n",
      "Mobile touch probe response: 0\n",
      "\n",
      "Mobile touch probe response: 0\n",
      "\n",
      "Mobile touch probe response: 0\n",
      "\n",
      "Mobile touch probe response: 1\n",
      "\n",
      "Mobile touch probe response: 0\n",
      "\n",
      "Mobile touch probe response: 0\n",
      "\n",
      "Mobile touch probe response: 0\n",
      "\n",
      "Mobile touch probe response: 0\n",
      "\n",
      "Mobile touch probe response: 1\n",
      "\n",
      "Mobile touch probe response: 1\n",
      "\n",
      "Mobile touch probe response: 1\n",
      "\n",
      "Mobile touch probe response: 0\n",
      "\n",
      "Mobile touch probe response: 0\n",
      "\n",
      "Mobile touch probe response: 1\n",
      "\n",
      "Mobile touch probe response: 0\n",
      "\n",
      "Mobile touch probe response: 0\n",
      "\n",
      "Mobile touch probe response: 0\n",
      "\n",
      "Mobile touch probe response: 0\n",
      "\n",
      "Mobile touch probe response: 1\n",
      "\n",
      "Mobile touch probe response: 1\n",
      "\n",
      "Mobile touch probe response: 1\n",
      "\n",
      "Mobile touch probe response: 0\n",
      "\n",
      "Mobile touch probe response: 0\n",
      "\n",
      "Mobile touch probe response: 0\n",
      "\n",
      "Mobile touch probe response: 1\n",
      "\n",
      "Mobile touch probe response: 1\n",
      "\n",
      "Mobile touch probe response: 1\n",
      "\n",
      "Mobile touch probe response: 1\n",
      "\n",
      "Mobile touch probe response: 1\n",
      "\n",
      "Mobile touch probe response: 1\n",
      "\n",
      "Mobile touch probe response: 1\n",
      "\n",
      "Mobile touch probe response: 0\n",
      "\n",
      "Mobile touch probe response: 0\n",
      "\n",
      "Mobile touch probe response: 0\n",
      "\n",
      "Mobile touch probe response: 0\n",
      "\n",
      "Mobile touch probe response: 0\n",
      "\n",
      "Mobile touch probe response: 0\n",
      "\n",
      "Mobile touch probe response: 0\n",
      "\n",
      "Mobile touch probe response: 0\n",
      "\n",
      "Mobile touch probe response: 0\n",
      "\n",
      "Mobile touch probe response: 0\n",
      "\n",
      "Mobile touch probe response: 0\n",
      "\n",
      "Mobile touch probe response: 0\n",
      "\n",
      "Mobile touch probe response: 0\n",
      "\n",
      "Mobile touch probe response: 1\n",
      "\n"
     ]
    },
    {
     "data": {
      "text/plain": [
       "611.175"
      ]
     },
     "execution_count": 5,
     "metadata": {},
     "output_type": "execute_result"
    }
   ],
   "source": [
    "tp.findCenterOuter('x', raise_height=10, dist_through_obstruct=40)"
   ]
  },
  {
   "cell_type": "code",
   "execution_count": 6,
   "metadata": {},
   "outputs": [],
   "source": [
    "ar.move_delta(dz=-10)"
   ]
  },
  {
   "cell_type": "code",
   "execution_count": 7,
   "metadata": {},
   "outputs": [],
   "source": [
    "ar.move(x=611.175)"
   ]
  },
  {
   "cell_type": "code",
   "execution_count": 8,
   "metadata": {},
   "outputs": [],
   "source": [
    "ar.move_delta(dz=5)"
   ]
  },
  {
   "cell_type": "markdown",
   "metadata": {},
   "source": [
    "# Calibrate from inside"
   ]
  },
  {
   "cell_type": "code",
   "execution_count": 1,
   "metadata": {},
   "outputs": [],
   "source": [
    "import low_level_comm as llc\n",
    "import cartesian\n",
    "import tools\n",
    "import calibration\n",
    "from importlib import reload "
   ]
  },
  {
   "cell_type": "code",
   "execution_count": 3,
   "metadata": {},
   "outputs": [],
   "source": [
    "ar = cartesian.arnie('COM4', 'COM6')"
   ]
  },
  {
   "cell_type": "code",
   "execution_count": 4,
   "metadata": {},
   "outputs": [],
   "source": [
    "ar.home()"
   ]
  },
  {
   "cell_type": "code",
   "execution_count": 7,
   "metadata": {},
   "outputs": [],
   "source": [
    "tp=tools.mobile_touch_probe.getTool(ar)"
   ]
  },
  {
   "cell_type": "code",
   "execution_count": 4,
   "metadata": {},
   "outputs": [
    {
     "name": "stderr",
     "output_type": "stream",
     "text": [
      "ERROR:root:matchPortsWithDevices(): could not execute finiding device in list.\n",
      "ERROR:root:matchPortsWithDevices(): Provided patterns_list: ['mobile touch probe']\n",
      "ERROR:root:None\n"
     ]
    }
   ],
   "source": [
    "tp = tools.mobile_touch_probe(ar)"
   ]
  },
  {
   "cell_type": "code",
   "execution_count": 8,
   "metadata": {},
   "outputs": [],
   "source": [
    "ar.move(x=230, y=50)"
   ]
  },
  {
   "cell_type": "code",
   "execution_count": 9,
   "metadata": {},
   "outputs": [],
   "source": [
    "ar.move(z=500, speed_z=10000)"
   ]
  },
  {
   "cell_type": "code",
   "execution_count": 10,
   "metadata": {},
   "outputs": [
    {
     "data": {
      "text/plain": [
       "(239.95, 66.975)"
      ]
     },
     "execution_count": 10,
     "metadata": {},
     "output_type": "execute_result"
    }
   ],
   "source": [
    "calibration.findObjectXYCenterInner(tp)"
   ]
  },
  {
   "cell_type": "code",
   "execution_count": 7,
   "metadata": {},
   "outputs": [
    {
     "data": {
      "text/plain": [
       "(239.845, 66.225)"
      ]
     },
     "execution_count": 7,
     "metadata": {},
     "output_type": "execute_result"
    }
   ],
   "source": [
    "calibration.findObjectXYCenterInner(tp, expected_travel_x=40, expected_travel_y=40)"
   ]
  },
  {
   "cell_type": "code",
   "execution_count": 8,
   "metadata": {},
   "outputs": [
    {
     "data": {
      "text/plain": [
       "(239.975, 66.045)"
      ]
     },
     "execution_count": 8,
     "metadata": {},
     "output_type": "execute_result"
    }
   ],
   "source": [
    "calibration.findObjectXYCenterInner(tp, expected_travel_x=40, expected_travel_y=40, \n",
    "                                   move_x_relative_to_center=10, move_y_relative_to_center=15)"
   ]
  },
  {
   "cell_type": "code",
   "execution_count": 11,
   "metadata": {},
   "outputs": [],
   "source": [
    "ar.move(x=230, y=50)"
   ]
  },
  {
   "cell_type": "code",
   "execution_count": 10,
   "metadata": {},
   "outputs": [
    {
     "data": {
      "text/plain": [
       "(240.00333333333333, 66.8)"
      ]
     },
     "execution_count": 10,
     "metadata": {},
     "output_type": "execute_result"
    }
   ],
   "source": [
    "calibration.findXYInnerManyPoints(tp, 3, 5)"
   ]
  },
  {
   "cell_type": "code",
   "execution_count": 13,
   "metadata": {},
   "outputs": [],
   "source": [
    "calibration = reload(calibration)"
   ]
  },
  {
   "cell_type": "code",
   "execution_count": 14,
   "metadata": {},
   "outputs": [
    {
     "data": {
      "text/plain": [
       "(240.30600000000004, 66.901)"
      ]
     },
     "execution_count": 14,
     "metadata": {},
     "output_type": "execute_result"
    }
   ],
   "source": [
    "calibration.findXYInnerManyPoints(tp, 5, 5)"
   ]
  },
  {
   "cell_type": "code",
   "execution_count": null,
   "metadata": {},
   "outputs": [],
   "source": []
  },
  {
   "cell_type": "code",
   "execution_count": null,
   "metadata": {},
   "outputs": [],
   "source": []
  },
  {
   "cell_type": "code",
   "execution_count": 22,
   "metadata": {},
   "outputs": [
    {
     "name": "stdout",
     "output_type": "stream",
     "text": [
      "Mobile touch probe response: 0\n",
      "\n",
      "Mobile touch probe response: 0\n",
      "\n",
      "Mobile touch probe response: 0\n",
      "\n",
      "Mobile touch probe response: 0\n",
      "\n",
      "Mobile touch probe response: 0\n",
      "\n",
      "Mobile touch probe response: 0\n",
      "\n",
      "Mobile touch probe response: 1\n",
      "\n",
      "Mobile touch probe response: 1\n",
      "\n",
      "Mobile touch probe response: 0\n",
      "\n",
      "Mobile touch probe response: 0\n",
      "\n",
      "Mobile touch probe response: 1\n",
      "\n",
      "Mobile touch probe response: 1\n",
      "\n",
      "Mobile touch probe response: 1\n",
      "\n",
      "Mobile touch probe response: 0\n",
      "\n",
      "Mobile touch probe response: 0\n",
      "\n",
      "Mobile touch probe response: 0\n",
      "\n",
      "Mobile touch probe response: 1\n",
      "\n",
      "Mobile touch probe response: 1\n",
      "\n",
      "Mobile touch probe response: 1\n",
      "\n",
      "Mobile touch probe response: 1\n",
      "\n",
      "Mobile touch probe response: 0\n",
      "\n",
      "Mobile touch probe response: 0\n",
      "\n",
      "Mobile touch probe response: 0\n",
      "\n",
      "Mobile touch probe response: 0\n",
      "\n",
      "Mobile touch probe response: 0\n",
      "\n",
      "Mobile touch probe response: 1\n",
      "\n",
      "Mobile touch probe response: 1\n",
      "\n",
      "Mobile touch probe response: 1\n",
      "\n",
      "Mobile touch probe response: 1\n",
      "\n",
      "Mobile touch probe response: 1\n",
      "\n",
      "Mobile touch probe response: 1\n",
      "\n",
      "Mobile touch probe response: 1\n",
      "\n",
      "Mobile touch probe response: 1\n",
      "\n",
      "Mobile touch probe response: 0\n",
      "\n",
      "Mobile touch probe response: 0\n",
      "\n",
      "Mobile touch probe response: 0\n",
      "\n",
      "Mobile touch probe response: 0\n",
      "\n",
      "Mobile touch probe response: 0\n",
      "\n",
      "Mobile touch probe response: 0\n",
      "\n",
      "Mobile touch probe response: 0\n",
      "\n",
      "Mobile touch probe response: 0\n",
      "\n",
      "Mobile touch probe response: 0\n",
      "\n",
      "Mobile touch probe response: 1\n",
      "\n",
      "Mobile touch probe response: 0\n",
      "\n",
      "Mobile touch probe response: 0\n",
      "\n",
      "Mobile touch probe response: 0\n",
      "\n",
      "Mobile touch probe response: 0\n",
      "\n",
      "Mobile touch probe response: 0\n",
      "\n",
      "Mobile touch probe response: 0\n",
      "\n",
      "Mobile touch probe response: 1\n",
      "\n",
      "Mobile touch probe response: 1\n",
      "\n",
      "Mobile touch probe response: 1\n",
      "\n",
      "Mobile touch probe response: 0\n",
      "\n",
      "Mobile touch probe response: 0\n",
      "\n",
      "Mobile touch probe response: 0\n",
      "\n",
      "Mobile touch probe response: 1\n",
      "\n",
      "Mobile touch probe response: 1\n",
      "\n",
      "Mobile touch probe response: 0\n",
      "\n",
      "Mobile touch probe response: 0\n",
      "\n",
      "Mobile touch probe response: 0\n",
      "\n",
      "Mobile touch probe response: 0\n",
      "\n",
      "Mobile touch probe response: 1\n",
      "\n",
      "Mobile touch probe response: 1\n",
      "\n",
      "Mobile touch probe response: 1\n",
      "\n",
      "Mobile touch probe response: 0\n",
      "\n",
      "Mobile touch probe response: 0\n",
      "\n",
      "Mobile touch probe response: 0\n",
      "\n",
      "Mobile touch probe response: 0\n",
      "\n",
      "Mobile touch probe response: 0\n",
      "\n",
      "Mobile touch probe response: 1\n",
      "\n",
      "Mobile touch probe response: 1\n",
      "\n",
      "Mobile touch probe response: 1\n",
      "\n",
      "Mobile touch probe response: 1\n",
      "\n",
      "Mobile touch probe response: 1\n",
      "\n",
      "Mobile touch probe response: 1\n",
      "\n",
      "Mobile touch probe response: 1\n",
      "\n",
      "Mobile touch probe response: 0\n",
      "\n",
      "Mobile touch probe response: 0\n",
      "\n",
      "Mobile touch probe response: 0\n",
      "\n",
      "Mobile touch probe response: 0\n",
      "\n",
      "Mobile touch probe response: 0\n",
      "\n",
      "Mobile touch probe response: 0\n",
      "\n",
      "Mobile touch probe response: 0\n",
      "\n",
      "Mobile touch probe response: 1\n",
      "\n"
     ]
    }
   ],
   "source": [
    "center_x = tp.findCenterInner('x')"
   ]
  },
  {
   "cell_type": "code",
   "execution_count": 23,
   "metadata": {},
   "outputs": [
    {
     "data": {
      "text/plain": [
       "239.875"
      ]
     },
     "execution_count": 23,
     "metadata": {},
     "output_type": "execute_result"
    }
   ],
   "source": [
    "center_x"
   ]
  },
  {
   "cell_type": "code",
   "execution_count": 24,
   "metadata": {},
   "outputs": [],
   "source": [
    "ar.move(x=center_x)"
   ]
  },
  {
   "cell_type": "code",
   "execution_count": 25,
   "metadata": {},
   "outputs": [
    {
     "name": "stdout",
     "output_type": "stream",
     "text": [
      "Mobile touch probe response: 0\n",
      "\n",
      "Mobile touch probe response: 0\n",
      "\n",
      "Mobile touch probe response: 0\n",
      "\n",
      "Mobile touch probe response: 0\n",
      "\n",
      "Mobile touch probe response: 1\n",
      "\n",
      "Mobile touch probe response: 1\n",
      "\n",
      "Mobile touch probe response: 0\n",
      "\n",
      "Mobile touch probe response: 0\n",
      "\n",
      "Mobile touch probe response: 0\n",
      "\n",
      "Mobile touch probe response: 1\n",
      "\n",
      "Mobile touch probe response: 1\n",
      "\n",
      "Mobile touch probe response: 0\n",
      "\n",
      "Mobile touch probe response: 0\n",
      "\n",
      "Mobile touch probe response: 0\n",
      "\n",
      "Mobile touch probe response: 1\n",
      "\n",
      "Mobile touch probe response: 1\n",
      "\n",
      "Mobile touch probe response: 1\n",
      "\n",
      "Mobile touch probe response: 1\n",
      "\n",
      "Mobile touch probe response: 0\n",
      "\n",
      "Mobile touch probe response: 0\n",
      "\n",
      "Mobile touch probe response: 0\n",
      "\n",
      "Mobile touch probe response: 0\n",
      "\n",
      "Mobile touch probe response: 0\n",
      "\n",
      "Mobile touch probe response: 1\n",
      "\n",
      "Mobile touch probe response: 1\n",
      "\n",
      "Mobile touch probe response: 1\n",
      "\n",
      "Mobile touch probe response: 1\n",
      "\n",
      "Mobile touch probe response: 0\n",
      "\n",
      "Mobile touch probe response: 0\n",
      "\n",
      "Mobile touch probe response: 0\n",
      "\n",
      "Mobile touch probe response: 0\n",
      "\n",
      "Mobile touch probe response: 0\n",
      "\n",
      "Mobile touch probe response: 0\n",
      "\n",
      "Mobile touch probe response: 0\n",
      "\n",
      "Mobile touch probe response: 1\n",
      "\n",
      "Mobile touch probe response: 0\n",
      "\n",
      "Mobile touch probe response: 0\n",
      "\n",
      "Mobile touch probe response: 0\n",
      "\n",
      "Mobile touch probe response: 0\n",
      "\n",
      "Mobile touch probe response: 0\n",
      "\n",
      "Mobile touch probe response: 0\n",
      "\n",
      "Mobile touch probe response: 1\n",
      "\n",
      "Mobile touch probe response: 1\n",
      "\n",
      "Mobile touch probe response: 0\n",
      "\n",
      "Mobile touch probe response: 0\n",
      "\n",
      "Mobile touch probe response: 1\n",
      "\n",
      "Mobile touch probe response: 1\n",
      "\n",
      "Mobile touch probe response: 1\n",
      "\n",
      "Mobile touch probe response: 0\n",
      "\n",
      "Mobile touch probe response: 0\n",
      "\n",
      "Mobile touch probe response: 0\n",
      "\n",
      "Mobile touch probe response: 0\n",
      "\n",
      "Mobile touch probe response: 1\n",
      "\n",
      "Mobile touch probe response: 1\n",
      "\n",
      "Mobile touch probe response: 1\n",
      "\n",
      "Mobile touch probe response: 0\n",
      "\n",
      "Mobile touch probe response: 0\n",
      "\n",
      "Mobile touch probe response: 0\n",
      "\n",
      "Mobile touch probe response: 1\n",
      "\n",
      "Mobile touch probe response: 1\n",
      "\n",
      "Mobile touch probe response: 1\n",
      "\n",
      "Mobile touch probe response: 1\n",
      "\n",
      "Mobile touch probe response: 1\n",
      "\n",
      "Mobile touch probe response: 1\n",
      "\n",
      "Mobile touch probe response: 1\n",
      "\n",
      "Mobile touch probe response: 0\n",
      "\n",
      "Mobile touch probe response: 0\n",
      "\n",
      "Mobile touch probe response: 0\n",
      "\n",
      "Mobile touch probe response: 0\n",
      "\n",
      "Mobile touch probe response: 0\n",
      "\n",
      "Mobile touch probe response: 0\n",
      "\n",
      "Mobile touch probe response: 0\n",
      "\n",
      "Mobile touch probe response: 0\n",
      "\n",
      "Mobile touch probe response: 0\n",
      "\n",
      "Mobile touch probe response: 0\n",
      "\n",
      "Mobile touch probe response: 0\n",
      "\n",
      "Mobile touch probe response: 0\n",
      "\n",
      "Mobile touch probe response: 0\n",
      "\n",
      "Mobile touch probe response: 1\n",
      "\n"
     ]
    }
   ],
   "source": [
    "center_y = tp.findCenterInner('y')"
   ]
  },
  {
   "cell_type": "code",
   "execution_count": 26,
   "metadata": {},
   "outputs": [
    {
     "data": {
      "text/plain": [
       "66.175"
      ]
     },
     "execution_count": 26,
     "metadata": {},
     "output_type": "execute_result"
    }
   ],
   "source": [
    "center_y"
   ]
  },
  {
   "cell_type": "code",
   "execution_count": 27,
   "metadata": {},
   "outputs": [],
   "source": [
    "ar.move(y=center_y)"
   ]
  },
  {
   "cell_type": "code",
   "execution_count": 11,
   "metadata": {},
   "outputs": [],
   "source": [
    "tp.returnTool()"
   ]
  },
  {
   "cell_type": "markdown",
   "metadata": {},
   "source": [
    "# Calibrate from outside"
   ]
  },
  {
   "cell_type": "code",
   "execution_count": 1,
   "metadata": {},
   "outputs": [],
   "source": [
    "import low_level_comm as llc\n",
    "import cartesian\n",
    "import tools\n",
    "import calibration\n",
    "from importlib import reload "
   ]
  },
  {
   "cell_type": "code",
   "execution_count": 2,
   "metadata": {},
   "outputs": [],
   "source": [
    "ar = cartesian.arnie('COM4')"
   ]
  },
  {
   "cell_type": "code",
   "execution_count": 3,
   "metadata": {},
   "outputs": [],
   "source": [
    "ar.home()"
   ]
  },
  {
   "cell_type": "code",
   "execution_count": 4,
   "metadata": {},
   "outputs": [
    {
     "name": "stderr",
     "output_type": "stream",
     "text": [
      "ERROR:root:matchPortsWithDevices(): could not execute finiding device in list.\n",
      "ERROR:root:matchPortsWithDevices(): Provided patterns_list: ['mobile touch probe']\n",
      "ERROR:root:None\n"
     ]
    }
   ],
   "source": [
    "tp = tools.mobile_touch_probe(ar)"
   ]
  },
  {
   "cell_type": "code",
   "execution_count": 5,
   "metadata": {},
   "outputs": [],
   "source": [
    "ar.move(x=190, y=66)"
   ]
  },
  {
   "cell_type": "code",
   "execution_count": 6,
   "metadata": {},
   "outputs": [],
   "source": [
    "ar.move(z=500, speed_z=10000)"
   ]
  },
  {
   "cell_type": "code",
   "execution_count": 7,
   "metadata": {},
   "outputs": [
    {
     "data": {
      "text/plain": [
       "(239.22500000000002, 66.3)"
      ]
     },
     "execution_count": 7,
     "metadata": {},
     "output_type": "execute_result"
    }
   ],
   "source": [
    "calibration.findXYCenterOuter(tp, raise_height=20, \n",
    "                              opposite_side_dist=100, \n",
    "                              orthogonal_retraction=70)"
   ]
  },
  {
   "cell_type": "markdown",
   "metadata": {},
   "source": [
    "# Testing stationary touch probe"
   ]
  },
  {
   "cell_type": "code",
   "execution_count": 1,
   "metadata": {},
   "outputs": [],
   "source": [
    "import low_level_comm as llc\n",
    "import cartesian\n",
    "import tools\n",
    "import calibration\n",
    "from importlib import reload "
   ]
  },
  {
   "cell_type": "code",
   "execution_count": 2,
   "metadata": {},
   "outputs": [],
   "source": [
    "ar = cartesian.arnie('COM4', 'COM6')"
   ]
  },
  {
   "cell_type": "code",
   "execution_count": 3,
   "metadata": {},
   "outputs": [],
   "source": [
    "ar.home()"
   ]
  },
  {
   "cell_type": "code",
   "execution_count": 5,
   "metadata": {},
   "outputs": [],
   "source": [
    "stp = tools.stationary_touch_probe(ar)"
   ]
  },
  {
   "cell_type": "code",
   "execution_count": 6,
   "metadata": {},
   "outputs": [
    {
     "data": {
      "text/plain": [
       "<tools.stationary_touch_probe at 0x22b22852488>"
      ]
     },
     "execution_count": 6,
     "metadata": {},
     "output_type": "execute_result"
    }
   ],
   "source": [
    "stp"
   ]
  },
  {
   "cell_type": "code",
   "execution_count": 7,
   "metadata": {},
   "outputs": [
    {
     "data": {
      "text/plain": [
       "False"
      ]
     },
     "execution_count": 7,
     "metadata": {},
     "output_type": "execute_result"
    }
   ],
   "source": [
    "stp.isTouched()"
   ]
  },
  {
   "cell_type": "code",
   "execution_count": 8,
   "metadata": {},
   "outputs": [
    {
     "data": {
      "text/plain": [
       "True"
      ]
     },
     "execution_count": 8,
     "metadata": {},
     "output_type": "execute_result"
    }
   ],
   "source": [
    "stp.isTouched()"
   ]
  },
  {
   "cell_type": "code",
   "execution_count": 9,
   "metadata": {},
   "outputs": [],
   "source": [
    "stp.close()"
   ]
  },
  {
   "cell_type": "code",
   "execution_count": 10,
   "metadata": {},
   "outputs": [],
   "source": [
    "ar.close()"
   ]
  },
  {
   "cell_type": "markdown",
   "metadata": {},
   "source": [
    "# Testing calibrateMobileToolHolderOuter()"
   ]
  },
  {
   "cell_type": "code",
   "execution_count": 1,
   "metadata": {},
   "outputs": [],
   "source": [
    "import low_level_comm as llc\n",
    "import cartesian\n",
    "import tools\n",
    "import calibration\n",
    "from importlib import reload "
   ]
  },
  {
   "cell_type": "code",
   "execution_count": 2,
   "metadata": {},
   "outputs": [],
   "source": [
    "ar = cartesian.arnie('COM4', 'COM6')"
   ]
  },
  {
   "cell_type": "code",
   "execution_count": 3,
   "metadata": {},
   "outputs": [],
   "source": [
    "ar.home()"
   ]
  },
  {
   "cell_type": "code",
   "execution_count": 6,
   "metadata": {},
   "outputs": [],
   "source": [
    "ar.closeTool()"
   ]
  },
  {
   "cell_type": "code",
   "execution_count": 5,
   "metadata": {},
   "outputs": [],
   "source": [
    "ar.openTool()"
   ]
  },
  {
   "cell_type": "code",
   "execution_count": 4,
   "metadata": {},
   "outputs": [],
   "source": [
    "tp=tools.mobile_touch_probe.getTool(ar)\n",
    "#tp = tools.mobile_touch_probe(ar)"
   ]
  },
  {
   "cell_type": "code",
   "execution_count": 5,
   "metadata": {},
   "outputs": [
    {
     "data": {
      "text/plain": [
       "{'position': [389.96000000000004, 67.25, 531.8],\n",
       " 'n_y': 0,\n",
       " 'n_x': 2,\n",
       " 'type': 'p1000',\n",
       " 'tip': [-1, -1, -1]}"
      ]
     },
     "execution_count": 5,
     "metadata": {},
     "output_type": "execute_result"
    }
   ],
   "source": [
    "calibration.calibrateMobileToolHolderOuter(tp, tool_name='p1000', holder_size=70, n_x=2, n_y=0, \n",
    "                tool_height=157, z_meas_dx=-25, z_meas_dy=0, dz_tool_pickup=86)"
   ]
  },
  {
   "cell_type": "code",
   "execution_count": 6,
   "metadata": {},
   "outputs": [],
   "source": [
    "tp.returnTool()"
   ]
  },
  {
   "cell_type": "code",
   "execution_count": 7,
   "metadata": {},
   "outputs": [],
   "source": [
    "ar.close()"
   ]
  },
  {
   "cell_type": "markdown",
   "metadata": {},
   "source": [
    "## Trying to pickup the tool after calibration"
   ]
  },
  {
   "cell_type": "code",
   "execution_count": 48,
   "metadata": {},
   "outputs": [
    {
     "data": {
      "text/plain": [
       "<low_level_comm.serial_device at 0x20b76cbda88>"
      ]
     },
     "execution_count": 48,
     "metadata": {},
     "output_type": "execute_result"
    }
   ],
   "source": [
    "ar.getToolAtCoord(390.21, 67.5, 531.95, 200)"
   ]
  },
  {
   "cell_type": "code",
   "execution_count": 49,
   "metadata": {},
   "outputs": [],
   "source": [
    "ar.returnToolToCoord(390.21, 67.5, 531.95, 200)"
   ]
  },
  {
   "cell_type": "markdown",
   "metadata": {},
   "source": [
    "# Calibrating stalagmite"
   ]
  },
  {
   "cell_type": "code",
   "execution_count": 1,
   "metadata": {},
   "outputs": [],
   "source": [
    "import low_level_comm as llc\n",
    "import cartesian\n",
    "import tools\n",
    "import calibration\n",
    "from importlib import reload "
   ]
  },
  {
   "cell_type": "code",
   "execution_count": 2,
   "metadata": {},
   "outputs": [],
   "source": [
    "ar = cartesian.arnie('COM4', 'COM6')"
   ]
  },
  {
   "cell_type": "code",
   "execution_count": 3,
   "metadata": {},
   "outputs": [],
   "source": [
    "ar.home()"
   ]
  },
  {
   "cell_type": "code",
   "execution_count": 4,
   "metadata": {},
   "outputs": [
    {
     "name": "stderr",
     "output_type": "stream",
     "text": [
      "ERROR:root:matchPortsWithDevices(): could not execute finiding device in list.\n",
      "ERROR:root:matchPortsWithDevices(): Provided patterns_list: ['mobile touch probe']\n",
      "ERROR:root:None\n"
     ]
    }
   ],
   "source": [
    "tp = tools.mobile_touch_probe(ar)\n",
    "#tp=tools.mobile_touch_probe.getTool(ar)"
   ]
  },
  {
   "cell_type": "markdown",
   "metadata": {},
   "source": [
    "## Manually moving to calibration positions"
   ]
  },
  {
   "cell_type": "code",
   "execution_count": 5,
   "metadata": {},
   "outputs": [],
   "source": [
    "ar.move(x=60, y=66)"
   ]
  },
  {
   "cell_type": "code",
   "execution_count": 6,
   "metadata": {},
   "outputs": [],
   "source": [
    "ar.move(z=528)"
   ]
  },
  {
   "cell_type": "code",
   "execution_count": 10,
   "metadata": {},
   "outputs": [],
   "source": [
    "ar.docker.setServoPosition(75)"
   ]
  },
  {
   "cell_type": "code",
   "execution_count": 13,
   "metadata": {},
   "outputs": [
    {
     "data": {
      "text/plain": [
       "True"
      ]
     },
     "execution_count": 13,
     "metadata": {},
     "output_type": "execute_result"
    }
   ],
   "source": [
    "tp.isTouched()"
   ]
  },
  {
   "cell_type": "code",
   "execution_count": 7,
   "metadata": {},
   "outputs": [
    {
     "data": {
      "text/plain": [
       "{'position': [91.84, 66.825, 491.45],\n",
       " 'n_y': 0,\n",
       " 'n_x': 0,\n",
       " 'type': 'stationary_touch_probe',\n",
       " 'tip': [-1, -1, -1]}"
      ]
     },
     "execution_count": 7,
     "metadata": {},
     "output_type": "execute_result"
    }
   ],
   "source": [
    "calibration.calibrateMobileToolHolderOuter(tp, tool_name='stationary_touch_probe', holder_size=40, n_x=0, n_y=0, \n",
    "                tool_height=82, z_meas_dx=0, z_meas_dy=0, dz_tool_pickup=0, raise_height=100)"
   ]
  },
  {
   "cell_type": "markdown",
   "metadata": {},
   "source": [
    "# Testing tool calibration by stalagmite"
   ]
  },
  {
   "cell_type": "code",
   "execution_count": 8,
   "metadata": {},
   "outputs": [],
   "source": [
    "import low_level_comm as llc\n",
    "import cartesian\n",
    "import tools\n",
    "import calibration\n",
    "import logging\n",
    "from importlib import reload "
   ]
  },
  {
   "cell_type": "code",
   "execution_count": 9,
   "metadata": {},
   "outputs": [],
   "source": [
    "!del arnietest.log\n",
    "logging.basicConfig(level=logging.DEBUG, \n",
    "                    format='%(asctime)s %(message)s',\n",
    "                    handlers=[logging.FileHandler(filename='arnietest.log')])\n",
    "logger = logging.getLogger()"
   ]
  },
  {
   "cell_type": "code",
   "execution_count": 10,
   "metadata": {},
   "outputs": [],
   "source": [
    "ar = cartesian.arnie('COM4', 'COM6')"
   ]
  },
  {
   "cell_type": "code",
   "execution_count": 11,
   "metadata": {},
   "outputs": [],
   "source": [
    "ar.home()"
   ]
  },
  {
   "cell_type": "markdown",
   "metadata": {},
   "source": [
    "## Getting pipettor tool"
   ]
  },
  {
   "cell_type": "code",
   "execution_count": 13,
   "metadata": {},
   "outputs": [],
   "source": [
    "p1000 = tools.mobile_tool.getTool(robot=ar, tool_name='p1000')"
   ]
  },
  {
   "cell_type": "markdown",
   "metadata": {},
   "source": [
    "## Initializing stalagmite"
   ]
  },
  {
   "cell_type": "code",
   "execution_count": 14,
   "metadata": {},
   "outputs": [],
   "source": [
    "stp = tools.stationary_touch_probe(ar)"
   ]
  },
  {
   "cell_type": "code",
   "execution_count": 15,
   "metadata": {},
   "outputs": [
    {
     "data": {
      "text/plain": [
       "False"
      ]
     },
     "execution_count": 15,
     "metadata": {},
     "output_type": "execute_result"
    }
   ],
   "source": [
    "stp.isTouched()"
   ]
  },
  {
   "cell_type": "markdown",
   "metadata": {},
   "source": [
    "## Manually finding proper position for tool calibration"
   ]
  },
  {
   "cell_type": "code",
   "execution_count": 26,
   "metadata": {},
   "outputs": [],
   "source": [
    "ar.move(x=70, y=66)"
   ]
  },
  {
   "cell_type": "code",
   "execution_count": 29,
   "metadata": {},
   "outputs": [],
   "source": [
    "ar.move(z=430, speed_z=5000)"
   ]
  },
  {
   "cell_type": "markdown",
   "metadata": {},
   "source": [
    "## Attempting calibration"
   ]
  },
  {
   "cell_type": "code",
   "execution_count": 31,
   "metadata": {},
   "outputs": [
    {
     "data": {
      "text/plain": [
       "89.95"
      ]
     },
     "execution_count": 31,
     "metadata": {},
     "output_type": "execute_result"
    }
   ],
   "source": [
    "stp.findCenterOuter(axis='x', raise_height=20, dist_through_obstruct=50)"
   ]
  },
  {
   "cell_type": "code",
   "execution_count": 32,
   "metadata": {},
   "outputs": [],
   "source": [
    "# Moving back to starting position\n",
    "ar.move_delta(dz=-20)\n",
    "ar.move(x=70, y=66)\n",
    "ar.move_delta(dz=20)"
   ]
  },
  {
   "cell_type": "code",
   "execution_count": 33,
   "metadata": {},
   "outputs": [
    {
     "data": {
      "text/plain": [
       "(89.825, 68.7)"
      ]
     },
     "execution_count": 33,
     "metadata": {},
     "output_type": "execute_result"
    }
   ],
   "source": [
    "calibration.findXYCenterOuter(stp, raise_height=20, opposite_side_dist=50, orthogonal_retraction=30)"
   ]
  },
  {
   "cell_type": "markdown",
   "metadata": {},
   "source": [
    "# Returning tool back"
   ]
  },
  {
   "cell_type": "code",
   "execution_count": 34,
   "metadata": {},
   "outputs": [],
   "source": [
    "p1000.returnTool()"
   ]
  },
  {
   "cell_type": "markdown",
   "metadata": {},
   "source": [
    "# Closing robot object"
   ]
  },
  {
   "cell_type": "code",
   "execution_count": 35,
   "metadata": {},
   "outputs": [],
   "source": [
    "ar.close()\n",
    "stp.close()"
   ]
  },
  {
   "cell_type": "code",
   "execution_count": null,
   "metadata": {},
   "outputs": [],
   "source": []
  }
 ],
 "metadata": {
  "kernelspec": {
   "display_name": "Python 3",
   "language": "python",
   "name": "python3"
  },
  "language_info": {
   "codemirror_mode": {
    "name": "ipython",
    "version": 3
   },
   "file_extension": ".py",
   "mimetype": "text/x-python",
   "name": "python",
   "nbconvert_exporter": "python",
   "pygments_lexer": "ipython3",
   "version": "3.7.4"
  }
 },
 "nbformat": 4,
 "nbformat_minor": 2
}
