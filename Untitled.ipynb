{
 "cells": [
  {
   "cell_type": "code",
   "execution_count": 1,
   "metadata": {
    "ExecuteTime": {
     "end_time": "2019-12-18T19:09:42.711068Z",
     "start_time": "2019-12-18T19:09:42.694083Z"
    },
    "collapsed": true
   },
   "outputs": [],
   "source": [
    "import arnielib as a"
   ]
  },
  {
   "cell_type": "code",
   "execution_count": 3,
   "metadata": {
    "ExecuteTime": {
     "end_time": "2019-12-18T19:09:46.459912Z",
     "start_time": "2019-12-18T19:09:46.419503Z"
    }
   },
   "outputs": [
    {
     "data": {
      "text/plain": [
       "['COM6', 'COM18']"
      ]
     },
     "execution_count": 3,
     "metadata": {},
     "output_type": "execute_result"
    }
   ],
   "source": [
    "a.serial_ports()"
   ]
  },
  {
   "cell_type": "code",
   "execution_count": 4,
   "metadata": {
    "ExecuteTime": {
     "end_time": "2019-12-18T19:10:04.623460Z",
     "start_time": "2019-12-18T19:09:49.374537Z"
    }
   },
   "outputs": [
    {
     "name": "stdout",
     "output_type": "stream",
     "text": [
      "ERROR: Couldn't close the port.\n",
      "Msg: Arnie's stationary touch probe\n",
      "Rev. 1.0, 11/20/2019\n",
      "\n",
      "ERROR: Couldn't close the port.\n",
      "Msg: start\n",
      "echo:Marlin 1.1.8\n",
      "\n",
      "echo: Last Updated: 2017-12-25 12:00 | Author: (none, default config)\n",
      "echo:Compiled: Dec 17 2019\n",
      "echo: Free Memory: 5437  PlannerBufferBytes: 1232\n",
      "echo:Hardcoded Default Settings Loaded\n",
      "echo:  G21    ; Units in mm\n",
      "\n",
      "echo:Filament settings: Disabled\n",
      "echo:  M200 D3.00\n",
      "echo:  M200 D0\n",
      "echo:Steps per unit:\n",
      "echo:  M92 X80.00 Y80.00 Z80.00 E500.00\n",
      "echo:Maximum feedrates (units/s):\n",
      "echo:  M203 X10000.00 Y10000.00 Z10000.00 E25.00\n",
      "echo:Maximum Acceleration (units/s2):\n",
      "echo:  M201 X10000 Y10000 Z10000 E10000\n",
      "echo:Acceleration (units/s2): P<print_accel> R<retract_accel> T<travel_accel>\n",
      "echo:  M204 P500.00 R10000.00 T500.00\n",
      "echo:Advanced: S<min_feedrate> T<min_travel_feedrate> B<min_segment_time_us> X<max_xy_jerk> Z<max_z_jerk> E<max_e_jerk>\n",
      "echo:  M205 S0.00 T0.00 B20000 X10.00 Y10.00 Z10.00 E5.00\n",
      "echo:Home offset:\n",
      "echo:  M206 X0.00 Y0.00 Z0.00\n",
      "echo:PID settings:\n",
      "echo:  M301 P22.20 I1.08 D114.00\n",
      "echo:Z-Probe Offset (mm):\n",
      "echo:  M851 Z0.00\n",
      "\n",
      "Connected. Homing.\n",
      "MESSAGE: 'X:0.00 Y:0.00 Z:10.00 E:0.00 Count X:0 '\n",
      "MESSAGE: 'Y:0 Z:800\\nok\\n'\n",
      "MESSAGE: 'echo:busy: processing\\n'\n",
      "MESSAGE: 'echo:busy: processing\\n'\n",
      "MESSAGE: 'echo:busy: processing\\n'\n",
      "MESSAGE: 'X:0.00 Y:0.00 Z:10.00 E:0.00 Count X:0 Y:0 Z:800\\nok\\n'\n",
      "MESSAGE: 'X:0.00 Y:0.00 Z:10.00 E:0.00 Count X:0 Y:0 Z:800\\nok\\n'\n",
      "Done.\n"
     ]
    }
   ],
   "source": [
    "ar = a.connect()"
   ]
  },
  {
   "cell_type": "code",
   "execution_count": null,
   "metadata": {
    "collapsed": true
   },
   "outputs": [],
   "source": []
  }
 ],
 "metadata": {
  "kernelspec": {
   "display_name": "Python [conda root]",
   "language": "python",
   "name": "conda-root-py"
  },
  "language_info": {
   "codemirror_mode": {
    "name": "ipython",
    "version": 3
   },
   "file_extension": ".py",
   "mimetype": "text/x-python",
   "name": "python",
   "nbconvert_exporter": "python",
   "pygments_lexer": "ipython3",
   "version": "3.5.3"
  },
  "toc": {
   "base_numbering": 1,
   "nav_menu": {},
   "number_sections": true,
   "sideBar": true,
   "skip_h1_title": false,
   "title_cell": "Table of Contents",
   "title_sidebar": "Contents",
   "toc_cell": false,
   "toc_position": {},
   "toc_section_display": true,
   "toc_window_display": false
  }
 },
 "nbformat": 4,
 "nbformat_minor": 2
}
