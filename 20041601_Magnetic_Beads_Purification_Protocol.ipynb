{
 "cells": [
  {
   "cell_type": "code",
   "execution_count": 1,
   "metadata": {},
   "outputs": [],
   "source": [
    "import tools\n",
    "import param\n",
    "import cartesian\n",
    "import racks\n",
    "import calibration\n",
    "import samples\n",
    "import json\n",
    "import importlib\n",
    "import random as rnd\n",
    "import time\n",
    "import low_level_comm as llc"
   ]
  },
  {
   "cell_type": "code",
   "execution_count": 2,
   "metadata": {},
   "outputs": [],
   "source": [
    "import matplotlib.pylab as plt\n",
    "from scipy.optimize import curve_fit\n",
    "import numpy as np"
   ]
  },
  {
   "cell_type": "code",
   "execution_count": 3,
   "metadata": {},
   "outputs": [],
   "source": [
    "def waitFromTimeStamp(timestamp, wait_seconds):\n",
    "    curr_timestamp = time.time()\n",
    "    elapsed_time = curr_timestamp - timestamp\n",
    "    remaining_sleep_time = wait_seconds - elapsed_time\n",
    "    if remaining_sleep_time > 0:\n",
    "        time.sleep(remaining_sleep_time)"
   ]
  },
  {
   "cell_type": "code",
   "execution_count": 4,
   "metadata": {},
   "outputs": [],
   "source": [
    "def dropTipToWaste(tool, x_slot, y_slot, z):\n",
    "    tool.robot.move(z=z)\n",
    "    x, y = param.calcSquareSlotCenterFromVertices(x_slot, y_slot)\n",
    "    tool.robot.move(x=x, y=y)\n",
    "    tool.dropTip()"
   ]
  },
  {
   "cell_type": "code",
   "execution_count": 5,
   "metadata": {},
   "outputs": [
    {
     "data": {
      "text/plain": [
       "['COM3', 'COM6', 'COM10', 'COM14']"
      ]
     },
     "execution_count": 5,
     "metadata": {},
     "output_type": "execute_result"
    }
   ],
   "source": [
    "llc.listSerialPorts()"
   ]
  },
  {
   "cell_type": "code",
   "execution_count": 6,
   "metadata": {},
   "outputs": [],
   "source": [
    "ar = cartesian.arnie(cartesian_port=\"COM10\", docker_port=\"COM6\")"
   ]
  },
  {
   "cell_type": "code",
   "execution_count": 11,
   "metadata": {},
   "outputs": [],
   "source": [
    "ar.home()"
   ]
  },
  {
   "cell_type": "code",
   "execution_count": 8,
   "metadata": {},
   "outputs": [
    {
     "name": "stderr",
     "output_type": "stream",
     "text": [
      "ERROR:root:matchPortsWithDevices(): could not execute finiding device in list.\n",
      "ERROR:root:matchPortsWithDevices(): Provided patterns_list: ['stationary touch probe']\n",
      "ERROR:root:None\n"
     ]
    }
   ],
   "source": [
    "stp = tools.stationary_touch_probe(ar)"
   ]
  },
  {
   "cell_type": "markdown",
   "metadata": {},
   "source": [
    "# Defining racks to be used in the protocol"
   ]
  },
  {
   "cell_type": "code",
   "execution_count": 12,
   "metadata": {},
   "outputs": [],
   "source": [
    "# Tips\n",
    "p1000_tip_rack = racks.consumables(rack_name='p1000_tips_1', rack_type='p1000_tips')\n",
    "p200_tip_rack = racks.consumables(rack_name='p200_tips_1', rack_type='p200_tips')\n",
    "p20_tip_rack = racks.consumables(rack_name='p20_tips_1', rack_type='p20_tips')\n",
    "p1000_tip_rack.replaceConsumables()\n",
    "# Some of the tips are missing from the box\n",
    "p1000_tip_rack.removeConsumableItems([(4,7), (5,7), (7,7), (8, 6), (8, 7)])\n",
    "p200_tip_rack.replaceConsumables()\n",
    "p20_tip_rack.replaceConsumables()\n",
    "# Tube racks\n",
    "ep1 = racks.rack(rack_name='eppendorf_1', rack_type='eppendorf')\n",
    "magep1 = racks.rack(rack_name='eppendorf_magnetic_1', rack_type='eppendorf_magnetic')\n",
    "r50 = racks.rack(rack_name='50mL_rack_1', rack_type='50mL')"
   ]
  },
  {
   "cell_type": "markdown",
   "metadata": {},
   "source": [
    "# Defining samples"
   ]
  },
  {
   "cell_type": "code",
   "execution_count": 112,
   "metadata": {},
   "outputs": [],
   "source": [
    "# Initializing samples (total 5 samples)\n",
    "sample_list = [samples.sample(sample_name='t_ep_'+str(x), sample_type='eppendorf_tube') for x in range(5)]"
   ]
  },
  {
   "cell_type": "code",
   "execution_count": 113,
   "metadata": {},
   "outputs": [
    {
     "data": {
      "text/plain": [
       "[None, None, None, None, None]"
      ]
     },
     "execution_count": 113,
     "metadata": {},
     "output_type": "execute_result"
    }
   ],
   "source": [
    "# Placing samples into the initial rack\n",
    "[x[0].place(ep1, x[1], 3) for x in zip(sample_list, range(5))]"
   ]
  },
  {
   "cell_type": "code",
   "execution_count": 114,
   "metadata": {},
   "outputs": [
    {
     "data": {
      "text/plain": [
       "{'sample_name': 't_ep_0',\n",
       " 'sample_type': 'eppendorf_tube',\n",
       " 'rack': <racks.rack at 0x20c898106c8>,\n",
       " 'x_well': 0,\n",
       " 'y_well': 3}"
      ]
     },
     "execution_count": 114,
     "metadata": {},
     "output_type": "execute_result"
    }
   ],
   "source": [
    "sample_list[0].sample_data"
   ]
  },
  {
   "cell_type": "code",
   "execution_count": 115,
   "metadata": {},
   "outputs": [],
   "source": [
    "# Defining starting volume of each sample\n",
    "vol_list = [50, 50, 40, 25, 25]"
   ]
  },
  {
   "cell_type": "markdown",
   "metadata": {},
   "source": [
    "# Pre-filling tubes with \"sample\" according to the volume"
   ]
  },
  {
   "cell_type": "code",
   "execution_count": 64,
   "metadata": {},
   "outputs": [],
   "source": [
    "#p200 = tools.pipettor.getTool(robot=ar, tool_name='p200_tool')\n",
    "p200 = tools.pipettor(robot=ar, tool_name='p200_tool')"
   ]
  },
  {
   "cell_type": "code",
   "execution_count": 65,
   "metadata": {},
   "outputs": [],
   "source": [
    "xt, yt, zt = calibration.calibrateTool(p200, stp)"
   ]
  },
  {
   "cell_type": "code",
   "execution_count": 66,
   "metadata": {},
   "outputs": [],
   "source": [
    "water = samples.sample(sample_name='water', sample_type='eppendorf_tube')\n",
    "water.place(ep1, 7, 0)\n",
    "water.setVolume(1300)"
   ]
  },
  {
   "cell_type": "code",
   "execution_count": 69,
   "metadata": {},
   "outputs": [],
   "source": [
    "xn, yn = p200_tip_rack.getNextConsumable()\n",
    "p200.pickUpTip(p200_tip_rack, xn, yn, raise_z=300)\n",
    "p200.distributeLiquid(water, sample_list, vol_list)\n",
    "dropTipToWaste(tool=p200, x_slot=5, y_slot=3, z=300)"
   ]
  },
  {
   "cell_type": "code",
   "execution_count": 70,
   "metadata": {},
   "outputs": [],
   "source": [
    "p200.returnTool()"
   ]
  },
  {
   "cell_type": "code",
   "execution_count": 117,
   "metadata": {},
   "outputs": [
    {
     "data": {
      "text/plain": [
       "[None, None, None, None, None]"
      ]
     },
     "execution_count": 117,
     "metadata": {},
     "output_type": "execute_result"
    }
   ],
   "source": [
    "# Run this only if you fill samples manually\n",
    "[x[0].setVolume(x[1]) for x in zip(sample_list, vol_list)]"
   ]
  },
  {
   "cell_type": "code",
   "execution_count": 118,
   "metadata": {},
   "outputs": [
    {
     "data": {
      "text/plain": [
       "50"
      ]
     },
     "execution_count": 118,
     "metadata": {},
     "output_type": "execute_result"
    }
   ],
   "source": [
    "sample_list[0].getVolume()"
   ]
  },
  {
   "cell_type": "code",
   "execution_count": 73,
   "metadata": {},
   "outputs": [],
   "source": [
    "# Tube with magnetic beads\n",
    "magbeads = samples.sample(sample_name='magbeads', sample_type='50mL_tube')\n",
    "magbeads.place(r50, 0, 0)\n",
    "# Assuming we have 20 mL of magnetic beads\n",
    "magbeads.setVolume(20000)"
   ]
  },
  {
   "cell_type": "code",
   "execution_count": 74,
   "metadata": {},
   "outputs": [],
   "source": [
    "# Tubes to transfer intermediate DNA into\n",
    "upper_cut_samples = [samples.sample(sample_name='ucs_'+str(x), sample_type='eppendorf_tube') for x in range(5)]"
   ]
  },
  {
   "cell_type": "code",
   "execution_count": 75,
   "metadata": {},
   "outputs": [],
   "source": [
    "# Empty tubes for elution\n",
    "result_samples = [samples.sample(sample_name='result_'+str(x), sample_type='eppendorf_tube') for x in range(5)]"
   ]
  },
  {
   "cell_type": "code",
   "execution_count": 76,
   "metadata": {},
   "outputs": [],
   "source": [
    "# Waste tube\n",
    "waste = samples.sample(sample_name='waste', sample_type='50mL_tube')\n",
    "waste.place(r50, 1, 0)\n",
    "waste.setVolume(0)"
   ]
  },
  {
   "cell_type": "code",
   "execution_count": 77,
   "metadata": {},
   "outputs": [],
   "source": [
    "# 80% ethanol tube\n",
    "ethanol = samples.sample(sample_name='ethanol', sample_type='50mL_tube')\n",
    "ethanol.place(r50, 2, 0)\n",
    "ethanol.setVolume(50000)"
   ]
  },
  {
   "cell_type": "code",
   "execution_count": 78,
   "metadata": {},
   "outputs": [
    {
     "data": {
      "text/plain": [
       "[None, None, None, None, None]"
      ]
     },
     "execution_count": 78,
     "metadata": {},
     "output_type": "execute_result"
    }
   ],
   "source": [
    "# Placing samples into the initial rack\n",
    "[x[0].place(ep1, x[1], 2) for x in zip(upper_cut_samples, range(5))]"
   ]
  },
  {
   "cell_type": "code",
   "execution_count": 79,
   "metadata": {},
   "outputs": [
    {
     "data": {
      "text/plain": [
       "[None, None, None, None, None]"
      ]
     },
     "execution_count": 79,
     "metadata": {},
     "output_type": "execute_result"
    }
   ],
   "source": [
    "[x[0].place(ep1, x[1], 0) for x in zip(result_samples, range(5))]"
   ]
  },
  {
   "cell_type": "code",
   "execution_count": 80,
   "metadata": {},
   "outputs": [
    {
     "data": {
      "text/plain": [
       "[None, None, None, None, None]"
      ]
     },
     "execution_count": 80,
     "metadata": {},
     "output_type": "execute_result"
    }
   ],
   "source": [
    "[x.setVolume(0) for x in upper_cut_samples]"
   ]
  },
  {
   "cell_type": "markdown",
   "metadata": {},
   "source": [
    "# Defining DNA size cutoffs"
   ]
  },
  {
   "cell_type": "code",
   "execution_count": 120,
   "metadata": {},
   "outputs": [],
   "source": [
    "upper_cutoff_list = [1000, 500, 700, 350, 1000]\n",
    "lower_cutoff_list = [250, 100, 100, 150, 200]"
   ]
  },
  {
   "cell_type": "markdown",
   "metadata": {},
   "source": [
    "# Factory beads calibration table"
   ]
  },
  {
   "cell_type": "code",
   "execution_count": 178,
   "metadata": {},
   "outputs": [],
   "source": [
    "retained_fragments_dict = {\n",
    "    1200: 0.5,\n",
    "    1100: 0.5,\n",
    "    1000: 0.5,\n",
    "    450: 0.6,\n",
    "    350: 0.7,\n",
    "    300: 0.8,\n",
    "    250: 0.9,\n",
    "    150: 1.5,\n",
    "    100: 3.0,\n",
    "}"
   ]
  },
  {
   "cell_type": "code",
   "execution_count": 179,
   "metadata": {},
   "outputs": [],
   "source": [
    "lists = sorted(retained_fragments_dict.items())\n",
    "x, y = zip(*lists)\n",
    "x = np.array(x)\n",
    "y = np.array(y)"
   ]
  },
  {
   "cell_type": "code",
   "execution_count": 180,
   "metadata": {},
   "outputs": [
    {
     "data": {
      "image/png": "[encoded data removed]",
      "text/plain": [
       "<Figure size 432x288 with 1 Axes>"
      ]
     },
     "metadata": {
      "needs_background": "light"
     },
     "output_type": "display_data"
    }
   ],
   "source": [
    "plt.plot(x, y)\n",
    "plt.show()"
   ]
  },
  {
   "cell_type": "markdown",
   "metadata": {},
   "source": [
    "## Fitting curve to simpulate retaining fraction vs. beads amount calibration table"
   ]
  },
  {
   "cell_type": "code",
   "execution_count": 190,
   "metadata": {},
   "outputs": [],
   "source": [
    "def func(x, d, e, f):\n",
    "    return d + e * 1/x + f * 1/x**2"
   ]
  },
  {
   "cell_type": "code",
   "execution_count": 191,
   "metadata": {},
   "outputs": [],
   "source": [
    "popt, pcov = curve_fit(func, x, y)"
   ]
  },
  {
   "cell_type": "code",
   "execution_count": 192,
   "metadata": {},
   "outputs": [
    {
     "data": {
      "text/plain": [
       "array([ 4.99325349e-01, -9.91043764e+00,  2.57585836e+04])"
      ]
     },
     "execution_count": 192,
     "metadata": {},
     "output_type": "execute_result"
    }
   ],
   "source": [
    "# Coefficients for amount of beads calculations\n",
    "popt"
   ]
  },
  {
   "cell_type": "code",
   "execution_count": 193,
   "metadata": {},
   "outputs": [],
   "source": [
    "x_sim = np.array([x for x in range(100, 1200)])"
   ]
  },
  {
   "cell_type": "code",
   "execution_count": 194,
   "metadata": {},
   "outputs": [
    {
     "data": {
      "text/plain": [
       "[<matplotlib.lines.Line2D at 0x16ae08db2c8>]"
      ]
     },
     "execution_count": 194,
     "metadata": {},
     "output_type": "execute_result"
    },
    {
     "data": {
      "image/png": "[encoded data removed]",
      "text/plain": [
       "<Figure size 432x288 with 1 Axes>"
      ]
     },
     "metadata": {
      "needs_background": "light"
     },
     "output_type": "display_data"
    }
   ],
   "source": [
    "plt.plot(x, y)\n",
    "plt.plot(x_sim, func(x_sim, *popt))"
   ]
  },
  {
   "cell_type": "code",
   "execution_count": 197,
   "metadata": {},
   "outputs": [
    {
     "data": {
      "text/plain": [
       "0.5271850884259257"
      ]
     },
     "execution_count": 197,
     "metadata": {},
     "output_type": "execute_result"
    }
   ],
   "source": [
    "func(800, *popt)"
   ]
  },
  {
   "cell_type": "markdown",
   "metadata": {},
   "source": [
    "## Hardcoding function for beads amount calculations\n",
    "\n",
    "Parameters for DNA size vs. amount of magnetic beads are figured by a manufacturer, and rendered to be always constant. Therefore, I am simply hardcoding them"
   ]
  },
  {
   "cell_type": "code",
   "execution_count": 82,
   "metadata": {},
   "outputs": [],
   "source": [
    "def calcBeadsVol(sample_vol, DNA_size_cutoff):\n",
    "    multiplier = 4.99325349e-01 - 9.91043764e+00 / DNA_size_cutoff + 2.57585836e+04 / DNA_size_cutoff ** 2\n",
    "    return sample_vol * multiplier"
   ]
  },
  {
   "cell_type": "code",
   "execution_count": 83,
   "metadata": {},
   "outputs": [
    {
     "data": {
      "text/plain": [
       "148.80396663000002"
      ]
     },
     "execution_count": 83,
     "metadata": {},
     "output_type": "execute_result"
    }
   ],
   "source": [
    "calcBeadsVol(50, 100)"
   ]
  },
  {
   "cell_type": "markdown",
   "metadata": {},
   "source": [
    "# Removing upper cutoff DNA"
   ]
  },
  {
   "cell_type": "code",
   "execution_count": 121,
   "metadata": {},
   "outputs": [
    {
     "data": {
      "text/plain": [
       "[25.758674747999997,\n",
       " 29.126940406000003,\n",
       " 21.50944475608163,\n",
       " 17.032099118061222,\n",
       " 12.879337373999999]"
      ]
     },
     "execution_count": 121,
     "metadata": {},
     "output_type": "execute_result"
    }
   ],
   "source": [
    "# Estimating volume that needs to be added to the tubes\n",
    "vol_to_add = [calcBeadsVol(x[0].getVolume(), x[1]) for x in zip(sample_list, upper_cutoff_list)]\n",
    "vol_to_add"
   ]
  },
  {
   "cell_type": "code",
   "execution_count": 85,
   "metadata": {},
   "outputs": [],
   "source": [
    "# I can use p200 pipette for this\n",
    "p200 = tools.pipettor.getTool(robot=ar, tool_name='p200_tool')"
   ]
  },
  {
   "cell_type": "code",
   "execution_count": 86,
   "metadata": {},
   "outputs": [],
   "source": [
    "xt, yt, zt = calibration.calibrateTool(p200, stp)"
   ]
  },
  {
   "cell_type": "code",
   "execution_count": 143,
   "metadata": {},
   "outputs": [],
   "source": [
    "def fillSamplesOneByOneFromOneTube(tool, tip_rack, source, samples_list, vol_list, z=400, blow_extra=False):\n",
    "    for sample, vol in zip(samples_list, vol_list):\n",
    "        xn, yn = tip_rack.getNextConsumable()\n",
    "        tool.pickUpTip(tip_rack, xn, yn, raise_z=z)\n",
    "        tool.moveLiquid(source, sample, vol, blow_extra=blow_extra)\n",
    "        tool.pipetteUpAndDown(sample, uptake_volume=vol*0.7, repeats=3, uptake_delay=0.5)\n",
    "        dropTipToWaste(tool=tool, x_slot=5, y_slot=3, z=z)"
   ]
  },
  {
   "cell_type": "code",
   "execution_count": 88,
   "metadata": {},
   "outputs": [],
   "source": [
    "# Filling tubes one by one; because I will need to touch liquid, \n",
    "# as I am pipetting very low volume\n",
    "beads_vol_list = []\n",
    "for sample, cutoff in zip(sample_list, upper_cutoff_list):\n",
    "    sample_vol = sample.getVolume()\n",
    "    beads_vol = calcBeadsVol(sample_vol, cutoff)\n",
    "    beads_vol_list.append(beads_vol)"
   ]
  },
  {
   "cell_type": "code",
   "execution_count": 122,
   "metadata": {},
   "outputs": [
    {
     "data": {
      "text/plain": [
       "[25.758674747999997,\n",
       " 58.253880812000006,\n",
       " 75.2830566462857,\n",
       " 112.41185417920407,\n",
       " 97.88296404239999]"
      ]
     },
     "execution_count": 122,
     "metadata": {},
     "output_type": "execute_result"
    }
   ],
   "source": [
    "beads_vol_list"
   ]
  },
  {
   "cell_type": "code",
   "execution_count": 90,
   "metadata": {},
   "outputs": [],
   "source": [
    "timestamp = time.time()"
   ]
  },
  {
   "cell_type": "code",
   "execution_count": 91,
   "metadata": {},
   "outputs": [],
   "source": [
    "fillSamplesOneByOneFromOneTube(tool=p200, tip_rack=p200_tip_rack, \n",
    "                               source=magbeads, samples_list=sample_list, \n",
    "                               vol_list=beads_vol_list, blow_extra=True, z=400)"
   ]
  },
  {
   "cell_type": "code",
   "execution_count": 93,
   "metadata": {},
   "outputs": [],
   "source": [
    "p200.returnTool()"
   ]
  },
  {
   "cell_type": "code",
   "execution_count": 94,
   "metadata": {},
   "outputs": [],
   "source": [
    "waitFromTimeStamp(timestamp, 5 * 60)"
   ]
  },
  {
   "cell_type": "code",
   "execution_count": 104,
   "metadata": {},
   "outputs": [
    {
     "name": "stdout",
     "output_type": "stream",
     "text": [
      "50\n",
      "50\n",
      "40\n",
      "25\n",
      "25\n"
     ]
    }
   ],
   "source": [
    "# This is for updating sample volume without actually filling the sample\n",
    "# temp\n",
    "for sample, vol_to_add in zip(sample_list, ):\n",
    "    \n",
    "    print (sample.getVolume())"
   ]
  },
  {
   "cell_type": "markdown",
   "metadata": {},
   "source": [
    "## Moving tubes to magnetic rack"
   ]
  },
  {
   "cell_type": "code",
   "execution_count": 95,
   "metadata": {},
   "outputs": [],
   "source": [
    "gr = tools.mobile_gripper.getTool(robot=ar)"
   ]
  },
  {
   "cell_type": "code",
   "execution_count": 96,
   "metadata": {},
   "outputs": [
    {
     "data": {
      "text/plain": [
       "(94.94999999999999, 67.1, 514.9)"
      ]
     },
     "execution_count": 96,
     "metadata": {},
     "output_type": "execute_result"
    }
   ],
   "source": [
    "calibration.calibrateToolCustomPoints(tool=gr, stationary_probe=stp)"
   ]
  },
  {
   "cell_type": "code",
   "execution_count": 99,
   "metadata": {},
   "outputs": [],
   "source": [
    "ar.move(z=400)"
   ]
  },
  {
   "cell_type": "code",
   "execution_count": 123,
   "metadata": {},
   "outputs": [],
   "source": [
    "timestamp = time.time()\n",
    "for sample in sample_list:\n",
    "    col_number = sample.sample_data['x_well']\n",
    "    sample = gr.moveSample(sample, magep1, col_number, 1)"
   ]
  },
  {
   "cell_type": "code",
   "execution_count": 124,
   "metadata": {},
   "outputs": [],
   "source": [
    "gr.operateGripper(0)"
   ]
  },
  {
   "cell_type": "code",
   "execution_count": 125,
   "metadata": {},
   "outputs": [],
   "source": [
    "gr.returnTool()"
   ]
  },
  {
   "cell_type": "code",
   "execution_count": 126,
   "metadata": {},
   "outputs": [],
   "source": [
    "waitFromTimeStamp(timestamp, 2 * 60)"
   ]
  },
  {
   "cell_type": "markdown",
   "metadata": {},
   "source": [
    "## Moving liquid with desired DNA to the new set of tubes"
   ]
  },
  {
   "cell_type": "code",
   "execution_count": 127,
   "metadata": {},
   "outputs": [],
   "source": [
    "# We are using p200 again, as we are dealing with less than 200 uL at any sample\n",
    "p200 = tools.pipettor.getTool(robot=ar, tool_name='p200_tool')"
   ]
  },
  {
   "cell_type": "code",
   "execution_count": 128,
   "metadata": {},
   "outputs": [],
   "source": [
    "xt, yt, zt = calibration.calibrateTool(p200, stp)"
   ]
  },
  {
   "cell_type": "code",
   "execution_count": 129,
   "metadata": {},
   "outputs": [],
   "source": [
    "for init_sample, dest_sample in zip(sample_list, upper_cut_samples):\n",
    "    xn, yn = p200_tip_rack.getNextConsumable()\n",
    "    p200.pickUpTip(p200_tip_rack, xn, yn, raise_z=400)\n",
    "    p200.uptakeAll(init_sample)\n",
    "    p200.dispenseLiquid(dest_sample, 200, blow_extra=True)\n",
    "    dropTipToWaste(tool=p200, x_slot=5, y_slot=3, z=300)"
   ]
  },
  {
   "cell_type": "code",
   "execution_count": 130,
   "metadata": {},
   "outputs": [],
   "source": [
    "p200.returnTool()"
   ]
  },
  {
   "cell_type": "markdown",
   "metadata": {},
   "source": [
    "## Dropping empty tubes to the trash"
   ]
  },
  {
   "cell_type": "code",
   "execution_count": 131,
   "metadata": {},
   "outputs": [],
   "source": [
    "gr = tools.mobile_gripper.getTool(robot=ar)"
   ]
  },
  {
   "cell_type": "code",
   "execution_count": 132,
   "metadata": {},
   "outputs": [
    {
     "data": {
      "text/plain": [
       "(94.9, 67.2, 514.9)"
      ]
     },
     "execution_count": 132,
     "metadata": {},
     "output_type": "execute_result"
    }
   ],
   "source": [
    "calibration.calibrateToolCustomPoints(tool=gr, stationary_probe=stp)"
   ]
  },
  {
   "cell_type": "code",
   "execution_count": 135,
   "metadata": {},
   "outputs": [],
   "source": [
    "gr.gripper_has_something = False"
   ]
  },
  {
   "cell_type": "code",
   "execution_count": 136,
   "metadata": {},
   "outputs": [],
   "source": [
    "for sample in sample_list:\n",
    "    gr.grabSample(sample)\n",
    "    gr.robot.move(z=300)\n",
    "    x, y = param.calcSquareSlotCenterFromVertices(5, 3)\n",
    "    gr.robot.move(x=x, y=y)\n",
    "    gr.operateGripper(140)\n",
    "    gr.gripper_has_something = False\n",
    "    gr.operateGripper(0)"
   ]
  },
  {
   "cell_type": "code",
   "execution_count": 137,
   "metadata": {},
   "outputs": [],
   "source": [
    "gr.returnTool()"
   ]
  },
  {
   "cell_type": "markdown",
   "metadata": {},
   "source": [
    "# Removing lower cutoff DNA"
   ]
  },
  {
   "cell_type": "code",
   "execution_count": 138,
   "metadata": {},
   "outputs": [
    {
     "name": "stdout",
     "output_type": "stream",
     "text": [
      "17.832372054000004\n",
      "119.67702622400002\n",
      "97.53372854791839\n",
      "22.419943444716555\n",
      "14.464106395999998\n"
     ]
    }
   ],
   "source": [
    "# Calculating volume that needs to be added\n",
    "# upper_cutoff * star_vol - lower_cutoff * start_vol\n",
    "for vol, up_cutoff, low_cutoff in zip(vol_list, upper_cutoff_list, lower_cutoff_list):\n",
    "    upper_cutoff_vol = calcBeadsVol(vol, up_cutoff)\n",
    "    lower_cutoff_vol = calcBeadsVol(vol, low_cutoff)\n",
    "    print (lower_cutoff_vol - upper_cutoff_vol)"
   ]
  },
  {
   "cell_type": "markdown",
   "metadata": {},
   "source": [
    "## Adding more magnetic beads"
   ]
  },
  {
   "cell_type": "code",
   "execution_count": 139,
   "metadata": {},
   "outputs": [],
   "source": [
    "p200 = tools.pipettor.getTool(robot=ar, tool_name='p200_tool')"
   ]
  },
  {
   "cell_type": "code",
   "execution_count": 140,
   "metadata": {},
   "outputs": [],
   "source": [
    "xt, yt, zt = calibration.calibrateTool(p200, stp)"
   ]
  },
  {
   "cell_type": "code",
   "execution_count": 141,
   "metadata": {},
   "outputs": [],
   "source": [
    "beads_vol_list = []\n",
    "for sample, vol, up_cutoff, lower_cutoff in zip(upper_cut_samples, vol_list, upper_cutoff_list, lower_cutoff_list):\n",
    "    upcutoff_beads_vol = calcBeadsVol(vol, up_cutoff)\n",
    "    lowcutoff_beads_vol = calcBeadsVol(vol, lower_cutoff)\n",
    "    beads_vol = lowcutoff_beads_vol - upcutoff_beads_vol\n",
    "    beads_vol_list.append(beads_vol)"
   ]
  },
  {
   "cell_type": "code",
   "execution_count": 142,
   "metadata": {},
   "outputs": [
    {
     "data": {
      "text/plain": [
       "[17.832372054000004,\n",
       " 119.67702622400002,\n",
       " 97.53372854791839,\n",
       " 22.419943444716555,\n",
       " 14.464106395999998]"
      ]
     },
     "execution_count": 142,
     "metadata": {},
     "output_type": "execute_result"
    }
   ],
   "source": [
    "beads_vol_list"
   ]
  },
  {
   "cell_type": "code",
   "execution_count": 144,
   "metadata": {},
   "outputs": [],
   "source": [
    "timestamp = time.time()"
   ]
  },
  {
   "cell_type": "code",
   "execution_count": 146,
   "metadata": {},
   "outputs": [],
   "source": [
    "dropTipToWaste(tool=p200, x_slot=5, y_slot=3, z=400)"
   ]
  },
  {
   "cell_type": "code",
   "execution_count": 147,
   "metadata": {},
   "outputs": [],
   "source": [
    "fillSamplesOneByOneFromOneTube(tool=p200, tip_rack=p200_tip_rack, \n",
    "                               source=magbeads, samples_list=upper_cut_samples, \n",
    "                               vol_list=beads_vol_list, z=400)"
   ]
  },
  {
   "cell_type": "code",
   "execution_count": 148,
   "metadata": {},
   "outputs": [],
   "source": [
    "p200.returnTool()"
   ]
  },
  {
   "cell_type": "code",
   "execution_count": 149,
   "metadata": {},
   "outputs": [],
   "source": [
    "waitFromTimeStamp(timestamp, 5 * 60)"
   ]
  },
  {
   "cell_type": "markdown",
   "metadata": {},
   "source": [
    "## Moving samples to magnetic rack"
   ]
  },
  {
   "cell_type": "code",
   "execution_count": 150,
   "metadata": {},
   "outputs": [],
   "source": [
    "gr = tools.mobile_gripper.getTool(robot=ar)"
   ]
  },
  {
   "cell_type": "code",
   "execution_count": 151,
   "metadata": {},
   "outputs": [
    {
     "data": {
      "text/plain": [
       "(95.4, 67.0, 515.05)"
      ]
     },
     "execution_count": 151,
     "metadata": {},
     "output_type": "execute_result"
    }
   ],
   "source": [
    "calibration.calibrateToolCustomPoints(tool=gr, stationary_probe=stp)"
   ]
  },
  {
   "cell_type": "code",
   "execution_count": 152,
   "metadata": {},
   "outputs": [],
   "source": [
    "ar.move(z=400)"
   ]
  },
  {
   "cell_type": "code",
   "execution_count": 153,
   "metadata": {},
   "outputs": [],
   "source": [
    "timestamp = time.time()\n",
    "for sample in upper_cut_samples:\n",
    "    col_number = sample.sample_data['x_well']\n",
    "    sample = gr.moveSample(sample, magep1, col_number, 1)"
   ]
  },
  {
   "cell_type": "code",
   "execution_count": 154,
   "metadata": {},
   "outputs": [],
   "source": [
    "gr.operateGripper(0)"
   ]
  },
  {
   "cell_type": "code",
   "execution_count": 155,
   "metadata": {},
   "outputs": [],
   "source": [
    "gr.returnTool()"
   ]
  },
  {
   "cell_type": "code",
   "execution_count": 156,
   "metadata": {},
   "outputs": [],
   "source": [
    "waitFromTimeStamp(timestamp, 2 * 60)"
   ]
  },
  {
   "cell_type": "markdown",
   "metadata": {},
   "source": [
    "## Removing empty liquid from the tubes"
   ]
  },
  {
   "cell_type": "code",
   "execution_count": 159,
   "metadata": {},
   "outputs": [],
   "source": [
    "ar.home()"
   ]
  },
  {
   "cell_type": "code",
   "execution_count": 157,
   "metadata": {},
   "outputs": [],
   "source": [
    "# Total volume still should be less than 200 uL in each tube; however,\n",
    "# I am doing it with 1000 uL pipette, because ethanol wash will require that one\n",
    "p1000 = tools.pipettor.getTool(robot=ar, tool_name='p1000_tool')"
   ]
  },
  {
   "cell_type": "code",
   "execution_count": 160,
   "metadata": {},
   "outputs": [],
   "source": [
    "xt, yt, zt = calibration.calibrateTool(p1000, stp)"
   ]
  },
  {
   "cell_type": "code",
   "execution_count": 161,
   "metadata": {},
   "outputs": [],
   "source": [
    "for sample in upper_cut_samples:\n",
    "    xn, yn = p1000_tip_rack.getNextConsumable()\n",
    "    p1000.pickUpTip(p1000_tip_rack, xn, yn, raise_z=400)\n",
    "    p1000.uptakeAll(sample)\n",
    "    p1000.dispenseLiquid(waste, 1000, blow_extra=True)\n",
    "    dropTipToWaste(tool=p1000, x_slot=5, y_slot=3, z=300)"
   ]
  },
  {
   "cell_type": "markdown",
   "metadata": {},
   "source": [
    "## Performing 1st ethanol wash"
   ]
  },
  {
   "cell_type": "code",
   "execution_count": 162,
   "metadata": {},
   "outputs": [],
   "source": [
    "# Putting ethanol to the samples\n",
    "xn, yn = p1000_tip_rack.getNextConsumable()\n",
    "p1000.pickUpTip(p1000_tip_rack, xn, yn, raise_z=400)\n",
    "ethanol_vol_list = [200 for x in sample_list]\n",
    "timestamp = time.time()\n",
    "p1000.distributeLiquid(ethanol, upper_cut_samples, ethanol_vol_list, raise_z=300)\n",
    "dropTipToWaste(tool=p1000, x_slot=5, y_slot=3, z=300)"
   ]
  },
  {
   "cell_type": "code",
   "execution_count": null,
   "metadata": {},
   "outputs": [],
   "source": [
    "waitFromTimeStamp(timestamp, 30)"
   ]
  },
  {
   "cell_type": "code",
   "execution_count": 164,
   "metadata": {},
   "outputs": [],
   "source": [
    "dropTipToWaste(tool=p1000, x_slot=5, y_slot=3, z=300)"
   ]
  },
  {
   "cell_type": "code",
   "execution_count": 165,
   "metadata": {},
   "outputs": [],
   "source": [
    "# Removing ethanol from the tubes\n",
    "for sample in upper_cut_samples:\n",
    "    xn, yn = p1000_tip_rack.getNextConsumable()\n",
    "    p1000.pickUpTip(p1000_tip_rack, xn, yn, raise_z=400)\n",
    "    p1000.uptakeAll(sample, volume=400, immerse_levels_list=[20, 0], uptake_delay=0.5)\n",
    "    p1000.dispenseLiquid(waste, 1000, blow_extra=True)\n",
    "    dropTipToWaste(tool=p1000, x_slot=5, y_slot=3, z=300)"
   ]
  },
  {
   "cell_type": "markdown",
   "metadata": {},
   "source": [
    "## Performing second ethanol wash"
   ]
  },
  {
   "cell_type": "code",
   "execution_count": 166,
   "metadata": {},
   "outputs": [],
   "source": [
    "# Putting ethanol to the samples\n",
    "xn, yn = p1000_tip_rack.getNextConsumable()\n",
    "p1000.pickUpTip(p1000_tip_rack, xn, yn, raise_z=400)\n",
    "ethanol_vol_list = [200 for x in sample_list]\n",
    "timestamp = time.time()\n",
    "p1000.distributeLiquid(ethanol, upper_cut_samples, ethanol_vol_list, raise_z=300)\n",
    "dropTipToWaste(tool=p1000, x_slot=5, y_slot=3, z=300)"
   ]
  },
  {
   "cell_type": "code",
   "execution_count": null,
   "metadata": {},
   "outputs": [],
   "source": [
    "waitFromTimeStamp(timestamp, 30)"
   ]
  },
  {
   "cell_type": "code",
   "execution_count": 168,
   "metadata": {},
   "outputs": [],
   "source": [
    "# Removing ethanol from the tubes\n",
    "for sample in upper_cut_samples:\n",
    "    xn, yn = p1000_tip_rack.getNextConsumable()\n",
    "    p1000.pickUpTip(p1000_tip_rack, xn, yn, raise_z=400)\n",
    "    p1000.uptakeAll(sample, volume=400, immerse_levels_list=[20, 0], uptake_delay=0.5)\n",
    "    p1000.dispenseLiquid(waste, 1000, blow_extra=True)\n",
    "    dropTipToWaste(tool=p1000, x_slot=5, y_slot=3, z=300)"
   ]
  },
  {
   "cell_type": "code",
   "execution_count": 169,
   "metadata": {},
   "outputs": [],
   "source": [
    "p1000.returnTool()"
   ]
  },
  {
   "cell_type": "code",
   "execution_count": 170,
   "metadata": {},
   "outputs": [],
   "source": [
    "# Uptaking the remaining ethanol from the tubes\n",
    "p20 = tools.pipettor.getTool(robot=ar, tool_name='p20_tool')"
   ]
  },
  {
   "cell_type": "code",
   "execution_count": 171,
   "metadata": {},
   "outputs": [],
   "source": [
    "xt, yt, zt = calibration.calibrateTool(p20, stp)"
   ]
  },
  {
   "cell_type": "code",
   "execution_count": 172,
   "metadata": {},
   "outputs": [],
   "source": [
    "for sample in upper_cut_samples:\n",
    "    xn, yn = p20_tip_rack.getNextConsumable()\n",
    "    p20.pickUpTip(p20_tip_rack, xn, yn, raise_z=300)\n",
    "    p20.uptakeAll(sample, volume=10, immerse_levels_list=[20, 0], uptake_delay=0.5)\n",
    "    p20.dispenseLiquid(waste, 20, blow_extra=True)\n",
    "    dropTipToWaste(tool=p20, x_slot=5, y_slot=3, z=300)"
   ]
  },
  {
   "cell_type": "code",
   "execution_count": null,
   "metadata": {},
   "outputs": [],
   "source": [
    "timestamp = time.time()"
   ]
  },
  {
   "cell_type": "code",
   "execution_count": 173,
   "metadata": {},
   "outputs": [],
   "source": [
    "p20.returnTool()"
   ]
  },
  {
   "cell_type": "markdown",
   "metadata": {},
   "source": [
    "## Moving tubes back to normal rack"
   ]
  },
  {
   "cell_type": "code",
   "execution_count": 174,
   "metadata": {},
   "outputs": [],
   "source": [
    "gr = tools.mobile_gripper.getTool(robot=ar)"
   ]
  },
  {
   "cell_type": "code",
   "execution_count": 175,
   "metadata": {},
   "outputs": [
    {
     "data": {
      "text/plain": [
       "(94.75, 66.9, 515.05)"
      ]
     },
     "execution_count": 175,
     "metadata": {},
     "output_type": "execute_result"
    }
   ],
   "source": [
    "calibration.calibrateToolCustomPoints(tool=gr, stationary_probe=stp)"
   ]
  },
  {
   "cell_type": "code",
   "execution_count": 176,
   "metadata": {},
   "outputs": [],
   "source": [
    "ar.move(z=400)"
   ]
  },
  {
   "cell_type": "code",
   "execution_count": 177,
   "metadata": {},
   "outputs": [],
   "source": [
    "timestamp = time.time()\n",
    "for sample in upper_cut_samples:\n",
    "    col_number = sample.sample_data['x_well']\n",
    "    sample = gr.moveSample(sample, ep1, col_number, 3)"
   ]
  },
  {
   "cell_type": "code",
   "execution_count": 178,
   "metadata": {},
   "outputs": [],
   "source": [
    "gr.operateGripper(0)"
   ]
  },
  {
   "cell_type": "code",
   "execution_count": 179,
   "metadata": {},
   "outputs": [],
   "source": [
    "gr.returnTool()"
   ]
  },
  {
   "cell_type": "markdown",
   "metadata": {},
   "source": [
    "# Eluting DNA from beads"
   ]
  },
  {
   "cell_type": "code",
   "execution_count": 180,
   "metadata": {},
   "outputs": [],
   "source": [
    "# Here I must release liquid directly onto the beads pellet\n",
    "# I make a new function to do that"
   ]
  },
  {
   "cell_type": "code",
   "execution_count": 182,
   "metadata": {},
   "outputs": [],
   "source": [
    "def dispenceLiquidWithXYShift(tool, sample, volume, dx=0, dy=0,\n",
    "                              release_delay=0, immerse_volume=None, plunger_retract=True, blow_extra=True):\n",
    "    \"\"\"\n",
    "    Allows to dispence liquid to a sample while specifying shift from the center\n",
    "    \"\"\"\n",
    "    # Getting to the center of the sample\n",
    "    tool.getToSample(sample=sample)\n",
    "    # Shifting relative to the center\n",
    "    tool.robot.moveAxisDelta(axis='x', value=dx)\n",
    "    tool.robot.moveAxisDelta(axis='y', value=dy)\n",
    "    # Finding sample's maximum volume\n",
    "    max_vol = sample.getMaxVolume()\n",
    "    # Lowering tip into the tube\n",
    "    # But first checking if the depth to immerse is specified\n",
    "    # TODO: add also heigth to immerse, and % of tube height\n",
    "    if immerse_volume is None:\n",
    "        immerse_vol_fraction = max_vol * 0.1\n",
    "        # Currently tip will be immersed to 10% of the volume\n",
    "        # TODO: make it so user can specify percent themselves.\n",
    "        immerse_volume = max_vol - immerse_vol_fraction\n",
    "    # Actually lowering tip\n",
    "    z_immerse = sample.sampleVolToZ(volume=immerse_volume, tool=tool)\n",
    "    tool.robot.move(z=z_immerse)\n",
    "    # Actually dispensing the liquid\n",
    "    tool.movePlungerToVol(volume)\n",
    "    # Updating volume amount in the tube\n",
    "    old_sample_vol = sample.getVolume()\n",
    "    new_sample_vol = old_sample_vol + volume\n",
    "    sample.setVolume(new_sample_vol)\n",
    "    # Not lifting the tip, in case you need to touch the wall or liquid,\n",
    "    # or pipette up and down.\n",
    "    # If requested, returning plunger back to 0.\n",
    "    # Some cases may require not retracting plunger, such as serial_device\n",
    "    # filling of many tubes with one liquid\n",
    "    if blow_extra:\n",
    "        tool.movePlunger(-40)\n",
    "    if plunger_retract:\n",
    "        # Now lifting the tip, if plunger retraction was chosen\n",
    "        z_retract = sample.sampleVolToZ(volume=max_vol + max_vol * 0.2, tool=tool)\n",
    "        tool.robot.move(z=z_retract)\n",
    "        tool.movePlungerToVol(0)"
   ]
  },
  {
   "cell_type": "code",
   "execution_count": 183,
   "metadata": {},
   "outputs": [],
   "source": [
    "p20 = tools.pipettor.getTool(robot=ar, tool_name='p20_tool')"
   ]
  },
  {
   "cell_type": "code",
   "execution_count": 184,
   "metadata": {},
   "outputs": [],
   "source": [
    "xt, yt, zt = calibration.calibrateTool(p20, stp)"
   ]
  },
  {
   "cell_type": "code",
   "execution_count": 185,
   "metadata": {},
   "outputs": [],
   "source": [
    "ar.move(z=400)"
   ]
  },
  {
   "cell_type": "code",
   "execution_count": null,
   "metadata": {},
   "outputs": [],
   "source": [
    "waitFromTimeStamp(timestamp, 5 * 60)"
   ]
  },
  {
   "cell_type": "code",
   "execution_count": 186,
   "metadata": {},
   "outputs": [],
   "source": [
    "elution_vol_list = [20 for x in sample_list]"
   ]
  },
  {
   "cell_type": "code",
   "execution_count": 187,
   "metadata": {},
   "outputs": [
    {
     "name": "stderr",
     "output_type": "stream",
     "text": [
      "WARNING:root:moveAxis: Attempted to move carriage to the new position along the axis Z\n",
      "WARNING:root:moveAxis: Z=420.1 with speed 3000\n",
      "WARNING:root:moveAxis: G-code command generated: G0 Z420.1 F3000\n",
      "WARNING:root:moveAxis: However, something went wrong, command aborted.\n",
      "WARNING:root:moveXY: Attempted to move carriage to the new position with coordinates:\n",
      "WARNING:root:moveXY: X=835.095, Y=397.35 with speed 8000\n",
      "WARNING:root:moveXY: G-code command generated: G0 X835.095 Y397.35 F8000\n",
      "WARNING:root:moveXY: However, something went wrong, command aborted.\n"
     ]
    },
    {
     "ename": "KeyboardInterrupt",
     "evalue": "",
     "output_type": "error",
     "traceback": [
      "\u001b[1;31m---------------------------------------------------------------------------\u001b[0m",
      "\u001b[1;31mKeyboardInterrupt\u001b[0m                         Traceback (most recent call last)",
      "\u001b[1;32m<ipython-input-187-d902c7dc857c>\u001b[0m in \u001b[0;36m<module>\u001b[1;34m\u001b[0m\n\u001b[0;32m     14\u001b[0m     \u001b[0mdispenceLiquidWithXYShift\u001b[0m\u001b[1;33m(\u001b[0m\u001b[0mp20\u001b[0m\u001b[1;33m,\u001b[0m \u001b[0msample\u001b[0m\u001b[1;33m,\u001b[0m \u001b[1;36m15\u001b[0m\u001b[1;33m,\u001b[0m \u001b[0mdy\u001b[0m\u001b[1;33m=\u001b[0m\u001b[1;33m-\u001b[0m\u001b[1;36m5\u001b[0m\u001b[1;33m,\u001b[0m \u001b[0mimmerse_volume\u001b[0m\u001b[1;33m=\u001b[0m\u001b[1;36m1000\u001b[0m\u001b[1;33m)\u001b[0m\u001b[1;33m\u001b[0m\u001b[1;33m\u001b[0m\u001b[0m\n\u001b[0;32m     15\u001b[0m \u001b[1;33m\u001b[0m\u001b[0m\n\u001b[1;32m---> 16\u001b[1;33m     \u001b[0mdropTipToWaste\u001b[0m\u001b[1;33m(\u001b[0m\u001b[0mtool\u001b[0m\u001b[1;33m=\u001b[0m\u001b[0mp20\u001b[0m\u001b[1;33m,\u001b[0m \u001b[0mx_slot\u001b[0m\u001b[1;33m=\u001b[0m\u001b[1;36m5\u001b[0m\u001b[1;33m,\u001b[0m \u001b[0my_slot\u001b[0m\u001b[1;33m=\u001b[0m\u001b[1;36m3\u001b[0m\u001b[1;33m,\u001b[0m \u001b[0mz\u001b[0m\u001b[1;33m=\u001b[0m\u001b[1;36m300\u001b[0m\u001b[1;33m)\u001b[0m\u001b[1;33m\u001b[0m\u001b[1;33m\u001b[0m\u001b[0m\n\u001b[0m",
      "\u001b[1;32m<ipython-input-4-157fb3d12412>\u001b[0m in \u001b[0;36mdropTipToWaste\u001b[1;34m(tool, x_slot, y_slot, z)\u001b[0m\n\u001b[0;32m      3\u001b[0m     \u001b[0mx\u001b[0m\u001b[1;33m,\u001b[0m \u001b[0my\u001b[0m \u001b[1;33m=\u001b[0m \u001b[0mparam\u001b[0m\u001b[1;33m.\u001b[0m\u001b[0mcalcSquareSlotCenterFromVertices\u001b[0m\u001b[1;33m(\u001b[0m\u001b[0mx_slot\u001b[0m\u001b[1;33m,\u001b[0m \u001b[0my_slot\u001b[0m\u001b[1;33m)\u001b[0m\u001b[1;33m\u001b[0m\u001b[1;33m\u001b[0m\u001b[0m\n\u001b[0;32m      4\u001b[0m     \u001b[0mtool\u001b[0m\u001b[1;33m.\u001b[0m\u001b[0mrobot\u001b[0m\u001b[1;33m.\u001b[0m\u001b[0mmove\u001b[0m\u001b[1;33m(\u001b[0m\u001b[0mx\u001b[0m\u001b[1;33m=\u001b[0m\u001b[0mx\u001b[0m\u001b[1;33m,\u001b[0m \u001b[0my\u001b[0m\u001b[1;33m=\u001b[0m\u001b[0my\u001b[0m\u001b[1;33m)\u001b[0m\u001b[1;33m\u001b[0m\u001b[1;33m\u001b[0m\u001b[0m\n\u001b[1;32m----> 5\u001b[1;33m     \u001b[0mtool\u001b[0m\u001b[1;33m.\u001b[0m\u001b[0mdropTip\u001b[0m\u001b[1;33m(\u001b[0m\u001b[1;33m)\u001b[0m\u001b[1;33m\u001b[0m\u001b[1;33m\u001b[0m\u001b[0m\n\u001b[0m",
      "\u001b[1;32mc:\\Users\\sergi\\Dropbox\\workspace\\arnielib\\tools.py\u001b[0m in \u001b[0;36mdropTip\u001b[1;34m(self, plunger_lower, plunger_raise)\u001b[0m\n\u001b[0;32m    594\u001b[0m         \u001b[0mself\u001b[0m\u001b[1;33m.\u001b[0m\u001b[0mswitchModeToNormal\u001b[0m\u001b[1;33m(\u001b[0m\u001b[1;33m)\u001b[0m\u001b[1;33m\u001b[0m\u001b[1;33m\u001b[0m\u001b[0m\n\u001b[0;32m    595\u001b[0m         \u001b[0mself\u001b[0m\u001b[1;33m.\u001b[0m\u001b[0mswitchModeToDropTip\u001b[0m\u001b[1;33m(\u001b[0m\u001b[1;33m)\u001b[0m   \u001b[1;31m# Lowering the servo lever\u001b[0m\u001b[1;33m\u001b[0m\u001b[1;33m\u001b[0m\u001b[0m\n\u001b[1;32m--> 596\u001b[1;33m         \u001b[0mself\u001b[0m\u001b[1;33m.\u001b[0m\u001b[0mmovePlunger\u001b[0m\u001b[1;33m(\u001b[0m\u001b[0mplunger_lower\u001b[0m\u001b[1;33m)\u001b[0m\u001b[1;33m\u001b[0m\u001b[1;33m\u001b[0m\u001b[0m\n\u001b[0m\u001b[0;32m    597\u001b[0m         \u001b[0mself\u001b[0m\u001b[1;33m.\u001b[0m\u001b[0mtip_attached\u001b[0m \u001b[1;33m=\u001b[0m \u001b[1;32mFalse\u001b[0m\u001b[1;33m\u001b[0m\u001b[1;33m\u001b[0m\u001b[0m\n\u001b[0;32m    598\u001b[0m         \u001b[0mself\u001b[0m\u001b[1;33m.\u001b[0m\u001b[0mmovePlunger\u001b[0m\u001b[1;33m(\u001b[0m\u001b[0mplunger_raise\u001b[0m\u001b[1;33m)\u001b[0m\u001b[1;33m\u001b[0m\u001b[1;33m\u001b[0m\u001b[0m\n",
      "\u001b[1;32mc:\\Users\\sergi\\Dropbox\\workspace\\arnielib\\tools.py\u001b[0m in \u001b[0;36mmovePlunger\u001b[1;34m(self, level)\u001b[0m\n\u001b[0;32m    614\u001b[0m \u001b[1;33m\u001b[0m\u001b[0m\n\u001b[0;32m    615\u001b[0m     \u001b[1;32mdef\u001b[0m \u001b[0mmovePlunger\u001b[0m\u001b[1;33m(\u001b[0m\u001b[0mself\u001b[0m\u001b[1;33m,\u001b[0m \u001b[0mlevel\u001b[0m\u001b[1;33m)\u001b[0m\u001b[1;33m:\u001b[0m\u001b[1;33m\u001b[0m\u001b[1;33m\u001b[0m\u001b[0m\n\u001b[1;32m--> 616\u001b[1;33m         \u001b[0mself\u001b[0m\u001b[1;33m.\u001b[0m\u001b[0msendCmdToPipette\u001b[0m\u001b[1;33m(\u001b[0m\u001b[1;34m\"G0 X\"\u001b[0m\u001b[1;33m+\u001b[0m\u001b[0mstr\u001b[0m\u001b[1;33m(\u001b[0m\u001b[0mlevel\u001b[0m\u001b[1;33m)\u001b[0m\u001b[1;33m)\u001b[0m\u001b[1;33m\u001b[0m\u001b[1;33m\u001b[0m\u001b[0m\n\u001b[0m\u001b[0;32m    617\u001b[0m \u001b[1;33m\u001b[0m\u001b[0m\n\u001b[0;32m    618\u001b[0m \u001b[1;33m\u001b[0m\u001b[0m\n",
      "\u001b[1;32mc:\\Users\\sergi\\Dropbox\\workspace\\arnielib\\tools.py\u001b[0m in \u001b[0;36msendCmdToPipette\u001b[1;34m(self, expression, confirm_message, eol)\u001b[0m\n\u001b[0;32m    526\u001b[0m         \u001b[0mfull_message\u001b[0m \u001b[1;33m=\u001b[0m \u001b[1;34m\"\"\u001b[0m\u001b[1;33m\u001b[0m\u001b[1;33m\u001b[0m\u001b[0m\n\u001b[0;32m    527\u001b[0m         \u001b[1;32mwhile\u001b[0m \u001b[1;32mTrue\u001b[0m\u001b[1;33m:\u001b[0m\u001b[1;33m\u001b[0m\u001b[1;33m\u001b[0m\u001b[0m\n\u001b[1;32m--> 528\u001b[1;33m             \u001b[0mmessage\u001b[0m \u001b[1;33m=\u001b[0m \u001b[0mself\u001b[0m\u001b[1;33m.\u001b[0m\u001b[0mreadAll\u001b[0m\u001b[1;33m(\u001b[0m\u001b[1;33m)\u001b[0m\u001b[1;33m\u001b[0m\u001b[1;33m\u001b[0m\u001b[0m\n\u001b[0m\u001b[0;32m    529\u001b[0m \u001b[1;31m#            if message_level == \"verbose\":\u001b[0m\u001b[1;33m\u001b[0m\u001b[1;33m\u001b[0m\u001b[1;33m\u001b[0m\u001b[0m\n\u001b[0;32m    530\u001b[0m \u001b[1;31m#                print(message)\u001b[0m\u001b[1;33m\u001b[0m\u001b[1;33m\u001b[0m\u001b[1;33m\u001b[0m\u001b[0m\n",
      "\u001b[1;32mc:\\Users\\sergi\\Dropbox\\workspace\\arnielib\\low_level_comm.py\u001b[0m in \u001b[0;36mreadAll\u001b[1;34m(self, delay)\u001b[0m\n\u001b[0;32m    201\u001b[0m         \"\"\"\n\u001b[0;32m    202\u001b[0m         \u001b[1;31m# Give time for device to respond\u001b[0m\u001b[1;33m\u001b[0m\u001b[1;33m\u001b[0m\u001b[1;33m\u001b[0m\u001b[0m\n\u001b[1;32m--> 203\u001b[1;33m         \u001b[0mtime\u001b[0m\u001b[1;33m.\u001b[0m\u001b[0msleep\u001b[0m\u001b[1;33m(\u001b[0m\u001b[0mdelay\u001b[0m\u001b[1;33m)\u001b[0m\u001b[1;33m\u001b[0m\u001b[1;33m\u001b[0m\u001b[0m\n\u001b[0m\u001b[0;32m    204\u001b[0m         \u001b[1;31m# Wait forever for device to return something\u001b[0m\u001b[1;33m\u001b[0m\u001b[1;33m\u001b[0m\u001b[1;33m\u001b[0m\u001b[0m\n\u001b[0;32m    205\u001b[0m         \u001b[0mmessage\u001b[0m\u001b[1;33m=\u001b[0m\u001b[0mself\u001b[0m\u001b[1;33m.\u001b[0m\u001b[0m_read\u001b[0m\u001b[1;33m(\u001b[0m\u001b[1;33m)\u001b[0m\u001b[1;33m\u001b[0m\u001b[1;33m\u001b[0m\u001b[0m\n",
      "\u001b[1;31mKeyboardInterrupt\u001b[0m: "
     ]
    }
   ],
   "source": [
    "timestamp = time.time()\n",
    "for sample, vol in zip(upper_cut_samples, elution_vol_list):\n",
    "    xn, yn = p20_tip_rack.getNextConsumable()\n",
    "    p20.pickUpTip(p20_tip_rack, xn, yn, raise_z=400)\n",
    "    p20.uptakeLiquid(water, vol)\n",
    "    dispenceLiquidWithXYShift(p20, sample, vol, dy=-5, immerse_volume=1000)\n",
    "    # Repeatedly washing the bead pellet from the wall\n",
    "    # Repeat as needed\n",
    "    p20.uptakeLiquid(sample, 15, uptake_delay=1)\n",
    "    dispenceLiquidWithXYShift(p20, sample, 15, dy=-5, immerse_volume=1000)\n",
    "    p20.uptakeLiquid(sample, 15, uptake_delay=1)\n",
    "    dispenceLiquidWithXYShift(p20, sample, 15, dy=-5, immerse_volume=1000)\n",
    "    p20.uptakeLiquid(sample, 15, uptake_delay=1)\n",
    "    dispenceLiquidWithXYShift(p20, sample, 15, dy=-5, immerse_volume=1000)\n",
    "    \n",
    "    dropTipToWaste(tool=p20, x_slot=5, y_slot=3, z=300)"
   ]
  },
  {
   "cell_type": "code",
   "execution_count": 188,
   "metadata": {},
   "outputs": [],
   "source": [
    "p20.home()"
   ]
  },
  {
   "cell_type": "code",
   "execution_count": 189,
   "metadata": {},
   "outputs": [],
   "source": [
    "p20.returnTool()"
   ]
  },
  {
   "cell_type": "markdown",
   "metadata": {},
   "source": [
    "## Moving tubes back to magnetic rack"
   ]
  },
  {
   "cell_type": "code",
   "execution_count": null,
   "metadata": {},
   "outputs": [],
   "source": [
    "gr = tools.mobile_gripper.getTool(robot=ar)"
   ]
  },
  {
   "cell_type": "code",
   "execution_count": null,
   "metadata": {},
   "outputs": [],
   "source": [
    "calibration.calibrateToolCustomPoints(tool=gr, stationary_probe=stp)"
   ]
  },
  {
   "cell_type": "code",
   "execution_count": null,
   "metadata": {},
   "outputs": [],
   "source": [
    "ar.move(z=400)"
   ]
  },
  {
   "cell_type": "code",
   "execution_count": null,
   "metadata": {},
   "outputs": [],
   "source": [
    "waitFromTimeStamp(timestamp, 5 * 60)"
   ]
  },
  {
   "cell_type": "code",
   "execution_count": null,
   "metadata": {},
   "outputs": [],
   "source": [
    "timestamp = time.time()\n",
    "for sample in sample_list:\n",
    "    col_number = sample.sample_data['x_well']\n",
    "    sample = gr.moveSample(sample, ep1, col_number, 3)"
   ]
  },
  {
   "cell_type": "code",
   "execution_count": null,
   "metadata": {},
   "outputs": [],
   "source": [
    "gr.returnTool()"
   ]
  },
  {
   "cell_type": "markdown",
   "metadata": {},
   "source": [
    "## Transferring liquid with eluted DNA to empty tubes"
   ]
  },
  {
   "cell_type": "code",
   "execution_count": null,
   "metadata": {},
   "outputs": [],
   "source": [
    "p20 = tools.pipettor.getTool(robot=ar, tool_name='p20_tool')"
   ]
  },
  {
   "cell_type": "code",
   "execution_count": null,
   "metadata": {},
   "outputs": [],
   "source": [
    "xt, yt, zt = calibration.calibrateTool(p20, stp)"
   ]
  },
  {
   "cell_type": "code",
   "execution_count": null,
   "metadata": {},
   "outputs": [],
   "source": [
    "ar.move(z=300)"
   ]
  },
  {
   "cell_type": "code",
   "execution_count": null,
   "metadata": {},
   "outputs": [],
   "source": [
    "waitFromTimeStamp(timestamp, 2 * 60)"
   ]
  },
  {
   "cell_type": "markdown",
   "metadata": {},
   "source": [
    "for eluted_sample, result_sample in zip(upper_cut_samples, result_samples):\n",
    "    xn, yn = p20_tip_rack.getNextConsumable()\n",
    "    p20.pickUpTip(p20_tip_rack, xn, yn, raise_z=300)\n",
    "    p20.uptakeAll(eluted_sample)\n",
    "    p20.dispenseLiquid(result_sample, 20, blow_extra=True)\n",
    "    # Repeating so we do not miss anything\n",
    "    p20.uptakeAll(eluted_sample)\n",
    "    p20.dispenseLiquid(result_sample, 20, blow_extra=True)\n",
    "    \n",
    "    dropTipToWaste(tool=p20, x_slot=5, y_slot=3, z=300)"
   ]
  },
  {
   "cell_type": "code",
   "execution_count": 190,
   "metadata": {},
   "outputs": [],
   "source": [
    "ar.home()"
   ]
  },
  {
   "cell_type": "code",
   "execution_count": null,
   "metadata": {},
   "outputs": [],
   "source": []
  }
 ],
 "metadata": {
  "kernelspec": {
   "display_name": "Python 3",
   "language": "python",
   "name": "python3"
  },
  "language_info": {
   "codemirror_mode": {
    "name": "ipython",
    "version": 3
   },
   "file_extension": ".py",
   "mimetype": "text/x-python",
   "name": "python",
   "nbconvert_exporter": "python",
   "pygments_lexer": "ipython3",
   "version": "3.7.4"
  }
 },
 "nbformat": 4,
 "nbformat_minor": 2
}
