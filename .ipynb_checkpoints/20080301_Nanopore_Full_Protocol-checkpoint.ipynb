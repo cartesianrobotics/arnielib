{
 "cells": [
  {
   "cell_type": "code",
   "execution_count": 1,
   "metadata": {},
   "outputs": [],
   "source": [
    "import tools\n",
    "import cartesian\n",
    "import racks\n",
    "import calibration\n",
    "import samples\n",
    "import time\n",
    "import low_level_comm as llc\n",
    "import numpy as np"
   ]
  },
  {
   "cell_type": "markdown",
   "metadata": {},
   "source": [
    "The protocol:\n",
    "\n",
    "1. Pipette 2 mL of Wash buffer into MinION from 50 mL tube\n",
    "2. Wait 5 minutes (will skip that for testing)\n",
    "3. Pipette 2 mL of Wash buffer out of MinION into the 50 mL waste tube\n",
    "4. Pipette 1 mL of wash buffer into MinION from 50 mL tube\n",
    "5. Pipette 1 mL of Wash buffer out of MinION into the 50 mL waste tube\n",
    "6. Pipette 100 uL of media from a well of 96 well plate into a fresh 1.5 mL tube\n",
    "7. Pipette 300 uL of running buffer from 50 mL tube into the 1.5 mL tube from step 6.\n",
    "8. Mix (pipette up and down)\n",
    "9. Load 350 uL of sample from the 1.5 mL tube into the MinION\n",
    "10. Wait 10 minutes\n",
    "11. Pipette 1 mL of liquid from MinION into the 50 mL waste tube"
   ]
  },
  {
   "cell_type": "markdown",
   "metadata": {},
   "source": [
    "Extended protocol:\n",
    "\n",
    "Preparation for experiment\n",
    "1. Get touch probe\n",
    "2. Calibrate racks:\n",
    "    * stalagmyte\n",
    "    * p1000 tips\n",
    "    * eppendorf rack\n",
    "    * 96 wells rack\n",
    "    * 50 mL rack\n",
    "    * MinION\n",
    "3. Return touch probe\n",
    "4. /manual/ Place plates and tubes into the rack\n",
    "5. Get p1000\n",
    "6. Calibrate p1000 against stalagmyte\n",
    "7. Get a tip\n",
    "8. Calibrate p1000 with the tip\n",
    "9. Discard the tip\n",
    "10. Get a new tip\n",
    "11. Transfer 300 uL from running_buffer to all 1.5 mL tubes (in a cycle)\n",
    "\n",
    "Cycle 1\n",
    "1. Transfer 1 mL from Wash to Inlet\n",
    "2. Transfer 1 mL from Wash to Inlet\n",
    "3. Delay 5 minutes\n",
    "4. Transfer 1 mL from Outlet to Waste\n",
    "5. Transfer 1 mL from Outlet to Waste\n",
    "6. Transfer 1 mL from Wash to Inlet\n",
    "7. Transfer 1 mL from Outlet to Waste\n",
    "8. Discard the tip\n",
    "9. Get a new tip\n",
    "9. Transfer 100 uL from well_1 to eppendorf_1\n",
    "10. Pipette up and down several times\n",
    "11. Transfer 350 uL from eppendorf_1 to inlet\n",
    "12. Delay 10 minutes\n",
    "13. Transfer 1 mL from Outlet to Waste"
   ]
  },
  {
   "cell_type": "markdown",
   "metadata": {},
   "source": [
    "Tubes and samples required:\n",
    "* 50 mL tube with Wash buffer\n",
    "* 50 mL tube with Running buffer\n",
    "* 50 mL tube for liquid waste\n",
    "* 1.5 mL tubes, x96\n",
    "* 96 wells plate with media (will substitute with PCR plate here)\n",
    "* MinION cartridge\n",
    "\n",
    "Tools:\n",
    "* 1000 uL pipette\n",
    "* p1000 tips (currently 1 per cycle + 2 initially)"
   ]
  },
  {
   "cell_type": "markdown",
   "metadata": {},
   "source": [
    "# Initializing robot\n",
    "\n",
    "Creates object to communicate with the physical robot and its stationary instruments (such as a stationary touch probe), then finds zero coordinates for X, Y and Z"
   ]
  },
  {
   "cell_type": "code",
   "execution_count": 3,
   "metadata": {},
   "outputs": [],
   "source": [
    "ar = cartesian.arnie(cartesian_port=\"COM10\", docker_port=\"COM6\")"
   ]
  },
  {
   "cell_type": "code",
   "execution_count": 4,
   "metadata": {},
   "outputs": [],
   "source": [
    "ar.home()"
   ]
  },
  {
   "cell_type": "code",
   "execution_count": 5,
   "metadata": {},
   "outputs": [
    {
     "name": "stderr",
     "output_type": "stream",
     "text": [
      "ERROR:root:matchPortsWithDevices(): could not execute finiding device in list.\n",
      "ERROR:root:matchPortsWithDevices(): Provided patterns_list: ['stationary touch probe']\n",
      "ERROR:root:None\n"
     ]
    }
   ],
   "source": [
    "stp = tools.stationary_touch_probe(ar)"
   ]
  },
  {
   "cell_type": "markdown",
   "metadata": {},
   "source": [
    "# Initializing racks for the protocol\n",
    "\n",
    "Lets the robot know what racks are to be used in the protocols"
   ]
  },
  {
   "cell_type": "code",
   "execution_count": 6,
   "metadata": {},
   "outputs": [],
   "source": [
    "p1000_tip_rack = racks.consumables(rack_name='p1000_tips_1', rack_type='p1000_tips')\n",
    "waste_rack = racks.rack(rack_name='waste', rack_type='waste_rack')\n",
    "minion = racks.rack(rack_name='minion-1', rack_type='minion', x_slot=4, y_slot=3)\n",
    "r50 = racks.rack(rack_name='50mL_rack_1', rack_type='50mL')\n",
    "eppendorf_rack = racks.rack(rack_name='eppendorf_1', rack_type='eppendorf')\n",
    "rack96well = racks.rack(rack_name='96well_rack', rack_type='96wells_rack')"
   ]
  },
  {
   "cell_type": "code",
   "execution_count": 27,
   "metadata": {},
   "outputs": [],
   "source": [
    "# Starting experiment with a p1000 rack filled with tips\n",
    "#p1000_tip_rack.replaceConsumables()"
   ]
  },
  {
   "cell_type": "code",
   "execution_count": 7,
   "metadata": {},
   "outputs": [
    {
     "data": {
      "text/plain": [
       "93"
      ]
     },
     "execution_count": 7,
     "metadata": {},
     "output_type": "execute_result"
    }
   ],
   "source": [
    "len(p1000_tip_rack.getReadyItemsList())"
   ]
  },
  {
   "cell_type": "markdown",
   "metadata": {},
   "source": [
    "# Calibrating racks\n",
    "\n",
    "Finds where those racks are physically located, with 0.05 mm resolution."
   ]
  },
  {
   "cell_type": "code",
   "execution_count": 6,
   "metadata": {},
   "outputs": [],
   "source": [
    "# Picks up a mobile touch probe\n",
    "tp = tools.mobile_touch_probe.getTool(ar)"
   ]
  },
  {
   "cell_type": "markdown",
   "metadata": {},
   "source": [
    "## Calibrates mobile touch probe against stationary touch probe"
   ]
  },
  {
   "cell_type": "code",
   "execution_count": 7,
   "metadata": {},
   "outputs": [
    {
     "data": {
      "text/plain": [
       "(96.5, 66.44999999999999, 424.75)"
      ]
     },
     "execution_count": 7,
     "metadata": {},
     "output_type": "execute_result"
    }
   ],
   "source": [
    "# Touches the mobile probe against stationary probe, to find their common center coordinates\n",
    "# Those will be used to calculate positions where to move a pipettor or another tool.\n",
    "calibration.calibrateStationaryProbe(tp, stp)"
   ]
  },
  {
   "cell_type": "markdown",
   "metadata": {},
   "source": [
    "## Calibrates the racks that will be used in the protocol\n",
    "\n",
    "Except of the waste rack, as it does not require a precize coordinates"
   ]
  },
  {
   "cell_type": "code",
   "execution_count": 8,
   "metadata": {},
   "outputs": [],
   "source": [
    "xr, yr, zr = calibration.calibrateRack(tp, p1000_tip_rack)"
   ]
  },
  {
   "cell_type": "code",
   "execution_count": 9,
   "metadata": {},
   "outputs": [],
   "source": [
    "ar.move(z=450)"
   ]
  },
  {
   "cell_type": "code",
   "execution_count": 14,
   "metadata": {},
   "outputs": [],
   "source": [
    "xr, yr, zr = calibration.calibrateRack(tp, eppendorf_rack)"
   ]
  },
  {
   "cell_type": "code",
   "execution_count": 15,
   "metadata": {},
   "outputs": [],
   "source": [
    "xr, yr, zr = calibration.calibrateRack(tp, rack96well)"
   ]
  },
  {
   "cell_type": "code",
   "execution_count": 16,
   "metadata": {},
   "outputs": [],
   "source": [
    "ar.move(z=450)"
   ]
  },
  {
   "cell_type": "code",
   "execution_count": 17,
   "metadata": {},
   "outputs": [],
   "source": [
    "xr, yr, zr = calibration.calibrateRack(tp, r50)"
   ]
  },
  {
   "cell_type": "code",
   "execution_count": 20,
   "metadata": {},
   "outputs": [],
   "source": [
    "ar.move(z=450)"
   ]
  },
  {
   "cell_type": "code",
   "execution_count": 12,
   "metadata": {},
   "outputs": [],
   "source": [
    "xr, yr, zr = calibration.calibrateRack(tp, minion)"
   ]
  },
  {
   "cell_type": "code",
   "execution_count": 13,
   "metadata": {},
   "outputs": [],
   "source": [
    "ar.move(z=450)"
   ]
  },
  {
   "cell_type": "code",
   "execution_count": 14,
   "metadata": {},
   "outputs": [],
   "source": [
    "# Returns mobile touch probe back in place\n",
    "tp.returnTool()"
   ]
  },
  {
   "cell_type": "markdown",
   "metadata": {},
   "source": [
    "# Initializing samples\n",
    "\n",
    "Lets the robot know what samples are used in the protocol, where they are located (which well in the racks), and what volumes are in the samples."
   ]
  },
  {
   "cell_type": "code",
   "execution_count": 8,
   "metadata": {},
   "outputs": [],
   "source": [
    "# minion inlet and outlet\n",
    "inlet = samples.sample(sample_name=\"inlet\", sample_type='minion_socket_sample')\n",
    "outlet = samples.sample(sample_name=\"outlet\", sample_type='minion_socket_sample')\n",
    "# Buffers and waste\n",
    "washing_buffer = samples.sample(sample_name='wash_buffer', sample_type='50mL_tube')\n",
    "running_buffer = samples.sample(sample_name='wash_buffer', sample_type='50mL_tube')\n",
    "liquid_waste = samples.sample(sample_name='liquid_waste', sample_type='50mL_tube')"
   ]
  },
  {
   "cell_type": "code",
   "execution_count": 9,
   "metadata": {},
   "outputs": [],
   "source": [
    "# 96 wells plate\n",
    "test_sample = samples.plate('test_plate', 'PCR_Plate')"
   ]
  },
  {
   "cell_type": "code",
   "execution_count": 10,
   "metadata": {},
   "outputs": [],
   "source": [
    "# 1.5 mL eppendorf tubes\n",
    "eppendorf_tubes_list = [samples.sample(sample_name='ep_tube_'+str(x), sample_type='eppendorf_tube') for x in range(32)]"
   ]
  },
  {
   "cell_type": "code",
   "execution_count": 11,
   "metadata": {},
   "outputs": [],
   "source": [
    "# Placing samples into the racks\n",
    "inlet.place(minion, 0, 0)\n",
    "outlet.place(minion, 0, 1)\n",
    "washing_buffer.place(r50, 0, 0)\n",
    "running_buffer.place(r50, 1, 0)\n",
    "liquid_waste.place(r50, 2, 0)\n",
    "test_sample.place(rack96well)"
   ]
  },
  {
   "cell_type": "code",
   "execution_count": 41,
   "metadata": {},
   "outputs": [],
   "source": [
    "i = 0\n",
    "for column in range(8):\n",
    "    for row in range(4):\n",
    "        eppendorf_tube = eppendorf_tubes_list[i]\n",
    "        eppendorf_tube.place(eppendorf_rack, column, row)\n",
    "        i += 1"
   ]
  },
  {
   "cell_type": "code",
   "execution_count": 13,
   "metadata": {},
   "outputs": [],
   "source": [
    "# Setting up volumes\n",
    "washing_buffer.setVolume(50000)\n",
    "running_buffer.setVolume(50000)"
   ]
  },
  {
   "cell_type": "markdown",
   "metadata": {},
   "source": [
    "## Filling the plate with a mockup sample solution\n",
    "\n",
    "To emulate sample plate"
   ]
  },
  {
   "cell_type": "code",
   "execution_count": 14,
   "metadata": {},
   "outputs": [],
   "source": [
    "sample_mockup_liquid = samples.sample(sample_name='sample_mockup_liquid', sample_type='50mL_tube')\n",
    "sample_mockup_liquid.place(r50, 2, 0)\n",
    "sample_mockup_liquid.setVolume(50000)"
   ]
  },
  {
   "cell_type": "code",
   "execution_count": 15,
   "metadata": {},
   "outputs": [],
   "source": [
    "# Will be using only a fraction of the plate\n",
    "test_sample_wells = test_sample.getAllSamples()[:32]"
   ]
  },
  {
   "cell_type": "code",
   "execution_count": 16,
   "metadata": {},
   "outputs": [
    {
     "data": {
      "text/plain": [
       "32"
      ]
     },
     "execution_count": 16,
     "metadata": {},
     "output_type": "execute_result"
    }
   ],
   "source": [
    "len(test_sample_wells)"
   ]
  },
  {
   "cell_type": "code",
   "execution_count": 24,
   "metadata": {},
   "outputs": [],
   "source": [
    "volumes_list = []\n",
    "for well in test_sample_wells:\n",
    "    volumes_list.append(200)"
   ]
  },
  {
   "cell_type": "code",
   "execution_count": 25,
   "metadata": {},
   "outputs": [],
   "source": [
    "# Pick up and initialize the pipette\n",
    "p1000 = tools.pipettor.getTool(robot=ar, tool_name='p1000_tool')"
   ]
  },
  {
   "cell_type": "code",
   "execution_count": 26,
   "metadata": {},
   "outputs": [],
   "source": [
    "# Calibrate the pipette\n",
    "xt, yt, zt = calibration.calibrateTool(p1000, stp)"
   ]
  },
  {
   "cell_type": "code",
   "execution_count": null,
   "metadata": {},
   "outputs": [],
   "source": [
    "# Pick up a tip\n",
    "xn, yn = p1000_tip_rack.getNextConsumable()\n",
    "p1000_tip_rack.pickUpTip(p1000_tip_rack, xn, yn, raise_z=300)"
   ]
  },
  {
   "cell_type": "code",
   "execution_count": 17,
   "metadata": {},
   "outputs": [],
   "source": [
    "# Setting volumes for PCR plate for the case of protocol repeat\n",
    "for sample_well in test_sample_wells:\n",
    "    sample_well.setVolume(200)"
   ]
  },
  {
   "cell_type": "code",
   "execution_count": 19,
   "metadata": {},
   "outputs": [
    {
     "data": {
      "text/plain": [
       "200"
      ]
     },
     "execution_count": 19,
     "metadata": {},
     "output_type": "execute_result"
    }
   ],
   "source": [
    "test_sample_wells[0].volume"
   ]
  },
  {
   "cell_type": "markdown",
   "metadata": {},
   "source": [
    "# Picking up pipette and getting ready for liquid transfer"
   ]
  },
  {
   "cell_type": "code",
   "execution_count": 33,
   "metadata": {},
   "outputs": [],
   "source": [
    "# Pick up and initialize the pipette\n",
    "p1000 = tools.pipettor.getTool(robot=ar, tool_name='p1000_tool')\n",
    "#p1000 = tools.pipettor(robot=ar, tool_name='p1000_tool')"
   ]
  },
  {
   "cell_type": "code",
   "execution_count": 34,
   "metadata": {},
   "outputs": [],
   "source": [
    "# Calibrate the pipette\n",
    "xt, yt, zt = calibration.calibrateTool(p1000, stp)"
   ]
  },
  {
   "cell_type": "code",
   "execution_count": 47,
   "metadata": {},
   "outputs": [],
   "source": [
    "# Pick up a tip\n",
    "xn, yn = p1000_tip_rack.getNextConsumable()\n",
    "p1000.pickUpTip(p1000_tip_rack, xn, yn, raise_z=300)"
   ]
  },
  {
   "cell_type": "code",
   "execution_count": 48,
   "metadata": {},
   "outputs": [],
   "source": [
    "ar.move(z=250)"
   ]
  },
  {
   "cell_type": "code",
   "execution_count": 49,
   "metadata": {},
   "outputs": [],
   "source": [
    "eppendorf_tubes_running_buff_vol_list = []\n",
    "for tube in eppendorf_tubes_list:\n",
    "    eppendorf_tubes_running_buff_vol_list.append(300)"
   ]
  },
  {
   "cell_type": "code",
   "execution_count": 51,
   "metadata": {},
   "outputs": [],
   "source": [
    "p1000.distributeLiquid(running_buffer, eppendorf_tubes_list, \n",
    "                       eppendorf_tubes_running_buff_vol_list, raise_z=320, touch_wall=True)"
   ]
  },
  {
   "cell_type": "code",
   "execution_count": 52,
   "metadata": {},
   "outputs": [],
   "source": [
    "ar.move(z=250)"
   ]
  },
  {
   "cell_type": "code",
   "execution_count": 98,
   "metadata": {},
   "outputs": [],
   "source": [
    "for tube in eppendorf_tubes_list:\n",
    "    tube.setVolume(300)"
   ]
  },
  {
   "cell_type": "markdown",
   "metadata": {},
   "source": [
    "# Performing cycles"
   ]
  },
  {
   "cell_type": "code",
   "execution_count": 78,
   "metadata": {},
   "outputs": [],
   "source": [
    "def moveLiquidIntoMinION(robot, tool, source, dest, vol, delay=1):\n",
    "    tool.uptakeLiquid(source, vol)\n",
    "    robot.move(z=300)\n",
    "    tool.dispenseLiquid(dest, vol, blow_extra=False, plunger_retract=False)\n",
    "    time.sleep(delay)\n",
    "    robot.move(z=300)"
   ]
  },
  {
   "cell_type": "code",
   "execution_count": 82,
   "metadata": {},
   "outputs": [],
   "source": [
    "def moveLiquidFromMinION(robot, tool, outlet, dest, vol, delay=1):\n",
    "    tool.uptakeLiquid(outlet, vol)\n",
    "    time.sleep(delay)\n",
    "    robot.move(z=300)\n",
    "    tool.dispenseLiquid(dest, vol, blow_extra=True)\n",
    "    time.sleep(delay)\n",
    "    robot.move(z=300)"
   ]
  },
  {
   "cell_type": "code",
   "execution_count": 79,
   "metadata": {},
   "outputs": [],
   "source": [
    "moveLiquidIntoMinION(ar, p1000, washing_buffer, inlet, 1000)"
   ]
  },
  {
   "cell_type": "code",
   "execution_count": 84,
   "metadata": {},
   "outputs": [],
   "source": [
    "moveLiquidFromMinION(ar, p1000, outlet, liquid_waste, 1000)"
   ]
  },
  {
   "cell_type": "code",
   "execution_count": 87,
   "metadata": {},
   "outputs": [],
   "source": [
    "def wash2000(robot, tool, washing_buffer, inlet, outlet, waste):\n",
    "    moveLiquidIntoMinION(robot, tool, washing_buffer, inlet, 1000)\n",
    "    moveLiquidIntoMinION(robot, tool, washing_buffer, inlet, 1000)\n",
    "    moveLiquidFromMinION(robot, tool, outlet, waste, 1000)\n",
    "    moveLiquidFromMinION(robot, tool, outlet, waste, 1000)"
   ]
  },
  {
   "cell_type": "code",
   "execution_count": 88,
   "metadata": {},
   "outputs": [],
   "source": [
    "def wash1000(robot, tool, washing_buffer, inlet, outlet, waste):\n",
    "    moveLiquidIntoMinION(robot, tool, washing_buffer, inlet, 1000)\n",
    "    moveLiquidFromMinION(robot, tool, outlet, waste, 1000)"
   ]
  },
  {
   "cell_type": "code",
   "execution_count": 101,
   "metadata": {},
   "outputs": [],
   "source": [
    "def experiment(robot, tool, inlet, outlet, sample, mixing_tube, washing_buffer, liquid_waste, solid_waste, tip_rack):\n",
    "    wash2000(robot, tool, washing_buffer, inlet, outlet, liquid_waste)\n",
    "    wash1000(robot, tool, washing_buffer, inlet, outlet, liquid_waste)\n",
    "    tool.dropTipToWaste(solid_waste, raise_z=300)\n",
    "    # Pick up a tip\n",
    "    xn, yn = tip_rack.getNextConsumable()\n",
    "    tool.pickUpTip(tip_rack, xn, yn, raise_z=300)\n",
    "    robot.move(z=300)\n",
    "    tool.moveLiquid(sample, mixing_tube, 100, raise_z=300)\n",
    "    tool.pipetteUpAndDown(mixing_tube, 300, 5)\n",
    "    moveLiquidIntoMinION(robot, tool, mixing_tube, inlet, 350)\n",
    "    # ----------------------------------\n",
    "    # Insert here a code for sequencing\n",
    "    # ----------------------------------\n",
    "    moveLiquidFromMinION(ar, p1000, outlet, liquid_waste, 1000)"
   ]
  },
  {
   "cell_type": "code",
   "execution_count": 102,
   "metadata": {},
   "outputs": [],
   "source": [
    "experiment(ar, p1000, inlet, outlet, \n",
    "           test_sample_wells[3], eppendorf_tubes_list[3], \n",
    "           washing_buffer, liquid_waste, waste_rack, p1000_tip_rack)"
   ]
  },
  {
   "cell_type": "code",
   "execution_count": 100,
   "metadata": {},
   "outputs": [
    {
     "data": {
      "text/plain": [
       "300"
      ]
     },
     "execution_count": 100,
     "metadata": {},
     "output_type": "execute_result"
    }
   ],
   "source": [
    "eppendorf_tubes_list[4].volume"
   ]
  },
  {
   "cell_type": "code",
   "execution_count": 75,
   "metadata": {},
   "outputs": [],
   "source": [
    "wash2000()"
   ]
  },
  {
   "cell_type": "code",
   "execution_count": 77,
   "metadata": {},
   "outputs": [],
   "source": [
    "wash1000()"
   ]
  },
  {
   "cell_type": "code",
   "execution_count": 60,
   "metadata": {},
   "outputs": [],
   "source": [
    "p1000.dropTipToWaste(waste_rack, raise_z=300)"
   ]
  },
  {
   "cell_type": "code",
   "execution_count": 61,
   "metadata": {},
   "outputs": [],
   "source": [
    "# Pick up a tip\n",
    "xn, yn = p1000_tip_rack.getNextConsumable()\n",
    "p1000.pickUpTip(p1000_tip_rack, xn, yn, raise_z=300)"
   ]
  },
  {
   "cell_type": "code",
   "execution_count": 62,
   "metadata": {},
   "outputs": [],
   "source": [
    "ar.move(z=250)"
   ]
  },
  {
   "cell_type": "code",
   "execution_count": 63,
   "metadata": {},
   "outputs": [],
   "source": [
    "# Calibrate the pipette with a tip\n",
    "xt, yt, zt = calibration.calibrateTool(p1000, stp)"
   ]
  },
  {
   "cell_type": "code",
   "execution_count": 64,
   "metadata": {},
   "outputs": [],
   "source": [
    "ar.move(z=250)"
   ]
  },
  {
   "cell_type": "code",
   "execution_count": 65,
   "metadata": {},
   "outputs": [],
   "source": [
    "p1000.dropTipToWaste(waste_rack, raise_z=300)"
   ]
  },
  {
   "cell_type": "code",
   "execution_count": 66,
   "metadata": {},
   "outputs": [],
   "source": [
    "# Pick up a tip\n",
    "xn, yn = p1000_tip_rack.getNextConsumable()\n",
    "p1000.pickUpTip(p1000_tip_rack, xn, yn, raise_z=300)"
   ]
  },
  {
   "cell_type": "code",
   "execution_count": 67,
   "metadata": {},
   "outputs": [],
   "source": [
    "ar.move(z=300)"
   ]
  },
  {
   "cell_type": "code",
   "execution_count": 68,
   "metadata": {},
   "outputs": [],
   "source": [
    "p1000.moveLiquid(test_sample_wells[0], eppendorf_tubes_list[0], 100, raise_z=300)"
   ]
  },
  {
   "cell_type": "code",
   "execution_count": 69,
   "metadata": {},
   "outputs": [],
   "source": [
    "p1000.pipetteUpAndDown(eppendorf_tubes_list[0], 300, 5)"
   ]
  },
  {
   "cell_type": "code",
   "execution_count": 70,
   "metadata": {},
   "outputs": [],
   "source": [
    "p1000.uptakeLiquid(eppendorf_tubes_list[0], 350)"
   ]
  },
  {
   "cell_type": "code",
   "execution_count": 71,
   "metadata": {},
   "outputs": [],
   "source": [
    "ar.move(z=300)"
   ]
  },
  {
   "cell_type": "code",
   "execution_count": 72,
   "metadata": {},
   "outputs": [],
   "source": [
    "p1000.dispenseLiquid(inlet, 350, blow_extra=False, plunger_retract=False)\n",
    "time.sleep(1)\n",
    "ar.move(z=300)"
   ]
  },
  {
   "cell_type": "code",
   "execution_count": 73,
   "metadata": {},
   "outputs": [],
   "source": [
    "p1000.uptakeLiquid(outlet, 1000)\n",
    "ar.move(z=300)\n",
    "p1000.dispenseLiquid(liquid_waste, 1000, blow_extra=True)\n",
    "time.sleep(1)\n",
    "ar.move(z=300)"
   ]
  },
  {
   "cell_type": "code",
   "execution_count": null,
   "metadata": {},
   "outputs": [],
   "source": []
  },
  {
   "cell_type": "markdown",
   "metadata": {},
   "source": [
    "# Transfer liquid\n",
    "\n",
    "Step by step process of taking liquid from 50 mL tube, moving towards the inlet of the MinIon, making a pause for the video cam to take a shot. Then, pipetting liquid down the inlet of the flow cell; moving towards outlet, extracting liquid from the outlet and dumping it back to the same 50 mL tube (so we can do the protocol forever)."
   ]
  },
  {
   "cell_type": "markdown",
   "metadata": {},
   "source": [
    "## Single step"
   ]
  },
  {
   "cell_type": "code",
   "execution_count": 118,
   "metadata": {},
   "outputs": [],
   "source": [
    "# Taking liquid from 50 mL tube\n",
    "# The coordinates are known, as \"yellow\" is an object of a 50 mL tube class, and it stores\n",
    "# its host rack and location within that rack.\n",
    "# The rack, in turn, stores the location in the robot, and calibration info.\n",
    "# As such, robot automatically calculates precise coordinates for its movements.\n",
    "p1000.uptakeLiquid(yellow, 1000)"
   ]
  },
  {
   "cell_type": "code",
   "execution_count": 127,
   "metadata": {},
   "outputs": [],
   "source": [
    "ar.move(z=300)"
   ]
  },
  {
   "cell_type": "markdown",
   "metadata": {},
   "source": [
    "### Those commands are added to make the robot pause before injecting the liquid into the minion, to take a picture"
   ]
  },
  {
   "cell_type": "code",
   "execution_count": 54,
   "metadata": {},
   "outputs": [],
   "source": [
    "p1000.getToSample(inlet)"
   ]
  },
  {
   "cell_type": "code",
   "execution_count": 55,
   "metadata": {},
   "outputs": [],
   "source": [
    "# Lower tip into the nanopore (but not touching the inlet yet)\n",
    "inlet_top = inlet.getSampleTopZ(p1000)\n",
    "ar.move(z=inlet_top-10)"
   ]
  },
  {
   "cell_type": "code",
   "execution_count": 56,
   "metadata": {},
   "outputs": [],
   "source": [
    "# Lower tip into the nanopore\n",
    "inlet_top = inlet.getSampleTopZ(p1000)\n",
    "ar.move(z=inlet_top)"
   ]
  },
  {
   "cell_type": "markdown",
   "metadata": {},
   "source": [
    "### Continuing the protocol"
   ]
  },
  {
   "cell_type": "code",
   "execution_count": 76,
   "metadata": {},
   "outputs": [],
   "source": [
    "p1000.dispenseLiquid(inlet, 100, blow_extra=False, plunger_retract=False)"
   ]
  },
  {
   "cell_type": "code",
   "execution_count": 116,
   "metadata": {},
   "outputs": [],
   "source": [
    "ar.move(z=300)"
   ]
  },
  {
   "cell_type": "code",
   "execution_count": 78,
   "metadata": {},
   "outputs": [],
   "source": [
    "p1000.uptakeLiquid(outlet, 1000)"
   ]
  },
  {
   "cell_type": "code",
   "execution_count": 122,
   "metadata": {},
   "outputs": [],
   "source": [
    "ar.move(z=300)"
   ]
  },
  {
   "cell_type": "code",
   "execution_count": 123,
   "metadata": {},
   "outputs": [],
   "source": [
    "p1000.dispenseLiquid(yellow, 1000)"
   ]
  },
  {
   "cell_type": "markdown",
   "metadata": {},
   "source": [
    "## Same as one function"
   ]
  },
  {
   "cell_type": "code",
   "execution_count": 124,
   "metadata": {},
   "outputs": [],
   "source": [
    "def getPic(path, camera):\n",
    "    ret, frame = camera.read()\n",
    "    frame = np.fliplr(frame.reshape(-1,3)).reshape(frame.shape)\n",
    "    plt.imsave(path, frame)"
   ]
  },
  {
   "cell_type": "code",
   "execution_count": 125,
   "metadata": {},
   "outputs": [],
   "source": [
    "def testMinionLiquidTransfer(tool, robot, sample, vol, inlet, outlet, img_path_1, img_path_2, camera):\n",
    "    tool.uptakeLiquid(sample, vol)\n",
    "    robot.move(z=300)\n",
    "    tool.getToSample(inlet)\n",
    "    inlet_top = inlet.getSampleTopZ(tool)\n",
    "    robot.move(z=inlet_top-20)\n",
    "    # Add picture taking procedure here\n",
    "    getPic(img_path_1, camera)\n",
    "    robot.move(z=inlet_top)\n",
    "    # Add picture taking procedure here\n",
    "    getPic(img_path_2, camera)\n",
    "    tool.dispenseLiquid(inlet, vol, blow_extra=False, plunger_retract=False, release_delay=1)\n",
    "    time.sleep(1)\n",
    "    robot.move(z=300)\n",
    "    tool.uptakeLiquid(outlet, vol)\n",
    "    robot.move(z=300)\n",
    "    tool.dispenseLiquid(sample, vol, immerse_volume=55000, blow_extra=True)"
   ]
  },
  {
   "cell_type": "code",
   "execution_count": null,
   "metadata": {},
   "outputs": [],
   "source": [
    "cap = cv2.VideoCapture(1)"
   ]
  },
  {
   "cell_type": "code",
   "execution_count": 216,
   "metadata": {},
   "outputs": [],
   "source": [
    "testMinionLiquidTransfer(tool=p1000, robot=ar, sample=yellow, vol=1000, inlet=inlet, outlet=outlet, \n",
    "                         img_path_1='testpic1/1_before.png', img_path_2='testpic/1_inside.png', camera=cap)"
   ]
  },
  {
   "cell_type": "markdown",
   "metadata": {},
   "source": [
    "# Setting up a webcam"
   ]
  },
  {
   "cell_type": "code",
   "execution_count": 86,
   "metadata": {},
   "outputs": [],
   "source": [
    "import cv2\n",
    "from matplotlib import pyplot as plt\n",
    "import scipy.misc\n",
    "%matplotlib inline"
   ]
  },
  {
   "cell_type": "code",
   "execution_count": 87,
   "metadata": {},
   "outputs": [],
   "source": [
    "cap = cv2.VideoCapture(1)"
   ]
  },
  {
   "cell_type": "code",
   "execution_count": 110,
   "metadata": {},
   "outputs": [],
   "source": [
    "ret, frame = cap.read()"
   ]
  },
  {
   "cell_type": "code",
   "execution_count": 111,
   "metadata": {},
   "outputs": [],
   "source": [
    "frame = np.fliplr(frame.reshape(-1,3)).reshape(frame.shape)"
   ]
  },
  {
   "cell_type": "code",
   "execution_count": 112,
   "metadata": {},
   "outputs": [
    {
     "data": {
      "text/plain": [
       "<matplotlib.image.AxesImage at 0x1557146c388>"
      ]
     },
     "execution_count": 112,
     "metadata": {},
     "output_type": "execute_result"
    },
    {
     "data": {
      "image/png": "[encoded data removed]",
      "text/plain": [
       "<Figure size 432x288 with 1 Axes>"
      ]
     },
     "metadata": {
      "needs_background": "light"
     },
     "output_type": "display_data"
    }
   ],
   "source": [
    "plt.imshow(frame)"
   ]
  },
  {
   "cell_type": "code",
   "execution_count": 113,
   "metadata": {},
   "outputs": [],
   "source": [
    "plt.imsave('testpic1/1.png', frame)"
   ]
  },
  {
   "cell_type": "markdown",
   "metadata": {},
   "source": [
    "# Full cycle"
   ]
  },
  {
   "cell_type": "code",
   "execution_count": null,
   "metadata": {},
   "outputs": [],
   "source": [
    "cap = cv2.VideoCapture(1)"
   ]
  },
  {
   "cell_type": "code",
   "execution_count": 128,
   "metadata": {},
   "outputs": [],
   "source": [
    "for i in range(100):\n",
    "    imgpath1 = 'testpic1/' + str(i) + '_before.png'\n",
    "    imgpath2 = 'testpic1/' + str(i) + '_inside.png'\n",
    "    testMinionLiquidTransfer(tool=p1000, robot=ar, sample=yellow, vol=1000, inlet=inlet, outlet=outlet, \n",
    "                         img_path_1=imgpath1, img_path_2=imgpath2, camera=cap)"
   ]
  },
  {
   "cell_type": "markdown",
   "metadata": {},
   "source": [
    "# Finalizing operation"
   ]
  },
  {
   "cell_type": "code",
   "execution_count": 129,
   "metadata": {},
   "outputs": [],
   "source": [
    "ar.move(z=300)"
   ]
  },
  {
   "cell_type": "code",
   "execution_count": 103,
   "metadata": {},
   "outputs": [],
   "source": [
    "p1000.dropTipToWaste(waste_rack, raise_z=300)"
   ]
  },
  {
   "cell_type": "code",
   "execution_count": 104,
   "metadata": {},
   "outputs": [],
   "source": [
    "p1000.returnTool()"
   ]
  },
  {
   "cell_type": "code",
   "execution_count": 105,
   "metadata": {},
   "outputs": [],
   "source": [
    "ar.move(x=20)"
   ]
  },
  {
   "cell_type": "code",
   "execution_count": null,
   "metadata": {},
   "outputs": [],
   "source": []
  }
 ],
 "metadata": {
  "kernelspec": {
   "display_name": "Python 3",
   "language": "python",
   "name": "python3"
  },
  "language_info": {
   "codemirror_mode": {
    "name": "ipython",
    "version": 3
   },
   "file_extension": ".py",
   "mimetype": "text/x-python",
   "name": "python",
   "nbconvert_exporter": "python",
   "pygments_lexer": "ipython3",
   "version": "3.7.4"
  }
 },
 "nbformat": 4,
 "nbformat_minor": 2
}
