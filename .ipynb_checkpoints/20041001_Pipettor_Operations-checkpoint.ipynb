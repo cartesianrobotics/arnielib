{
 "cells": [
  {
   "cell_type": "code",
   "execution_count": 1,
   "metadata": {},
   "outputs": [],
   "source": [
    "import tools\n",
    "import cartesian\n",
    "import racks\n",
    "import calibration\n",
    "import samples\n",
    "import json\n",
    "import importlib\n",
    "import random as rnd\n",
    "import time\n",
    "import low_level_comm as llc"
   ]
  },
  {
   "cell_type": "code",
   "execution_count": 2,
   "metadata": {},
   "outputs": [
    {
     "data": {
      "text/plain": [
       "['COM3', 'COM6', 'COM10', 'COM14']"
      ]
     },
     "execution_count": 2,
     "metadata": {},
     "output_type": "execute_result"
    }
   ],
   "source": [
    "llc.listSerialPorts()"
   ]
  },
  {
   "cell_type": "code",
   "execution_count": 3,
   "metadata": {},
   "outputs": [],
   "source": [
    "ar = cartesian.arnie(cartesian_port=\"COM10\", docker_port=\"COM6\")"
   ]
  },
  {
   "cell_type": "code",
   "execution_count": 4,
   "metadata": {},
   "outputs": [],
   "source": [
    "ar.home()"
   ]
  },
  {
   "cell_type": "code",
   "execution_count": 5,
   "metadata": {},
   "outputs": [
    {
     "name": "stderr",
     "output_type": "stream",
     "text": [
      "ERROR:root:matchPortsWithDevices(): could not execute finiding device in list.\n",
      "ERROR:root:matchPortsWithDevices(): Provided patterns_list: ['stationary touch probe']\n",
      "ERROR:root:None\n"
     ]
    }
   ],
   "source": [
    "stp = tools.stationary_touch_probe(ar)"
   ]
  },
  {
   "cell_type": "markdown",
   "metadata": {},
   "source": [
    "# Re-calibrating racks"
   ]
  },
  {
   "cell_type": "code",
   "execution_count": 21,
   "metadata": {},
   "outputs": [],
   "source": [
    "tp = tools.mobile_touch_probe.getTool(ar)"
   ]
  },
  {
   "cell_type": "code",
   "execution_count": 14,
   "metadata": {},
   "outputs": [],
   "source": [
    "x, y, z = calibration.calibrateStationaryProbe(tp, stp)"
   ]
  },
  {
   "cell_type": "code",
   "execution_count": 15,
   "metadata": {},
   "outputs": [],
   "source": [
    "p1000_tip_rack = racks.rack(rack_name='p1000_tips_1', rack_type='p1000_tips')\n",
    "p200_tip_rack = racks.rack(rack_name='p200_tips_1', rack_type='p200_tips')\n",
    "p20_tip_rack = racks.rack(rack_name='p20_tips_1', rack_type='p20_tips')\n",
    "ep1 = racks.rack(rack_name='eppendorf_1', rack_type='eppendorf')\n",
    "magep1 = racks.rack(rack_name='eppendorf_magnetic_1', rack_type='eppendorf_magnetic')\n",
    "r50 = racks.rack(rack_name='50mL_rack_1', rack_type='50mL')"
   ]
  },
  {
   "cell_type": "code",
   "execution_count": 16,
   "metadata": {},
   "outputs": [],
   "source": [
    "xr, yr, zr = calibration.calibrateRack(tp, p1000_tip_rack)\n",
    "ar.move(z=400)\n",
    "xr, yr, zr = calibration.calibrateRack(tp, p200_tip_rack)\n",
    "ar.move(z=400)\n",
    "xr, yr, zr = calibration.calibrateRack(tp, p20_tip_rack)\n",
    "ar.move(z=400)\n",
    "xr, yr, zr = calibration.calibrateRack(tp, ep1)\n",
    "ar.move(z=400)\n",
    "xr, yr, zr = calibration.calibrateRack(tp, magep1)\n",
    "ar.move(z=400)\n",
    "xr, yr, zr = calibration.calibrateRack(tp, r50)\n",
    "ar.move(z=400)"
   ]
  },
  {
   "cell_type": "code",
   "execution_count": 22,
   "metadata": {},
   "outputs": [],
   "source": [
    "tp.returnTool()"
   ]
  },
  {
   "cell_type": "markdown",
   "metadata": {},
   "source": [
    "# Touch wall"
   ]
  },
  {
   "cell_type": "code",
   "execution_count": 7,
   "metadata": {},
   "outputs": [],
   "source": [
    "ar.openTool()"
   ]
  },
  {
   "cell_type": "code",
   "execution_count": 8,
   "metadata": {},
   "outputs": [],
   "source": [
    "ar.move(z=0)"
   ]
  },
  {
   "cell_type": "code",
   "execution_count": 9,
   "metadata": {},
   "outputs": [],
   "source": [
    "p1000 = tools.pipettor.getTool(robot=ar, tool_name='p1000_tool')"
   ]
  },
  {
   "cell_type": "code",
   "execution_count": null,
   "metadata": {},
   "outputs": [],
   "source": [
    "xt, yt, zt = calibration.calibrateTool(p1000, stp)"
   ]
  },
  {
   "cell_type": "code",
   "execution_count": null,
   "metadata": {},
   "outputs": [],
   "source": [
    "p1000.pickUpTip(p1000_tip_rack, 0, 0, raise_z=400)"
   ]
  },
  {
   "cell_type": "code",
   "execution_count": null,
   "metadata": {},
   "outputs": [],
   "source": [
    "ar.move(z=300)"
   ]
  },
  {
   "cell_type": "code",
   "execution_count": 29,
   "metadata": {},
   "outputs": [],
   "source": [
    "t_ep = samples.sample(sample_name='t_ep_1', sample_type='eppendorf_tube')\n",
    "t_ep.place(ep1, 0, 3)"
   ]
  },
  {
   "cell_type": "code",
   "execution_count": 30,
   "metadata": {},
   "outputs": [],
   "source": [
    "p1000.getToSample(t_ep)"
   ]
  },
  {
   "cell_type": "code",
   "execution_count": 31,
   "metadata": {},
   "outputs": [],
   "source": [
    "p1000.touchWall(t_ep)"
   ]
  },
  {
   "cell_type": "code",
   "execution_count": 33,
   "metadata": {},
   "outputs": [],
   "source": [
    "t_ep.setVolume(1000)"
   ]
  },
  {
   "cell_type": "code",
   "execution_count": 34,
   "metadata": {},
   "outputs": [],
   "source": [
    "p1000.touchWall(t_ep)"
   ]
  },
  {
   "cell_type": "code",
   "execution_count": 35,
   "metadata": {},
   "outputs": [],
   "source": [
    "p1000.touchWall(t_ep, volume=1700)"
   ]
  },
  {
   "cell_type": "code",
   "execution_count": 36,
   "metadata": {},
   "outputs": [],
   "source": [
    "p1000.dropOffTipToPosition(p1000_tip_rack, 0, 0, raise_z=300, dropoff_dz=-30)"
   ]
  },
  {
   "cell_type": "code",
   "execution_count": 37,
   "metadata": {},
   "outputs": [],
   "source": [
    "p1000.returnTool()"
   ]
  },
  {
   "cell_type": "code",
   "execution_count": 38,
   "metadata": {},
   "outputs": [],
   "source": [
    "ar.home()"
   ]
  },
  {
   "cell_type": "markdown",
   "metadata": {},
   "source": [
    "# Gradual liquid uptake"
   ]
  },
  {
   "cell_type": "code",
   "execution_count": 6,
   "metadata": {},
   "outputs": [],
   "source": [
    "#p1000 = tools.pipettor.getTool(robot=ar, tool_name='p1000_tool')\n",
    "p1000 = tools.pipettor(robot=ar, tool_name='p1000_tool')"
   ]
  },
  {
   "cell_type": "code",
   "execution_count": 7,
   "metadata": {},
   "outputs": [],
   "source": [
    "xt, yt, zt = calibration.calibrateTool(p1000, stp)"
   ]
  },
  {
   "cell_type": "code",
   "execution_count": 8,
   "metadata": {},
   "outputs": [],
   "source": [
    "p1000_tip_rack = racks.rack(rack_name='p1000_tips_1', rack_type='p1000_tips')"
   ]
  },
  {
   "cell_type": "code",
   "execution_count": 9,
   "metadata": {},
   "outputs": [],
   "source": [
    "p1000.pickUpTip(p1000_tip_rack, 0, 0, raise_z=400)"
   ]
  },
  {
   "cell_type": "code",
   "execution_count": 10,
   "metadata": {},
   "outputs": [],
   "source": [
    "ep1 = racks.rack(rack_name='eppendorf_1', rack_type='eppendorf')\n",
    "t_ep = samples.sample(sample_name='t_ep_1', sample_type='eppendorf_tube')\n",
    "t_ep.place(ep1, 0, 3)"
   ]
  },
  {
   "cell_type": "code",
   "execution_count": 11,
   "metadata": {},
   "outputs": [],
   "source": [
    "t_ep.setVolume(1400)"
   ]
  },
  {
   "cell_type": "code",
   "execution_count": 16,
   "metadata": {},
   "outputs": [],
   "source": [
    "p1000.uptakeLiquid(sample=t_ep, volume=1000)"
   ]
  },
  {
   "cell_type": "code",
   "execution_count": 17,
   "metadata": {},
   "outputs": [
    {
     "data": {
      "text/plain": [
       "400"
      ]
     },
     "execution_count": 17,
     "metadata": {},
     "output_type": "execute_result"
    }
   ],
   "source": [
    "t_ep.getVolume()"
   ]
  },
  {
   "cell_type": "code",
   "execution_count": 18,
   "metadata": {},
   "outputs": [],
   "source": [
    "p1000.dispenseLiquid(sample=t_ep, volume=1000)"
   ]
  },
  {
   "cell_type": "code",
   "execution_count": 19,
   "metadata": {},
   "outputs": [
    {
     "data": {
      "text/plain": [
       "1400"
      ]
     },
     "execution_count": 19,
     "metadata": {},
     "output_type": "execute_result"
    }
   ],
   "source": [
    "t_ep.getVolume()"
   ]
  },
  {
   "cell_type": "code",
   "execution_count": 12,
   "metadata": {},
   "outputs": [],
   "source": [
    "p1000.uptakeLiquidGradually(sample=t_ep, volume=1000, dv=100)"
   ]
  },
  {
   "cell_type": "code",
   "execution_count": 13,
   "metadata": {},
   "outputs": [
    {
     "data": {
      "text/plain": [
       "400"
      ]
     },
     "execution_count": 13,
     "metadata": {},
     "output_type": "execute_result"
    }
   ],
   "source": [
    "t_ep.getVolume()"
   ]
  },
  {
   "cell_type": "code",
   "execution_count": 14,
   "metadata": {},
   "outputs": [],
   "source": [
    "p1000.dropOffTipToPosition(p1000_tip_rack, 0, 0, raise_z=300, dropoff_dz=-40)"
   ]
  },
  {
   "cell_type": "code",
   "execution_count": 15,
   "metadata": {},
   "outputs": [],
   "source": [
    "ar.home()"
   ]
  },
  {
   "cell_type": "markdown",
   "metadata": {},
   "source": [
    "# Pipette up and down"
   ]
  },
  {
   "cell_type": "code",
   "execution_count": 6,
   "metadata": {},
   "outputs": [],
   "source": [
    "p1000 = tools.pipettor(robot=ar, tool_name='p1000_tool')"
   ]
  },
  {
   "cell_type": "code",
   "execution_count": 7,
   "metadata": {},
   "outputs": [],
   "source": [
    "xt, yt, zt = calibration.calibrateTool(p1000, stp)"
   ]
  },
  {
   "cell_type": "code",
   "execution_count": 8,
   "metadata": {},
   "outputs": [],
   "source": [
    "p1000_tip_rack = racks.rack(rack_name='p1000_tips_1', rack_type='p1000_tips')"
   ]
  },
  {
   "cell_type": "code",
   "execution_count": 9,
   "metadata": {},
   "outputs": [],
   "source": [
    "p1000.pickUpTip(p1000_tip_rack, 0, 0, raise_z=400)"
   ]
  },
  {
   "cell_type": "code",
   "execution_count": 10,
   "metadata": {},
   "outputs": [],
   "source": [
    "ep1 = racks.rack(rack_name='eppendorf_1', rack_type='eppendorf')\n",
    "t_ep = samples.sample(sample_name='t_ep_1', sample_type='eppendorf_tube')\n",
    "t_ep.place(ep1, 0, 3)"
   ]
  },
  {
   "cell_type": "code",
   "execution_count": 11,
   "metadata": {},
   "outputs": [],
   "source": [
    "t_ep.setVolume(1400)"
   ]
  },
  {
   "cell_type": "code",
   "execution_count": 12,
   "metadata": {},
   "outputs": [],
   "source": [
    "p1000.pipetteUpAndDown(sample=t_ep, uptake_volume=800, repeats=3)"
   ]
  },
  {
   "cell_type": "code",
   "execution_count": 13,
   "metadata": {},
   "outputs": [],
   "source": [
    "p1000.dropOffTipToPosition(p1000_tip_rack, 0, 0, raise_z=300, dropoff_dz=-40)"
   ]
  },
  {
   "cell_type": "code",
   "execution_count": 14,
   "metadata": {},
   "outputs": [],
   "source": [
    "ar.home()"
   ]
  },
  {
   "cell_type": "markdown",
   "metadata": {},
   "source": [
    "# Moving liquid from one tube to the other (with one command)"
   ]
  },
  {
   "cell_type": "code",
   "execution_count": 6,
   "metadata": {},
   "outputs": [],
   "source": [
    "p1000 = tools.pipettor(robot=ar, tool_name='p1000_tool')"
   ]
  },
  {
   "cell_type": "code",
   "execution_count": 7,
   "metadata": {},
   "outputs": [],
   "source": [
    "xt, yt, zt = calibration.calibrateTool(p1000, stp)"
   ]
  },
  {
   "cell_type": "code",
   "execution_count": 8,
   "metadata": {},
   "outputs": [],
   "source": [
    "p1000_tip_rack = racks.rack(rack_name='p1000_tips_1', rack_type='p1000_tips')"
   ]
  },
  {
   "cell_type": "code",
   "execution_count": 9,
   "metadata": {},
   "outputs": [],
   "source": [
    "p1000.pickUpTip(p1000_tip_rack, 0, 0, raise_z=400)"
   ]
  },
  {
   "cell_type": "code",
   "execution_count": 22,
   "metadata": {},
   "outputs": [],
   "source": [
    "ep1 = racks.rack(rack_name='eppendorf_1', rack_type='eppendorf')\n",
    "t_ep = samples.sample(sample_name='t_ep_1', sample_type='eppendorf_tube')\n",
    "t_ep.place(ep1, 0, 3)"
   ]
  },
  {
   "cell_type": "code",
   "execution_count": 23,
   "metadata": {},
   "outputs": [],
   "source": [
    "t50 = samples.sample(sample_name='t50_1', sample_type='50mL_tube')\n",
    "r50 = racks.rack(rack_name='50mL_rack_1', rack_type='50mL')\n",
    "t50.place(r50, 2, 0)"
   ]
  },
  {
   "cell_type": "code",
   "execution_count": 24,
   "metadata": {},
   "outputs": [],
   "source": [
    "t_ep.setVolume(0)\n",
    "t50.setVolume(50000)"
   ]
  },
  {
   "cell_type": "code",
   "execution_count": 13,
   "metadata": {},
   "outputs": [],
   "source": [
    "p1000.moveLiquid(t50, t_ep, 700)"
   ]
  },
  {
   "cell_type": "code",
   "execution_count": 14,
   "metadata": {},
   "outputs": [],
   "source": [
    "p1000.moveLiquid(t_ep, t50, 700)"
   ]
  },
  {
   "cell_type": "code",
   "execution_count": 36,
   "metadata": {},
   "outputs": [],
   "source": [
    "sample_list = [samples.sample(sample_name='t_ep_'+str(x), sample_type='eppendorf_tube') for x in range(5)]"
   ]
  },
  {
   "cell_type": "code",
   "execution_count": 37,
   "metadata": {},
   "outputs": [],
   "source": [
    "i = 0\n",
    "for sample in sample_list:\n",
    "    sample.place(ep1, i, 3)\n",
    "    i += 1"
   ]
  },
  {
   "cell_type": "code",
   "execution_count": 38,
   "metadata": {},
   "outputs": [
    {
     "data": {
      "text/plain": [
       "[0, 1, 2, 3, 4]"
      ]
     },
     "execution_count": 38,
     "metadata": {},
     "output_type": "execute_result"
    }
   ],
   "source": [
    "[x.sample_data['x_well'] for x in sample_list]"
   ]
  },
  {
   "cell_type": "code",
   "execution_count": 28,
   "metadata": {},
   "outputs": [],
   "source": [
    "volume_list = [100, 347, 901, 178, 333]"
   ]
  },
  {
   "cell_type": "code",
   "execution_count": 19,
   "metadata": {},
   "outputs": [
    {
     "name": "stdout",
     "output_type": "stream",
     "text": [
      "Remains to pipette: 1859 Current volume:  100 Well:  0\n",
      "Remains to pipette: 1759 Current volume:  347 Well:  1\n",
      "Remains to pipette: 1412 Current volume:  901 Well:  2\n",
      "Remains to pipette: 511 Current volume:  178 Well:  3\n",
      "Remains to pipette: 333 Current volume:  333 Well:  4\n"
     ]
    }
   ],
   "source": [
    "p1000.distributeLiquid(t50, sample_list, volume_list)"
   ]
  },
  {
   "cell_type": "code",
   "execution_count": 21,
   "metadata": {},
   "outputs": [],
   "source": [
    "def distributeLiquid(tool, sample_origin, sample_destination_list, vol_list,\n",
    "                         uptake_delay=0, release_delay=0, immerse_vol_origin=None,\n",
    "                         immerse_volume_destination=None, touch_wall=False):\n",
    "    vol_in_tip = 0\n",
    "    remaining_vol_to_move = sum(vol_list)\n",
    "    vol_to_move_plunger = 0\n",
    "    for sample_destination, volume in zip(sample_destination_list, vol_list):\n",
    "        print (\"Remains to pipette:\", remaining_vol_to_move, \"Current volume: \", volume, \"Well: \", sample_destination.sample_data['x_well'])\n",
    "        # Since tool is moving plunger to absolute position, every next sample will have added \"volume\"\n",
    "        # to pipette\n",
    "        vol_to_move_plunger = vol_to_move_plunger + volume\n",
    "        if vol_in_tip < volume:\n",
    "            tool.getToSample(sample=sample_origin)\n",
    "            tool.movePlunger(-40)\n",
    "            vol_in_tip = 0\n",
    "            tool.touchWall(sample=sample_origin)\n",
    "            # Lifting up again\n",
    "            tool.getToSample(sample=sample_origin)\n",
    "            if remaining_vol_to_move > tool.max_allowed_vol:\n",
    "                vol_to_uptake = tool.max_allowed_vol\n",
    "            else:\n",
    "                vol_to_uptake = remaining_vol_to_move\n",
    "            print (\"Uptaking volume: \", vol_to_uptake)\n",
    "            tool.uptakeLiquid(sample=sample_origin, volume=vol_to_uptake,\n",
    "                                  uptake_delay=uptake_delay)\n",
    "            vol_in_tip = vol_to_uptake\n",
    "            # Resetting plunger movement after fresh liquid uptake\n",
    "            vol_to_move_plunger = volume\n",
    "        print (\"Dispensing volume: \", volume)\n",
    "        tool.dispenseLiquid(sample=sample_destination, volume=vol_to_move_plunger, release_delay=release_delay,\n",
    "                                plunger_retract=False)\n",
    "        vol_in_tip = vol_in_tip - volume\n",
    "        if touch_wall:\n",
    "                tool.touchWall(sample=sample_destination)\n",
    "        remaining_vol_to_move = remaining_vol_to_move - volume"
   ]
  },
  {
   "cell_type": "code",
   "execution_count": 29,
   "metadata": {},
   "outputs": [
    {
     "name": "stdout",
     "output_type": "stream",
     "text": [
      "Remains to pipette: 1859 Current volume:  100 Well:  0\n",
      "Uptaking volume:  1000.0\n",
      "Remains to pipette: 1759 Current volume:  347 Well:  1\n",
      "Remains to pipette: 1412 Current volume:  901 Well:  2\n",
      "Uptaking volume:  1000.0\n",
      "Remains to pipette: 511 Current volume:  178 Well:  3\n",
      "Uptaking volume:  511\n",
      "Remains to pipette: 333 Current volume:  333 Well:  4\n"
     ]
    }
   ],
   "source": [
    "distributeLiquid(p1000, t50, sample_list, volume_list)"
   ]
  },
  {
   "cell_type": "code",
   "execution_count": 39,
   "metadata": {},
   "outputs": [
    {
     "data": {
      "text/plain": [
       "850"
      ]
     },
     "execution_count": 39,
     "metadata": {},
     "output_type": "execute_result"
    }
   ],
   "source": [
    "volume_list = [100, 200, 300, 200, 50]\n",
    "sum(volume_list)"
   ]
  },
  {
   "cell_type": "code",
   "execution_count": 40,
   "metadata": {},
   "outputs": [
    {
     "name": "stdout",
     "output_type": "stream",
     "text": [
      "Remains to pipette: 850 Current volume:  100 Well:  0\n",
      "Uptaking volume:  850\n",
      "Remains to pipette: 750 Current volume:  200 Well:  1\n",
      "Remains to pipette: 550 Current volume:  300 Well:  2\n",
      "Remains to pipette: 250 Current volume:  200 Well:  3\n",
      "Remains to pipette: 50 Current volume:  50 Well:  4\n"
     ]
    }
   ],
   "source": [
    "distributeLiquid(p1000, t50, sample_list, volume_list)"
   ]
  },
  {
   "cell_type": "code",
   "execution_count": 30,
   "metadata": {},
   "outputs": [
    {
     "data": {
      "text/plain": [
       "511"
      ]
     },
     "execution_count": 30,
     "metadata": {},
     "output_type": "execute_result"
    }
   ],
   "source": [
    "178+333"
   ]
  },
  {
   "cell_type": "code",
   "execution_count": 31,
   "metadata": {},
   "outputs": [],
   "source": [
    "ar.move(z=300)"
   ]
  },
  {
   "cell_type": "code",
   "execution_count": 34,
   "metadata": {},
   "outputs": [],
   "source": [
    "for sample in sample_list:\n",
    "    p1000.uptakeLiquid(sample, 1000, uptake_delay=3, immerse_volume=10)\n",
    "    p1000.dispenseLiquid(t50, 1000, immerse_volume=60000)\n",
    "    p1000.uptakeLiquid(sample, 50, uptake_delay=3, immerse_volume=1)\n",
    "    p1000.dispenseLiquid(t50, 100, immerse_volume=60000)"
   ]
  },
  {
   "cell_type": "code",
   "execution_count": 32,
   "metadata": {},
   "outputs": [],
   "source": [
    "p1000.movePlunger(-40)"
   ]
  },
  {
   "cell_type": "code",
   "execution_count": 33,
   "metadata": {},
   "outputs": [],
   "source": [
    "p1000.movePlunger(0)"
   ]
  },
  {
   "cell_type": "code",
   "execution_count": 21,
   "metadata": {},
   "outputs": [],
   "source": [
    "p1000.dropOffTipToPosition(p1000_tip_rack, 0, 0, raise_z=300, dropoff_dz=-40)"
   ]
  },
  {
   "cell_type": "code",
   "execution_count": 22,
   "metadata": {},
   "outputs": [],
   "source": [
    "ar.home()"
   ]
  },
  {
   "cell_type": "code",
   "execution_count": null,
   "metadata": {},
   "outputs": [],
   "source": []
  }
 ],
 "metadata": {
  "kernelspec": {
   "display_name": "Python 3",
   "language": "python",
   "name": "python3"
  },
  "language_info": {
   "codemirror_mode": {
    "name": "ipython",
    "version": 3
   },
   "file_extension": ".py",
   "mimetype": "text/x-python",
   "name": "python",
   "nbconvert_exporter": "python",
   "pygments_lexer": "ipython3",
   "version": "3.7.4"
  }
 },
 "nbformat": 4,
 "nbformat_minor": 2
}
