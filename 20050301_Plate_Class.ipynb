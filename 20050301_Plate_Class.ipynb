{
 "cells": [
  {
   "cell_type": "code",
   "execution_count": 4,
   "metadata": {},
   "outputs": [],
   "source": [
    "import tools\n",
    "import param\n",
    "import cartesian\n",
    "import racks\n",
    "import calibration\n",
    "import samples\n",
    "import json\n",
    "import importlib\n",
    "import random as rnd\n",
    "import time\n",
    "import low_level_comm as llc"
   ]
  },
  {
   "cell_type": "code",
   "execution_count": 5,
   "metadata": {},
   "outputs": [],
   "source": [
    "import configparser"
   ]
  },
  {
   "cell_type": "code",
   "execution_count": 6,
   "metadata": {},
   "outputs": [
    {
     "data": {
      "text/plain": [
       "['COM3', 'COM6', 'COM10']"
      ]
     },
     "execution_count": 6,
     "metadata": {},
     "output_type": "execute_result"
    }
   ],
   "source": [
    "llc.listSerialPorts()"
   ]
  },
  {
   "cell_type": "code",
   "execution_count": null,
   "metadata": {},
   "outputs": [],
   "source": []
  },
  {
   "cell_type": "markdown",
   "metadata": {},
   "source": [
    "# Plate class"
   ]
  },
  {
   "cell_type": "code",
   "execution_count": 7,
   "metadata": {},
   "outputs": [],
   "source": [
    "class plate():\n",
    "    \"\"\"\n",
    "    Handles plates. Plate may be a real \"plate\", such as 96-well plate, or the other\n",
    "    type of sample array. For example, 8-PCR tube stripe is also considered a plate.\n",
    "    \"\"\"\n",
    "    \n",
    "    #TODO: Sometimes plates are smaller than corresponding racks. Need capability to shift\n",
    "    # plate related to rack\n",
    "    \n",
    "    def __init__(self, plate_name, plate_type):\n",
    "        \"\"\"\n",
    "        Initializes plate of samples (array of samples)\n",
    "        \n",
    "        There should be a config files placed in configs/%plate_type%.ini and configs/%plate_type%_well.ini\n",
    "        \"\"\"\n",
    "        \n",
    "        self.plate_data = {}\n",
    "        # Reading parameters for config file\n",
    "        config = configparser.ConfigParser()\n",
    "        config_path = 'configs/' + plate_type + '.ini'\n",
    "        config.read(config_path)\n",
    "        \n",
    "        self.columns = int(config['wells']['columns'])\n",
    "        self.rows = int(config['wells']['rows'])\n",
    "        self.dist_between_cols = float(config['wells']['distance_between_columns'])\n",
    "        self.dist_between_rows = float(config['wells']['distance_between_rows'])\n",
    "        self.dist_cntr_to_1st_col = float(config['wells']['distance_center_to_1st_column'])\n",
    "        self.dist_cntr_to_1st_row = float(config['wells']['distance_center_to_1st_row'])\n",
    "\n",
    "        self.samples_list = self._initSamples(plate_name, plate_type)\n",
    "        \n",
    "    def _initSamples(self, plate_name, plate_type):\n",
    "        samples_list = []\n",
    "        for col in range(self.columns):\n",
    "            for row in range(self.rows):\n",
    "                s_name = plate_name + '_col_' + str(col) + '_row_' + str(row)\n",
    "                s = samples.sample(sample_name=s_name, sample_type=plate_type+'_well')\n",
    "                # Setting a position of a sample\n",
    "                s.sample_data['x_well'] = col\n",
    "                s.sample_data['y_well'] = row\n",
    "                samples_list.append(s)\n",
    "        return samples_list\n",
    "    \n",
    "    def getSample(self, column, row):\n",
    "        for s in self.samples_list:\n",
    "            if (s.sample_data['x_well'] == column) and (s.sample_data['y_well'] == row):\n",
    "                return s\n",
    "            \n",
    "    def getSamples(self, col_row_list):\n",
    "        \"\"\"\n",
    "        Returns list of samples objects\n",
    "        Input:\n",
    "            col_row_list\n",
    "                List of sample coordinates in the plate. Each coordinate is 2 element list: [column, row]\n",
    "                Example: [[3, 1], [6, 7], [11, 0]]\n",
    "        Returns:\n",
    "            List of sample objects\n",
    "        \"\"\"\n",
    "        samples_to_return_list = []\n",
    "        for col_row in col_row_list:\n",
    "            col = col_row[0]\n",
    "            row = col_row[1]\n",
    "            s = self.getSample(col, row)\n",
    "            samples_to_return_list.append(s)\n",
    "        return samples_to_return_list\n",
    "    \n",
    "    def getAllSamples(self):\n",
    "        return self.samples_list\n",
    "    \n",
    "    def place(self, rack):\n",
    "        self.plate_data['rack'] = rack\n",
    "        sample_list = self.getAllSamples()\n",
    "        for s in sample_list:\n",
    "            s.sample_data['rack'] = rack"
   ]
  },
  {
   "cell_type": "code",
   "execution_count": 8,
   "metadata": {},
   "outputs": [],
   "source": [
    "# I have to create a new json file with all the parameters\n",
    "# This is the relation of liquid volume and the distance from the liquid leve to the top of the tube\n",
    "# The tube has no markings, so I have to fill the tube with liquid and manually measure its level\n",
    "vol_vs_z = {\n",
    "    0: 20.0,\n",
    "    50: 13.77,\n",
    "    80: 11.24,\n",
    "    100: 10.30,\n",
    "    150: 8.26,\n",
    "    200: 5.88,\n",
    "    250: 3.50,\n",
    "    300: 1.40,\n",
    "}"
   ]
  },
  {
   "cell_type": "code",
   "execution_count": 9,
   "metadata": {},
   "outputs": [],
   "source": [
    "# Now this is the value on how much the tube extends above the rack\n",
    "sample_top_dz = {\n",
    "    \"96wells_rack\": 8.4,\n",
    "}"
   ]
  },
  {
   "cell_type": "code",
   "execution_count": 10,
   "metadata": {},
   "outputs": [],
   "source": [
    "# Info on how to grab the tube with a gripper\n",
    "# This is a plate well, so gripper parameters are of entire plate.\n",
    "# Those exact parameters may not be used at all.\n",
    "# Those parameters need to be found experimentally as well\n",
    "gripper_param = {\n",
    "    \"open_to_approach_uncapped\": 80,\n",
    "    \"grip_uncapped\": 76,\n",
    "}"
   ]
  },
  {
   "cell_type": "code",
   "execution_count": 11,
   "metadata": {},
   "outputs": [],
   "source": [
    "param = {\n",
    "    'volume_vs_z': vol_vs_z,\n",
    "    'sample_top_dz': sample_top_dz,\n",
    "    'gripper_param': gripper_param,\n",
    "        }"
   ]
  },
  {
   "cell_type": "code",
   "execution_count": 12,
   "metadata": {},
   "outputs": [],
   "source": [
    "with open('configs/PCR_Plate_well.json', 'w') as fp:\n",
    "    json.dump(param, fp)"
   ]
  },
  {
   "cell_type": "markdown",
   "metadata": {},
   "source": [
    "# Testing plate class"
   ]
  },
  {
   "cell_type": "code",
   "execution_count": 83,
   "metadata": {},
   "outputs": [],
   "source": [
    "p = plate('test_plate', 'PCR_Plate')"
   ]
  },
  {
   "cell_type": "code",
   "execution_count": 14,
   "metadata": {},
   "outputs": [],
   "source": [
    "rack96well = racks.rack(rack_name='96well_rack', rack_type='96wells_rack')\n",
    "r50 = racks.rack(rack_name='50mL_rack_1', rack_type='50mL')"
   ]
  },
  {
   "cell_type": "code",
   "execution_count": 15,
   "metadata": {},
   "outputs": [
    {
     "data": {
      "text/plain": [
       "{'sample_name': 'test_plate_col_0_row_0',\n",
       " 'sample_type': 'PCR_Plate_well',\n",
       " 'x_well': 0,\n",
       " 'y_well': 0}"
      ]
     },
     "execution_count": 15,
     "metadata": {},
     "output_type": "execute_result"
    }
   ],
   "source": [
    "p.getSamples([[0, 0], [4, 7], [11, 7]])[0].sample_data"
   ]
  },
  {
   "cell_type": "code",
   "execution_count": 84,
   "metadata": {},
   "outputs": [],
   "source": [
    "p.place(rack96well)"
   ]
  },
  {
   "cell_type": "code",
   "execution_count": 17,
   "metadata": {},
   "outputs": [
    {
     "data": {
      "text/plain": [
       "{'sample_name': 'test_plate_col_0_row_0',\n",
       " 'sample_type': 'PCR_Plate_well',\n",
       " 'x_well': 0,\n",
       " 'y_well': 0,\n",
       " 'rack': <racks.rack at 0x2013fe31488>}"
      ]
     },
     "execution_count": 17,
     "metadata": {},
     "output_type": "execute_result"
    }
   ],
   "source": [
    "p.getSamples([[0, 0], [4, 7], [11, 7]])[0].sample_data"
   ]
  },
  {
   "cell_type": "code",
   "execution_count": 31,
   "metadata": {},
   "outputs": [],
   "source": [
    "water = samples.sample(sample_name='water', sample_type='50mL_tube')\n",
    "water.place(r50, 0, 0)\n",
    "water.setVolume(17500)"
   ]
  },
  {
   "cell_type": "code",
   "execution_count": 19,
   "metadata": {},
   "outputs": [],
   "source": [
    "p1000_tip_rack = racks.consumables(rack_name='p1000_tips_1', rack_type='p1000_tips')"
   ]
  },
  {
   "cell_type": "code",
   "execution_count": 20,
   "metadata": {},
   "outputs": [],
   "source": [
    "waste_rack = racks.rack(rack_name='waste', rack_type='waste_rack', x_slot=5, y_slot=3)"
   ]
  },
  {
   "cell_type": "markdown",
   "metadata": {},
   "source": [
    "# Pipetting"
   ]
  },
  {
   "cell_type": "code",
   "execution_count": 26,
   "metadata": {},
   "outputs": [],
   "source": [
    "ar = cartesian.arnie(cartesian_port=\"COM10\", docker_port=\"COM6\")"
   ]
  },
  {
   "cell_type": "code",
   "execution_count": 137,
   "metadata": {},
   "outputs": [],
   "source": [
    "ar.home()"
   ]
  },
  {
   "cell_type": "code",
   "execution_count": 28,
   "metadata": {},
   "outputs": [],
   "source": [
    "stp = tools.stationary_touch_probe(ar)"
   ]
  },
  {
   "cell_type": "code",
   "execution_count": 72,
   "metadata": {},
   "outputs": [],
   "source": [
    "p1000 = tools.pipettor.getTool(robot=ar, tool_name='p1000_tool')"
   ]
  },
  {
   "cell_type": "code",
   "execution_count": 73,
   "metadata": {},
   "outputs": [],
   "source": [
    "xt, yt, zt = calibration.calibrateTool(p1000, stp)"
   ]
  },
  {
   "cell_type": "code",
   "execution_count": 68,
   "metadata": {},
   "outputs": [],
   "source": [
    "xn, yn = p1000_tip_rack.getNextConsumable()\n",
    "p1000.pickUpTip(p1000_tip_rack, xn, yn, raise_z=400)"
   ]
  },
  {
   "cell_type": "code",
   "execution_count": 22,
   "metadata": {},
   "outputs": [],
   "source": [
    "samples_list = p.getAllSamples()"
   ]
  },
  {
   "cell_type": "code",
   "execution_count": 70,
   "metadata": {},
   "outputs": [],
   "source": [
    "vol_list = []\n",
    "for s in samples_list:\n",
    "    vol_list.append(50)"
   ]
  },
  {
   "cell_type": "code",
   "execution_count": 71,
   "metadata": {},
   "outputs": [
    {
     "data": {
      "text/plain": [
       "{'sample_name': 'test_plate_col_0_row_0',\n",
       " 'sample_type': 'PCR_Plate_well',\n",
       " 'x_well': 0,\n",
       " 'y_well': 0,\n",
       " 'rack': <racks.rack at 0x1af82be75c8>}"
      ]
     },
     "execution_count": 71,
     "metadata": {},
     "output_type": "execute_result"
    }
   ],
   "source": [
    "samples_list[0].sample_data"
   ]
  },
  {
   "cell_type": "code",
   "execution_count": 72,
   "metadata": {},
   "outputs": [
    {
     "data": {
      "text/plain": [
       "{'sample_name': 'test_plate_col_0_row_1',\n",
       " 'sample_type': 'PCR_Plate_well',\n",
       " 'x_well': 0,\n",
       " 'y_well': 1,\n",
       " 'rack': <racks.rack at 0x1af82be75c8>}"
      ]
     },
     "execution_count": 72,
     "metadata": {},
     "output_type": "execute_result"
    }
   ],
   "source": [
    "samples_list[1].sample_data"
   ]
  },
  {
   "cell_type": "code",
   "execution_count": 65,
   "metadata": {},
   "outputs": [],
   "source": [
    "p1000.getToSample(samples_list[2])"
   ]
  },
  {
   "cell_type": "code",
   "execution_count": 67,
   "metadata": {},
   "outputs": [],
   "source": [
    "ar.move(z=350)"
   ]
  },
  {
   "cell_type": "code",
   "execution_count": 73,
   "metadata": {},
   "outputs": [],
   "source": [
    "p1000.distributeLiquid(water, samples_list, vol_list, raise_z=320)"
   ]
  },
  {
   "cell_type": "code",
   "execution_count": 48,
   "metadata": {},
   "outputs": [],
   "source": [
    "ar.move(z=0)"
   ]
  },
  {
   "cell_type": "code",
   "execution_count": 34,
   "metadata": {},
   "outputs": [],
   "source": [
    "p1000.dropTipToWaste(waste_rack, raise_z=300)"
   ]
  },
  {
   "cell_type": "code",
   "execution_count": 110,
   "metadata": {},
   "outputs": [],
   "source": [
    "p1000.returnTool()"
   ]
  },
  {
   "cell_type": "markdown",
   "metadata": {},
   "source": [
    "# Gradient"
   ]
  },
  {
   "cell_type": "code",
   "execution_count": 23,
   "metadata": {},
   "outputs": [],
   "source": [
    "def generateGradient(sample_list, axis, vol_list):\n",
    "    plate_vol_list = []\n",
    "    if axis == 'x':\n",
    "        key = 'x_well'\n",
    "    else:\n",
    "        key = 'y_well'\n",
    "    for s in sample_list:\n",
    "        well = s.sample_data[key]\n",
    "        plate_vol_list.append(vol_list[well])\n",
    "    return plate_vol_list"
   ]
  },
  {
   "cell_type": "code",
   "execution_count": 92,
   "metadata": {},
   "outputs": [],
   "source": [
    "def calcBuffer(max_vol, volumes_list):\n",
    "    buffer_vol_list = []\n",
    "    le = len(volumes_list[0])\n",
    "    for i in range(le):\n",
    "        vol_reagents = 0\n",
    "        for reagent_vol_list in volumes_list:\n",
    "            single_reagent_vol = reagent_vol_list[i]\n",
    "            vol_reagents = vol_reagents + single_reagent_vol\n",
    "        buffer_vol = max_vol - vol_reagents\n",
    "        if buffer_vol < 0:\n",
    "            buffer_vol = 0\n",
    "        buffer_vol_list.append(buffer_vol)\n",
    "    return buffer_vol_list"
   ]
  },
  {
   "cell_type": "code",
   "execution_count": 85,
   "metadata": {},
   "outputs": [],
   "source": [
    "blue_gradient = generateGradient(samples_list, 'x', [0, 2, 5, 10, 20, 30, 40, 50, 75, 100, 125, 150])"
   ]
  },
  {
   "cell_type": "code",
   "execution_count": 87,
   "metadata": {},
   "outputs": [],
   "source": [
    "red_gradient = generateGradient(samples_list, 'y', [0, 5, 10, 25, 50, 75, 100, 150])"
   ]
  },
  {
   "cell_type": "code",
   "execution_count": 93,
   "metadata": {},
   "outputs": [],
   "source": [
    "buffer_vols = calcBuffer(300, [blue_gradient, red_gradient])"
   ]
  },
  {
   "cell_type": "code",
   "execution_count": 126,
   "metadata": {},
   "outputs": [],
   "source": [
    "def pickSamplesForPipette(samples_list, vol_list):\n",
    "    red_sample_list = []\n",
    "    red_vol_list = []\n",
    "    green_sample_list = []\n",
    "    green_vol_list = []\n",
    "    blue_sample_list = []\n",
    "    blue_vol_list = []\n",
    "    for vol, sample in zip(vol_list, samples_list):\n",
    "        if vol > 0 and vol <= 20:\n",
    "            red_sample_list.append(sample)\n",
    "            red_vol_list.append(vol)\n",
    "        elif vol > 20 and vol <= 200:\n",
    "            green_sample_list.append(sample)\n",
    "            green_vol_list.append(vol)\n",
    "        elif vol > 200:\n",
    "            blue_sample_list.append(sample)\n",
    "            blue_vol_list.append(vol)\n",
    "    return {'p20': (red_sample_list, red_vol_list),\n",
    "            'p200': (green_sample_list, green_vol_list),\n",
    "            'p1000': (blue_sample_list, blue_vol_list)}"
   ]
  },
  {
   "cell_type": "code",
   "execution_count": 129,
   "metadata": {},
   "outputs": [],
   "source": [
    "buffer_vols_dict = pickSamplesForPipette(p.getAllSamples(), buffer_vols)\n",
    "blue_vols_dict = pickSamplesForPipette(p.getAllSamples(), blue_gradient)\n",
    "red_vols_dict = pickSamplesForPipette(p.getAllSamples(), red_gradient)"
   ]
  },
  {
   "cell_type": "code",
   "execution_count": 139,
   "metadata": {},
   "outputs": [],
   "source": [
    "p = plate('gradient', 'PCR_Plate')\n",
    "rack96well = racks.rack(rack_name='96well_rack', rack_type='96wells_rack')\n",
    "p.place(rack96well)"
   ]
  },
  {
   "cell_type": "code",
   "execution_count": 136,
   "metadata": {},
   "outputs": [
    {
     "data": {
      "text/plain": [
       "([<samples.sample at 0x2014015c708>,\n",
       "  <samples.sample at 0x201401fc248>,\n",
       "  <samples.sample at 0x201401f5cc8>,\n",
       "  <samples.sample at 0x20140248188>,\n",
       "  <samples.sample at 0x2013fcb0708>,\n",
       "  <samples.sample at 0x201401cb088>,\n",
       "  <samples.sample at 0x20140318548>,\n",
       "  <samples.sample at 0x2014032a208>,\n",
       "  <samples.sample at 0x201408ad708>,\n",
       "  <samples.sample at 0x2013fdaf908>,\n",
       "  <samples.sample at 0x20140186608>,\n",
       "  <samples.sample at 0x201401a1608>,\n",
       "  <samples.sample at 0x20140304688>,\n",
       "  <samples.sample at 0x20140274608>,\n",
       "  <samples.sample at 0x2013fbbc848>,\n",
       "  <samples.sample at 0x20140248208>,\n",
       "  <samples.sample at 0x201401fcf48>,\n",
       "  <samples.sample at 0x2014069b348>,\n",
       "  <samples.sample at 0x201401b2148>,\n",
       "  <samples.sample at 0x201406c82c8>,\n",
       "  <samples.sample at 0x201406ce508>,\n",
       "  <samples.sample at 0x201406df7c8>,\n",
       "  <samples.sample at 0x201406eca48>,\n",
       "  <samples.sample at 0x201406f7108>,\n",
       "  <samples.sample at 0x201406ece08>,\n",
       "  <samples.sample at 0x201406d4e88>,\n",
       "  <samples.sample at 0x201401b2c08>,\n",
       "  <samples.sample at 0x201401b5188>,\n",
       "  <samples.sample at 0x2014018d148>,\n",
       "  <samples.sample at 0x20140248c48>,\n",
       "  <samples.sample at 0x20140181dc8>,\n",
       "  <samples.sample at 0x2014070b688>,\n",
       "  <samples.sample at 0x20140713408>,\n",
       "  <samples.sample at 0x2014071a4c8>,\n",
       "  <samples.sample at 0x20140723348>,\n",
       "  <samples.sample at 0x20140749808>,\n",
       "  <samples.sample at 0x20140742048>,\n",
       "  <samples.sample at 0x201407324c8>,\n",
       "  <samples.sample at 0x20140726788>,\n",
       "  <samples.sample at 0x2014071a508>,\n",
       "  <samples.sample at 0x2014014d108>,\n",
       "  <samples.sample at 0x201408b5448>,\n",
       "  <samples.sample at 0x201406e46c8>,\n",
       "  <samples.sample at 0x201406f3108>,\n",
       "  <samples.sample at 0x2014077c108>,\n",
       "  <samples.sample at 0x20140785c88>,\n",
       "  <samples.sample at 0x20140782908>],\n",
       " [300,\n",
       "  295,\n",
       "  290,\n",
       "  275,\n",
       "  250,\n",
       "  225,\n",
       "  298,\n",
       "  293,\n",
       "  288,\n",
       "  273,\n",
       "  248,\n",
       "  223,\n",
       "  295,\n",
       "  290,\n",
       "  285,\n",
       "  270,\n",
       "  245,\n",
       "  220,\n",
       "  290,\n",
       "  285,\n",
       "  280,\n",
       "  265,\n",
       "  240,\n",
       "  215,\n",
       "  280,\n",
       "  275,\n",
       "  270,\n",
       "  255,\n",
       "  230,\n",
       "  205,\n",
       "  270,\n",
       "  265,\n",
       "  260,\n",
       "  245,\n",
       "  220,\n",
       "  260,\n",
       "  255,\n",
       "  250,\n",
       "  235,\n",
       "  210,\n",
       "  250,\n",
       "  245,\n",
       "  240,\n",
       "  225,\n",
       "  225,\n",
       "  220,\n",
       "  215])"
      ]
     },
     "execution_count": 136,
     "metadata": {},
     "output_type": "execute_result"
    }
   ],
   "source": [
    "buffer_vols_dict['p1000']"
   ]
  },
  {
   "cell_type": "code",
   "execution_count": 154,
   "metadata": {},
   "outputs": [],
   "source": [
    "p200_tip_rack = racks.consumables(rack_name='p200_tips_1', rack_type='p200_tips')\n",
    "p20_tip_rack = racks.consumables(rack_name='p20_tips_1', rack_type='p20_tips')"
   ]
  },
  {
   "cell_type": "code",
   "execution_count": 140,
   "metadata": {},
   "outputs": [],
   "source": [
    "# Filling bigger volumes\n",
    "p1000 = tools.pipettor.getTool(robot=ar, tool_name='p1000_tool')\n",
    "xt, yt, zt = calibration.calibrateTool(p1000, stp)\n",
    "\n",
    "xn, yn = p1000_tip_rack.getNextConsumable()\n",
    "p1000.pickUpTip(p1000_tip_rack, xn, yn, raise_z=400)\n",
    "samples_list = buffer_vols_dict['p1000'][0]\n",
    "volumes_list = buffer_vols_dict['p1000'][1]\n",
    "p1000.distributeLiquid(yellow, samples_list, volumes_list, raise_z=320, touch_wall=True)\n",
    "p1000.dropTipToWaste(waste_rack, raise_z=300)\n",
    "\n",
    "p1000.returnTool()"
   ]
  },
  {
   "cell_type": "code",
   "execution_count": 141,
   "metadata": {},
   "outputs": [],
   "source": [
    "# Filling medium volumes\n",
    "p200 = tools.pipettor.getTool(robot=ar, tool_name='p200_tool')\n",
    "xt, yt, zt = calibration.calibrateTool(p200, stp)\n",
    "\n",
    "xn, yn = p200_tip_rack.getNextConsumable()\n",
    "p200.pickUpTip(p200_tip_rack, xn, yn, raise_z=400)\n",
    "samples_list = buffer_vols_dict['p200'][0]\n",
    "volumes_list = buffer_vols_dict['p200'][1]\n",
    "p200.distributeLiquid(yellow, samples_list, volumes_list, raise_z=400, touch_wall=True)\n",
    "p200.dropTipToWaste(waste_rack, raise_z=350)\n",
    "\n",
    "xn, yn = p200_tip_rack.getNextConsumable()\n",
    "p200.pickUpTip(p200_tip_rack, xn, yn, raise_z=400)\n",
    "samples_list = blue_vols_dict['p200'][0]\n",
    "volumes_list = blue_vols_dict['p200'][1]\n",
    "p200.distributeLiquid(blue, samples_list, volumes_list, raise_z=400, touch_wall=True)\n",
    "p200.dropTipToWaste(waste_rack, raise_z=350)\n",
    "\n",
    "xn, yn = p200_tip_rack.getNextConsumable()\n",
    "p200.pickUpTip(p200_tip_rack, xn, yn, raise_z=400)\n",
    "samples_list = red_vols_dict['p200'][0]\n",
    "volumes_list = red_vols_dict['p200'][1]\n",
    "p200.distributeLiquid(red, samples_list, volumes_list, raise_z=400, touch_wall=True)\n",
    "p200.dropTipToWaste(waste_rack, raise_z=350)\n",
    "\n",
    "p200.returnTool()"
   ]
  },
  {
   "cell_type": "code",
   "execution_count": 155,
   "metadata": {},
   "outputs": [],
   "source": [
    "# Filling smaller volumes\n",
    "p20 = tools.pipettor.getTool(robot=ar, tool_name='p20_tool')\n",
    "xt, yt, zt = calibration.calibrateTool(p20, stp)\n",
    "\n",
    "xn, yn = p20_tip_rack.getNextConsumable()\n",
    "p20.pickUpTip(p20_tip_rack, xn, yn, raise_z=400)\n",
    "samples_list = blue_vols_dict['p20'][0]\n",
    "volumes_list = blue_vols_dict['p20'][1]\n",
    "p20.distributeLiquid(blue, samples_list, volumes_list, raise_z=400, touch_wall=True)\n",
    "p20.dropTipToWaste(waste_rack, raise_z=350)\n",
    "\n",
    "xn, yn = p20_tip_rack.getNextConsumable()\n",
    "p20.pickUpTip(p20_tip_rack, xn, yn, raise_z=400)\n",
    "samples_list = red_vols_dict['p20'][0]\n",
    "volumes_list = red_vols_dict['p20'][1]\n",
    "p20.distributeLiquid(red, samples_list, volumes_list, raise_z=400, touch_wall=True)\n",
    "p20.dropTipToWaste(waste_rack, raise_z=350)\n",
    "\n",
    "p20.returnTool()"
   ]
  },
  {
   "cell_type": "code",
   "execution_count": 149,
   "metadata": {},
   "outputs": [],
   "source": [
    "p20.dropTipToWaste(waste_rack, raise_z=350)"
   ]
  },
  {
   "cell_type": "code",
   "execution_count": 150,
   "metadata": {},
   "outputs": [],
   "source": [
    "p20.returnTool()"
   ]
  },
  {
   "cell_type": "code",
   "execution_count": 119,
   "metadata": {},
   "outputs": [],
   "source": [
    "p200.dropTipToWaste(waste_rack, raise_z=300)"
   ]
  },
  {
   "cell_type": "code",
   "execution_count": 120,
   "metadata": {},
   "outputs": [],
   "source": [
    "p200.returnTool()"
   ]
  },
  {
   "cell_type": "code",
   "execution_count": 156,
   "metadata": {},
   "outputs": [],
   "source": [
    "ar.home()"
   ]
  },
  {
   "cell_type": "code",
   "execution_count": 32,
   "metadata": {},
   "outputs": [],
   "source": [
    "xn, yn = p1000_tip_rack.getNextConsumable()\n",
    "p1000.pickUpTip(p1000_tip_rack, xn, yn, raise_z=400)"
   ]
  },
  {
   "cell_type": "code",
   "execution_count": 33,
   "metadata": {},
   "outputs": [],
   "source": [
    "p1000.distributeLiquid(water, samples_list, vol_list, raise_z=320)"
   ]
  },
  {
   "cell_type": "code",
   "execution_count": null,
   "metadata": {},
   "outputs": [],
   "source": []
  },
  {
   "cell_type": "code",
   "execution_count": null,
   "metadata": {},
   "outputs": [],
   "source": []
  },
  {
   "cell_type": "code",
   "execution_count": 57,
   "metadata": {},
   "outputs": [],
   "source": [
    "ep1 = racks.rack(rack_name='eppendorf_1', rack_type='eppendorf')"
   ]
  },
  {
   "cell_type": "code",
   "execution_count": 58,
   "metadata": {},
   "outputs": [
    {
     "data": {
      "text/plain": [
       "[None, None, None, None, None]"
      ]
     },
     "execution_count": 58,
     "metadata": {},
     "output_type": "execute_result"
    }
   ],
   "source": [
    "sample_list = [samples.sample(sample_name='t_ep_'+str(x), sample_type='eppendorf_tube') for x in range(5)]\n",
    "[x[0].place(ep1, x[1], 3) for x in zip(sample_list, range(5))]"
   ]
  },
  {
   "cell_type": "code",
   "execution_count": 59,
   "metadata": {},
   "outputs": [],
   "source": [
    "p1000.pickUpTip(p1000_tip_rack, xn, yn, raise_z=350)"
   ]
  },
  {
   "cell_type": "code",
   "execution_count": 60,
   "metadata": {},
   "outputs": [],
   "source": [
    "ethanol_vol_list = [200 for x in sample_list]"
   ]
  },
  {
   "cell_type": "code",
   "execution_count": 61,
   "metadata": {},
   "outputs": [],
   "source": [
    "p1000.distributeLiquid(water, sample_list, ethanol_vol_list, raise_z=350)"
   ]
  },
  {
   "cell_type": "markdown",
   "metadata": {},
   "source": [
    "# Michigan"
   ]
  },
  {
   "cell_type": "code",
   "execution_count": 138,
   "metadata": {},
   "outputs": [],
   "source": [
    "yellow = samples.sample(sample_name='yellow', sample_type='50mL_tube')\n",
    "yellow.place(r50, 0, 0)\n",
    "yellow.setVolume(50000)"
   ]
  },
  {
   "cell_type": "code",
   "execution_count": 36,
   "metadata": {},
   "outputs": [],
   "source": [
    "red = samples.sample(sample_name='red', sample_type='50mL_tube')\n",
    "red.place(r50, 1, 0)\n",
    "red.setVolume(50000)"
   ]
  },
  {
   "cell_type": "code",
   "execution_count": 37,
   "metadata": {},
   "outputs": [],
   "source": [
    "blue = samples.sample(sample_name='blue', sample_type='50mL_tube')\n",
    "blue.place(r50, 2, 0)\n",
    "blue.setVolume(50000)"
   ]
  },
  {
   "cell_type": "code",
   "execution_count": 60,
   "metadata": {},
   "outputs": [],
   "source": [
    "p = plate('michigan', 'PCR_Plate')\n",
    "rack96well = racks.rack(rack_name='96well_rack', rack_type='96wells_rack')\n",
    "p.place(rack96well)"
   ]
  },
  {
   "cell_type": "code",
   "execution_count": 61,
   "metadata": {},
   "outputs": [],
   "source": [
    "blue_coord_truth_table = [\n",
    "    [1, 1, 1, 0, 0, 0, 0, 0, 0, 1, 1, 1],\n",
    "    [0, 1, 1, 1, 0, 0, 0, 0, 1, 1, 1, 0],\n",
    "    [0, 1, 1, 1, 1, 0, 0, 1, 1, 1, 1, 0],\n",
    "    [0, 1, 1, 1, 1, 1, 1, 1, 1, 1, 1, 0],\n",
    "    [0, 1, 1, 0, 1, 1, 1, 1, 0, 1, 1, 0],\n",
    "    [0, 1, 1, 0, 0, 1, 1, 0, 0, 1, 1, 0],\n",
    "    [0, 1, 1, 0, 0, 0, 0, 0, 0, 1, 1, 0],\n",
    "    [1, 1, 1, 1, 0, 0, 0, 0, 1, 1, 1, 1],\n",
    "]"
   ]
  },
  {
   "cell_type": "code",
   "execution_count": 65,
   "metadata": {},
   "outputs": [],
   "source": [
    "blue_sample_list = []\n",
    "blue_vol_list = []\n",
    "yellow_sample_list = []\n",
    "yellow_vol_list = []\n",
    "row_count = 0\n",
    "col_count = 0\n",
    "for i in blue_coord_truth_table:\n",
    "    for j in i:\n",
    "        s = p.getSample(column=col_count, row=row_count)\n",
    "        if j == 1:\n",
    "            blue_sample_list.append(s)\n",
    "            blue_vol_list.append(200)\n",
    "        else:\n",
    "            yellow_sample_list.append(s)\n",
    "            yellow_vol_list.append(200)\n",
    "        col_count += 1\n",
    "    row_count += 1\n",
    "    col_count = 0"
   ]
  },
  {
   "cell_type": "code",
   "execution_count": 66,
   "metadata": {},
   "outputs": [
    {
     "data": {
      "text/plain": [
       "56"
      ]
     },
     "execution_count": 66,
     "metadata": {},
     "output_type": "execute_result"
    }
   ],
   "source": [
    "len(blue_sample_list)"
   ]
  },
  {
   "cell_type": "code",
   "execution_count": 67,
   "metadata": {},
   "outputs": [
    {
     "data": {
      "text/plain": [
       "40"
      ]
     },
     "execution_count": 67,
     "metadata": {},
     "output_type": "execute_result"
    }
   ],
   "source": [
    "len(yellow_sample_list)"
   ]
  },
  {
   "cell_type": "code",
   "execution_count": 69,
   "metadata": {},
   "outputs": [
    {
     "data": {
      "text/plain": [
       "56"
      ]
     },
     "execution_count": 69,
     "metadata": {},
     "output_type": "execute_result"
    }
   ],
   "source": [
    "len(blue_vol_list)"
   ]
  },
  {
   "cell_type": "code",
   "execution_count": 70,
   "metadata": {},
   "outputs": [
    {
     "data": {
      "text/plain": [
       "40"
      ]
     },
     "execution_count": 70,
     "metadata": {},
     "output_type": "execute_result"
    }
   ],
   "source": [
    "len(yellow_vol_list)"
   ]
  },
  {
   "cell_type": "code",
   "execution_count": 75,
   "metadata": {},
   "outputs": [],
   "source": [
    "xn, yn = p1000_tip_rack.getNextConsumable()\n",
    "p1000.pickUpTip(p1000_tip_rack, xn, yn, raise_z=400)"
   ]
  },
  {
   "cell_type": "code",
   "execution_count": 76,
   "metadata": {},
   "outputs": [],
   "source": [
    "p1000.distributeLiquid(yellow, yellow_sample_list, yellow_vol_list, raise_z=320, touch_wall=True)"
   ]
  },
  {
   "cell_type": "code",
   "execution_count": 77,
   "metadata": {},
   "outputs": [],
   "source": [
    "ar.move(z=300)"
   ]
  },
  {
   "cell_type": "code",
   "execution_count": 81,
   "metadata": {},
   "outputs": [],
   "source": [
    "p1000.dropTipToWaste(waste_rack, raise_z=300)"
   ]
  },
  {
   "cell_type": "code",
   "execution_count": 79,
   "metadata": {},
   "outputs": [],
   "source": [
    "xn, yn = p1000_tip_rack.getNextConsumable()\n",
    "p1000.pickUpTip(p1000_tip_rack, xn, yn, raise_z=400)"
   ]
  },
  {
   "cell_type": "code",
   "execution_count": 80,
   "metadata": {},
   "outputs": [],
   "source": [
    "p1000.distributeLiquid(blue, blue_sample_list, blue_vol_list, raise_z=320, touch_wall=True)"
   ]
  },
  {
   "cell_type": "code",
   "execution_count": null,
   "metadata": {},
   "outputs": [],
   "source": []
  }
 ],
 "metadata": {
  "kernelspec": {
   "display_name": "Python 3",
   "language": "python",
   "name": "python3"
  },
  "language_info": {
   "codemirror_mode": {
    "name": "ipython",
    "version": 3
   },
   "file_extension": ".py",
   "mimetype": "text/x-python",
   "name": "python",
   "nbconvert_exporter": "python",
   "pygments_lexer": "ipython3",
   "version": "3.7.4"
  }
 },
 "nbformat": 4,
 "nbformat_minor": 2
}
