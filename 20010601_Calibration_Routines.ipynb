{
 "cells": [
  {
   "cell_type": "markdown",
   "metadata": {},
   "source": [
    "# In case tool is stuck in the robot"
   ]
  },
  {
   "cell_type": "code",
   "execution_count": 8,
   "metadata": {},
   "outputs": [],
   "source": [
    "import low_level_comm as llc\n",
    "import cartesian\n",
    "import tools"
   ]
  },
  {
   "cell_type": "code",
   "execution_count": 10,
   "metadata": {},
   "outputs": [],
   "source": [
    "ar = cartesian.arnie('COM4')\n",
    "ar.home()"
   ]
  },
  {
   "cell_type": "code",
   "execution_count": 11,
   "metadata": {},
   "outputs": [
    {
     "ename": "TypeError",
     "evalue": "__init__() got an unexpected keyword argument 'tool_name'",
     "output_type": "error",
     "traceback": [
      "\u001b[1;31m---------------------------------------------------------------------------\u001b[0m",
      "\u001b[1;31mTypeError\u001b[0m                                 Traceback (most recent call last)",
      "\u001b[1;32m<ipython-input-11-563ff517ed1b>\u001b[0m in \u001b[0;36m<module>\u001b[1;34m\u001b[0m\n\u001b[1;32m----> 1\u001b[1;33m \u001b[0mtp\u001b[0m \u001b[1;33m=\u001b[0m \u001b[0mtools\u001b[0m\u001b[1;33m.\u001b[0m\u001b[0mmobile_touch_probe\u001b[0m\u001b[1;33m(\u001b[0m\u001b[0mar\u001b[0m\u001b[1;33m,\u001b[0m \u001b[0mtool_name\u001b[0m\u001b[1;33m=\u001b[0m\u001b[1;34m'mobile_probe'\u001b[0m\u001b[1;33m,\u001b[0m \u001b[0mwelcome_message\u001b[0m\u001b[1;33m=\u001b[0m\u001b[1;34m'mobile touch probe'\u001b[0m\u001b[1;33m)\u001b[0m\u001b[1;33m\u001b[0m\u001b[1;33m\u001b[0m\u001b[0m\n\u001b[0m",
      "\u001b[1;31mTypeError\u001b[0m: __init__() got an unexpected keyword argument 'tool_name'"
     ]
    }
   ],
   "source": [
    "tp = tools.mobile_touch_probe(ar, tool_name='mobile_probe', welcome_message='mobile touch probe')"
   ]
  },
  {
   "cell_type": "code",
   "execution_count": null,
   "metadata": {},
   "outputs": [],
   "source": [
    "tp.isTouched()"
   ]
  },
  {
   "cell_type": "code",
   "execution_count": null,
   "metadata": {},
   "outputs": [],
   "source": [
    "tp.returnTool()"
   ]
  },
  {
   "cell_type": "code",
   "execution_count": 12,
   "metadata": {},
   "outputs": [],
   "source": [
    "ar.close()"
   ]
  },
  {
   "cell_type": "markdown",
   "metadata": {},
   "source": [
    "# Testing mobile_touch_probe.approachUntilTouch()"
   ]
  },
  {
   "cell_type": "code",
   "execution_count": 1,
   "metadata": {},
   "outputs": [],
   "source": [
    "import low_level_comm as llc\n",
    "import cartesian\n",
    "import tools\n",
    "from importlib import reload \n",
    "import logging"
   ]
  },
  {
   "cell_type": "code",
   "execution_count": 2,
   "metadata": {},
   "outputs": [],
   "source": [
    "!del arnietest.log"
   ]
  },
  {
   "cell_type": "code",
   "execution_count": 3,
   "metadata": {},
   "outputs": [],
   "source": [
    "logging.basicConfig(level=logging.DEBUG, \n",
    "                    format='%(asctime)s %(message)s',\n",
    "                    handlers=[logging.FileHandler(filename='arnietest.log')])\n",
    "logger = logging.getLogger()"
   ]
  },
  {
   "cell_type": "code",
   "execution_count": 4,
   "metadata": {},
   "outputs": [],
   "source": [
    "ar = cartesian.arnie('COM4')\n",
    "ar.home()"
   ]
  },
  {
   "cell_type": "code",
   "execution_count": 5,
   "metadata": {},
   "outputs": [],
   "source": [
    "touch_probe=tools.mobile_touch_probe.getTool(ar)"
   ]
  },
  {
   "cell_type": "code",
   "execution_count": 9,
   "metadata": {},
   "outputs": [],
   "source": [
    "ar.move(x=500, y=300)"
   ]
  },
  {
   "cell_type": "code",
   "execution_count": 7,
   "metadata": {},
   "outputs": [],
   "source": [
    "ar.move(z=599, speed_z=5000)"
   ]
  },
  {
   "cell_type": "code",
   "execution_count": 8,
   "metadata": {},
   "outputs": [
    {
     "name": "stdout",
     "output_type": "stream",
     "text": [
      "Mobile touch probe response: 0\n",
      "\n",
      "Mobile touch probe response: 0\n",
      "\n",
      "Mobile touch probe response: 0\n",
      "\n",
      "Mobile touch probe response: 0\n",
      "\n",
      "Mobile touch probe response: 0\n",
      "\n",
      "Mobile touch probe response: 0\n",
      "\n",
      "Mobile touch probe response: 0\n",
      "\n",
      "Mobile touch probe response: 0\n",
      "\n",
      "Mobile touch probe response: 0\n",
      "\n",
      "Mobile touch probe response: 0\n",
      "\n",
      "Mobile touch probe response: 0\n",
      "\n",
      "Mobile touch probe response: 1\n",
      "\n"
     ]
    },
    {
     "data": {
      "text/plain": [
       "(610.0, 300.0, 599.0)"
      ]
     },
     "execution_count": 8,
     "metadata": {},
     "output_type": "execute_result"
    }
   ],
   "source": [
    "touch_probe.approachUntilTouch('x', 10)"
   ]
  },
  {
   "cell_type": "code",
   "execution_count": 10,
   "metadata": {},
   "outputs": [
    {
     "name": "stdout",
     "output_type": "stream",
     "text": [
      "Mobile touch probe response: 0\n",
      "\n",
      "Mobile touch probe response: 0\n",
      "\n",
      "Mobile touch probe response: 0\n",
      "\n",
      "Mobile touch probe response: 0\n",
      "\n",
      "Mobile touch probe response: 1\n",
      "\n"
     ]
    },
    {
     "data": {
      "text/plain": [
       "(460.0, 300.0, 599.0)"
      ]
     },
     "execution_count": 10,
     "metadata": {},
     "output_type": "execute_result"
    }
   ],
   "source": [
    "touch_probe.approachUntilTouch('x', -10)"
   ]
  },
  {
   "cell_type": "code",
   "execution_count": 12,
   "metadata": {},
   "outputs": [],
   "source": [
    "ar.move(z=550, speed_z=5000)"
   ]
  },
  {
   "cell_type": "code",
   "execution_count": 13,
   "metadata": {},
   "outputs": [
    {
     "name": "stdout",
     "output_type": "stream",
     "text": [
      "Mobile touch probe response: 0\n",
      "\n",
      "Mobile touch probe response: 0\n",
      "\n",
      "Mobile touch probe response: 0\n",
      "\n",
      "Mobile touch probe response: 0\n",
      "\n",
      "Mobile touch probe response: 0\n",
      "\n",
      "Mobile touch probe response: 0\n",
      "\n",
      "Mobile touch probe response: 0\n",
      "\n",
      "Mobile touch probe response: 0\n",
      "\n",
      "Mobile touch probe response: 0\n",
      "\n",
      "Mobile touch probe response: 0\n",
      "\n",
      "Mobile touch probe response: 0\n",
      "\n",
      "Mobile touch probe response: 1\n",
      "\n"
     ]
    },
    {
     "data": {
      "text/plain": [
       "(500.0, 300.0, 605.0)"
      ]
     },
     "execution_count": 13,
     "metadata": {},
     "output_type": "execute_result"
    }
   ],
   "source": [
    "touch_probe.approachUntilTouch('z', 5)"
   ]
  },
  {
   "cell_type": "code",
   "execution_count": 23,
   "metadata": {},
   "outputs": [],
   "source": [
    "ar.move(z=599, speed_z=5000)\n",
    "ar.move(x=500, y=300)"
   ]
  },
  {
   "cell_type": "code",
   "execution_count": 24,
   "metadata": {},
   "outputs": [
    {
     "name": "stdout",
     "output_type": "stream",
     "text": [
      "Mobile touch probe response: 0\n",
      "\n",
      "Mobile touch probe response: 0\n",
      "\n",
      "Mobile touch probe response: 0\n",
      "\n",
      "Mobile touch probe response: 0\n",
      "\n",
      "Mobile touch probe response: 1\n",
      "\n"
     ]
    },
    {
     "data": {
      "text/plain": [
       "(460.0, 300.0, 599.0)"
      ]
     },
     "execution_count": 24,
     "metadata": {},
     "output_type": "execute_result"
    }
   ],
   "source": [
    "touch_probe.approachUntilTouch('x', -10)"
   ]
  },
  {
   "cell_type": "code",
   "execution_count": 25,
   "metadata": {},
   "outputs": [],
   "source": [
    "ar.move_delta(dx=10)"
   ]
  },
  {
   "cell_type": "code",
   "execution_count": 22,
   "metadata": {},
   "outputs": [
    {
     "name": "stdout",
     "output_type": "stream",
     "text": [
      "Mobile touch probe response: 0\n",
      "\n",
      "Mobile touch probe response: 0\n",
      "\n",
      "Mobile touch probe response: 0\n",
      "\n",
      "Mobile touch probe response: 0\n",
      "\n",
      "Mobile touch probe response: 0\n",
      "\n",
      "Mobile touch probe response: 0\n",
      "\n",
      "Mobile touch probe response: 1\n",
      "\n"
     ]
    },
    {
     "data": {
      "text/plain": [
       "(472.0, 330.0, 599.0)"
      ]
     },
     "execution_count": 22,
     "metadata": {},
     "output_type": "execute_result"
    }
   ],
   "source": [
    "touch_probe.approachUntilTouch('y', 5)"
   ]
  },
  {
   "cell_type": "code",
   "execution_count": 26,
   "metadata": {},
   "outputs": [
    {
     "name": "stdout",
     "output_type": "stream",
     "text": [
      "Mobile touch probe response: 0\n",
      "\n",
      "Mobile touch probe response: 0\n",
      "\n",
      "Mobile touch probe response: 0\n",
      "\n",
      "Mobile touch probe response: 0\n",
      "\n",
      "Mobile touch probe response: 0\n",
      "\n",
      "Mobile touch probe response: 0\n",
      "\n",
      "Mobile touch probe response: 0\n",
      "\n",
      "Mobile touch probe response: 0\n",
      "\n",
      "Mobile touch probe response: 0\n",
      "\n",
      "Mobile touch probe response: 0\n",
      "\n",
      "Mobile touch probe response: 0\n",
      "\n",
      "Mobile touch probe response: 0\n",
      "\n",
      "Mobile touch probe response: 1\n",
      "\n"
     ]
    },
    {
     "data": {
      "text/plain": [
       "(470.0, 240.0, 599.0)"
      ]
     },
     "execution_count": 26,
     "metadata": {},
     "output_type": "execute_result"
    }
   ],
   "source": [
    "touch_probe.approachUntilTouch('y', -5)"
   ]
  },
  {
   "cell_type": "code",
   "execution_count": 30,
   "metadata": {},
   "outputs": [],
   "source": [
    "import param"
   ]
  },
  {
   "cell_type": "code",
   "execution_count": 31,
   "metadata": {},
   "outputs": [],
   "source": [
    "[x, y, z] = param.getToolDockingPoint('mobile_probe')"
   ]
  },
  {
   "cell_type": "code",
   "execution_count": 32,
   "metadata": {},
   "outputs": [],
   "source": [
    "touch_probe.returnToolToCoord(x, y, z, 200)"
   ]
  },
  {
   "cell_type": "code",
   "execution_count": 35,
   "metadata": {},
   "outputs": [],
   "source": [
    "touch_probe.returnTool()"
   ]
  },
  {
   "cell_type": "code",
   "execution_count": 36,
   "metadata": {},
   "outputs": [],
   "source": [
    "ar.close()"
   ]
  },
  {
   "cell_type": "markdown",
   "metadata": {},
   "source": [
    "# Testing mobile_touch_probe.findWall()"
   ]
  },
  {
   "cell_type": "code",
   "execution_count": 24,
   "metadata": {},
   "outputs": [],
   "source": [
    "import low_level_comm as llc\n",
    "import cartesian\n",
    "import tools\n",
    "import time"
   ]
  },
  {
   "cell_type": "code",
   "execution_count": 2,
   "metadata": {},
   "outputs": [],
   "source": [
    "ar = cartesian.arnie('COM4')\n",
    "ar.home()"
   ]
  },
  {
   "cell_type": "code",
   "execution_count": 3,
   "metadata": {},
   "outputs": [],
   "source": [
    "tp = tools.mobile_touch_probe.getTool(ar)"
   ]
  },
  {
   "cell_type": "code",
   "execution_count": 10,
   "metadata": {},
   "outputs": [],
   "source": [
    "ar.move(x=550, y=300)\n",
    "ar.move(z=599, speed_z=10000)"
   ]
  },
  {
   "cell_type": "code",
   "execution_count": 31,
   "metadata": {},
   "outputs": [],
   "source": [
    "step_dict = {\n",
    "                0: {'step_fwd': 12, 'speed_xy_fwd': 5000, 'speed_z_fwd':5000,\n",
    "                    'step_back': 12, 'speed_xy_back': 5000, 'speed_z_back':5000},\n",
    "                1: {'step_fwd': 1.2, 'speed_xy_fwd': 100, 'speed_z_fwd':3000,\n",
    "                    'step_back': 4, 'speed_xy_back': 2000, 'speed_z_back':2000},\n",
    "                2: {'step_fwd': 0.2, 'speed_xy_fwd': 50, 'speed_z_fwd':1000,\n",
    "                    'step_back': 0.4, 'speed_xy_back': 100, 'speed_z_back':1000},\n",
    "                3: {'step_fwd': 0.03, 'speed_xy_fwd': 25, 'speed_z_fwd':1000,\n",
    "                    'step_back': 0.1, 'speed_xy_back': 50, 'speed_z_back':1000},\n",
    "            }"
   ]
  },
  {
   "cell_type": "code",
   "execution_count": 41,
   "metadata": {},
   "outputs": [],
   "source": [
    "step_dict = {\n",
    "                0: {'step_fwd': 12, 'speed_xy_fwd': 5000, 'speed_z_fwd':5000,\n",
    "                    'step_back': 12, 'speed_xy_back': 5000, 'speed_z_back':5000},\n",
    "                1: {'step_fwd': 3, 'speed_xy_fwd': 2000, 'speed_z_fwd':3000,\n",
    "                    'step_back': 6, 'speed_xy_back': 5000, 'speed_z_back':2000},\n",
    "                2: {'step_fwd': 0.75, 'speed_xy_fwd': 200, 'speed_z_fwd':1000,\n",
    "                    'step_back': 1.5, 'speed_xy_back': 500, 'speed_z_back':1000},\n",
    "                3: {'step_fwd': 0.2, 'speed_xy_fwd': 100, 'speed_z_fwd':1000,\n",
    "                    'step_back': 0.4, 'speed_xy_back': 100, 'speed_z_back':1000},\n",
    "                4: {'step_fwd': 0.05, 'speed_xy_fwd': 25, 'speed_z_fwd':1000,\n",
    "                    'step_back': 0.1, 'speed_xy_back': 50, 'speed_z_back':1000},\n",
    "            }"
   ]
  },
  {
   "cell_type": "code",
   "execution_count": 12,
   "metadata": {},
   "outputs": [
    {
     "name": "stdout",
     "output_type": "stream",
     "text": [
      "Mobile touch probe response: 0\n",
      "\n",
      "Mobile touch probe response: 0\n",
      "\n",
      "Mobile touch probe response: 0\n",
      "\n",
      "Mobile touch probe response: 0\n",
      "\n",
      "Mobile touch probe response: 0\n",
      "\n",
      "Mobile touch probe response: 0\n",
      "\n",
      "Mobile touch probe response: 1\n",
      "\n",
      "Mobile touch probe response: 1\n",
      "\n",
      "Mobile touch probe response: 0\n",
      "\n",
      "Mobile touch probe response: 0\n",
      "\n",
      "Mobile touch probe response: 1\n",
      "\n",
      "Mobile touch probe response: 1\n",
      "\n",
      "Mobile touch probe response: 1\n",
      "\n",
      "Mobile touch probe response: 1\n",
      "\n",
      "Mobile touch probe response: 0\n",
      "\n",
      "Mobile touch probe response: 0\n",
      "\n",
      "Mobile touch probe response: 0\n",
      "\n",
      "Mobile touch probe response: 1\n",
      "\n",
      "Mobile touch probe response: 1\n",
      "\n",
      "Mobile touch probe response: 1\n",
      "\n",
      "Mobile touch probe response: 1\n",
      "\n",
      "Mobile touch probe response: 0\n",
      "\n",
      "Mobile touch probe response: 0\n",
      "\n",
      "Mobile touch probe response: 0\n",
      "\n",
      "Mobile touch probe response: 0\n",
      "\n",
      "Mobile touch probe response: 1\n",
      "\n"
     ]
    },
    {
     "data": {
      "text/plain": [
       "606.4"
      ]
     },
     "execution_count": 12,
     "metadata": {},
     "output_type": "execute_result"
    }
   ],
   "source": [
    "tp.findWall('x', 1, step_dict=step_dict)"
   ]
  },
  {
   "cell_type": "markdown",
   "metadata": {},
   "source": [
    "607.0 606.7 606.9 606.9 606.8 606.8 606.7 "
   ]
  },
  {
   "cell_type": "markdown",
   "metadata": {},
   "source": [
    "606.4 606.4 606.4"
   ]
  },
  {
   "cell_type": "code",
   "execution_count": 36,
   "metadata": {},
   "outputs": [],
   "source": [
    "# Calibration test\n",
    "import random as rnd\n",
    "import statistics as stat"
   ]
  },
  {
   "cell_type": "code",
   "execution_count": 42,
   "metadata": {},
   "outputs": [
    {
     "name": "stdout",
     "output_type": "stream",
     "text": [
      "Mobile touch probe response: 0\n",
      "\n",
      "Mobile touch probe response: 0\n",
      "\n",
      "Mobile touch probe response: 0\n",
      "\n",
      "Mobile touch probe response: 0\n",
      "\n",
      "Mobile touch probe response: 0\n",
      "\n",
      "Mobile touch probe response: 0\n",
      "\n",
      "Mobile touch probe response: 0\n",
      "\n",
      "Mobile touch probe response: 0\n",
      "\n",
      "Mobile touch probe response: 0\n",
      "\n",
      "Mobile touch probe response: 1\n",
      "\n",
      "Mobile touch probe response: 1\n",
      "\n",
      "Mobile touch probe response: 1\n",
      "\n",
      "Mobile touch probe response: 1\n",
      "\n",
      "Mobile touch probe response: 0\n",
      "\n",
      "Mobile touch probe response: 0\n",
      "\n",
      "Mobile touch probe response: 0\n",
      "\n",
      "Mobile touch probe response: 0\n",
      "\n",
      "Mobile touch probe response: 1\n",
      "\n",
      "Mobile touch probe response: 1\n",
      "\n",
      "Mobile touch probe response: 1\n",
      "\n",
      "Mobile touch probe response: 0\n",
      "\n",
      "Mobile touch probe response: 0\n",
      "\n",
      "Mobile touch probe response: 0\n",
      "\n",
      "Mobile touch probe response: 1\n",
      "\n",
      "Mobile touch probe response: 1\n",
      "\n",
      "Mobile touch probe response: 0\n",
      "\n",
      "Mobile touch probe response: 0\n",
      "\n",
      "Mobile touch probe response: 0\n",
      "\n",
      "Mobile touch probe response: 1\n",
      "\n",
      "Mobile touch probe response: 1\n",
      "\n",
      "Mobile touch probe response: 1\n",
      "\n",
      "Mobile touch probe response: 1\n",
      "\n",
      "Mobile touch probe response: 1\n",
      "\n",
      "Mobile touch probe response: 1\n",
      "\n",
      "Mobile touch probe response: 1\n",
      "\n",
      "Mobile touch probe response: 0\n",
      "\n",
      "Mobile touch probe response: 0\n",
      "\n",
      "Mobile touch probe response: 0\n",
      "\n",
      "Mobile touch probe response: 0\n",
      "\n",
      "Mobile touch probe response: 0\n",
      "\n",
      "Mobile touch probe response: 0\n",
      "\n",
      "Mobile touch probe response: 0\n",
      "\n",
      "Mobile touch probe response: 0\n",
      "\n",
      "Mobile touch probe response: 0\n",
      "\n",
      "Mobile touch probe response: 0\n",
      "\n",
      "Mobile touch probe response: 0\n",
      "\n",
      "Mobile touch probe response: 0\n",
      "\n",
      "Mobile touch probe response: 0\n",
      "\n",
      "Mobile touch probe response: 1\n",
      "\n",
      "Mobile touch probe response: 0\n",
      "\n",
      "Mobile touch probe response: 0\n",
      "\n",
      "Mobile touch probe response: 0\n",
      "\n",
      "Mobile touch probe response: 0\n",
      "\n",
      "Mobile touch probe response: 0\n",
      "\n",
      "Mobile touch probe response: 0\n",
      "\n",
      "Mobile touch probe response: 0\n",
      "\n",
      "Mobile touch probe response: 0\n",
      "\n",
      "Mobile touch probe response: 0\n",
      "\n",
      "Mobile touch probe response: 0\n",
      "\n",
      "Mobile touch probe response: 1\n",
      "\n",
      "Mobile touch probe response: 1\n",
      "\n",
      "Mobile touch probe response: 0\n",
      "\n",
      "Mobile touch probe response: 0\n",
      "\n",
      "Mobile touch probe response: 1\n",
      "\n",
      "Mobile touch probe response: 0\n",
      "\n",
      "Mobile touch probe response: 0\n",
      "\n",
      "Mobile touch probe response: 1\n",
      "\n",
      "Mobile touch probe response: 1\n",
      "\n",
      "Mobile touch probe response: 1\n",
      "\n",
      "Mobile touch probe response: 0\n",
      "\n",
      "Mobile touch probe response: 0\n",
      "\n",
      "Mobile touch probe response: 0\n",
      "\n",
      "Mobile touch probe response: 1\n",
      "\n",
      "Mobile touch probe response: 1\n",
      "\n",
      "Mobile touch probe response: 1\n",
      "\n",
      "Mobile touch probe response: 1\n",
      "\n",
      "Mobile touch probe response: 0\n",
      "\n",
      "Mobile touch probe response: 0\n",
      "\n",
      "Mobile touch probe response: 0\n",
      "\n",
      "Mobile touch probe response: 0\n",
      "\n",
      "Mobile touch probe response: 0\n",
      "\n",
      "Mobile touch probe response: 0\n",
      "\n",
      "Mobile touch probe response: 0\n",
      "\n",
      "Mobile touch probe response: 1\n",
      "\n",
      "Mobile touch probe response: 0\n",
      "\n",
      "Mobile touch probe response: 0\n",
      "\n",
      "Mobile touch probe response: 0\n",
      "\n",
      "Mobile touch probe response: 0\n",
      "\n",
      "Mobile touch probe response: 0\n",
      "\n",
      "Mobile touch probe response: 0\n",
      "\n",
      "Mobile touch probe response: 0\n",
      "\n",
      "Mobile touch probe response: 0\n",
      "\n",
      "Mobile touch probe response: 0\n",
      "\n",
      "Mobile touch probe response: 0\n",
      "\n",
      "Mobile touch probe response: 1\n",
      "\n",
      "Mobile touch probe response: 1\n",
      "\n",
      "Mobile touch probe response: 1\n",
      "\n",
      "Mobile touch probe response: 1\n",
      "\n",
      "Mobile touch probe response: 0\n",
      "\n",
      "Mobile touch probe response: 0\n",
      "\n",
      "Mobile touch probe response: 0\n",
      "\n",
      "Mobile touch probe response: 1\n",
      "\n",
      "Mobile touch probe response: 1\n",
      "\n",
      "Mobile touch probe response: 0\n",
      "\n",
      "Mobile touch probe response: 0\n",
      "\n",
      "Mobile touch probe response: 0\n",
      "\n",
      "Mobile touch probe response: 0\n",
      "\n",
      "Mobile touch probe response: 1\n",
      "\n",
      "Mobile touch probe response: 1\n",
      "\n",
      "Mobile touch probe response: 0\n",
      "\n",
      "Mobile touch probe response: 0\n",
      "\n",
      "Mobile touch probe response: 0\n",
      "\n",
      "Mobile touch probe response: 1\n",
      "\n",
      "Mobile touch probe response: 1\n",
      "\n",
      "Mobile touch probe response: 1\n",
      "\n",
      "Mobile touch probe response: 1\n",
      "\n",
      "Mobile touch probe response: 1\n",
      "\n",
      "Mobile touch probe response: 1\n",
      "\n",
      "Mobile touch probe response: 1\n",
      "\n",
      "Mobile touch probe response: 0\n",
      "\n",
      "Mobile touch probe response: 0\n",
      "\n",
      "Mobile touch probe response: 0\n",
      "\n",
      "Mobile touch probe response: 0\n",
      "\n",
      "Mobile touch probe response: 0\n",
      "\n",
      "Mobile touch probe response: 0\n",
      "\n",
      "Mobile touch probe response: 0\n",
      "\n",
      "Mobile touch probe response: 1\n",
      "\n",
      "Mobile touch probe response: 0\n",
      "\n",
      "Mobile touch probe response: 0\n",
      "\n",
      "Mobile touch probe response: 0\n",
      "\n",
      "Mobile touch probe response: 0\n",
      "\n",
      "Mobile touch probe response: 0\n",
      "\n",
      "Mobile touch probe response: 0\n",
      "\n",
      "Mobile touch probe response: 0\n",
      "\n",
      "Mobile touch probe response: 0\n",
      "\n",
      "Mobile touch probe response: 0\n",
      "\n",
      "Mobile touch probe response: 1\n",
      "\n",
      "Mobile touch probe response: 1\n",
      "\n",
      "Mobile touch probe response: 0\n",
      "\n",
      "Mobile touch probe response: 0\n",
      "\n",
      "Mobile touch probe response: 1\n",
      "\n",
      "Mobile touch probe response: 0\n",
      "\n",
      "Mobile touch probe response: 0\n",
      "\n",
      "Mobile touch probe response: 0\n",
      "\n",
      "Mobile touch probe response: 1\n",
      "\n",
      "Mobile touch probe response: 1\n",
      "\n",
      "Mobile touch probe response: 0\n",
      "\n",
      "Mobile touch probe response: 0\n",
      "\n",
      "Mobile touch probe response: 0\n",
      "\n",
      "Mobile touch probe response: 1\n",
      "\n",
      "Mobile touch probe response: 1\n",
      "\n",
      "Mobile touch probe response: 1\n",
      "\n",
      "Mobile touch probe response: 1\n",
      "\n",
      "Mobile touch probe response: 1\n",
      "\n",
      "Mobile touch probe response: 0\n",
      "\n",
      "Mobile touch probe response: 0\n",
      "\n",
      "Mobile touch probe response: 0\n",
      "\n",
      "Mobile touch probe response: 0\n",
      "\n",
      "Mobile touch probe response: 0\n",
      "\n",
      "Mobile touch probe response: 0\n",
      "\n",
      "Mobile touch probe response: 0\n",
      "\n",
      "Mobile touch probe response: 0\n",
      "\n",
      "Mobile touch probe response: 0\n",
      "\n",
      "Mobile touch probe response: 1\n",
      "\n",
      "Mobile touch probe response: 0\n",
      "\n",
      "Mobile touch probe response: 0\n",
      "\n",
      "Mobile touch probe response: 0\n",
      "\n",
      "Mobile touch probe response: 0\n",
      "\n",
      "Mobile touch probe response: 0\n",
      "\n",
      "Mobile touch probe response: 0\n",
      "\n",
      "Mobile touch probe response: 0\n",
      "\n",
      "Mobile touch probe response: 0\n",
      "\n",
      "Mobile touch probe response: 0\n",
      "\n",
      "Mobile touch probe response: 1\n",
      "\n",
      "Mobile touch probe response: 1\n",
      "\n",
      "Mobile touch probe response: 0\n",
      "\n",
      "Mobile touch probe response: 0\n",
      "\n",
      "Mobile touch probe response: 1\n",
      "\n",
      "Mobile touch probe response: 0\n",
      "\n",
      "Mobile touch probe response: 0\n",
      "\n",
      "Mobile touch probe response: 0\n",
      "\n",
      "Mobile touch probe response: 0\n",
      "\n",
      "Mobile touch probe response: 0\n",
      "\n",
      "Mobile touch probe response: 1\n",
      "\n",
      "Mobile touch probe response: 1\n",
      "\n",
      "Mobile touch probe response: 1\n",
      "\n",
      "Mobile touch probe response: 1\n",
      "\n",
      "Mobile touch probe response: 0\n",
      "\n",
      "Mobile touch probe response: 0\n",
      "\n",
      "Mobile touch probe response: 0\n",
      "\n",
      "Mobile touch probe response: 1\n",
      "\n",
      "Mobile touch probe response: 1\n",
      "\n",
      "Mobile touch probe response: 0\n",
      "\n",
      "Mobile touch probe response: 0\n",
      "\n",
      "Mobile touch probe response: 0\n",
      "\n",
      "Mobile touch probe response: 0\n",
      "\n",
      "Mobile touch probe response: 0\n",
      "\n",
      "Mobile touch probe response: 0\n",
      "\n",
      "Mobile touch probe response: 0\n",
      "\n",
      "Mobile touch probe response: 0\n",
      "\n",
      "Mobile touch probe response: 0\n",
      "\n",
      "Mobile touch probe response: 1\n",
      "\n",
      "Mobile touch probe response: 0\n",
      "\n",
      "Mobile touch probe response: 0\n",
      "\n",
      "Mobile touch probe response: 0\n",
      "\n",
      "Mobile touch probe response: 0\n",
      "\n",
      "Mobile touch probe response: 0\n",
      "\n",
      "Mobile touch probe response: 0\n",
      "\n",
      "Mobile touch probe response: 0\n",
      "\n",
      "Mobile touch probe response: 0\n",
      "\n",
      "Mobile touch probe response: 1\n",
      "\n",
      "Mobile touch probe response: 1\n",
      "\n",
      "Mobile touch probe response: 1\n",
      "\n",
      "Mobile touch probe response: 1\n",
      "\n",
      "Mobile touch probe response: 0\n",
      "\n",
      "Mobile touch probe response: 0\n",
      "\n",
      "Mobile touch probe response: 0\n",
      "\n",
      "Mobile touch probe response: 0\n",
      "\n",
      "Mobile touch probe response: 0\n",
      "\n",
      "Mobile touch probe response: 1\n",
      "\n",
      "Mobile touch probe response: 1\n",
      "\n",
      "Mobile touch probe response: 0\n",
      "\n",
      "Mobile touch probe response: 0\n",
      "\n",
      "Mobile touch probe response: 0\n",
      "\n",
      "Mobile touch probe response: 0\n",
      "\n",
      "Mobile touch probe response: 1\n",
      "\n",
      "Mobile touch probe response: 1\n",
      "\n",
      "Mobile touch probe response: 1\n",
      "\n",
      "Mobile touch probe response: 0\n",
      "\n",
      "Mobile touch probe response: 0\n",
      "\n",
      "Mobile touch probe response: 0\n",
      "\n",
      "Mobile touch probe response: 1\n",
      "\n",
      "Mobile touch probe response: 1\n",
      "\n",
      "Mobile touch probe response: 1\n",
      "\n",
      "Mobile touch probe response: 1\n",
      "\n",
      "Mobile touch probe response: 0\n",
      "\n",
      "Mobile touch probe response: 0\n",
      "\n",
      "Mobile touch probe response: 0\n",
      "\n",
      "Mobile touch probe response: 0\n",
      "\n",
      "Mobile touch probe response: 0\n",
      "\n",
      "Mobile touch probe response: 0\n",
      "\n",
      "Mobile touch probe response: 0\n",
      "\n",
      "Mobile touch probe response: 0\n",
      "\n",
      "Mobile touch probe response: 1\n",
      "\n",
      "Mobile touch probe response: 0\n",
      "\n",
      "Mobile touch probe response: 0\n",
      "\n",
      "Mobile touch probe response: 0\n",
      "\n",
      "Mobile touch probe response: 0\n",
      "\n",
      "Mobile touch probe response: 0\n",
      "\n",
      "Mobile touch probe response: 0\n",
      "\n",
      "Mobile touch probe response: 0\n",
      "\n",
      "Mobile touch probe response: 0\n",
      "\n",
      "Mobile touch probe response: 0\n",
      "\n",
      "Mobile touch probe response: 1\n",
      "\n",
      "Mobile touch probe response: 1\n",
      "\n",
      "Mobile touch probe response: 1\n",
      "\n",
      "Mobile touch probe response: 1\n",
      "\n"
     ]
    },
    {
     "name": "stdout",
     "output_type": "stream",
     "text": [
      "Mobile touch probe response: 0\n",
      "\n",
      "Mobile touch probe response: 0\n",
      "\n",
      "Mobile touch probe response: 0\n",
      "\n",
      "Mobile touch probe response: 0\n",
      "\n",
      "Mobile touch probe response: 1\n",
      "\n",
      "Mobile touch probe response: 1\n",
      "\n",
      "Mobile touch probe response: 1\n",
      "\n",
      "Mobile touch probe response: 0\n",
      "\n",
      "Mobile touch probe response: 0\n",
      "\n",
      "Mobile touch probe response: 0\n",
      "\n",
      "Mobile touch probe response: 1\n",
      "\n",
      "Mobile touch probe response: 1\n",
      "\n",
      "Mobile touch probe response: 0\n",
      "\n",
      "Mobile touch probe response: 0\n",
      "\n",
      "Mobile touch probe response: 0\n",
      "\n",
      "Mobile touch probe response: 1\n",
      "\n",
      "Mobile touch probe response: 1\n",
      "\n",
      "Mobile touch probe response: 1\n",
      "\n",
      "Mobile touch probe response: 1\n",
      "\n",
      "Mobile touch probe response: 1\n",
      "\n",
      "Mobile touch probe response: 1\n",
      "\n",
      "Mobile touch probe response: 1\n",
      "\n",
      "Mobile touch probe response: 0\n",
      "\n",
      "Mobile touch probe response: 0\n",
      "\n",
      "Mobile touch probe response: 0\n",
      "\n",
      "Mobile touch probe response: 0\n",
      "\n",
      "Mobile touch probe response: 0\n",
      "\n",
      "Mobile touch probe response: 0\n",
      "\n",
      "Mobile touch probe response: 0\n",
      "\n",
      "Mobile touch probe response: 0\n",
      "\n",
      "Mobile touch probe response: 0\n",
      "\n",
      "Mobile touch probe response: 0\n",
      "\n",
      "Mobile touch probe response: 0\n",
      "\n",
      "Mobile touch probe response: 0\n",
      "\n",
      "Mobile touch probe response: 0\n",
      "\n",
      "Mobile touch probe response: 1\n",
      "\n",
      "Mobile touch probe response: 0\n",
      "\n",
      "Mobile touch probe response: 0\n",
      "\n",
      "Mobile touch probe response: 0\n",
      "\n",
      "Mobile touch probe response: 0\n",
      "\n",
      "Mobile touch probe response: 0\n",
      "\n",
      "Mobile touch probe response: 0\n",
      "\n",
      "Mobile touch probe response: 1\n",
      "\n",
      "Mobile touch probe response: 1\n",
      "\n",
      "Mobile touch probe response: 0\n",
      "\n",
      "Mobile touch probe response: 0\n",
      "\n",
      "Mobile touch probe response: 1\n",
      "\n",
      "Mobile touch probe response: 0\n",
      "\n",
      "Mobile touch probe response: 0\n",
      "\n",
      "Mobile touch probe response: 0\n",
      "\n",
      "Mobile touch probe response: 0\n",
      "\n",
      "Mobile touch probe response: 0\n",
      "\n",
      "Mobile touch probe response: 1\n",
      "\n",
      "Mobile touch probe response: 1\n",
      "\n",
      "Mobile touch probe response: 1\n",
      "\n",
      "Mobile touch probe response: 1\n",
      "\n",
      "Mobile touch probe response: 0\n",
      "\n",
      "Mobile touch probe response: 0\n",
      "\n",
      "Mobile touch probe response: 0\n",
      "\n",
      "Mobile touch probe response: 1\n",
      "\n",
      "Mobile touch probe response: 1\n",
      "\n",
      "Mobile touch probe response: 0\n",
      "\n",
      "Mobile touch probe response: 0\n",
      "\n",
      "Mobile touch probe response: 0\n",
      "\n",
      "Mobile touch probe response: 0\n",
      "\n",
      "Mobile touch probe response: 0\n",
      "\n",
      "Mobile touch probe response: 0\n",
      "\n",
      "Mobile touch probe response: 0\n",
      "\n",
      "Mobile touch probe response: 0\n",
      "\n",
      "Mobile touch probe response: 0\n",
      "\n",
      "Mobile touch probe response: 1\n",
      "\n",
      "Mobile touch probe response: 0\n",
      "\n",
      "Mobile touch probe response: 0\n",
      "\n",
      "Mobile touch probe response: 0\n",
      "\n",
      "Mobile touch probe response: 0\n",
      "\n",
      "Mobile touch probe response: 0\n",
      "\n",
      "Mobile touch probe response: 0\n",
      "\n",
      "Mobile touch probe response: 1\n",
      "\n",
      "Mobile touch probe response: 1\n",
      "\n",
      "Mobile touch probe response: 0\n",
      "\n",
      "Mobile touch probe response: 0\n",
      "\n",
      "Mobile touch probe response: 1\n",
      "\n",
      "Mobile touch probe response: 0\n",
      "\n",
      "Mobile touch probe response: 0\n",
      "\n",
      "Mobile touch probe response: 0\n",
      "\n",
      "Mobile touch probe response: 0\n",
      "\n",
      "Mobile touch probe response: 0\n",
      "\n",
      "Mobile touch probe response: 1\n",
      "\n",
      "Mobile touch probe response: 1\n",
      "\n",
      "Mobile touch probe response: 1\n",
      "\n",
      "Mobile touch probe response: 1\n",
      "\n",
      "Mobile touch probe response: 0\n",
      "\n",
      "Mobile touch probe response: 0\n",
      "\n",
      "Mobile touch probe response: 0\n",
      "\n",
      "Mobile touch probe response: 1\n",
      "\n",
      "Mobile touch probe response: 1\n",
      "\n",
      "Mobile touch probe response: 0\n",
      "\n",
      "Mobile touch probe response: 0\n",
      "\n",
      "Mobile touch probe response: 0\n",
      "\n",
      "Mobile touch probe response: 0\n",
      "\n",
      "Mobile touch probe response: 0\n",
      "\n",
      "Mobile touch probe response: 0\n",
      "\n",
      "Mobile touch probe response: 0\n",
      "\n",
      "Mobile touch probe response: 0\n",
      "\n",
      "Mobile touch probe response: 0\n",
      "\n",
      "Mobile touch probe response: 1\n",
      "\n",
      "Mobile touch probe response: 0\n",
      "\n",
      "Mobile touch probe response: 0\n",
      "\n",
      "Mobile touch probe response: 0\n",
      "\n",
      "Mobile touch probe response: 0\n",
      "\n",
      "Mobile touch probe response: 0\n",
      "\n",
      "Mobile touch probe response: 0\n",
      "\n",
      "Mobile touch probe response: 0\n",
      "\n",
      "Mobile touch probe response: 0\n",
      "\n",
      "Mobile touch probe response: 0\n",
      "\n",
      "Mobile touch probe response: 0\n",
      "\n",
      "Mobile touch probe response: 1\n",
      "\n",
      "Mobile touch probe response: 1\n",
      "\n",
      "Mobile touch probe response: 0\n",
      "\n",
      "Mobile touch probe response: 0\n",
      "\n",
      "Mobile touch probe response: 1\n",
      "\n",
      "Mobile touch probe response: 0\n",
      "\n",
      "Mobile touch probe response: 0\n",
      "\n",
      "Mobile touch probe response: 0\n",
      "\n",
      "Mobile touch probe response: 0\n",
      "\n",
      "Mobile touch probe response: 0\n",
      "\n",
      "Mobile touch probe response: 1\n",
      "\n",
      "Mobile touch probe response: 1\n",
      "\n",
      "Mobile touch probe response: 1\n",
      "\n",
      "Mobile touch probe response: 1\n",
      "\n",
      "Mobile touch probe response: 0\n",
      "\n",
      "Mobile touch probe response: 0\n",
      "\n",
      "Mobile touch probe response: 0\n",
      "\n",
      "Mobile touch probe response: 1\n",
      "\n",
      "Mobile touch probe response: 1\n",
      "\n",
      "Mobile touch probe response: 0\n",
      "\n",
      "Mobile touch probe response: 0\n",
      "\n",
      "Mobile touch probe response: 0\n",
      "\n",
      "Mobile touch probe response: 0\n",
      "\n",
      "Mobile touch probe response: 0\n",
      "\n",
      "Mobile touch probe response: 0\n",
      "\n",
      "Mobile touch probe response: 0\n",
      "\n",
      "Mobile touch probe response: 0\n",
      "\n",
      "Mobile touch probe response: 0\n",
      "\n",
      "Mobile touch probe response: 1\n",
      "\n"
     ]
    }
   ],
   "source": [
    "x_values = []\n",
    "ar.move(x=550, y=300)\n",
    "ar.move(z=599, speed_z=10000)\n",
    "calibration_start_time = time.time()\n",
    "for i in range(10):\n",
    "    ar.move(x=rnd.randrange(480, 550))\n",
    "    val = tp.findWall('x', 1, step_dict=step_dict)\n",
    "    x_values.append(val)\n",
    "calibration_end_time = time.time()"
   ]
  },
  {
   "cell_type": "code",
   "execution_count": 27,
   "metadata": {},
   "outputs": [
    {
     "data": {
      "text/plain": [
       "100.26671719551086"
      ]
     },
     "execution_count": 27,
     "metadata": {},
     "output_type": "execute_result"
    }
   ],
   "source": [
    "calibration_end_time - calibration_start_time"
   ]
  },
  {
   "cell_type": "code",
   "execution_count": 33,
   "metadata": {},
   "outputs": [
    {
     "data": {
      "text/plain": [
       "118.42463731765747"
      ]
     },
     "execution_count": 33,
     "metadata": {},
     "output_type": "execute_result"
    }
   ],
   "source": [
    "calibration_end_time - calibration_start_time"
   ]
  },
  {
   "cell_type": "code",
   "execution_count": 43,
   "metadata": {},
   "outputs": [
    {
     "data": {
      "text/plain": [
       "102.76152777671814"
      ]
     },
     "execution_count": 43,
     "metadata": {},
     "output_type": "execute_result"
    }
   ],
   "source": [
    "calibration_end_time - calibration_start_time"
   ]
  },
  {
   "cell_type": "code",
   "execution_count": 44,
   "metadata": {},
   "outputs": [],
   "source": [
    "x_values5 = x_values.copy()"
   ]
  },
  {
   "cell_type": "code",
   "execution_count": 29,
   "metadata": {},
   "outputs": [
    {
     "data": {
      "text/plain": [
       "[606.6,\n",
       " 606.6,\n",
       " 606.6,\n",
       " 606.4,\n",
       " 606.4,\n",
       " 606.4,\n",
       " 606.4,\n",
       " 606.4,\n",
       " 606.4,\n",
       " 606.4,\n",
       " 606.6,\n",
       " 606.6,\n",
       " 606.6,\n",
       " 606.6,\n",
       " 606.4,\n",
       " 606.4,\n",
       " 606.3,\n",
       " 606.4,\n",
       " 606.4,\n",
       " 606.6,\n",
       " 606.6,\n",
       " 606.6,\n",
       " 606.4,\n",
       " 606.6,\n",
       " 606.6,\n",
       " 606.4,\n",
       " 606.4,\n",
       " 606.6,\n",
       " 606.6,\n",
       " 606.4,\n",
       " 606.4,\n",
       " 606.4,\n",
       " 606.4,\n",
       " 606.4,\n",
       " 606.4,\n",
       " 606.4,\n",
       " 606.6,\n",
       " 606.6,\n",
       " 606.6,\n",
       " 606.4]"
      ]
     },
     "execution_count": 29,
     "metadata": {},
     "output_type": "execute_result"
    }
   ],
   "source": [
    "x_values2"
   ]
  },
  {
   "cell_type": "code",
   "execution_count": 30,
   "metadata": {},
   "outputs": [
    {
     "data": {
      "text/plain": [
       "[606.4, 606.53, 606.4, 606.4, 606.33, 606.4, 606.4, 606.6, 606.4, 606.53]"
      ]
     },
     "execution_count": 30,
     "metadata": {},
     "output_type": "execute_result"
    }
   ],
   "source": [
    "x_values3"
   ]
  },
  {
   "cell_type": "code",
   "execution_count": 35,
   "metadata": {},
   "outputs": [
    {
     "data": {
      "text/plain": [
       "[606.5, 606.4, 606.6, 606.4, 606.6, 606.6, 606.4, 606.69, 606.4, 606.6]"
      ]
     },
     "execution_count": 35,
     "metadata": {},
     "output_type": "execute_result"
    }
   ],
   "source": [
    "x_values4"
   ]
  },
  {
   "cell_type": "code",
   "execution_count": 45,
   "metadata": {},
   "outputs": [
    {
     "data": {
      "text/plain": [
       "[606.5, 606.35, 606.45, 606.5, 606.5, 606.4, 606.5, 606.5, 606.5, 606.5]"
      ]
     },
     "execution_count": 45,
     "metadata": {},
     "output_type": "execute_result"
    }
   ],
   "source": [
    "x_values5"
   ]
  },
  {
   "cell_type": "code",
   "execution_count": 38,
   "metadata": {},
   "outputs": [
    {
     "data": {
      "text/plain": [
       "0.10349656255906924"
      ]
     },
     "execution_count": 38,
     "metadata": {},
     "output_type": "execute_result"
    }
   ],
   "source": [
    "stat.stdev(x_values2)"
   ]
  },
  {
   "cell_type": "code",
   "execution_count": 39,
   "metadata": {},
   "outputs": [
    {
     "data": {
      "text/plain": [
       "0.08399074023036317"
      ]
     },
     "execution_count": 39,
     "metadata": {},
     "output_type": "execute_result"
    }
   ],
   "source": [
    "stat.stdev(x_values3)"
   ]
  },
  {
   "cell_type": "code",
   "execution_count": 40,
   "metadata": {},
   "outputs": [
    {
     "data": {
      "text/plain": [
       "0.11179842972463881"
      ]
     },
     "execution_count": 40,
     "metadata": {},
     "output_type": "execute_result"
    }
   ],
   "source": [
    "stat.stdev(x_values4)"
   ]
  },
  {
   "cell_type": "code",
   "execution_count": 46,
   "metadata": {},
   "outputs": [
    {
     "data": {
      "text/plain": [
       "0.05374838498865277"
      ]
     },
     "execution_count": 46,
     "metadata": {},
     "output_type": "execute_result"
    }
   ],
   "source": [
    "stat.stdev(x_values5)"
   ]
  },
  {
   "cell_type": "code",
   "execution_count": 19,
   "metadata": {},
   "outputs": [
    {
     "data": {
      "text/plain": [
       "480"
      ]
     },
     "execution_count": 19,
     "metadata": {},
     "output_type": "execute_result"
    }
   ],
   "source": [
    "rnd.randrange(480, 550)"
   ]
  },
  {
   "cell_type": "code",
   "execution_count": 47,
   "metadata": {},
   "outputs": [],
   "source": [
    "tp.returnTool()"
   ]
  },
  {
   "cell_type": "code",
   "execution_count": 48,
   "metadata": {},
   "outputs": [],
   "source": [
    "ar.close()"
   ]
  },
  {
   "cell_type": "markdown",
   "metadata": {},
   "source": [
    "# Testing mobile_touch_probe.findCenterInner()"
   ]
  },
  {
   "cell_type": "code",
   "execution_count": 7,
   "metadata": {},
   "outputs": [],
   "source": [
    "import low_level_comm as llc\n",
    "import cartesian\n",
    "import tools\n",
    "import time\n",
    "from importlib import reload "
   ]
  },
  {
   "cell_type": "code",
   "execution_count": 17,
   "metadata": {},
   "outputs": [],
   "source": [
    "tools=reload(tools)"
   ]
  },
  {
   "cell_type": "code",
   "execution_count": 3,
   "metadata": {},
   "outputs": [],
   "source": [
    "ar = cartesian.arnie('COM4')\n",
    "ar.home()"
   ]
  },
  {
   "cell_type": "code",
   "execution_count": 4,
   "metadata": {},
   "outputs": [],
   "source": [
    "tp = tools.mobile_touch_probe.getTool(ar)"
   ]
  },
  {
   "cell_type": "code",
   "execution_count": 5,
   "metadata": {},
   "outputs": [],
   "source": [
    "ar.move(x=550, y=300, z=599, z_first=False, speed_z=10000)"
   ]
  },
  {
   "cell_type": "code",
   "execution_count": 10,
   "metadata": {},
   "outputs": [
    {
     "name": "stdout",
     "output_type": "stream",
     "text": [
      "Mobile touch probe response: 0\n",
      "\n",
      "Mobile touch probe response: 0\n",
      "\n",
      "Mobile touch probe response: 0\n",
      "\n",
      "Mobile touch probe response: 0\n",
      "\n",
      "Mobile touch probe response: 0\n",
      "\n",
      "Mobile touch probe response: 0\n",
      "\n",
      "Mobile touch probe response: 0\n",
      "\n",
      "Mobile touch probe response: 0\n",
      "\n",
      "Mobile touch probe response: 0\n",
      "\n",
      "Mobile touch probe response: 0\n",
      "\n",
      "Mobile touch probe response: 0\n",
      "\n",
      "Mobile touch probe response: 0\n",
      "\n",
      "Mobile touch probe response: 0\n",
      "\n",
      "Mobile touch probe response: 1\n",
      "\n",
      "Mobile touch probe response: 1\n",
      "\n",
      "Mobile touch probe response: 1\n",
      "\n",
      "Mobile touch probe response: 0\n",
      "\n",
      "Mobile touch probe response: 0\n",
      "\n",
      "Mobile touch probe response: 1\n",
      "\n",
      "Mobile touch probe response: 0\n",
      "\n",
      "Mobile touch probe response: 0\n",
      "\n",
      "Mobile touch probe response: 0\n",
      "\n",
      "Mobile touch probe response: 0\n",
      "\n",
      "Mobile touch probe response: 1\n",
      "\n",
      "Mobile touch probe response: 1\n",
      "\n",
      "Mobile touch probe response: 1\n",
      "\n",
      "Mobile touch probe response: 0\n",
      "\n",
      "Mobile touch probe response: 0\n",
      "\n",
      "Mobile touch probe response: 0\n",
      "\n",
      "Mobile touch probe response: 1\n",
      "\n",
      "Mobile touch probe response: 1\n",
      "\n",
      "Mobile touch probe response: 1\n",
      "\n",
      "Mobile touch probe response: 1\n",
      "\n",
      "Mobile touch probe response: 0\n",
      "\n",
      "Mobile touch probe response: 0\n",
      "\n",
      "Mobile touch probe response: 0\n",
      "\n",
      "Mobile touch probe response: 0\n",
      "\n",
      "Mobile touch probe response: 0\n",
      "\n",
      "Mobile touch probe response: 0\n",
      "\n",
      "Mobile touch probe response: 0\n",
      "\n",
      "Mobile touch probe response: 1\n",
      "\n",
      "Mobile touch probe response: 0\n",
      "\n",
      "Mobile touch probe response: 0\n",
      "\n",
      "Mobile touch probe response: 0\n",
      "\n",
      "Mobile touch probe response: 0\n",
      "\n",
      "Mobile touch probe response: 0\n",
      "\n",
      "Mobile touch probe response: 0\n",
      "\n",
      "Mobile touch probe response: 0\n",
      "\n",
      "Mobile touch probe response: 0\n",
      "\n",
      "Mobile touch probe response: 0\n",
      "\n",
      "Mobile touch probe response: 0\n",
      "\n",
      "Mobile touch probe response: 0\n",
      "\n",
      "Mobile touch probe response: 0\n",
      "\n",
      "Mobile touch probe response: 0\n",
      "\n",
      "Mobile touch probe response: 1\n",
      "\n",
      "Mobile touch probe response: 1\n",
      "\n",
      "Mobile touch probe response: 1\n",
      "\n",
      "Mobile touch probe response: 0\n",
      "\n",
      "Mobile touch probe response: 0\n",
      "\n",
      "Mobile touch probe response: 1\n",
      "\n",
      "Mobile touch probe response: 0\n",
      "\n",
      "Mobile touch probe response: 0\n",
      "\n",
      "Mobile touch probe response: 0\n",
      "\n",
      "Mobile touch probe response: 0\n",
      "\n",
      "Mobile touch probe response: 1\n",
      "\n",
      "Mobile touch probe response: 1\n",
      "\n",
      "Mobile touch probe response: 1\n",
      "\n",
      "Mobile touch probe response: 1\n",
      "\n",
      "Mobile touch probe response: 0\n",
      "\n",
      "Mobile touch probe response: 0\n",
      "\n",
      "Mobile touch probe response: 0\n",
      "\n",
      "Mobile touch probe response: 0\n",
      "\n",
      "Mobile touch probe response: 0\n",
      "\n",
      "Mobile touch probe response: 1\n",
      "\n",
      "Mobile touch probe response: 1\n",
      "\n",
      "Mobile touch probe response: 1\n",
      "\n",
      "Mobile touch probe response: 1\n",
      "\n",
      "Mobile touch probe response: 1\n",
      "\n",
      "Mobile touch probe response: 1\n",
      "\n",
      "Mobile touch probe response: 1\n",
      "\n",
      "Mobile touch probe response: 0\n",
      "\n",
      "Mobile touch probe response: 0\n",
      "\n",
      "Mobile touch probe response: 0\n",
      "\n",
      "Mobile touch probe response: 0\n",
      "\n",
      "Mobile touch probe response: 0\n",
      "\n",
      "Mobile touch probe response: 0\n",
      "\n",
      "Mobile touch probe response: 0\n",
      "\n",
      "Mobile touch probe response: 1\n",
      "\n"
     ]
    },
    {
     "data": {
      "text/plain": [
       "139.54999999999995"
      ]
     },
     "execution_count": 10,
     "metadata": {},
     "output_type": "execute_result"
    }
   ],
   "source": [
    "tp.findCenterInner('x')"
   ]
  },
  {
   "cell_type": "code",
   "execution_count": 11,
   "metadata": {},
   "outputs": [],
   "source": [
    "tp.close()"
   ]
  },
  {
   "cell_type": "code",
   "execution_count": 18,
   "metadata": {},
   "outputs": [
    {
     "name": "stderr",
     "output_type": "stream",
     "text": [
      "ERROR:root:matchPortsWithDevices(): could not execute finiding device in list.\n",
      "ERROR:root:matchPortsWithDevices(): Provided patterns_list: ['mobile touch probe']\n",
      "ERROR:root:None\n"
     ]
    }
   ],
   "source": [
    "tp = tools.mobile_touch_probe(ar)"
   ]
  },
  {
   "cell_type": "code",
   "execution_count": 21,
   "metadata": {},
   "outputs": [
    {
     "name": "stdout",
     "output_type": "stream",
     "text": [
      "Mobile touch probe response: 0\n",
      "\n",
      "Mobile touch probe response: 0\n",
      "\n",
      "Mobile touch probe response: 0\n",
      "\n",
      "Mobile touch probe response: 0\n",
      "\n",
      "Mobile touch probe response: 0\n",
      "\n",
      "Mobile touch probe response: 0\n",
      "\n",
      "Mobile touch probe response: 0\n",
      "\n",
      "Mobile touch probe response: 0\n",
      "\n",
      "Mobile touch probe response: 0\n",
      "\n",
      "Mobile touch probe response: 0\n",
      "\n",
      "Mobile touch probe response: 0\n",
      "\n",
      "Mobile touch probe response: 0\n",
      "\n",
      "Mobile touch probe response: 0\n",
      "\n",
      "Mobile touch probe response: 1\n",
      "\n",
      "Mobile touch probe response: 1\n",
      "\n",
      "Mobile touch probe response: 1\n",
      "\n",
      "Mobile touch probe response: 0\n",
      "\n",
      "Mobile touch probe response: 0\n",
      "\n",
      "Mobile touch probe response: 1\n",
      "\n",
      "Mobile touch probe response: 0\n",
      "\n",
      "Mobile touch probe response: 0\n",
      "\n",
      "Mobile touch probe response: 0\n",
      "\n",
      "Mobile touch probe response: 1\n",
      "\n",
      "Mobile touch probe response: 1\n",
      "\n",
      "Mobile touch probe response: 0\n",
      "\n",
      "Mobile touch probe response: 0\n",
      "\n",
      "Mobile touch probe response: 0\n",
      "\n",
      "Mobile touch probe response: 1\n",
      "\n",
      "Mobile touch probe response: 1\n",
      "\n",
      "Mobile touch probe response: 1\n",
      "\n",
      "Mobile touch probe response: 1\n",
      "\n",
      "Mobile touch probe response: 0\n",
      "\n",
      "Mobile touch probe response: 0\n",
      "\n",
      "Mobile touch probe response: 0\n",
      "\n",
      "Mobile touch probe response: 0\n",
      "\n",
      "Mobile touch probe response: 0\n",
      "\n",
      "Mobile touch probe response: 0\n",
      "\n",
      "Mobile touch probe response: 0\n",
      "\n",
      "Mobile touch probe response: 1\n",
      "\n",
      "Mobile touch probe response: 0\n",
      "\n",
      "Mobile touch probe response: 0\n",
      "\n",
      "Mobile touch probe response: 0\n",
      "\n",
      "Mobile touch probe response: 0\n",
      "\n",
      "Mobile touch probe response: 0\n",
      "\n",
      "Mobile touch probe response: 0\n",
      "\n",
      "Mobile touch probe response: 0\n",
      "\n",
      "Mobile touch probe response: 0\n",
      "\n",
      "Mobile touch probe response: 0\n",
      "\n",
      "Mobile touch probe response: 0\n",
      "\n",
      "Mobile touch probe response: 0\n",
      "\n",
      "Mobile touch probe response: 0\n",
      "\n",
      "Mobile touch probe response: 0\n",
      "\n",
      "Mobile touch probe response: 1\n",
      "\n",
      "Mobile touch probe response: 1\n",
      "\n",
      "Mobile touch probe response: 1\n",
      "\n",
      "Mobile touch probe response: 0\n",
      "\n",
      "Mobile touch probe response: 0\n",
      "\n",
      "Mobile touch probe response: 1\n",
      "\n",
      "Mobile touch probe response: 0\n",
      "\n",
      "Mobile touch probe response: 0\n",
      "\n",
      "Mobile touch probe response: 0\n",
      "\n",
      "Mobile touch probe response: 0\n",
      "\n",
      "Mobile touch probe response: 1\n",
      "\n",
      "Mobile touch probe response: 1\n",
      "\n",
      "Mobile touch probe response: 1\n",
      "\n",
      "Mobile touch probe response: 1\n",
      "\n",
      "Mobile touch probe response: 0\n",
      "\n",
      "Mobile touch probe response: 0\n",
      "\n",
      "Mobile touch probe response: 0\n",
      "\n",
      "Mobile touch probe response: 0\n",
      "\n",
      "Mobile touch probe response: 0\n",
      "\n",
      "Mobile touch probe response: 1\n",
      "\n",
      "Mobile touch probe response: 1\n",
      "\n",
      "Mobile touch probe response: 1\n",
      "\n",
      "Mobile touch probe response: 1\n",
      "\n",
      "Mobile touch probe response: 1\n",
      "\n",
      "Mobile touch probe response: 1\n",
      "\n",
      "Mobile touch probe response: 1\n",
      "\n",
      "Mobile touch probe response: 1\n",
      "\n",
      "Mobile touch probe response: 1\n",
      "\n",
      "Mobile touch probe response: 0\n",
      "\n",
      "Mobile touch probe response: 0\n",
      "\n",
      "Mobile touch probe response: 0\n",
      "\n",
      "Mobile touch probe response: 0\n",
      "\n",
      "Mobile touch probe response: 0\n",
      "\n",
      "Mobile touch probe response: 1\n",
      "\n"
     ]
    },
    {
     "data": {
      "text/plain": [
       "536.975"
      ]
     },
     "execution_count": 21,
     "metadata": {},
     "output_type": "execute_result"
    }
   ],
   "source": [
    "tp.findCenterInner('x')"
   ]
  },
  {
   "cell_type": "code",
   "execution_count": 22,
   "metadata": {},
   "outputs": [],
   "source": [
    "ar.move(x=536.975)"
   ]
  },
  {
   "cell_type": "markdown",
   "metadata": {},
   "source": [
    "# Testing mobile_touch_probe.findCenterInner()"
   ]
  },
  {
   "cell_type": "code",
   "execution_count": 1,
   "metadata": {},
   "outputs": [],
   "source": [
    "import low_level_comm as llc\n",
    "import cartesian\n",
    "import tools\n",
    "import time\n",
    "from importlib import reload "
   ]
  },
  {
   "cell_type": "code",
   "execution_count": 2,
   "metadata": {},
   "outputs": [],
   "source": [
    "ar = cartesian.arnie('COM4')\n",
    "ar.home()"
   ]
  },
  {
   "cell_type": "code",
   "execution_count": 3,
   "metadata": {},
   "outputs": [
    {
     "name": "stderr",
     "output_type": "stream",
     "text": [
      "ERROR:root:matchPortsWithDevices(): could not execute finiding device in list.\n",
      "ERROR:root:matchPortsWithDevices(): Provided patterns_list: ['mobile touch probe']\n",
      "ERROR:root:None\n"
     ]
    }
   ],
   "source": [
    "tp = tools.mobile_touch_probe(ar)"
   ]
  },
  {
   "cell_type": "code",
   "execution_count": 4,
   "metadata": {},
   "outputs": [],
   "source": [
    "ar.move(x=600, y=300, z=599, z_first=False, speed_z=10000)"
   ]
  },
  {
   "cell_type": "code",
   "execution_count": 5,
   "metadata": {},
   "outputs": [
    {
     "name": "stdout",
     "output_type": "stream",
     "text": [
      "Mobile touch probe response: 0\n",
      "\n",
      "Mobile touch probe response: 0\n",
      "\n",
      "Mobile touch probe response: 1\n",
      "\n",
      "Mobile touch probe response: 1\n",
      "\n",
      "Mobile touch probe response: 0\n",
      "\n",
      "Mobile touch probe response: 0\n",
      "\n",
      "Mobile touch probe response: 1\n",
      "\n",
      "Mobile touch probe response: 1\n",
      "\n",
      "Mobile touch probe response: 1\n",
      "\n",
      "Mobile touch probe response: 0\n",
      "\n",
      "Mobile touch probe response: 0\n",
      "\n",
      "Mobile touch probe response: 0\n",
      "\n",
      "Mobile touch probe response: 1\n",
      "\n",
      "Mobile touch probe response: 1\n",
      "\n",
      "Mobile touch probe response: 1\n",
      "\n",
      "Mobile touch probe response: 0\n",
      "\n",
      "Mobile touch probe response: 0\n",
      "\n",
      "Mobile touch probe response: 0\n",
      "\n",
      "Mobile touch probe response: 1\n",
      "\n",
      "Mobile touch probe response: 1\n",
      "\n",
      "Mobile touch probe response: 1\n",
      "\n",
      "Mobile touch probe response: 1\n",
      "\n",
      "Mobile touch probe response: 0\n",
      "\n",
      "Mobile touch probe response: 0\n",
      "\n",
      "Mobile touch probe response: 0\n",
      "\n",
      "Mobile touch probe response: 0\n",
      "\n",
      "Mobile touch probe response: 0\n",
      "\n",
      "Mobile touch probe response: 0\n",
      "\n",
      "Mobile touch probe response: 0\n",
      "\n",
      "Mobile touch probe response: 1\n",
      "\n",
      "Mobile touch probe response: 0\n",
      "\n",
      "Mobile touch probe response: 0\n",
      "\n",
      "Mobile touch probe response: 0\n",
      "\n",
      "Mobile touch probe response: 0\n",
      "\n",
      "Mobile touch probe response: 1\n",
      "\n",
      "Mobile touch probe response: 1\n",
      "\n",
      "Mobile touch probe response: 1\n",
      "\n",
      "Mobile touch probe response: 0\n",
      "\n",
      "Mobile touch probe response: 0\n",
      "\n",
      "Mobile touch probe response: 1\n",
      "\n",
      "Mobile touch probe response: 0\n",
      "\n",
      "Mobile touch probe response: 0\n",
      "\n",
      "Mobile touch probe response: 0\n",
      "\n",
      "Mobile touch probe response: 0\n",
      "\n",
      "Mobile touch probe response: 1\n",
      "\n",
      "Mobile touch probe response: 1\n",
      "\n",
      "Mobile touch probe response: 1\n",
      "\n",
      "Mobile touch probe response: 0\n",
      "\n",
      "Mobile touch probe response: 0\n",
      "\n",
      "Mobile touch probe response: 0\n",
      "\n",
      "Mobile touch probe response: 1\n",
      "\n",
      "Mobile touch probe response: 1\n",
      "\n",
      "Mobile touch probe response: 1\n",
      "\n",
      "Mobile touch probe response: 1\n",
      "\n",
      "Mobile touch probe response: 1\n",
      "\n",
      "Mobile touch probe response: 1\n",
      "\n",
      "Mobile touch probe response: 1\n",
      "\n",
      "Mobile touch probe response: 0\n",
      "\n",
      "Mobile touch probe response: 0\n",
      "\n",
      "Mobile touch probe response: 0\n",
      "\n",
      "Mobile touch probe response: 0\n",
      "\n",
      "Mobile touch probe response: 0\n",
      "\n",
      "Mobile touch probe response: 0\n",
      "\n",
      "Mobile touch probe response: 0\n",
      "\n",
      "Mobile touch probe response: 0\n",
      "\n",
      "Mobile touch probe response: 0\n",
      "\n",
      "Mobile touch probe response: 0\n",
      "\n",
      "Mobile touch probe response: 0\n",
      "\n",
      "Mobile touch probe response: 0\n",
      "\n",
      "Mobile touch probe response: 0\n",
      "\n",
      "Mobile touch probe response: 1\n",
      "\n"
     ]
    },
    {
     "data": {
      "text/plain": [
       "611.175"
      ]
     },
     "execution_count": 5,
     "metadata": {},
     "output_type": "execute_result"
    }
   ],
   "source": [
    "tp.findCenterOuter('x', raise_height=10, dist_through_obstruct=40)"
   ]
  },
  {
   "cell_type": "code",
   "execution_count": 6,
   "metadata": {},
   "outputs": [],
   "source": [
    "ar.move_delta(dz=-10)"
   ]
  },
  {
   "cell_type": "code",
   "execution_count": 7,
   "metadata": {},
   "outputs": [],
   "source": [
    "ar.move(x=611.175)"
   ]
  },
  {
   "cell_type": "code",
   "execution_count": 8,
   "metadata": {},
   "outputs": [],
   "source": [
    "ar.move_delta(dz=5)"
   ]
  },
  {
   "cell_type": "markdown",
   "metadata": {},
   "source": [
    "# Calibrate from inside"
   ]
  },
  {
   "cell_type": "code",
   "execution_count": 1,
   "metadata": {},
   "outputs": [],
   "source": [
    "import low_level_comm as llc\n",
    "import cartesian\n",
    "import tools\n",
    "import calibration\n",
    "from importlib import reload "
   ]
  },
  {
   "cell_type": "code",
   "execution_count": 3,
   "metadata": {},
   "outputs": [],
   "source": [
    "ar = cartesian.arnie('COM4', 'COM6')"
   ]
  },
  {
   "cell_type": "code",
   "execution_count": 4,
   "metadata": {},
   "outputs": [],
   "source": [
    "ar.home()"
   ]
  },
  {
   "cell_type": "code",
   "execution_count": 7,
   "metadata": {},
   "outputs": [],
   "source": [
    "tp=tools.mobile_touch_probe.getTool(ar)"
   ]
  },
  {
   "cell_type": "code",
   "execution_count": 4,
   "metadata": {},
   "outputs": [
    {
     "name": "stderr",
     "output_type": "stream",
     "text": [
      "ERROR:root:matchPortsWithDevices(): could not execute finiding device in list.\n",
      "ERROR:root:matchPortsWithDevices(): Provided patterns_list: ['mobile touch probe']\n",
      "ERROR:root:None\n"
     ]
    }
   ],
   "source": [
    "tp = tools.mobile_touch_probe(ar)"
   ]
  },
  {
   "cell_type": "code",
   "execution_count": 8,
   "metadata": {},
   "outputs": [],
   "source": [
    "ar.move(x=230, y=50)"
   ]
  },
  {
   "cell_type": "code",
   "execution_count": 9,
   "metadata": {},
   "outputs": [],
   "source": [
    "ar.move(z=500, speed_z=10000)"
   ]
  },
  {
   "cell_type": "code",
   "execution_count": 10,
   "metadata": {},
   "outputs": [
    {
     "data": {
      "text/plain": [
       "(239.95, 66.975)"
      ]
     },
     "execution_count": 10,
     "metadata": {},
     "output_type": "execute_result"
    }
   ],
   "source": [
    "calibration.findObjectXYCenterInner(tp)"
   ]
  },
  {
   "cell_type": "code",
   "execution_count": 7,
   "metadata": {},
   "outputs": [
    {
     "data": {
      "text/plain": [
       "(239.845, 66.225)"
      ]
     },
     "execution_count": 7,
     "metadata": {},
     "output_type": "execute_result"
    }
   ],
   "source": [
    "calibration.findObjectXYCenterInner(tp, expected_travel_x=40, expected_travel_y=40)"
   ]
  },
  {
   "cell_type": "code",
   "execution_count": 8,
   "metadata": {},
   "outputs": [
    {
     "data": {
      "text/plain": [
       "(239.975, 66.045)"
      ]
     },
     "execution_count": 8,
     "metadata": {},
     "output_type": "execute_result"
    }
   ],
   "source": [
    "calibration.findObjectXYCenterInner(tp, expected_travel_x=40, expected_travel_y=40, \n",
    "                                   move_x_relative_to_center=10, move_y_relative_to_center=15)"
   ]
  },
  {
   "cell_type": "code",
   "execution_count": 11,
   "metadata": {},
   "outputs": [],
   "source": [
    "ar.move(x=230, y=50)"
   ]
  },
  {
   "cell_type": "code",
   "execution_count": 10,
   "metadata": {},
   "outputs": [
    {
     "data": {
      "text/plain": [
       "(240.00333333333333, 66.8)"
      ]
     },
     "execution_count": 10,
     "metadata": {},
     "output_type": "execute_result"
    }
   ],
   "source": [
    "calibration.findXYInnerManyPoints(tp, 3, 5)"
   ]
  },
  {
   "cell_type": "code",
   "execution_count": 13,
   "metadata": {},
   "outputs": [],
   "source": [
    "calibration = reload(calibration)"
   ]
  },
  {
   "cell_type": "code",
   "execution_count": 14,
   "metadata": {},
   "outputs": [
    {
     "data": {
      "text/plain": [
       "(240.30600000000004, 66.901)"
      ]
     },
     "execution_count": 14,
     "metadata": {},
     "output_type": "execute_result"
    }
   ],
   "source": [
    "calibration.findXYInnerManyPoints(tp, 5, 5)"
   ]
  },
  {
   "cell_type": "code",
   "execution_count": null,
   "metadata": {},
   "outputs": [],
   "source": []
  },
  {
   "cell_type": "code",
   "execution_count": null,
   "metadata": {},
   "outputs": [],
   "source": []
  },
  {
   "cell_type": "code",
   "execution_count": 22,
   "metadata": {},
   "outputs": [
    {
     "name": "stdout",
     "output_type": "stream",
     "text": [
      "Mobile touch probe response: 0\n",
      "\n",
      "Mobile touch probe response: 0\n",
      "\n",
      "Mobile touch probe response: 0\n",
      "\n",
      "Mobile touch probe response: 0\n",
      "\n",
      "Mobile touch probe response: 0\n",
      "\n",
      "Mobile touch probe response: 0\n",
      "\n",
      "Mobile touch probe response: 1\n",
      "\n",
      "Mobile touch probe response: 1\n",
      "\n",
      "Mobile touch probe response: 0\n",
      "\n",
      "Mobile touch probe response: 0\n",
      "\n",
      "Mobile touch probe response: 1\n",
      "\n",
      "Mobile touch probe response: 1\n",
      "\n",
      "Mobile touch probe response: 1\n",
      "\n",
      "Mobile touch probe response: 0\n",
      "\n",
      "Mobile touch probe response: 0\n",
      "\n",
      "Mobile touch probe response: 0\n",
      "\n",
      "Mobile touch probe response: 1\n",
      "\n",
      "Mobile touch probe response: 1\n",
      "\n",
      "Mobile touch probe response: 1\n",
      "\n",
      "Mobile touch probe response: 1\n",
      "\n",
      "Mobile touch probe response: 0\n",
      "\n",
      "Mobile touch probe response: 0\n",
      "\n",
      "Mobile touch probe response: 0\n",
      "\n",
      "Mobile touch probe response: 0\n",
      "\n",
      "Mobile touch probe response: 0\n",
      "\n",
      "Mobile touch probe response: 1\n",
      "\n",
      "Mobile touch probe response: 1\n",
      "\n",
      "Mobile touch probe response: 1\n",
      "\n",
      "Mobile touch probe response: 1\n",
      "\n",
      "Mobile touch probe response: 1\n",
      "\n",
      "Mobile touch probe response: 1\n",
      "\n",
      "Mobile touch probe response: 1\n",
      "\n",
      "Mobile touch probe response: 1\n",
      "\n",
      "Mobile touch probe response: 0\n",
      "\n",
      "Mobile touch probe response: 0\n",
      "\n",
      "Mobile touch probe response: 0\n",
      "\n",
      "Mobile touch probe response: 0\n",
      "\n",
      "Mobile touch probe response: 0\n",
      "\n",
      "Mobile touch probe response: 0\n",
      "\n",
      "Mobile touch probe response: 0\n",
      "\n",
      "Mobile touch probe response: 0\n",
      "\n",
      "Mobile touch probe response: 0\n",
      "\n",
      "Mobile touch probe response: 1\n",
      "\n",
      "Mobile touch probe response: 0\n",
      "\n",
      "Mobile touch probe response: 0\n",
      "\n",
      "Mobile touch probe response: 0\n",
      "\n",
      "Mobile touch probe response: 0\n",
      "\n",
      "Mobile touch probe response: 0\n",
      "\n",
      "Mobile touch probe response: 0\n",
      "\n",
      "Mobile touch probe response: 1\n",
      "\n",
      "Mobile touch probe response: 1\n",
      "\n",
      "Mobile touch probe response: 1\n",
      "\n",
      "Mobile touch probe response: 0\n",
      "\n",
      "Mobile touch probe response: 0\n",
      "\n",
      "Mobile touch probe response: 0\n",
      "\n",
      "Mobile touch probe response: 1\n",
      "\n",
      "Mobile touch probe response: 1\n",
      "\n",
      "Mobile touch probe response: 0\n",
      "\n",
      "Mobile touch probe response: 0\n",
      "\n",
      "Mobile touch probe response: 0\n",
      "\n",
      "Mobile touch probe response: 0\n",
      "\n",
      "Mobile touch probe response: 1\n",
      "\n",
      "Mobile touch probe response: 1\n",
      "\n",
      "Mobile touch probe response: 1\n",
      "\n",
      "Mobile touch probe response: 0\n",
      "\n",
      "Mobile touch probe response: 0\n",
      "\n",
      "Mobile touch probe response: 0\n",
      "\n",
      "Mobile touch probe response: 0\n",
      "\n",
      "Mobile touch probe response: 0\n",
      "\n",
      "Mobile touch probe response: 1\n",
      "\n",
      "Mobile touch probe response: 1\n",
      "\n",
      "Mobile touch probe response: 1\n",
      "\n",
      "Mobile touch probe response: 1\n",
      "\n",
      "Mobile touch probe response: 1\n",
      "\n",
      "Mobile touch probe response: 1\n",
      "\n",
      "Mobile touch probe response: 1\n",
      "\n",
      "Mobile touch probe response: 0\n",
      "\n",
      "Mobile touch probe response: 0\n",
      "\n",
      "Mobile touch probe response: 0\n",
      "\n",
      "Mobile touch probe response: 0\n",
      "\n",
      "Mobile touch probe response: 0\n",
      "\n",
      "Mobile touch probe response: 0\n",
      "\n",
      "Mobile touch probe response: 0\n",
      "\n",
      "Mobile touch probe response: 1\n",
      "\n"
     ]
    }
   ],
   "source": [
    "center_x = tp.findCenterInner('x')"
   ]
  },
  {
   "cell_type": "code",
   "execution_count": 23,
   "metadata": {},
   "outputs": [
    {
     "data": {
      "text/plain": [
       "239.875"
      ]
     },
     "execution_count": 23,
     "metadata": {},
     "output_type": "execute_result"
    }
   ],
   "source": [
    "center_x"
   ]
  },
  {
   "cell_type": "code",
   "execution_count": 24,
   "metadata": {},
   "outputs": [],
   "source": [
    "ar.move(x=center_x)"
   ]
  },
  {
   "cell_type": "code",
   "execution_count": 25,
   "metadata": {},
   "outputs": [
    {
     "name": "stdout",
     "output_type": "stream",
     "text": [
      "Mobile touch probe response: 0\n",
      "\n",
      "Mobile touch probe response: 0\n",
      "\n",
      "Mobile touch probe response: 0\n",
      "\n",
      "Mobile touch probe response: 0\n",
      "\n",
      "Mobile touch probe response: 1\n",
      "\n",
      "Mobile touch probe response: 1\n",
      "\n",
      "Mobile touch probe response: 0\n",
      "\n",
      "Mobile touch probe response: 0\n",
      "\n",
      "Mobile touch probe response: 0\n",
      "\n",
      "Mobile touch probe response: 1\n",
      "\n",
      "Mobile touch probe response: 1\n",
      "\n",
      "Mobile touch probe response: 0\n",
      "\n",
      "Mobile touch probe response: 0\n",
      "\n",
      "Mobile touch probe response: 0\n",
      "\n",
      "Mobile touch probe response: 1\n",
      "\n",
      "Mobile touch probe response: 1\n",
      "\n",
      "Mobile touch probe response: 1\n",
      "\n",
      "Mobile touch probe response: 1\n",
      "\n",
      "Mobile touch probe response: 0\n",
      "\n",
      "Mobile touch probe response: 0\n",
      "\n",
      "Mobile touch probe response: 0\n",
      "\n",
      "Mobile touch probe response: 0\n",
      "\n",
      "Mobile touch probe response: 0\n",
      "\n",
      "Mobile touch probe response: 1\n",
      "\n",
      "Mobile touch probe response: 1\n",
      "\n",
      "Mobile touch probe response: 1\n",
      "\n",
      "Mobile touch probe response: 1\n",
      "\n",
      "Mobile touch probe response: 0\n",
      "\n",
      "Mobile touch probe response: 0\n",
      "\n",
      "Mobile touch probe response: 0\n",
      "\n",
      "Mobile touch probe response: 0\n",
      "\n",
      "Mobile touch probe response: 0\n",
      "\n",
      "Mobile touch probe response: 0\n",
      "\n",
      "Mobile touch probe response: 0\n",
      "\n",
      "Mobile touch probe response: 1\n",
      "\n",
      "Mobile touch probe response: 0\n",
      "\n",
      "Mobile touch probe response: 0\n",
      "\n",
      "Mobile touch probe response: 0\n",
      "\n",
      "Mobile touch probe response: 0\n",
      "\n",
      "Mobile touch probe response: 0\n",
      "\n",
      "Mobile touch probe response: 0\n",
      "\n",
      "Mobile touch probe response: 1\n",
      "\n",
      "Mobile touch probe response: 1\n",
      "\n",
      "Mobile touch probe response: 0\n",
      "\n",
      "Mobile touch probe response: 0\n",
      "\n",
      "Mobile touch probe response: 1\n",
      "\n",
      "Mobile touch probe response: 1\n",
      "\n",
      "Mobile touch probe response: 1\n",
      "\n",
      "Mobile touch probe response: 0\n",
      "\n",
      "Mobile touch probe response: 0\n",
      "\n",
      "Mobile touch probe response: 0\n",
      "\n",
      "Mobile touch probe response: 0\n",
      "\n",
      "Mobile touch probe response: 1\n",
      "\n",
      "Mobile touch probe response: 1\n",
      "\n",
      "Mobile touch probe response: 1\n",
      "\n",
      "Mobile touch probe response: 0\n",
      "\n",
      "Mobile touch probe response: 0\n",
      "\n",
      "Mobile touch probe response: 0\n",
      "\n",
      "Mobile touch probe response: 1\n",
      "\n",
      "Mobile touch probe response: 1\n",
      "\n",
      "Mobile touch probe response: 1\n",
      "\n",
      "Mobile touch probe response: 1\n",
      "\n",
      "Mobile touch probe response: 1\n",
      "\n",
      "Mobile touch probe response: 1\n",
      "\n",
      "Mobile touch probe response: 1\n",
      "\n",
      "Mobile touch probe response: 0\n",
      "\n",
      "Mobile touch probe response: 0\n",
      "\n",
      "Mobile touch probe response: 0\n",
      "\n",
      "Mobile touch probe response: 0\n",
      "\n",
      "Mobile touch probe response: 0\n",
      "\n",
      "Mobile touch probe response: 0\n",
      "\n",
      "Mobile touch probe response: 0\n",
      "\n",
      "Mobile touch probe response: 0\n",
      "\n",
      "Mobile touch probe response: 0\n",
      "\n",
      "Mobile touch probe response: 0\n",
      "\n",
      "Mobile touch probe response: 0\n",
      "\n",
      "Mobile touch probe response: 0\n",
      "\n",
      "Mobile touch probe response: 0\n",
      "\n",
      "Mobile touch probe response: 1\n",
      "\n"
     ]
    }
   ],
   "source": [
    "center_y = tp.findCenterInner('y')"
   ]
  },
  {
   "cell_type": "code",
   "execution_count": 26,
   "metadata": {},
   "outputs": [
    {
     "data": {
      "text/plain": [
       "66.175"
      ]
     },
     "execution_count": 26,
     "metadata": {},
     "output_type": "execute_result"
    }
   ],
   "source": [
    "center_y"
   ]
  },
  {
   "cell_type": "code",
   "execution_count": 27,
   "metadata": {},
   "outputs": [],
   "source": [
    "ar.move(y=center_y)"
   ]
  },
  {
   "cell_type": "code",
   "execution_count": 11,
   "metadata": {},
   "outputs": [],
   "source": [
    "tp.returnTool()"
   ]
  },
  {
   "cell_type": "markdown",
   "metadata": {},
   "source": [
    "# Calibrate from outside"
   ]
  },
  {
   "cell_type": "code",
   "execution_count": 1,
   "metadata": {},
   "outputs": [],
   "source": [
    "import low_level_comm as llc\n",
    "import cartesian\n",
    "import tools\n",
    "import calibration\n",
    "from importlib import reload "
   ]
  },
  {
   "cell_type": "code",
   "execution_count": 2,
   "metadata": {},
   "outputs": [],
   "source": [
    "ar = cartesian.arnie('COM4')"
   ]
  },
  {
   "cell_type": "code",
   "execution_count": 3,
   "metadata": {},
   "outputs": [],
   "source": [
    "ar.home()"
   ]
  },
  {
   "cell_type": "code",
   "execution_count": 4,
   "metadata": {},
   "outputs": [
    {
     "name": "stderr",
     "output_type": "stream",
     "text": [
      "ERROR:root:matchPortsWithDevices(): could not execute finiding device in list.\n",
      "ERROR:root:matchPortsWithDevices(): Provided patterns_list: ['mobile touch probe']\n",
      "ERROR:root:None\n"
     ]
    }
   ],
   "source": [
    "tp = tools.mobile_touch_probe(ar)"
   ]
  },
  {
   "cell_type": "code",
   "execution_count": 5,
   "metadata": {},
   "outputs": [],
   "source": [
    "ar.move(x=190, y=66)"
   ]
  },
  {
   "cell_type": "code",
   "execution_count": 6,
   "metadata": {},
   "outputs": [],
   "source": [
    "ar.move(z=500, speed_z=10000)"
   ]
  },
  {
   "cell_type": "code",
   "execution_count": 7,
   "metadata": {},
   "outputs": [
    {
     "data": {
      "text/plain": [
       "(239.22500000000002, 66.3)"
      ]
     },
     "execution_count": 7,
     "metadata": {},
     "output_type": "execute_result"
    }
   ],
   "source": [
    "calibration.findXYCenterOuter(tp, raise_height=20, \n",
    "                              opposite_side_dist=100, \n",
    "                              orthogonal_retraction=70)"
   ]
  },
  {
   "cell_type": "markdown",
   "metadata": {},
   "source": [
    "# Testing stationary touch probe"
   ]
  },
  {
   "cell_type": "code",
   "execution_count": 1,
   "metadata": {},
   "outputs": [],
   "source": [
    "import low_level_comm as llc\n",
    "import cartesian\n",
    "import tools\n",
    "import calibration\n",
    "from importlib import reload "
   ]
  },
  {
   "cell_type": "code",
   "execution_count": 2,
   "metadata": {},
   "outputs": [],
   "source": [
    "ar = cartesian.arnie('COM4', 'COM6')"
   ]
  },
  {
   "cell_type": "code",
   "execution_count": 3,
   "metadata": {},
   "outputs": [],
   "source": [
    "ar.home()"
   ]
  },
  {
   "cell_type": "code",
   "execution_count": 5,
   "metadata": {},
   "outputs": [],
   "source": [
    "stp = tools.stationary_touch_probe(ar)"
   ]
  },
  {
   "cell_type": "code",
   "execution_count": 6,
   "metadata": {},
   "outputs": [
    {
     "data": {
      "text/plain": [
       "<tools.stationary_touch_probe at 0x22b22852488>"
      ]
     },
     "execution_count": 6,
     "metadata": {},
     "output_type": "execute_result"
    }
   ],
   "source": [
    "stp"
   ]
  },
  {
   "cell_type": "code",
   "execution_count": 7,
   "metadata": {},
   "outputs": [
    {
     "data": {
      "text/plain": [
       "False"
      ]
     },
     "execution_count": 7,
     "metadata": {},
     "output_type": "execute_result"
    }
   ],
   "source": [
    "stp.isTouched()"
   ]
  },
  {
   "cell_type": "code",
   "execution_count": 8,
   "metadata": {},
   "outputs": [
    {
     "data": {
      "text/plain": [
       "True"
      ]
     },
     "execution_count": 8,
     "metadata": {},
     "output_type": "execute_result"
    }
   ],
   "source": [
    "stp.isTouched()"
   ]
  },
  {
   "cell_type": "code",
   "execution_count": 9,
   "metadata": {},
   "outputs": [],
   "source": [
    "stp.close()"
   ]
  },
  {
   "cell_type": "code",
   "execution_count": 10,
   "metadata": {},
   "outputs": [],
   "source": [
    "ar.close()"
   ]
  },
  {
   "cell_type": "markdown",
   "metadata": {},
   "source": [
    "# Testing calibrateMobileToolHolderOuter()"
   ]
  },
  {
   "cell_type": "code",
   "execution_count": 1,
   "metadata": {},
   "outputs": [],
   "source": [
    "import low_level_comm as llc\n",
    "import cartesian\n",
    "import tools\n",
    "import calibration\n",
    "from importlib import reload "
   ]
  },
  {
   "cell_type": "code",
   "execution_count": 2,
   "metadata": {},
   "outputs": [],
   "source": [
    "ar = cartesian.arnie('COM4', 'COM6')"
   ]
  },
  {
   "cell_type": "code",
   "execution_count": 3,
   "metadata": {},
   "outputs": [],
   "source": [
    "ar.home()"
   ]
  },
  {
   "cell_type": "code",
   "execution_count": 6,
   "metadata": {},
   "outputs": [],
   "source": [
    "ar.closeTool()"
   ]
  },
  {
   "cell_type": "code",
   "execution_count": 5,
   "metadata": {},
   "outputs": [],
   "source": [
    "ar.openTool()"
   ]
  },
  {
   "cell_type": "code",
   "execution_count": 13,
   "metadata": {},
   "outputs": [
    {
     "name": "stderr",
     "output_type": "stream",
     "text": [
      "WARNING:root:moveAxis: Attempted to move carriage to the new position along the axis Z\n",
      "WARNING:root:moveAxis: Z=578.0 with speed 8000\n",
      "WARNING:root:moveAxis: G-code command generated: G0 Z578.0 F8000\n",
      "WARNING:root:moveAxis: However, something went wrong, command aborted.\n"
     ]
    },
    {
     "ename": "IndexError",
     "evalue": "list index out of range",
     "output_type": "error",
     "traceback": [
      "\u001b[1;31m---------------------------------------------------------------------------\u001b[0m",
      "\u001b[1;31mIndexError\u001b[0m                                Traceback (most recent call last)",
      "\u001b[1;32m<ipython-input-13-d951381839ca>\u001b[0m in \u001b[0;36m<module>\u001b[1;34m\u001b[0m\n\u001b[1;32m----> 1\u001b[1;33m \u001b[0mtp\u001b[0m\u001b[1;33m=\u001b[0m\u001b[0mtools\u001b[0m\u001b[1;33m.\u001b[0m\u001b[0mmobile_touch_probe\u001b[0m\u001b[1;33m.\u001b[0m\u001b[0mgetTool\u001b[0m\u001b[1;33m(\u001b[0m\u001b[0mar\u001b[0m\u001b[1;33m)\u001b[0m\u001b[1;33m\u001b[0m\u001b[1;33m\u001b[0m\u001b[0m\n\u001b[0m\u001b[0;32m      2\u001b[0m \u001b[1;31m#tp = tools.mobile_touch_probe(ar)\u001b[0m\u001b[1;33m\u001b[0m\u001b[1;33m\u001b[0m\u001b[1;33m\u001b[0m\u001b[0m\n",
      "\u001b[1;32mc:\\Users\\sergi\\Dropbox\\workspace\\arnielib\\tools.py\u001b[0m in \u001b[0;36mgetTool\u001b[1;34m(cls, robot)\u001b[0m\n\u001b[0;32m    537\u001b[0m         \u001b[0mcls\u001b[0m\u001b[1;33m.\u001b[0m\u001b[0mwelcome_message\u001b[0m\u001b[1;33m=\u001b[0m\u001b[1;34m\"mobile touch probe\"\u001b[0m\u001b[1;33m\u001b[0m\u001b[1;33m\u001b[0m\u001b[0m\n\u001b[0;32m    538\u001b[0m         return super().getTool(robot, \n\u001b[1;32m--> 539\u001b[1;33m             tool_name=cls.tool_name, welcome_message=cls.welcome_message)\n\u001b[0m\u001b[0;32m    540\u001b[0m \u001b[1;33m\u001b[0m\u001b[0m\n\u001b[0;32m    541\u001b[0m \u001b[1;33m\u001b[0m\u001b[0m\n",
      "\u001b[1;32mc:\\Users\\sergi\\Dropbox\\workspace\\arnielib\\tools.py\u001b[0m in \u001b[0;36mgetTool\u001b[1;34m(cls, robot, tool_name, welcome_message)\u001b[0m\n\u001b[0;32m    205\u001b[0m         \u001b[1;33m[\u001b[0m\u001b[0mx\u001b[0m\u001b[1;33m,\u001b[0m \u001b[0my\u001b[0m\u001b[1;33m,\u001b[0m \u001b[0mz\u001b[0m\u001b[1;33m]\u001b[0m \u001b[1;33m=\u001b[0m \u001b[0mparam\u001b[0m\u001b[1;33m.\u001b[0m\u001b[0mgetToolDockingPoint\u001b[0m\u001b[1;33m(\u001b[0m\u001b[0mtool_name\u001b[0m\u001b[1;33m)\u001b[0m\u001b[1;33m\u001b[0m\u001b[1;33m\u001b[0m\u001b[0m\n\u001b[0;32m    206\u001b[0m         \u001b[0mcls\u001b[0m\u001b[1;33m.\u001b[0m\u001b[0mtool_name\u001b[0m \u001b[1;33m=\u001b[0m \u001b[0mtool_name\u001b[0m\u001b[1;33m\u001b[0m\u001b[1;33m\u001b[0m\u001b[0m\n\u001b[1;32m--> 207\u001b[1;33m         \u001b[1;32mreturn\u001b[0m \u001b[0mcls\u001b[0m\u001b[1;33m.\u001b[0m\u001b[0mgetToolAtCoord\u001b[0m\u001b[1;33m(\u001b[0m\u001b[0mrobot\u001b[0m\u001b[1;33m=\u001b[0m\u001b[0mrobot\u001b[0m\u001b[1;33m,\u001b[0m \u001b[0mx\u001b[0m\u001b[1;33m=\u001b[0m\u001b[0mx\u001b[0m\u001b[1;33m,\u001b[0m \u001b[0my\u001b[0m\u001b[1;33m=\u001b[0m\u001b[0my\u001b[0m\u001b[1;33m,\u001b[0m \u001b[0mz\u001b[0m\u001b[1;33m=\u001b[0m\u001b[0mz\u001b[0m\u001b[1;33m,\u001b[0m \u001b[0mwelcome_message\u001b[0m\u001b[1;33m=\u001b[0m\u001b[0mwelcome_message\u001b[0m\u001b[1;33m)\u001b[0m\u001b[1;33m\u001b[0m\u001b[1;33m\u001b[0m\u001b[0m\n\u001b[0m\u001b[0;32m    208\u001b[0m \u001b[1;33m\u001b[0m\u001b[0m\n\u001b[0;32m    209\u001b[0m \u001b[1;33m\u001b[0m\u001b[0m\n",
      "\u001b[1;32mc:\\Users\\sergi\\Dropbox\\workspace\\arnielib\\tools.py\u001b[0m in \u001b[0;36mgetToolAtCoord\u001b[1;34m(cls, robot, x, y, z, z_init, speed_xy, speed_z, welcome_message)\u001b[0m\n\u001b[0;32m    166\u001b[0m         \"\"\"\n\u001b[0;32m    167\u001b[0m \u001b[1;33m\u001b[0m\u001b[0m\n\u001b[1;32m--> 168\u001b[1;33m         \u001b[0mdevice\u001b[0m \u001b[1;33m=\u001b[0m \u001b[0mrobot\u001b[0m\u001b[1;33m.\u001b[0m\u001b[0mgetToolAtCoord\u001b[0m\u001b[1;33m(\u001b[0m\u001b[0mx\u001b[0m\u001b[1;33m,\u001b[0m \u001b[0my\u001b[0m\u001b[1;33m,\u001b[0m \u001b[0mz\u001b[0m\u001b[1;33m,\u001b[0m \u001b[0mz_init\u001b[0m\u001b[1;33m=\u001b[0m\u001b[0mz_init\u001b[0m\u001b[1;33m,\u001b[0m \u001b[0mspeed_xy\u001b[0m\u001b[1;33m=\u001b[0m\u001b[0mspeed_xy\u001b[0m\u001b[1;33m,\u001b[0m \u001b[0mspeed_z\u001b[0m\u001b[1;33m=\u001b[0m\u001b[0mspeed_z\u001b[0m\u001b[1;33m)\u001b[0m\u001b[1;33m\u001b[0m\u001b[1;33m\u001b[0m\u001b[0m\n\u001b[0m\u001b[0;32m    169\u001b[0m \u001b[1;33m\u001b[0m\u001b[0m\n\u001b[0;32m    170\u001b[0m         \u001b[0mcls\u001b[0m\u001b[1;33m.\u001b[0m\u001b[0mx_dock\u001b[0m \u001b[1;33m=\u001b[0m \u001b[0mx\u001b[0m\u001b[1;33m\u001b[0m\u001b[1;33m\u001b[0m\u001b[0m\n",
      "\u001b[1;32mc:\\Users\\sergi\\Dropbox\\workspace\\arnielib\\cartesian.py\u001b[0m in \u001b[0;36mgetToolAtCoord\u001b[1;34m(self, x, y, z, z_init, speed_xy, speed_z)\u001b[0m\n\u001b[0;32m    404\u001b[0m         \u001b[0mupdated_ports_list\u001b[0m \u001b[1;33m=\u001b[0m \u001b[0mllc\u001b[0m\u001b[1;33m.\u001b[0m\u001b[0mlistSerialPorts\u001b[0m\u001b[1;33m(\u001b[0m\u001b[1;33m)\u001b[0m\u001b[1;33m\u001b[0m\u001b[1;33m\u001b[0m\u001b[0m\n\u001b[0;32m    405\u001b[0m         \u001b[1;31m# Obtaining newly appeared port\u001b[0m\u001b[1;33m\u001b[0m\u001b[1;33m\u001b[0m\u001b[1;33m\u001b[0m\u001b[0m\n\u001b[1;32m--> 406\u001b[1;33m         \u001b[0mnew_port\u001b[0m \u001b[1;33m=\u001b[0m \u001b[0mlist\u001b[0m\u001b[1;33m(\u001b[0m\u001b[0mset\u001b[0m\u001b[1;33m(\u001b[0m\u001b[0mupdated_ports_list\u001b[0m\u001b[1;33m)\u001b[0m \u001b[1;33m-\u001b[0m \u001b[0mset\u001b[0m\u001b[1;33m(\u001b[0m\u001b[0minitial_ports_list\u001b[0m\u001b[1;33m)\u001b[0m\u001b[1;33m)\u001b[0m\u001b[1;33m[\u001b[0m\u001b[1;36m0\u001b[0m\u001b[1;33m]\u001b[0m\u001b[1;33m\u001b[0m\u001b[1;33m\u001b[0m\u001b[0m\n\u001b[0m\u001b[0;32m    407\u001b[0m \u001b[1;33m\u001b[0m\u001b[0m\n\u001b[0;32m    408\u001b[0m         \u001b[1;31m# Connecting to the device\u001b[0m\u001b[1;33m\u001b[0m\u001b[1;33m\u001b[0m\u001b[1;33m\u001b[0m\u001b[0m\n",
      "\u001b[1;31mIndexError\u001b[0m: list index out of range"
     ]
    }
   ],
   "source": [
    "tp=tools.mobile_touch_probe.getTool(ar)\n",
    "#tp = tools.mobile_touch_probe(ar)"
   ]
  },
  {
   "cell_type": "code",
   "execution_count": 9,
   "metadata": {},
   "outputs": [
    {
     "data": {
      "text/plain": [
       "{'position': [390.11, 67.125, 531.95],\n",
       " 'n_y': 0,\n",
       " 'n_x': 2,\n",
       " 'type': 'p1000',\n",
       " 'tip': [-1, -1, -1]}"
      ]
     },
     "execution_count": 9,
     "metadata": {},
     "output_type": "execute_result"
    }
   ],
   "source": [
    "calibration.calibrateMobileToolHolderOuter(tp, tool_name='p1000', holder_size=70, n_x=2, n_y=0, \n",
    "                tool_height=157, z_meas_dx=-25, z_meas_dy=0, dz_tool_pickup=86)"
   ]
  },
  {
   "cell_type": "code",
   "execution_count": 47,
   "metadata": {},
   "outputs": [],
   "source": [
    "tp.returnTool()"
   ]
  },
  {
   "cell_type": "code",
   "execution_count": 8,
   "metadata": {},
   "outputs": [],
   "source": [
    "ar.close()"
   ]
  },
  {
   "cell_type": "markdown",
   "metadata": {},
   "source": [
    "## Trying to pickup the tool after calibration"
   ]
  },
  {
   "cell_type": "code",
   "execution_count": 48,
   "metadata": {},
   "outputs": [
    {
     "data": {
      "text/plain": [
       "<low_level_comm.serial_device at 0x20b76cbda88>"
      ]
     },
     "execution_count": 48,
     "metadata": {},
     "output_type": "execute_result"
    }
   ],
   "source": [
    "ar.getToolAtCoord(390.21, 67.5, 531.95, 200)"
   ]
  },
  {
   "cell_type": "code",
   "execution_count": 49,
   "metadata": {},
   "outputs": [],
   "source": [
    "ar.returnToolToCoord(390.21, 67.5, 531.95, 200)"
   ]
  },
  {
   "cell_type": "markdown",
   "metadata": {},
   "source": [
    "# Testing tool calibration by stalagmite"
   ]
  },
  {
   "cell_type": "code",
   "execution_count": 3,
   "metadata": {},
   "outputs": [],
   "source": [
    "import low_level_comm as llc\n",
    "import cartesian\n",
    "import tools\n",
    "import calibration\n",
    "import logging\n",
    "from importlib import reload "
   ]
  },
  {
   "cell_type": "code",
   "execution_count": 4,
   "metadata": {},
   "outputs": [
    {
     "name": "stderr",
     "output_type": "stream",
     "text": [
      "Could Not Find c:\\Users\\sergi\\Dropbox\\workspace\\arnielib\\arnietest.log\n"
     ]
    }
   ],
   "source": [
    "!del arnietest.log\n",
    "logging.basicConfig(level=logging.DEBUG, \n",
    "                    format='%(asctime)s %(message)s',\n",
    "                    handlers=[logging.FileHandler(filename='arnietest.log')])\n",
    "logger = logging.getLogger()"
   ]
  },
  {
   "cell_type": "code",
   "execution_count": 6,
   "metadata": {},
   "outputs": [],
   "source": [
    "ar = cartesian.arnie('COM4', 'COM6')"
   ]
  },
  {
   "cell_type": "code",
   "execution_count": 7,
   "metadata": {},
   "outputs": [],
   "source": [
    "ar.home()"
   ]
  },
  {
   "cell_type": "markdown",
   "metadata": {},
   "source": [
    "## Getting pipettor tool"
   ]
  },
  {
   "cell_type": "code",
   "execution_count": null,
   "metadata": {},
   "outputs": [],
   "source": [
    "p1000 = tools.mobile_tool.getTool()"
   ]
  },
  {
   "cell_type": "code",
   "execution_count": 8,
   "metadata": {},
   "outputs": [],
   "source": [
    "ar.close()"
   ]
  },
  {
   "cell_type": "code",
   "execution_count": null,
   "metadata": {},
   "outputs": [],
   "source": []
  }
 ],
 "metadata": {
  "kernelspec": {
   "display_name": "Python 3",
   "language": "python",
   "name": "python3"
  },
  "language_info": {
   "codemirror_mode": {
    "name": "ipython",
    "version": 3
   },
   "file_extension": ".py",
   "mimetype": "text/x-python",
   "name": "python",
   "nbconvert_exporter": "python",
   "pygments_lexer": "ipython3",
   "version": "3.7.4"
  }
 },
 "nbformat": 4,
 "nbformat_minor": 2
}
