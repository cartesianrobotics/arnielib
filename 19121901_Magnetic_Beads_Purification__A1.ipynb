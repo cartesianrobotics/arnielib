{
 "cells": [
  {
   "cell_type": "markdown",
   "metadata": {},
   "source": [
    "TODO:\n",
    "    1. Make function that recalculates volume into plunger movements"
   ]
  },
  {
   "cell_type": "code",
   "execution_count": 1,
   "metadata": {
    "ExecuteTime": {
     "end_time": "2019-12-20T09:27:34.776509Z",
     "start_time": "2019-12-20T09:27:34.718662Z"
    },
    "collapsed": true
   },
   "outputs": [],
   "source": [
    "import arnielib as a"
   ]
  },
  {
   "cell_type": "code",
   "execution_count": 7,
   "metadata": {
    "ExecuteTime": {
     "end_time": "2019-12-20T09:28:08.243314Z",
     "start_time": "2019-12-20T09:28:08.210804Z"
    }
   },
   "outputs": [
    {
     "data": {
      "text/plain": [
       "['COM6', 'COM18']"
      ]
     },
     "execution_count": 7,
     "metadata": {},
     "output_type": "execute_result"
    }
   ],
   "source": [
    "a.serial_ports()"
   ]
  },
  {
   "cell_type": "code",
   "execution_count": null,
   "metadata": {
    "collapsed": true
   },
   "outputs": [],
   "source": [
    "ar = a.connect()"
   ]
  },
  {
   "cell_type": "code",
   "execution_count": 9,
   "metadata": {
    "ExecuteTime": {
     "end_time": "2019-12-20T09:47:15.204694Z",
     "start_time": "2019-12-20T09:47:15.191748Z"
    }
   },
   "outputs": [
    {
     "ename": "NameError",
     "evalue": "name 'ar' is not defined",
     "output_type": "error",
     "traceback": [
      "\u001b[1;31m---------------------------------------------------------------------------\u001b[0m",
      "\u001b[1;31mNameError\u001b[0m                                 Traceback (most recent call last)",
      "\u001b[1;32m<ipython-input-9-af60debefc77>\u001b[0m in \u001b[0;36m<module>\u001b[1;34m()\u001b[0m\n\u001b[1;32m----> 1\u001b[1;33m \u001b[0mu_mm\u001b[0m \u001b[1;33m=\u001b[0m \u001b[0mar\u001b[0m\u001b[1;33m.\u001b[0m\u001b[0mparams\u001b[0m\u001b[1;33m[\u001b[0m\u001b[1;34m\"units_in_mm\"\u001b[0m\u001b[1;33m]\u001b[0m\u001b[1;33m\u001b[0m\u001b[0m\n\u001b[0m",
      "\u001b[1;31mNameError\u001b[0m: name 'ar' is not defined"
     ]
    }
   ],
   "source": [
    "u_mm = ar.params[\"units_in_mm\"]"
   ]
  },
  {
   "cell_type": "markdown",
   "metadata": {},
   "source": [
    "# Pipetting magnetic beads to the sample"
   ]
  },
  {
   "cell_type": "code",
   "execution_count": null,
   "metadata": {
    "collapsed": true
   },
   "outputs": [],
   "source": [
    "a.get_tool(ar, type=\"pipettor\", subtype=\"single\", volume=1000)\n",
    "a.calibrate_mobile_probe_tip(ar, x_n=0, y_n=0)\n",
    "ar.move(z=3000)\n",
    "a.pickup_tip(robot=ar, x_n=0, y_n=2, well_x_n=0, well_y_n=1)\n",
    "# Pipetting beads into the 1st tube\n",
    "a.approach_well(robot=ar, x_n=2, y_n=3, well_x_n=0, well_y_n=0)\n",
    "a.uptake_liquid(robot=ar, x_n=1, y_n=3, expected_liquid_level=10, plunger_level=30, speed=700, delay=1)\n",
    "a.approach_well(robot=ar, x_n=2, y_n=3, well_x_n=0, well_y_n=3)\n",
    "a.release_liquid(robot=ar, x_n=1, y_n=3, plunger_level=10, speed=700, delay=1)\n",
    "pipettor = ar.current_tool_device\n",
    "tube_height = rack_dict['eppendorf'][\"tube_height\"]\n",
    "\n",
    "# Pipetting beads into the 2nd tube\n",
    "a.approach_well(robot=ar, x_n=2, y_n=3, well_x_n=0, well_y_n=0)\n",
    "a.uptake_liquid(robot=ar, x_n=1, y_n=3, expected_liquid_level=10, plunger_level=30, speed=700, delay=1)\n",
    "a.approach_well(robot=ar, x_n=2, y_n=3, well_x_n=1, well_y_n=3)\n",
    "# Pipetting beads into the 3rd tube\n",
    "a.approach_well(robot=ar, x_n=2, y_n=3, well_x_n=0, well_y_n=0)\n",
    "a.uptake_liquid(robot=ar, x_n=1, y_n=3, expected_liquid_level=10, plunger_level=30, speed=700, delay=1)\n",
    "a.approach_well(robot=ar, x_n=2, y_n=3, well_x_n=2, well_y_n=3)\n"
   ]
  },
  {
   "cell_type": "markdown",
   "metadata": {},
   "source": [
    "# Mixing magnetic beads with sample\n",
    "\n",
    "Pipetting up and down"
   ]
  },
  {
   "cell_type": "code",
   "execution_count": null,
   "metadata": {
    "collapsed": true
   },
   "outputs": [],
   "source": []
  }
 ],
 "metadata": {
  "kernelspec": {
   "display_name": "Python [conda root]",
   "language": "python",
   "name": "conda-root-py"
  },
  "language_info": {
   "codemirror_mode": {
    "name": "ipython",
    "version": 3
   },
   "file_extension": ".py",
   "mimetype": "text/x-python",
   "name": "python",
   "nbconvert_exporter": "python",
   "pygments_lexer": "ipython3",
   "version": "3.5.3"
  },
  "toc": {
   "base_numbering": 1,
   "nav_menu": {},
   "number_sections": true,
   "sideBar": true,
   "skip_h1_title": false,
   "title_cell": "Table of Contents",
   "title_sidebar": "Contents",
   "toc_cell": false,
   "toc_position": {},
   "toc_section_display": true,
   "toc_window_display": false
  }
 },
 "nbformat": 4,
 "nbformat_minor": 2
}
