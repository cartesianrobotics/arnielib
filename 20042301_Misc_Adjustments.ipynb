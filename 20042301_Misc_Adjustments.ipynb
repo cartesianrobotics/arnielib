{
 "cells": [
  {
   "cell_type": "code",
   "execution_count": 2,
   "metadata": {},
   "outputs": [],
   "source": [
    "import tools\n",
    "import param\n",
    "import cartesian\n",
    "import racks\n",
    "import calibration\n",
    "import samples\n",
    "import json\n",
    "import importlib\n",
    "import random as rnd\n",
    "import time\n",
    "import low_level_comm as llc"
   ]
  },
  {
   "cell_type": "code",
   "execution_count": 3,
   "metadata": {},
   "outputs": [],
   "source": [
    "def dropTipToWaste(tool, x_slot, y_slot, z):\n",
    "    tool.robot.move(z=z)\n",
    "    x, y = param.calcSquareSlotCenterFromVertices(x_slot, y_slot)\n",
    "    tool.robot.move(x=x, y=y)\n",
    "    tool.dropTip()"
   ]
  },
  {
   "cell_type": "code",
   "execution_count": 4,
   "metadata": {},
   "outputs": [
    {
     "data": {
      "text/plain": [
       "['COM3', 'COM6', 'COM10', 'COM14']"
      ]
     },
     "execution_count": 4,
     "metadata": {},
     "output_type": "execute_result"
    }
   ],
   "source": [
    "llc.listSerialPorts()"
   ]
  },
  {
   "cell_type": "code",
   "execution_count": 5,
   "metadata": {},
   "outputs": [],
   "source": [
    "ar = cartesian.arnie(cartesian_port=\"COM10\", docker_port=\"COM6\")"
   ]
  },
  {
   "cell_type": "code",
   "execution_count": 6,
   "metadata": {},
   "outputs": [],
   "source": [
    "ar.home()"
   ]
  },
  {
   "cell_type": "code",
   "execution_count": 7,
   "metadata": {},
   "outputs": [
    {
     "name": "stderr",
     "output_type": "stream",
     "text": [
      "ERROR:root:matchPortsWithDevices(): could not execute finiding device in list.\n",
      "ERROR:root:matchPortsWithDevices(): Provided patterns_list: ['stationary touch probe']\n",
      "ERROR:root:None\n"
     ]
    }
   ],
   "source": [
    "stp = tools.stationary_touch_probe(ar)"
   ]
  },
  {
   "cell_type": "code",
   "execution_count": 8,
   "metadata": {},
   "outputs": [],
   "source": [
    "p1000_tip_rack = racks.consumables(rack_name='p1000_tips_1', rack_type='p1000_tips')"
   ]
  },
  {
   "cell_type": "code",
   "execution_count": 9,
   "metadata": {},
   "outputs": [],
   "source": [
    "ep1 = racks.rack(rack_name='eppendorf_1', rack_type='eppendorf')\n",
    "r50 = racks.rack(rack_name='50mL_rack_1', rack_type='50mL')"
   ]
  },
  {
   "cell_type": "code",
   "execution_count": 19,
   "metadata": {},
   "outputs": [
    {
     "data": {
      "text/plain": [
       "[None, None, None, None, None]"
      ]
     },
     "execution_count": 19,
     "metadata": {},
     "output_type": "execute_result"
    }
   ],
   "source": [
    "sample_list = [samples.sample(sample_name='t_ep_'+str(x), sample_type='eppendorf_tube') for x in range(5)]\n",
    "[x[0].place(ep1, x[1], 3) for x in zip(sample_list, range(5))]"
   ]
  },
  {
   "cell_type": "code",
   "execution_count": 20,
   "metadata": {},
   "outputs": [],
   "source": [
    "ethanol = samples.sample(sample_name='ethanol', sample_type='50mL_tube')\n",
    "ethanol.place(r50, 2, 0)\n",
    "ethanol.setVolume(50000)"
   ]
  },
  {
   "cell_type": "code",
   "execution_count": 12,
   "metadata": {},
   "outputs": [],
   "source": [
    "p1000 = tools.pipettor(robot=ar, tool_name='p1000_tool')"
   ]
  },
  {
   "cell_type": "code",
   "execution_count": 13,
   "metadata": {},
   "outputs": [],
   "source": [
    "xt, yt, zt = calibration.calibrateTool(p1000, stp)"
   ]
  },
  {
   "cell_type": "code",
   "execution_count": null,
   "metadata": {},
   "outputs": [],
   "source": [
    "# TODO: Calibrate uptake heights. Now it is too low\n",
    "xn, yn = p1000_tip_rack.getNextConsumable()\n",
    "p1000.pickUpTip(p1000_tip_rack, xn, yn, raise_z=400)\n",
    "ethanol_vol_list = [200 for x in sample_list]\n",
    "timestamp = time.time()\n",
    "p1000.distributeLiquid(ethanol, sample_list, ethanol_vol_list, raise_z=300)\n",
    "dropTipToWaste(tool=p1000, x_slot=5, y_slot=3, z=300)"
   ]
  },
  {
   "cell_type": "code",
   "execution_count": 17,
   "metadata": {},
   "outputs": [],
   "source": [
    "p1000.movePlunger(0)"
   ]
  },
  {
   "cell_type": "code",
   "execution_count": 18,
   "metadata": {},
   "outputs": [],
   "source": [
    "dropTipToWaste(tool=p1000, x_slot=5, y_slot=3, z=300)"
   ]
  },
  {
   "cell_type": "code",
   "execution_count": null,
   "metadata": {},
   "outputs": [],
   "source": []
  }
 ],
 "metadata": {
  "kernelspec": {
   "display_name": "Python 3",
   "language": "python",
   "name": "python3"
  },
  "language_info": {
   "codemirror_mode": {
    "name": "ipython",
    "version": 3
   },
   "file_extension": ".py",
   "mimetype": "text/x-python",
   "name": "python",
   "nbconvert_exporter": "python",
   "pygments_lexer": "ipython3",
   "version": "3.7.4"
  }
 },
 "nbformat": 4,
 "nbformat_minor": 2
}
