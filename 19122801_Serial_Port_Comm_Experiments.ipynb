{
 "cells": [
  {
   "cell_type": "code",
   "execution_count": 10,
   "metadata": {},
   "outputs": [],
   "source": [
    "import serial\n",
    "import time\n",
    "import re\n",
    "import logging"
   ]
  },
  {
   "cell_type": "code",
   "execution_count": 11,
   "metadata": {},
   "outputs": [],
   "source": [
    "logger = logging.getLogger()\n",
    "logger.setLevel(logging.DEBUG)\n",
    "logging.basicConfig(filename='logtest.log', level=logging.DEBUG, format='%(asctime)s %(message)s')"
   ]
  },
  {
   "cell_type": "code",
   "execution_count": 12,
   "metadata": {},
   "outputs": [],
   "source": [
    "class serial_device():\n",
    "    \"\"\"\n",
    "    Parent class, handling basic communication with a device, \n",
    "    be it an Arnie robot, or a tool or anything else\n",
    "    \"\"\"\n",
    "    \n",
    "    def __init__(self, port_name, welcome_message=\"\", welcome_message_delay=1, baudrate=115200, timeout=0.1, eol=\"\\r\"):\n",
    "        \n",
    "        \"\"\"\n",
    "        Initializes a devise to communicate through the serial port\n",
    "        (which is now most likely a USB emulation of a serial port)\n",
    "        \n",
    "        Inputs:\n",
    "            port_name \n",
    "                The name of the port through which a robot or a tool is going to communicate.\n",
    "            welcome_message\n",
    "                Each device upon initialization is likely to send some first message, usually\n",
    "                containing name of the device connected. This message is called \"welcome message\".\n",
    "                This variable is used to confirm that the actual device connected is what we think is connected.\n",
    "                Currently unused.\n",
    "            welcome_message_delay\n",
    "                Time in seconds to wait for the device to send a welcome message.\n",
    "                Default is 1 second.\n",
    "                If time is too short, the welcome message may not fully appear, causing \n",
    "                the program to return an error during initialization.\n",
    "            baudrate\n",
    "                Speed of communication. For USB 115200 is good. Lower if communication becomes bad.\n",
    "            timeout\n",
    "                How long to wait (in seconds) for a device to respond before returning an error\n",
    "                0.1 seconds is default.\n",
    "            eol\n",
    "                character to pass at the end of a line when sending something to the device.\n",
    "                Default is '\\r'\n",
    "        \"\"\"\n",
    "        \n",
    "        self.port_name = port_name\n",
    "        logging.info(\"Port %s: Initialization of a device started.\", self.port_name)\n",
    "        logging.info(\"Port %s: Expected welcome message:  %s\", self.port_name, welcome_message)\n",
    "        self.eol=eol # Keeps End Of Line that the device expects to receive\n",
    "        self.recent_message = \"\" # This variable contains the latest stuff received from the device\n",
    "        self.description = {\"class\": serial_device, \"message\": welcome_message, \"type\": \"\", \"mobile\": False }\n",
    "\n",
    "        self.openSerialPort(port_name, baudrate, timeout)\n",
    "        \n",
    "        # Reading welcome message from the device connected\n",
    "        logging.info(\"Port %s: Welcome message received:\", self.port_name)\n",
    "        self.welcome_message = self.readAll(delay=welcome_message_delay)\n",
    "        # Cleaning input buffer from some extra messages\n",
    "        self.port.flushInput()\n",
    "\n",
    "    \n",
    "    def openSerialPort(self, port_name=\"\", baudrate=115200, timeout=0.1):\n",
    "        \"\"\"\n",
    "        Opens serial port\n",
    "        \"\"\"\n",
    "        # Trying to use specifically provided port_name\n",
    "        # Otherwise using whatever internal number instance may already have.\n",
    "        if port_name != \"\":\n",
    "            com_port = port_name\n",
    "            self.port_name = port_name\n",
    "        else:\n",
    "            com_port = self.port_name\n",
    "        # Make sure port is closed\n",
    "        self.close()\n",
    "        # Opening robot instance\n",
    "        self.port = serial.Serial(com_port, baudrate, timeout=timeout)\n",
    "        logging.info(\"Port %s: Opened.\", self.port_name)\n",
    "        logging.info(\"Port %s: baudrate=%s.\", self.port_name, baudrate)\n",
    "        logging.info(\"Port %s: timeout=%s.\", self.port_name, timeout)\n",
    "        \n",
    "        \n",
    "    def close(self):\n",
    "        \"\"\"\n",
    "        Will try to close Arnie port if it is open\n",
    "        \"\"\"\n",
    "        try:\n",
    "            self.port.close()\n",
    "            logging.info(\"Port %s: Closed successfully\", self.port_name)\n",
    "        except:\n",
    "            logging.info(\"Port %s: Attempted to close, unsuccessfully\", self.port_name)\n",
    "\n",
    "    \n",
    "    def findDeviceInList(self, names_list):\n",
    "        \"\"\"\n",
    "        Compares provided names_list with the welcome message, returns \n",
    "        list index for the right name.\n",
    "            Inputs:\n",
    "                names_list\n",
    "                    Contains list of welcome messages, or fractions of them, to be\n",
    "                    compared to the actual welcome message received from the device.\n",
    "                    One of the name should match fully or partially the welcome message\n",
    "                    of currently connected device\n",
    "                    \n",
    "            Returns:\n",
    "                right_index\n",
    "                    Index of a welcome message in names_list, that was matched to\n",
    "                    the actual welcome message obtained from the device.\n",
    "                    If nothing was matched, returns None.\n",
    "        \"\"\"\n",
    "        right_index = None\n",
    "        for name in names_list:\n",
    "            if re.search(pattern=name, string=self.welcome_message):\n",
    "                logging.info(\"Port %s: Successfully matched pattern\", self.port_name)\n",
    "                logging.info(name)\n",
    "                logging.info(\"To the welcome message: \")\n",
    "                logging.info(self.welcome_message)\n",
    "                \n",
    "                right_index = names_list.index(name)\n",
    "        return right_index\n",
    "    \n",
    "    \n",
    "    def write(self, expression, eol=None):\n",
    "        \"\"\"\n",
    "        Sending an expression to a device. Expression is in str format.\n",
    "        Proper end of line will be sent. If eol specified here, it will be sent\n",
    "        Otherwise the one specified during initialization will be sent.\n",
    "        \"\"\"\n",
    "        # Cleaning input buffer (so the buffer will contain only response of a device \n",
    "        # to the command send within this function)\n",
    "        self.port.flushInput()\n",
    "        # Strip all EOL characters for consistency\n",
    "        expression = expression.strip()\n",
    "        if eol:\n",
    "            eol_to_send = eol\n",
    "        else:\n",
    "            eol_to_send = self.eol\n",
    "        # Add end of line\n",
    "        expression = expression + eol_to_send\n",
    "        # Encode to binary\n",
    "        expr_enc = expression.encode()\n",
    "        \n",
    "        logging.info(\"Port %s: Sending message: \", self.port_name)\n",
    "        logging.info(expression)\n",
    "        # Writing to the device (robot or a tool)\n",
    "        self.port.write(expr_enc)\n",
    "        \n",
    "        \n",
    "    # TODO: Inline this function so that people don't circumvent logging by using this function. \n",
    "    def _read(self, number_of_bytes=1):\n",
    "        \"\"\"\n",
    "        Same functionality as Serial.read()\n",
    "        \"\"\"\n",
    "        return self.port.read(number_of_bytes).decode(\"utf-8\")\n",
    "    \n",
    "    def readAll(self, delay=0.1):\n",
    "        \"\"\"\n",
    "        Function will wait until everything that the device send is read\n",
    "        \"\"\"\n",
    "        # Give time for device to respond\n",
    "        time.sleep(delay)\n",
    "        # Wait forever for device to return something\n",
    "        message=self._read()\n",
    "        # Continue reading until device output buffer is empty\n",
    "        while self.port.inWaiting():\n",
    "            message += self._read()\n",
    "        \n",
    "        logging.info(\"Port %s: Function readAll(): Received message: \", self.port_name)\n",
    "        logging.info(message)\n",
    "        return message\n",
    "    \n",
    "    def readBufferUntilMatch(self, pattern):\n",
    "        \"\"\"\n",
    "        This function will monitor serial port buffer, until the \"pattern\" occurs.\n",
    "        \n",
    "        Inputs:\n",
    "            - pattern - any string; put something that is expected to return from serial port\n",
    "            \n",
    "        Returns:\n",
    "            Everything which was read from the buffer before the pattern occurred, including the pattern.\n",
    "        \"\"\"\n",
    "        \n",
    "        full_message = \"\"\n",
    "        while True:\n",
    "            message = self.port.readline().decode(\"utf-8\")\n",
    "            full_message += message\n",
    "            if re.search(pattern=pattern, string=full_message):\n",
    "                self.recent_message = full_message\n",
    "                break\n",
    "        logging.info(\"Port %s: Function readBufferUntilMatch(): Received message: \", self.port_name)\n",
    "        logging.info(full_message)\n",
    "        logging.info(\"It was successfully matched with pattern %s\", pattern)\n",
    "        return full_message\n",
    "\n",
    "    # TODO: Rename this into \"write\", and rename \"write\"into \"write_ignore_response\".\n",
    "    def writeAndWait(self, expression, eol=None, confirm_message='ok\\n'):\n",
    "        \"\"\"\n",
    "        Function will write an expression to the device and wait for the proper response.\n",
    "        \n",
    "        Use this function to make the devise perform a physical operation and\n",
    "        make sure program continues after the operation is physically completed.\n",
    "        \n",
    "        Function will return an output message\n",
    "        \"\"\"\n",
    "        self.write(expression, eol)\n",
    "        self.recent_message = self.readBufferUntilMatch(pattern=confirm_message)\n",
    "        return self.recent_message"
   ]
  },
  {
   "cell_type": "code",
   "execution_count": 13,
   "metadata": {},
   "outputs": [],
   "source": [
    "s = serial_device('COM4')"
   ]
  },
  {
   "cell_type": "code",
   "execution_count": 14,
   "metadata": {},
   "outputs": [
    {
     "data": {
      "text/plain": [
       "'echo:busy: processing\\nX:0.00 Y:0.00 Z:0.00 E:0.00 Count X:0 Y:0 Z:0\\nok\\n'"
      ]
     },
     "execution_count": 14,
     "metadata": {},
     "output_type": "execute_result"
    }
   ],
   "source": [
    "s.writeAndWait(\"G28 Z\")"
   ]
  },
  {
   "cell_type": "code",
   "execution_count": 15,
   "metadata": {},
   "outputs": [
    {
     "data": {
      "text/plain": [
       "'start\\necho:Marlin 1.1.8\\n\\necho: Last Updated: 2017-12-25 12:00 | Author: (none, default config)\\necho:Compiled: Dec 22 2019\\necho: Free Memory: 5437  PlannerBufferBytes: 1232\\necho:Hardcoded Default Settings Loaded\\necho:  G21    ; Units in mm\\n\\necho:Filament settings: Disabled\\necho:  M200 D3.00\\necho:  M200 D0\\necho:Steps per unit:\\necho:  M92 X20.00 Y20.00 Z25.00 E500.00\\necho:Maximum feedrates (units/s):\\necho:  M203 X2000.00 Y2000.00 Z4000.00 E25.00\\necho:Maximum Acceleration (units/s2):\\necho:  M201 X10000 Y10000 Z1000 E10000\\necho:Acceleration (units/s2): P<print_accel> R<retract_accel> T<travel_accel>\\necho:  M204 P500.00 R10000.00 T500.00\\necho:Advanced: S<min_feedrate> T<min_travel_feedrate> B<min_segment_time_us> X<max_xy_jerk> Z<max_z_jerk> E<max_e_jerk>\\necho:  M205 S0.00 T0.00 B20000 X2.00 Y2.00 Z2.00 E5.00\\necho:Home offset:\\necho:  M206 X0.00 Y0.00 Z0.00\\necho:PID settings:\\necho:  M301 P22.20 I1.08 D114.00\\necho:Z-Probe Offset (mm):\\necho:  M851 Z0.00\\n'"
      ]
     },
     "execution_count": 15,
     "metadata": {},
     "output_type": "execute_result"
    }
   ],
   "source": [
    "s.welcome_message"
   ]
  },
  {
   "cell_type": "code",
   "execution_count": 16,
   "metadata": {},
   "outputs": [],
   "source": [
    "list_of_candiates = ['Pipettor', 'Gripper', 'Marlin']"
   ]
  },
  {
   "cell_type": "code",
   "execution_count": 17,
   "metadata": {},
   "outputs": [
    {
     "data": {
      "text/plain": [
       "2"
      ]
     },
     "execution_count": 17,
     "metadata": {},
     "output_type": "execute_result"
    }
   ],
   "source": [
    "s.findDeviceInList(list_of_candiates)"
   ]
  },
  {
   "cell_type": "code",
   "execution_count": 18,
   "metadata": {},
   "outputs": [],
   "source": [
    "s.close()"
   ]
  },
  {
   "cell_type": "code",
   "execution_count": 23,
   "metadata": {},
   "outputs": [
    {
     "data": {
      "text/plain": [
       "['Marlin', 'Servo']"
      ]
     },
     "execution_count": 23,
     "metadata": {},
     "output_type": "execute_result"
    }
   ],
   "source": [
    "[x for x in {'Arnie': 'Marlin', 'Pipettor_1000': 'Servo'}.values()]"
   ]
  },
  {
   "cell_type": "code",
   "execution_count": 24,
   "metadata": {},
   "outputs": [
    {
     "data": {
      "text/plain": [
       "['Marlin', 'Servo']"
      ]
     },
     "execution_count": 24,
     "metadata": {},
     "output_type": "execute_result"
    }
   ],
   "source": [
    "list({'Arnie': 'Marlin', 'Pipettor_1000': 'Servo'}.values())"
   ]
  },
  {
   "cell_type": "markdown",
   "metadata": {},
   "source": [
    "# Testing library"
   ]
  },
  {
   "cell_type": "code",
   "execution_count": 1,
   "metadata": {},
   "outputs": [],
   "source": [
    "import low_level_comm as llc"
   ]
  },
  {
   "cell_type": "code",
   "execution_count": 2,
   "metadata": {},
   "outputs": [],
   "source": [
    "s = llc.serial_device('COM3', welcome_message_delay=2)"
   ]
  },
  {
   "cell_type": "code",
   "execution_count": 3,
   "metadata": {},
   "outputs": [
    {
     "data": {
      "text/plain": [
       "\"Arnie's stationary touch probe\\r\\nRev. 1.0, 11/20/2019\\r\\n\""
      ]
     },
     "execution_count": 3,
     "metadata": {},
     "output_type": "execute_result"
    }
   ],
   "source": [
    "s.welcome_message"
   ]
  },
  {
   "cell_type": "code",
   "execution_count": 4,
   "metadata": {},
   "outputs": [
    {
     "ename": "KeyboardInterrupt",
     "evalue": "",
     "output_type": "error",
     "traceback": [
      "\u001b[1;31m---------------------------------------------------------------------------\u001b[0m",
      "\u001b[1;31mKeyboardInterrupt\u001b[0m                         Traceback (most recent call last)",
      "\u001b[1;32m<ipython-input-4-cf487f5bb60e>\u001b[0m in \u001b[0;36m<module>\u001b[1;34m\u001b[0m\n\u001b[1;32m----> 1\u001b[1;33m \u001b[0ms\u001b[0m\u001b[1;33m.\u001b[0m\u001b[0mwriteAndWait\u001b[0m\u001b[1;33m(\u001b[0m\u001b[1;34m\"G28 Z\"\u001b[0m\u001b[1;33m)\u001b[0m\u001b[1;33m\u001b[0m\u001b[1;33m\u001b[0m\u001b[0m\n\u001b[0m",
      "\u001b[1;32m~\\Dropbox\\workspace\\arnielib\\low_level_comm.py\u001b[0m in \u001b[0;36mwriteAndWait\u001b[1;34m(self, expression, eol, confirm_message)\u001b[0m\n\u001b[0;32m    231\u001b[0m         \"\"\"\n\u001b[0;32m    232\u001b[0m         \u001b[0mself\u001b[0m\u001b[1;33m.\u001b[0m\u001b[0mwrite\u001b[0m\u001b[1;33m(\u001b[0m\u001b[0mexpression\u001b[0m\u001b[1;33m,\u001b[0m \u001b[0meol\u001b[0m\u001b[1;33m)\u001b[0m\u001b[1;33m\u001b[0m\u001b[1;33m\u001b[0m\u001b[0m\n\u001b[1;32m--> 233\u001b[1;33m         \u001b[0mself\u001b[0m\u001b[1;33m.\u001b[0m\u001b[0mrecent_message\u001b[0m \u001b[1;33m=\u001b[0m \u001b[0mself\u001b[0m\u001b[1;33m.\u001b[0m\u001b[0mreadBufferUntilMatch\u001b[0m\u001b[1;33m(\u001b[0m\u001b[0mpattern\u001b[0m\u001b[1;33m=\u001b[0m\u001b[0mconfirm_message\u001b[0m\u001b[1;33m)\u001b[0m\u001b[1;33m\u001b[0m\u001b[1;33m\u001b[0m\u001b[0m\n\u001b[0m\u001b[0;32m    234\u001b[0m         \u001b[1;32mreturn\u001b[0m \u001b[0mself\u001b[0m\u001b[1;33m.\u001b[0m\u001b[0mrecent_message\u001b[0m\u001b[1;33m\u001b[0m\u001b[1;33m\u001b[0m\u001b[0m\n\u001b[0;32m    235\u001b[0m \u001b[1;33m\u001b[0m\u001b[0m\n",
      "\u001b[1;32m~\\Dropbox\\workspace\\arnielib\\low_level_comm.py\u001b[0m in \u001b[0;36mreadBufferUntilMatch\u001b[1;34m(self, pattern)\u001b[0m\n\u001b[0;32m    210\u001b[0m         \u001b[0mfull_message\u001b[0m \u001b[1;33m=\u001b[0m \u001b[1;34m\"\"\u001b[0m\u001b[1;33m\u001b[0m\u001b[1;33m\u001b[0m\u001b[0m\n\u001b[0;32m    211\u001b[0m         \u001b[1;32mwhile\u001b[0m \u001b[1;32mTrue\u001b[0m\u001b[1;33m:\u001b[0m\u001b[1;33m\u001b[0m\u001b[1;33m\u001b[0m\u001b[0m\n\u001b[1;32m--> 212\u001b[1;33m             \u001b[0mmessage\u001b[0m \u001b[1;33m=\u001b[0m \u001b[0mself\u001b[0m\u001b[1;33m.\u001b[0m\u001b[0mport\u001b[0m\u001b[1;33m.\u001b[0m\u001b[0mreadline\u001b[0m\u001b[1;33m(\u001b[0m\u001b[1;33m)\u001b[0m\u001b[1;33m.\u001b[0m\u001b[0mdecode\u001b[0m\u001b[1;33m(\u001b[0m\u001b[1;34m\"utf-8\"\u001b[0m\u001b[1;33m)\u001b[0m\u001b[1;33m\u001b[0m\u001b[1;33m\u001b[0m\u001b[0m\n\u001b[0m\u001b[0;32m    213\u001b[0m             \u001b[0mfull_message\u001b[0m \u001b[1;33m+=\u001b[0m \u001b[0mmessage\u001b[0m\u001b[1;33m\u001b[0m\u001b[1;33m\u001b[0m\u001b[0m\n\u001b[0;32m    214\u001b[0m             \u001b[1;32mif\u001b[0m \u001b[0mre\u001b[0m\u001b[1;33m.\u001b[0m\u001b[0msearch\u001b[0m\u001b[1;33m(\u001b[0m\u001b[0mpattern\u001b[0m\u001b[1;33m=\u001b[0m\u001b[0mpattern\u001b[0m\u001b[1;33m,\u001b[0m \u001b[0mstring\u001b[0m\u001b[1;33m=\u001b[0m\u001b[0mfull_message\u001b[0m\u001b[1;33m)\u001b[0m\u001b[1;33m:\u001b[0m\u001b[1;33m\u001b[0m\u001b[1;33m\u001b[0m\u001b[0m\n",
      "\u001b[1;32m~\\Anaconda3\\lib\\site-packages\\serial\\serialwin32.py\u001b[0m in \u001b[0;36mread\u001b[1;34m(self, size)\u001b[0m\n\u001b[0;32m    288\u001b[0m                     \u001b[0mctypes\u001b[0m\u001b[1;33m.\u001b[0m\u001b[0mbyref\u001b[0m\u001b[1;33m(\u001b[0m\u001b[0mself\u001b[0m\u001b[1;33m.\u001b[0m\u001b[0m_overlapped_read\u001b[0m\u001b[1;33m)\u001b[0m\u001b[1;33m,\u001b[0m\u001b[1;33m\u001b[0m\u001b[1;33m\u001b[0m\u001b[0m\n\u001b[0;32m    289\u001b[0m                     \u001b[0mctypes\u001b[0m\u001b[1;33m.\u001b[0m\u001b[0mbyref\u001b[0m\u001b[1;33m(\u001b[0m\u001b[0mrc\u001b[0m\u001b[1;33m)\u001b[0m\u001b[1;33m,\u001b[0m\u001b[1;33m\u001b[0m\u001b[1;33m\u001b[0m\u001b[0m\n\u001b[1;32m--> 290\u001b[1;33m                     True)\n\u001b[0m\u001b[0;32m    291\u001b[0m                 \u001b[1;32mif\u001b[0m \u001b[1;32mnot\u001b[0m \u001b[0mresult_ok\u001b[0m\u001b[1;33m:\u001b[0m\u001b[1;33m\u001b[0m\u001b[1;33m\u001b[0m\u001b[0m\n\u001b[0;32m    292\u001b[0m                     \u001b[1;32mif\u001b[0m \u001b[0mwin32\u001b[0m\u001b[1;33m.\u001b[0m\u001b[0mGetLastError\u001b[0m\u001b[1;33m(\u001b[0m\u001b[1;33m)\u001b[0m \u001b[1;33m!=\u001b[0m \u001b[0mwin32\u001b[0m\u001b[1;33m.\u001b[0m\u001b[0mERROR_OPERATION_ABORTED\u001b[0m\u001b[1;33m:\u001b[0m\u001b[1;33m\u001b[0m\u001b[1;33m\u001b[0m\u001b[0m\n",
      "\u001b[1;31mKeyboardInterrupt\u001b[0m: "
     ]
    }
   ],
   "source": [
    "s.writeAndWait(\"G28 Z\")"
   ]
  },
  {
   "cell_type": "code",
   "execution_count": 5,
   "metadata": {},
   "outputs": [
    {
     "data": {
      "text/plain": [
       "3"
      ]
     },
     "execution_count": 5,
     "metadata": {},
     "output_type": "execute_result"
    }
   ],
   "source": [
    "s.findDeviceInList(['Pipettor', 'Gripper', 'Marlin', 'probe'])"
   ]
  },
  {
   "cell_type": "code",
   "execution_count": 6,
   "metadata": {},
   "outputs": [],
   "source": [
    "s.close()"
   ]
  },
  {
   "cell_type": "code",
   "execution_count": 2,
   "metadata": {},
   "outputs": [],
   "source": [
    "ports_list = llc.listSerialPorts()"
   ]
  },
  {
   "cell_type": "code",
   "execution_count": 3,
   "metadata": {},
   "outputs": [
    {
     "data": {
      "text/plain": [
       "['COM3', 'COM4']"
      ]
     },
     "execution_count": 3,
     "metadata": {},
     "output_type": "execute_result"
    }
   ],
   "source": [
    "ports_list"
   ]
  },
  {
   "cell_type": "code",
   "execution_count": 4,
   "metadata": {},
   "outputs": [
    {
     "data": {
      "text/plain": [
       "{'Stationary_probe': 'COM3', 'Arnie': 'COM4'}"
      ]
     },
     "execution_count": 4,
     "metadata": {},
     "output_type": "execute_result"
    }
   ],
   "source": [
    "llc.matchPortsWithDevices(ports_list, {'Arnie': 'Marlin', 'Pipettor_1000': 'Servo', 'Stationary_probe': 'probe'})"
   ]
  },
  {
   "cell_type": "code",
   "execution_count": null,
   "metadata": {},
   "outputs": [],
   "source": []
  }
 ],
 "metadata": {
  "kernelspec": {
   "display_name": "Python 3",
   "language": "python",
   "name": "python3"
  },
  "language_info": {
   "codemirror_mode": {
    "name": "ipython",
    "version": 3
   },
   "file_extension": ".py",
   "mimetype": "text/x-python",
   "name": "python",
   "nbconvert_exporter": "python",
   "pygments_lexer": "ipython3",
   "version": "3.7.4"
  }
 },
 "nbformat": 4,
 "nbformat_minor": 2
}
