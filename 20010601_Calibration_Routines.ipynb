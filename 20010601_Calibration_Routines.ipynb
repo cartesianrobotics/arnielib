{
 "cells": [
  {
   "cell_type": "code",
   "execution_count": 1,
   "metadata": {},
   "outputs": [],
   "source": [
    "import low_level_comm as llc\n",
    "import cartesian\n",
    "import tools"
   ]
  },
  {
   "cell_type": "code",
   "execution_count": 2,
   "metadata": {},
   "outputs": [],
   "source": [
    "ar = cartesian.arnie('COM4')\n",
    "ar.home()"
   ]
  },
  {
   "cell_type": "code",
   "execution_count": 3,
   "metadata": {},
   "outputs": [],
   "source": [
    "touch_probe = tools.mobile_touch_probe(robot=ar)"
   ]
  },
  {
   "cell_type": "code",
   "execution_count": 4,
   "metadata": {},
   "outputs": [
    {
     "name": "stdout",
     "output_type": "stream",
     "text": [
      "Mobile touch probe response: 0\r\n",
      "\n"
     ]
    },
    {
     "data": {
      "text/plain": [
       "False"
      ]
     },
     "execution_count": 4,
     "metadata": {},
     "output_type": "execute_result"
    }
   ],
   "source": [
    "touch_probe.isTouched()"
   ]
  },
  {
   "cell_type": "code",
   "execution_count": null,
   "metadata": {},
   "outputs": [],
   "source": [
    "touch_probe = tools.mobile_touch_probe.getToolFromSerialDev(ar, s, welcome_message='mobile touch probe')"
   ]
  },
  {
   "cell_type": "code",
   "execution_count": 4,
   "metadata": {},
   "outputs": [],
   "source": [
    "touch_probe=tools.mobile_touch_probe.getTool(ar)"
   ]
  },
  {
   "cell_type": "code",
   "execution_count": 11,
   "metadata": {},
   "outputs": [],
   "source": [
    "ar.move(x=500, y=300)"
   ]
  },
  {
   "cell_type": "code",
   "execution_count": 6,
   "metadata": {},
   "outputs": [],
   "source": [
    "ar.move(z=599, speed_z=5000)"
   ]
  },
  {
   "cell_type": "code",
   "execution_count": 7,
   "metadata": {},
   "outputs": [
    {
     "name": "stdout",
     "output_type": "stream",
     "text": [
      "Mobile touch probe response: 0\n",
      "\n",
      "Mobile touch probe response: 0\n",
      "\n",
      "Mobile touch probe response: 0\n",
      "\n",
      "Mobile touch probe response: 0\n",
      "\n",
      "Mobile touch probe response: 0\n",
      "\n",
      "Mobile touch probe response: 0\n",
      "\n",
      "Mobile touch probe response: 0\n",
      "\n",
      "Mobile touch probe response: 0\n",
      "\n",
      "Mobile touch probe response: 0\n",
      "\n",
      "Mobile touch probe response: 0\n",
      "\n",
      "Mobile touch probe response: 0\n",
      "\n",
      "Mobile touch probe response: 1\n",
      "\n"
     ]
    },
    {
     "data": {
      "text/plain": [
       "(610.0, 300.0, 599.0)"
      ]
     },
     "execution_count": 7,
     "metadata": {},
     "output_type": "execute_result"
    }
   ],
   "source": [
    "touch_probe.approachUntilTouch('x', 10)"
   ]
  },
  {
   "cell_type": "code",
   "execution_count": 10,
   "metadata": {},
   "outputs": [
    {
     "name": "stdout",
     "output_type": "stream",
     "text": [
      "Mobile touch probe response: 0\n",
      "\n",
      "Mobile touch probe response: 0\n",
      "\n",
      "Mobile touch probe response: 0\n",
      "\n",
      "Mobile touch probe response: 0\n",
      "\n",
      "Mobile touch probe response: 1\n",
      "\n"
     ]
    },
    {
     "data": {
      "text/plain": [
       "(460.0, 300.0, 599.0)"
      ]
     },
     "execution_count": 10,
     "metadata": {},
     "output_type": "execute_result"
    }
   ],
   "source": [
    "touch_probe.approachUntilTouch('x', -10)"
   ]
  },
  {
   "cell_type": "code",
   "execution_count": 12,
   "metadata": {},
   "outputs": [],
   "source": [
    "ar.move(z=550, speed_z=5000)"
   ]
  },
  {
   "cell_type": "code",
   "execution_count": 13,
   "metadata": {},
   "outputs": [
    {
     "name": "stdout",
     "output_type": "stream",
     "text": [
      "Mobile touch probe response: 0\n",
      "\n",
      "Mobile touch probe response: 0\n",
      "\n",
      "Mobile touch probe response: 0\n",
      "\n",
      "Mobile touch probe response: 0\n",
      "\n",
      "Mobile touch probe response: 0\n",
      "\n",
      "Mobile touch probe response: 0\n",
      "\n",
      "Mobile touch probe response: 0\n",
      "\n",
      "Mobile touch probe response: 0\n",
      "\n",
      "Mobile touch probe response: 0\n",
      "\n",
      "Mobile touch probe response: 0\n",
      "\n",
      "Mobile touch probe response: 0\n",
      "\n",
      "Mobile touch probe response: 1\n",
      "\n"
     ]
    },
    {
     "data": {
      "text/plain": [
       "(500.0, 300.0, 605.0)"
      ]
     },
     "execution_count": 13,
     "metadata": {},
     "output_type": "execute_result"
    }
   ],
   "source": [
    "touch_probe.approachUntilTouch('z', 5)"
   ]
  },
  {
   "cell_type": "code",
   "execution_count": 23,
   "metadata": {},
   "outputs": [],
   "source": [
    "ar.move(z=599, speed_z=5000)\n",
    "ar.move(x=500, y=300)"
   ]
  },
  {
   "cell_type": "code",
   "execution_count": 24,
   "metadata": {},
   "outputs": [
    {
     "name": "stdout",
     "output_type": "stream",
     "text": [
      "Mobile touch probe response: 0\n",
      "\n",
      "Mobile touch probe response: 0\n",
      "\n",
      "Mobile touch probe response: 0\n",
      "\n",
      "Mobile touch probe response: 0\n",
      "\n",
      "Mobile touch probe response: 1\n",
      "\n"
     ]
    },
    {
     "data": {
      "text/plain": [
       "(460.0, 300.0, 599.0)"
      ]
     },
     "execution_count": 24,
     "metadata": {},
     "output_type": "execute_result"
    }
   ],
   "source": [
    "touch_probe.approachUntilTouch('x', -10)"
   ]
  },
  {
   "cell_type": "code",
   "execution_count": 25,
   "metadata": {},
   "outputs": [],
   "source": [
    "ar.move_delta(dx=10)"
   ]
  },
  {
   "cell_type": "code",
   "execution_count": 22,
   "metadata": {},
   "outputs": [
    {
     "name": "stdout",
     "output_type": "stream",
     "text": [
      "Mobile touch probe response: 0\n",
      "\n",
      "Mobile touch probe response: 0\n",
      "\n",
      "Mobile touch probe response: 0\n",
      "\n",
      "Mobile touch probe response: 0\n",
      "\n",
      "Mobile touch probe response: 0\n",
      "\n",
      "Mobile touch probe response: 0\n",
      "\n",
      "Mobile touch probe response: 1\n",
      "\n"
     ]
    },
    {
     "data": {
      "text/plain": [
       "(472.0, 330.0, 599.0)"
      ]
     },
     "execution_count": 22,
     "metadata": {},
     "output_type": "execute_result"
    }
   ],
   "source": [
    "touch_probe.approachUntilTouch('y', 5)"
   ]
  },
  {
   "cell_type": "code",
   "execution_count": 26,
   "metadata": {},
   "outputs": [
    {
     "name": "stdout",
     "output_type": "stream",
     "text": [
      "Mobile touch probe response: 0\n",
      "\n",
      "Mobile touch probe response: 0\n",
      "\n",
      "Mobile touch probe response: 0\n",
      "\n",
      "Mobile touch probe response: 0\n",
      "\n",
      "Mobile touch probe response: 0\n",
      "\n",
      "Mobile touch probe response: 0\n",
      "\n",
      "Mobile touch probe response: 0\n",
      "\n",
      "Mobile touch probe response: 0\n",
      "\n",
      "Mobile touch probe response: 0\n",
      "\n",
      "Mobile touch probe response: 0\n",
      "\n",
      "Mobile touch probe response: 0\n",
      "\n",
      "Mobile touch probe response: 0\n",
      "\n",
      "Mobile touch probe response: 1\n",
      "\n"
     ]
    },
    {
     "data": {
      "text/plain": [
       "(470.0, 240.0, 599.0)"
      ]
     },
     "execution_count": 26,
     "metadata": {},
     "output_type": "execute_result"
    }
   ],
   "source": [
    "touch_probe.approachUntilTouch('y', -5)"
   ]
  },
  {
   "cell_type": "code",
   "execution_count": 30,
   "metadata": {},
   "outputs": [],
   "source": [
    "import param"
   ]
  },
  {
   "cell_type": "code",
   "execution_count": 31,
   "metadata": {},
   "outputs": [],
   "source": [
    "[x, y, z] = param.getToolDockingPoint('mobile_probe')"
   ]
  },
  {
   "cell_type": "code",
   "execution_count": 32,
   "metadata": {},
   "outputs": [],
   "source": [
    "touch_probe.returnToolToCoord(x, y, z, 200)"
   ]
  },
  {
   "cell_type": "code",
   "execution_count": 27,
   "metadata": {},
   "outputs": [
    {
     "ename": "AttributeError",
     "evalue": "'mobile_touch_probe' object has no attribute 'x_dock'",
     "output_type": "error",
     "traceback": [
      "\u001b[1;31m---------------------------------------------------------------------------\u001b[0m",
      "\u001b[1;31mAttributeError\u001b[0m                            Traceback (most recent call last)",
      "\u001b[1;32m<ipython-input-27-5e3f82f64b45>\u001b[0m in \u001b[0;36m<module>\u001b[1;34m\u001b[0m\n\u001b[1;32m----> 1\u001b[1;33m \u001b[0mtouch_probe\u001b[0m\u001b[1;33m.\u001b[0m\u001b[0mreturnTool\u001b[0m\u001b[1;33m(\u001b[0m\u001b[1;33m)\u001b[0m\u001b[1;33m\u001b[0m\u001b[1;33m\u001b[0m\u001b[0m\n\u001b[0m",
      "\u001b[1;32m~\\Dropbox\\workspace\\arnielib\\tools.py\u001b[0m in \u001b[0;36mreturnTool\u001b[1;34m(self)\u001b[0m\n\u001b[0;32m    155\u001b[0m         \"\"\"\n\u001b[0;32m    156\u001b[0m \u001b[1;33m\u001b[0m\u001b[0m\n\u001b[1;32m--> 157\u001b[1;33m         \u001b[1;32mif\u001b[0m \u001b[0mself\u001b[0m\u001b[1;33m.\u001b[0m\u001b[0mx_dock\u001b[0m \u001b[1;32mis\u001b[0m \u001b[1;32mNone\u001b[0m \u001b[1;32mor\u001b[0m \u001b[0mself\u001b[0m\u001b[1;33m.\u001b[0m\u001b[0my_dock\u001b[0m \u001b[1;32mis\u001b[0m \u001b[1;32mNone\u001b[0m \u001b[1;32mor\u001b[0m \u001b[0mself\u001b[0m\u001b[1;33m.\u001b[0m\u001b[0mz_dock\u001b[0m \u001b[1;32mis\u001b[0m \u001b[1;32mNone\u001b[0m\u001b[1;33m:\u001b[0m\u001b[1;33m\u001b[0m\u001b[1;33m\u001b[0m\u001b[0m\n\u001b[0m\u001b[0;32m    158\u001b[0m             \u001b[1;31m# Attempting to load docking points using tool name\u001b[0m\u001b[1;33m\u001b[0m\u001b[1;33m\u001b[0m\u001b[1;33m\u001b[0m\u001b[0m\n\u001b[0;32m    159\u001b[0m             \u001b[0mself\u001b[0m\u001b[1;33m.\u001b[0m\u001b[0mgetDockingPointByToolName\u001b[0m\u001b[1;33m(\u001b[0m\u001b[1;33m)\u001b[0m\u001b[1;33m\u001b[0m\u001b[1;33m\u001b[0m\u001b[0m\n",
      "\u001b[1;31mAttributeError\u001b[0m: 'mobile_touch_probe' object has no attribute 'x_dock'"
     ]
    }
   ],
   "source": [
    "touch_probe.returnTool()"
   ]
  },
  {
   "cell_type": "code",
   "execution_count": 33,
   "metadata": {},
   "outputs": [],
   "source": [
    "ar.close()"
   ]
  },
  {
   "cell_type": "code",
   "execution_count": null,
   "metadata": {},
   "outputs": [],
   "source": []
  }
 ],
 "metadata": {
  "kernelspec": {
   "display_name": "Python 3",
   "language": "python",
   "name": "python3"
  },
  "language_info": {
   "codemirror_mode": {
    "name": "ipython",
    "version": 3
   },
   "file_extension": ".py",
   "mimetype": "text/x-python",
   "name": "python",
   "nbconvert_exporter": "python",
   "pygments_lexer": "ipython3",
   "version": "3.7.4"
  }
 },
 "nbformat": 4,
 "nbformat_minor": 2
}
