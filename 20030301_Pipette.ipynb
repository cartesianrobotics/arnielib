{
 "cells": [
  {
   "cell_type": "code",
   "execution_count": 1,
   "metadata": {},
   "outputs": [],
   "source": [
    "import low_level_comm as llc\n",
    "import cartesian\n",
    "import tools\n",
    "import calibration\n",
    "import param\n",
    "from importlib import reload \n",
    "import logging\n",
    "import json\n",
    "import racks"
   ]
  },
  {
   "cell_type": "code",
   "execution_count": 2,
   "metadata": {},
   "outputs": [],
   "source": [
    "ar = cartesian.arnie(cartesian_port=\"COM10\", docker_port=\"COM6\")"
   ]
  },
  {
   "cell_type": "code",
   "execution_count": 3,
   "metadata": {},
   "outputs": [],
   "source": [
    "ar.home()"
   ]
  },
  {
   "cell_type": "code",
   "execution_count": 4,
   "metadata": {},
   "outputs": [],
   "source": [
    "#stp = tools.stationary_touch_probe(ar)"
   ]
  },
  {
   "cell_type": "code",
   "execution_count": 5,
   "metadata": {},
   "outputs": [
    {
     "name": "stderr",
     "output_type": "stream",
     "text": [
      "ERROR:root:matchPortsWithDevices(): could not execute finiding device in list.\n",
      "ERROR:root:matchPortsWithDevices(): Provided patterns_list: ['Servo']\n",
      "ERROR:root:None\n"
     ]
    }
   ],
   "source": [
    "p1000 = tools.pipettor(ar, tool_name='p1000_tool')\n",
    "#p1000 = tools.pipettor.getTool(ar, tool_name='p1000_tool')"
   ]
  },
  {
   "cell_type": "code",
   "execution_count": 16,
   "metadata": {},
   "outputs": [
    {
     "data": {
      "text/plain": [
       "'ok\\r\\n'"
      ]
     },
     "execution_count": 16,
     "metadata": {},
     "output_type": "execute_result"
    }
   ],
   "source": [
    "p1000.writeAndWait('$H', confirm_message='\\r\\n')"
   ]
  },
  {
   "cell_type": "code",
   "execution_count": 7,
   "metadata": {},
   "outputs": [
    {
     "data": {
      "text/plain": [
       "'ok\\r\\n'"
      ]
     },
     "execution_count": 7,
     "metadata": {},
     "output_type": "execute_result"
    }
   ],
   "source": [
    "p1000.writeAndWait('G0 x-10', confirm_message='\\r\\n')"
   ]
  },
  {
   "cell_type": "code",
   "execution_count": 8,
   "metadata": {},
   "outputs": [
    {
     "data": {
      "text/plain": [
       "'ok\\r\\n'"
      ]
     },
     "execution_count": 8,
     "metadata": {},
     "output_type": "execute_result"
    }
   ],
   "source": [
    "p1000.writeAndWait('G0 x-1', confirm_message='\\r\\n')"
   ]
  },
  {
   "cell_type": "code",
   "execution_count": 15,
   "metadata": {},
   "outputs": [
    {
     "data": {
      "text/plain": [
       "'ok\\r\\n'"
      ]
     },
     "execution_count": 15,
     "metadata": {},
     "output_type": "execute_result"
    }
   ],
   "source": [
    "p1000.writeAndWait('M3 S90', confirm_message='\\r\\n')"
   ]
  },
  {
   "cell_type": "code",
   "execution_count": 11,
   "metadata": {},
   "outputs": [
    {
     "data": {
      "text/plain": [
       "'ok\\r\\n'"
      ]
     },
     "execution_count": 11,
     "metadata": {},
     "output_type": "execute_result"
    }
   ],
   "source": [
    "p1000.writeAndWait('M5', confirm_message='\\r\\n')"
   ]
  },
  {
   "cell_type": "code",
   "execution_count": 13,
   "metadata": {},
   "outputs": [
    {
     "data": {
      "text/plain": [
       "'ok\\r\\n'"
      ]
     },
     "execution_count": 13,
     "metadata": {},
     "output_type": "execute_result"
    }
   ],
   "source": [
    "p1000.writeAndWait('G0 x-35', confirm_message='\\r\\n')"
   ]
  },
  {
   "cell_type": "code",
   "execution_count": null,
   "metadata": {},
   "outputs": [],
   "source": [
    "p1000 = tools.pipettor.getTool(ar, tool_name='p1000_tool')"
   ]
  },
  {
   "cell_type": "code",
   "execution_count": 8,
   "metadata": {},
   "outputs": [],
   "source": [
    "p1000.sendCmdToPipette(\"$H\")"
   ]
  },
  {
   "cell_type": "code",
   "execution_count": 7,
   "metadata": {},
   "outputs": [],
   "source": [
    "p1000.sendCmdToPipette('G0 x-10')"
   ]
  },
  {
   "cell_type": "code",
   "execution_count": 11,
   "metadata": {},
   "outputs": [],
   "source": [
    "p1000.sendCmdToPipette('G0 x-1')"
   ]
  },
  {
   "cell_type": "code",
   "execution_count": 18,
   "metadata": {},
   "outputs": [],
   "source": [
    "p1000.setPipettorSpeed(750)"
   ]
  },
  {
   "cell_type": "code",
   "execution_count": 11,
   "metadata": {},
   "outputs": [],
   "source": [
    "p1000.sendCmdToPipette(\"$110=400\", confirm_message=\"\")"
   ]
  },
  {
   "cell_type": "code",
   "execution_count": 12,
   "metadata": {},
   "outputs": [
    {
     "data": {
      "text/plain": [
       "'$0=10 (step pulse, usec)\\r\\n$1=25 (step idle delay, msec)\\r\\n$2=0 (step port invert mask:00000000)\\r\\n$3=0 (dir port invert mask:00000000)\\r\\n$4=0 (step enable invert, bool)\\r\\n$5=0 (limit pins invert, bool)\\r\\n$6=0 (probe pin invert, bool)\\r\\n$10=3 (status report mask:00000011)\\r\\n$11=0.010 (junction deviation, mm)\\r\\n$12=0.002 (arc tolerance, mm)\\r\\n$13=0 (report inches, bool)\\r\\n$20=0 (soft limits, bool)\\r\\n$21=0 (hard limits, bool)\\r\\n$22=1 (homing cycle, bool)\\r\\n$23=0 (homing dir invert mask:00000000)\\r\\n$24=25.000 (homing feed, mm/min)\\r\\n$25=500.000 (homing seek, mm/min)\\r\\n$26=250 (homing debounce, msec)\\r\\n$27=1.000 (homing pull-off, mm)\\r\\n$100=50.000 (x, step/mm)\\r\\n$101=250.000 (y, step/mm)\\r\\n$102=250.000 (z, step/mm)\\r\\n$110=400.000 (x max rate, mm/min)\\r\\n$111=500.000 (y max rate, mm/min)\\r\\n$112=500.000 (z max rate, mm/min)\\r\\n$120=100.000 (x accel, mm/sec^2)\\r\\n$121=10.000 (y accel, mm/sec^2)\\r\\n$122=10.000 (z accel, mm/sec^2)\\r\\n$130=1000.000 (x max travel, mm)\\r\\n$131=200.000 (y max travel, mm)\\r\\n$132=200.000 (z max travel, mm)\\r\\nok\\r\\n'"
      ]
     },
     "execution_count": 12,
     "metadata": {},
     "output_type": "execute_result"
    }
   ],
   "source": [
    "p1000.writeAndWait(\"$$\", confirm_message='ok\\r\\n')"
   ]
  },
  {
   "cell_type": "code",
   "execution_count": 9,
   "metadata": {},
   "outputs": [],
   "source": [
    "p1000.sendCmdToPipette('G0 x-10')"
   ]
  },
  {
   "cell_type": "code",
   "execution_count": 13,
   "metadata": {},
   "outputs": [],
   "source": [
    "p1000.switchModeToNormal()"
   ]
  },
  {
   "cell_type": "code",
   "execution_count": 12,
   "metadata": {},
   "outputs": [],
   "source": [
    "p1000.switchModeToDropTip()"
   ]
  },
  {
   "cell_type": "code",
   "execution_count": 15,
   "metadata": {},
   "outputs": [],
   "source": [
    "p1000.movePlunger(-2)"
   ]
  },
  {
   "cell_type": "code",
   "execution_count": 8,
   "metadata": {},
   "outputs": [],
   "source": [
    "p1000.home()"
   ]
  },
  {
   "cell_type": "code",
   "execution_count": 22,
   "metadata": {},
   "outputs": [],
   "source": [
    "p1000.returnTool()"
   ]
  },
  {
   "cell_type": "code",
   "execution_count": 21,
   "metadata": {},
   "outputs": [],
   "source": [
    "p1000.dropTip()"
   ]
  },
  {
   "cell_type": "code",
   "execution_count": 8,
   "metadata": {},
   "outputs": [],
   "source": [
    "ar.move(z=500)"
   ]
  },
  {
   "cell_type": "code",
   "execution_count": null,
   "metadata": {},
   "outputs": [],
   "source": []
  }
 ],
 "metadata": {
  "kernelspec": {
   "display_name": "Python 3",
   "language": "python",
   "name": "python3"
  },
  "language_info": {
   "codemirror_mode": {
    "name": "ipython",
    "version": 3
   },
   "file_extension": ".py",
   "mimetype": "text/x-python",
   "name": "python",
   "nbconvert_exporter": "python",
   "pygments_lexer": "ipython3",
   "version": "3.7.4"
  }
 },
 "nbformat": 4,
 "nbformat_minor": 2
}
