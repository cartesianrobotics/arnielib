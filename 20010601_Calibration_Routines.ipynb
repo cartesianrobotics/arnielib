{
 "cells": [
  {
   "cell_type": "markdown",
   "metadata": {},
   "source": [
    "# In case tool is stuck in the robot"
   ]
  },
  {
   "cell_type": "code",
   "execution_count": null,
   "metadata": {},
   "outputs": [],
   "source": [
    "import low_level_comm as llc\n",
    "import cartesian\n",
    "import tools"
   ]
  },
  {
   "cell_type": "code",
   "execution_count": null,
   "metadata": {},
   "outputs": [],
   "source": [
    "ar = cartesian.arnie('COM4')\n",
    "ar.home()"
   ]
  },
  {
   "cell_type": "code",
   "execution_count": null,
   "metadata": {},
   "outputs": [],
   "source": [
    "tp = tools.mobile_touch_probe(ar, tool_name='mobile_probe', welcome_message='mobile touch probe')"
   ]
  },
  {
   "cell_type": "code",
   "execution_count": null,
   "metadata": {},
   "outputs": [],
   "source": [
    "tp.isTouched()"
   ]
  },
  {
   "cell_type": "code",
   "execution_count": null,
   "metadata": {},
   "outputs": [],
   "source": [
    "tp.returnTool()"
   ]
  },
  {
   "cell_type": "code",
   "execution_count": null,
   "metadata": {},
   "outputs": [],
   "source": [
    "ar.close()"
   ]
  },
  {
   "cell_type": "markdown",
   "metadata": {},
   "source": [
    "# Testing mobile_touch_probe.approachUntilTouch()"
   ]
  },
  {
   "cell_type": "code",
   "execution_count": 1,
   "metadata": {},
   "outputs": [],
   "source": [
    "import low_level_comm as llc\n",
    "import cartesian\n",
    "import tools\n",
    "from importlib import reload \n",
    "import logging"
   ]
  },
  {
   "cell_type": "code",
   "execution_count": 2,
   "metadata": {},
   "outputs": [],
   "source": [
    "!del arnietest.log"
   ]
  },
  {
   "cell_type": "code",
   "execution_count": 3,
   "metadata": {},
   "outputs": [],
   "source": [
    "logging.basicConfig(level=logging.DEBUG, \n",
    "                    format='%(asctime)s %(message)s',\n",
    "                    handlers=[logging.FileHandler(filename='arnietest.log')])\n",
    "logger = logging.getLogger()"
   ]
  },
  {
   "cell_type": "code",
   "execution_count": 4,
   "metadata": {},
   "outputs": [],
   "source": [
    "ar = cartesian.arnie('COM4')\n",
    "ar.home()"
   ]
  },
  {
   "cell_type": "code",
   "execution_count": 5,
   "metadata": {},
   "outputs": [],
   "source": [
    "touch_probe=tools.mobile_touch_probe.getTool(ar)"
   ]
  },
  {
   "cell_type": "code",
   "execution_count": 9,
   "metadata": {},
   "outputs": [],
   "source": [
    "ar.move(x=500, y=300)"
   ]
  },
  {
   "cell_type": "code",
   "execution_count": 7,
   "metadata": {},
   "outputs": [],
   "source": [
    "ar.move(z=599, speed_z=5000)"
   ]
  },
  {
   "cell_type": "code",
   "execution_count": 8,
   "metadata": {},
   "outputs": [
    {
     "name": "stdout",
     "output_type": "stream",
     "text": [
      "Mobile touch probe response: 0\n",
      "\n",
      "Mobile touch probe response: 0\n",
      "\n",
      "Mobile touch probe response: 0\n",
      "\n",
      "Mobile touch probe response: 0\n",
      "\n",
      "Mobile touch probe response: 0\n",
      "\n",
      "Mobile touch probe response: 0\n",
      "\n",
      "Mobile touch probe response: 0\n",
      "\n",
      "Mobile touch probe response: 0\n",
      "\n",
      "Mobile touch probe response: 0\n",
      "\n",
      "Mobile touch probe response: 0\n",
      "\n",
      "Mobile touch probe response: 0\n",
      "\n",
      "Mobile touch probe response: 1\n",
      "\n"
     ]
    },
    {
     "data": {
      "text/plain": [
       "(610.0, 300.0, 599.0)"
      ]
     },
     "execution_count": 8,
     "metadata": {},
     "output_type": "execute_result"
    }
   ],
   "source": [
    "touch_probe.approachUntilTouch('x', 10)"
   ]
  },
  {
   "cell_type": "code",
   "execution_count": 10,
   "metadata": {},
   "outputs": [
    {
     "name": "stdout",
     "output_type": "stream",
     "text": [
      "Mobile touch probe response: 0\n",
      "\n",
      "Mobile touch probe response: 0\n",
      "\n",
      "Mobile touch probe response: 0\n",
      "\n",
      "Mobile touch probe response: 0\n",
      "\n",
      "Mobile touch probe response: 1\n",
      "\n"
     ]
    },
    {
     "data": {
      "text/plain": [
       "(460.0, 300.0, 599.0)"
      ]
     },
     "execution_count": 10,
     "metadata": {},
     "output_type": "execute_result"
    }
   ],
   "source": [
    "touch_probe.approachUntilTouch('x', -10)"
   ]
  },
  {
   "cell_type": "code",
   "execution_count": 12,
   "metadata": {},
   "outputs": [],
   "source": [
    "ar.move(z=550, speed_z=5000)"
   ]
  },
  {
   "cell_type": "code",
   "execution_count": 13,
   "metadata": {},
   "outputs": [
    {
     "name": "stdout",
     "output_type": "stream",
     "text": [
      "Mobile touch probe response: 0\n",
      "\n",
      "Mobile touch probe response: 0\n",
      "\n",
      "Mobile touch probe response: 0\n",
      "\n",
      "Mobile touch probe response: 0\n",
      "\n",
      "Mobile touch probe response: 0\n",
      "\n",
      "Mobile touch probe response: 0\n",
      "\n",
      "Mobile touch probe response: 0\n",
      "\n",
      "Mobile touch probe response: 0\n",
      "\n",
      "Mobile touch probe response: 0\n",
      "\n",
      "Mobile touch probe response: 0\n",
      "\n",
      "Mobile touch probe response: 0\n",
      "\n",
      "Mobile touch probe response: 1\n",
      "\n"
     ]
    },
    {
     "data": {
      "text/plain": [
       "(500.0, 300.0, 605.0)"
      ]
     },
     "execution_count": 13,
     "metadata": {},
     "output_type": "execute_result"
    }
   ],
   "source": [
    "touch_probe.approachUntilTouch('z', 5)"
   ]
  },
  {
   "cell_type": "code",
   "execution_count": 23,
   "metadata": {},
   "outputs": [],
   "source": [
    "ar.move(z=599, speed_z=5000)\n",
    "ar.move(x=500, y=300)"
   ]
  },
  {
   "cell_type": "code",
   "execution_count": 24,
   "metadata": {},
   "outputs": [
    {
     "name": "stdout",
     "output_type": "stream",
     "text": [
      "Mobile touch probe response: 0\n",
      "\n",
      "Mobile touch probe response: 0\n",
      "\n",
      "Mobile touch probe response: 0\n",
      "\n",
      "Mobile touch probe response: 0\n",
      "\n",
      "Mobile touch probe response: 1\n",
      "\n"
     ]
    },
    {
     "data": {
      "text/plain": [
       "(460.0, 300.0, 599.0)"
      ]
     },
     "execution_count": 24,
     "metadata": {},
     "output_type": "execute_result"
    }
   ],
   "source": [
    "touch_probe.approachUntilTouch('x', -10)"
   ]
  },
  {
   "cell_type": "code",
   "execution_count": 25,
   "metadata": {},
   "outputs": [],
   "source": [
    "ar.move_delta(dx=10)"
   ]
  },
  {
   "cell_type": "code",
   "execution_count": 22,
   "metadata": {},
   "outputs": [
    {
     "name": "stdout",
     "output_type": "stream",
     "text": [
      "Mobile touch probe response: 0\n",
      "\n",
      "Mobile touch probe response: 0\n",
      "\n",
      "Mobile touch probe response: 0\n",
      "\n",
      "Mobile touch probe response: 0\n",
      "\n",
      "Mobile touch probe response: 0\n",
      "\n",
      "Mobile touch probe response: 0\n",
      "\n",
      "Mobile touch probe response: 1\n",
      "\n"
     ]
    },
    {
     "data": {
      "text/plain": [
       "(472.0, 330.0, 599.0)"
      ]
     },
     "execution_count": 22,
     "metadata": {},
     "output_type": "execute_result"
    }
   ],
   "source": [
    "touch_probe.approachUntilTouch('y', 5)"
   ]
  },
  {
   "cell_type": "code",
   "execution_count": 26,
   "metadata": {},
   "outputs": [
    {
     "name": "stdout",
     "output_type": "stream",
     "text": [
      "Mobile touch probe response: 0\n",
      "\n",
      "Mobile touch probe response: 0\n",
      "\n",
      "Mobile touch probe response: 0\n",
      "\n",
      "Mobile touch probe response: 0\n",
      "\n",
      "Mobile touch probe response: 0\n",
      "\n",
      "Mobile touch probe response: 0\n",
      "\n",
      "Mobile touch probe response: 0\n",
      "\n",
      "Mobile touch probe response: 0\n",
      "\n",
      "Mobile touch probe response: 0\n",
      "\n",
      "Mobile touch probe response: 0\n",
      "\n",
      "Mobile touch probe response: 0\n",
      "\n",
      "Mobile touch probe response: 0\n",
      "\n",
      "Mobile touch probe response: 1\n",
      "\n"
     ]
    },
    {
     "data": {
      "text/plain": [
       "(470.0, 240.0, 599.0)"
      ]
     },
     "execution_count": 26,
     "metadata": {},
     "output_type": "execute_result"
    }
   ],
   "source": [
    "touch_probe.approachUntilTouch('y', -5)"
   ]
  },
  {
   "cell_type": "code",
   "execution_count": 30,
   "metadata": {},
   "outputs": [],
   "source": [
    "import param"
   ]
  },
  {
   "cell_type": "code",
   "execution_count": 31,
   "metadata": {},
   "outputs": [],
   "source": [
    "[x, y, z] = param.getToolDockingPoint('mobile_probe')"
   ]
  },
  {
   "cell_type": "code",
   "execution_count": 32,
   "metadata": {},
   "outputs": [],
   "source": [
    "touch_probe.returnToolToCoord(x, y, z, 200)"
   ]
  },
  {
   "cell_type": "code",
   "execution_count": 35,
   "metadata": {},
   "outputs": [],
   "source": [
    "touch_probe.returnTool()"
   ]
  },
  {
   "cell_type": "code",
   "execution_count": 36,
   "metadata": {},
   "outputs": [],
   "source": [
    "ar.close()"
   ]
  },
  {
   "cell_type": "markdown",
   "metadata": {},
   "source": [
    "# Testing mobile_touch_probe.findWall()"
   ]
  },
  {
   "cell_type": "code",
   "execution_count": 24,
   "metadata": {},
   "outputs": [],
   "source": [
    "import low_level_comm as llc\n",
    "import cartesian\n",
    "import tools\n",
    "import time"
   ]
  },
  {
   "cell_type": "code",
   "execution_count": 2,
   "metadata": {},
   "outputs": [],
   "source": [
    "ar = cartesian.arnie('COM4')\n",
    "ar.home()"
   ]
  },
  {
   "cell_type": "code",
   "execution_count": 3,
   "metadata": {},
   "outputs": [],
   "source": [
    "tp = tools.mobile_touch_probe.getTool(ar)"
   ]
  },
  {
   "cell_type": "code",
   "execution_count": 10,
   "metadata": {},
   "outputs": [],
   "source": [
    "ar.move(x=550, y=300)\n",
    "ar.move(z=599, speed_z=10000)"
   ]
  },
  {
   "cell_type": "code",
   "execution_count": 31,
   "metadata": {},
   "outputs": [],
   "source": [
    "step_dict = {\n",
    "                0: {'step_fwd': 12, 'speed_xy_fwd': 5000, 'speed_z_fwd':5000,\n",
    "                    'step_back': 12, 'speed_xy_back': 5000, 'speed_z_back':5000},\n",
    "                1: {'step_fwd': 1.2, 'speed_xy_fwd': 100, 'speed_z_fwd':3000,\n",
    "                    'step_back': 4, 'speed_xy_back': 2000, 'speed_z_back':2000},\n",
    "                2: {'step_fwd': 0.2, 'speed_xy_fwd': 50, 'speed_z_fwd':1000,\n",
    "                    'step_back': 0.4, 'speed_xy_back': 100, 'speed_z_back':1000},\n",
    "                3: {'step_fwd': 0.03, 'speed_xy_fwd': 25, 'speed_z_fwd':1000,\n",
    "                    'step_back': 0.1, 'speed_xy_back': 50, 'speed_z_back':1000},\n",
    "            }"
   ]
  },
  {
   "cell_type": "code",
   "execution_count": 41,
   "metadata": {},
   "outputs": [],
   "source": [
    "step_dict = {\n",
    "                0: {'step_fwd': 12, 'speed_xy_fwd': 5000, 'speed_z_fwd':5000,\n",
    "                    'step_back': 12, 'speed_xy_back': 5000, 'speed_z_back':5000},\n",
    "                1: {'step_fwd': 3, 'speed_xy_fwd': 2000, 'speed_z_fwd':3000,\n",
    "                    'step_back': 6, 'speed_xy_back': 5000, 'speed_z_back':2000},\n",
    "                2: {'step_fwd': 0.75, 'speed_xy_fwd': 200, 'speed_z_fwd':1000,\n",
    "                    'step_back': 1.5, 'speed_xy_back': 500, 'speed_z_back':1000},\n",
    "                3: {'step_fwd': 0.2, 'speed_xy_fwd': 100, 'speed_z_fwd':1000,\n",
    "                    'step_back': 0.4, 'speed_xy_back': 100, 'speed_z_back':1000},\n",
    "                4: {'step_fwd': 0.05, 'speed_xy_fwd': 25, 'speed_z_fwd':1000,\n",
    "                    'step_back': 0.1, 'speed_xy_back': 50, 'speed_z_back':1000},\n",
    "            }"
   ]
  },
  {
   "cell_type": "code",
   "execution_count": 12,
   "metadata": {},
   "outputs": [
    {
     "name": "stdout",
     "output_type": "stream",
     "text": [
      "Mobile touch probe response: 0\n",
      "\n",
      "Mobile touch probe response: 0\n",
      "\n",
      "Mobile touch probe response: 0\n",
      "\n",
      "Mobile touch probe response: 0\n",
      "\n",
      "Mobile touch probe response: 0\n",
      "\n",
      "Mobile touch probe response: 0\n",
      "\n",
      "Mobile touch probe response: 1\n",
      "\n",
      "Mobile touch probe response: 1\n",
      "\n",
      "Mobile touch probe response: 0\n",
      "\n",
      "Mobile touch probe response: 0\n",
      "\n",
      "Mobile touch probe response: 1\n",
      "\n",
      "Mobile touch probe response: 1\n",
      "\n",
      "Mobile touch probe response: 1\n",
      "\n",
      "Mobile touch probe response: 1\n",
      "\n",
      "Mobile touch probe response: 0\n",
      "\n",
      "Mobile touch probe response: 0\n",
      "\n",
      "Mobile touch probe response: 0\n",
      "\n",
      "Mobile touch probe response: 1\n",
      "\n",
      "Mobile touch probe response: 1\n",
      "\n",
      "Mobile touch probe response: 1\n",
      "\n",
      "Mobile touch probe response: 1\n",
      "\n",
      "Mobile touch probe response: 0\n",
      "\n",
      "Mobile touch probe response: 0\n",
      "\n",
      "Mobile touch probe response: 0\n",
      "\n",
      "Mobile touch probe response: 0\n",
      "\n",
      "Mobile touch probe response: 1\n",
      "\n"
     ]
    },
    {
     "data": {
      "text/plain": [
       "606.4"
      ]
     },
     "execution_count": 12,
     "metadata": {},
     "output_type": "execute_result"
    }
   ],
   "source": [
    "tp.findWall('x', 1, step_dict=step_dict)"
   ]
  },
  {
   "cell_type": "markdown",
   "metadata": {},
   "source": [
    "607.0 606.7 606.9 606.9 606.8 606.8 606.7 "
   ]
  },
  {
   "cell_type": "markdown",
   "metadata": {},
   "source": [
    "606.4 606.4 606.4"
   ]
  },
  {
   "cell_type": "code",
   "execution_count": 36,
   "metadata": {},
   "outputs": [],
   "source": [
    "# Calibration test\n",
    "import random as rnd\n",
    "import statistics as stat"
   ]
  },
  {
   "cell_type": "code",
   "execution_count": 42,
   "metadata": {},
   "outputs": [
    {
     "name": "stdout",
     "output_type": "stream",
     "text": [
      "Mobile touch probe response: 0\n",
      "\n",
      "Mobile touch probe response: 0\n",
      "\n",
      "Mobile touch probe response: 0\n",
      "\n",
      "Mobile touch probe response: 0\n",
      "\n",
      "Mobile touch probe response: 0\n",
      "\n",
      "Mobile touch probe response: 0\n",
      "\n",
      "Mobile touch probe response: 0\n",
      "\n",
      "Mobile touch probe response: 0\n",
      "\n",
      "Mobile touch probe response: 0\n",
      "\n",
      "Mobile touch probe response: 1\n",
      "\n",
      "Mobile touch probe response: 1\n",
      "\n",
      "Mobile touch probe response: 1\n",
      "\n",
      "Mobile touch probe response: 1\n",
      "\n",
      "Mobile touch probe response: 0\n",
      "\n",
      "Mobile touch probe response: 0\n",
      "\n",
      "Mobile touch probe response: 0\n",
      "\n",
      "Mobile touch probe response: 0\n",
      "\n",
      "Mobile touch probe response: 1\n",
      "\n",
      "Mobile touch probe response: 1\n",
      "\n",
      "Mobile touch probe response: 1\n",
      "\n",
      "Mobile touch probe response: 0\n",
      "\n",
      "Mobile touch probe response: 0\n",
      "\n",
      "Mobile touch probe response: 0\n",
      "\n",
      "Mobile touch probe response: 1\n",
      "\n",
      "Mobile touch probe response: 1\n",
      "\n",
      "Mobile touch probe response: 0\n",
      "\n",
      "Mobile touch probe response: 0\n",
      "\n",
      "Mobile touch probe response: 0\n",
      "\n",
      "Mobile touch probe response: 1\n",
      "\n",
      "Mobile touch probe response: 1\n",
      "\n",
      "Mobile touch probe response: 1\n",
      "\n",
      "Mobile touch probe response: 1\n",
      "\n",
      "Mobile touch probe response: 1\n",
      "\n",
      "Mobile touch probe response: 1\n",
      "\n",
      "Mobile touch probe response: 1\n",
      "\n",
      "Mobile touch probe response: 0\n",
      "\n",
      "Mobile touch probe response: 0\n",
      "\n",
      "Mobile touch probe response: 0\n",
      "\n",
      "Mobile touch probe response: 0\n",
      "\n",
      "Mobile touch probe response: 0\n",
      "\n",
      "Mobile touch probe response: 0\n",
      "\n",
      "Mobile touch probe response: 0\n",
      "\n",
      "Mobile touch probe response: 0\n",
      "\n",
      "Mobile touch probe response: 0\n",
      "\n",
      "Mobile touch probe response: 0\n",
      "\n",
      "Mobile touch probe response: 0\n",
      "\n",
      "Mobile touch probe response: 0\n",
      "\n",
      "Mobile touch probe response: 0\n",
      "\n",
      "Mobile touch probe response: 1\n",
      "\n",
      "Mobile touch probe response: 0\n",
      "\n",
      "Mobile touch probe response: 0\n",
      "\n",
      "Mobile touch probe response: 0\n",
      "\n",
      "Mobile touch probe response: 0\n",
      "\n",
      "Mobile touch probe response: 0\n",
      "\n",
      "Mobile touch probe response: 0\n",
      "\n",
      "Mobile touch probe response: 0\n",
      "\n",
      "Mobile touch probe response: 0\n",
      "\n",
      "Mobile touch probe response: 0\n",
      "\n",
      "Mobile touch probe response: 0\n",
      "\n",
      "Mobile touch probe response: 1\n",
      "\n",
      "Mobile touch probe response: 1\n",
      "\n",
      "Mobile touch probe response: 0\n",
      "\n",
      "Mobile touch probe response: 0\n",
      "\n",
      "Mobile touch probe response: 1\n",
      "\n",
      "Mobile touch probe response: 0\n",
      "\n",
      "Mobile touch probe response: 0\n",
      "\n",
      "Mobile touch probe response: 1\n",
      "\n",
      "Mobile touch probe response: 1\n",
      "\n",
      "Mobile touch probe response: 1\n",
      "\n",
      "Mobile touch probe response: 0\n",
      "\n",
      "Mobile touch probe response: 0\n",
      "\n",
      "Mobile touch probe response: 0\n",
      "\n",
      "Mobile touch probe response: 1\n",
      "\n",
      "Mobile touch probe response: 1\n",
      "\n",
      "Mobile touch probe response: 1\n",
      "\n",
      "Mobile touch probe response: 1\n",
      "\n",
      "Mobile touch probe response: 0\n",
      "\n",
      "Mobile touch probe response: 0\n",
      "\n",
      "Mobile touch probe response: 0\n",
      "\n",
      "Mobile touch probe response: 0\n",
      "\n",
      "Mobile touch probe response: 0\n",
      "\n",
      "Mobile touch probe response: 0\n",
      "\n",
      "Mobile touch probe response: 0\n",
      "\n",
      "Mobile touch probe response: 1\n",
      "\n",
      "Mobile touch probe response: 0\n",
      "\n",
      "Mobile touch probe response: 0\n",
      "\n",
      "Mobile touch probe response: 0\n",
      "\n",
      "Mobile touch probe response: 0\n",
      "\n",
      "Mobile touch probe response: 0\n",
      "\n",
      "Mobile touch probe response: 0\n",
      "\n",
      "Mobile touch probe response: 0\n",
      "\n",
      "Mobile touch probe response: 0\n",
      "\n",
      "Mobile touch probe response: 0\n",
      "\n",
      "Mobile touch probe response: 0\n",
      "\n",
      "Mobile touch probe response: 1\n",
      "\n",
      "Mobile touch probe response: 1\n",
      "\n",
      "Mobile touch probe response: 1\n",
      "\n",
      "Mobile touch probe response: 1\n",
      "\n",
      "Mobile touch probe response: 0\n",
      "\n",
      "Mobile touch probe response: 0\n",
      "\n",
      "Mobile touch probe response: 0\n",
      "\n",
      "Mobile touch probe response: 1\n",
      "\n",
      "Mobile touch probe response: 1\n",
      "\n",
      "Mobile touch probe response: 0\n",
      "\n",
      "Mobile touch probe response: 0\n",
      "\n",
      "Mobile touch probe response: 0\n",
      "\n",
      "Mobile touch probe response: 0\n",
      "\n",
      "Mobile touch probe response: 1\n",
      "\n",
      "Mobile touch probe response: 1\n",
      "\n",
      "Mobile touch probe response: 0\n",
      "\n",
      "Mobile touch probe response: 0\n",
      "\n",
      "Mobile touch probe response: 0\n",
      "\n",
      "Mobile touch probe response: 1\n",
      "\n",
      "Mobile touch probe response: 1\n",
      "\n",
      "Mobile touch probe response: 1\n",
      "\n",
      "Mobile touch probe response: 1\n",
      "\n",
      "Mobile touch probe response: 1\n",
      "\n",
      "Mobile touch probe response: 1\n",
      "\n",
      "Mobile touch probe response: 1\n",
      "\n",
      "Mobile touch probe response: 0\n",
      "\n",
      "Mobile touch probe response: 0\n",
      "\n",
      "Mobile touch probe response: 0\n",
      "\n",
      "Mobile touch probe response: 0\n",
      "\n",
      "Mobile touch probe response: 0\n",
      "\n",
      "Mobile touch probe response: 0\n",
      "\n",
      "Mobile touch probe response: 0\n",
      "\n",
      "Mobile touch probe response: 1\n",
      "\n",
      "Mobile touch probe response: 0\n",
      "\n",
      "Mobile touch probe response: 0\n",
      "\n",
      "Mobile touch probe response: 0\n",
      "\n",
      "Mobile touch probe response: 0\n",
      "\n",
      "Mobile touch probe response: 0\n",
      "\n",
      "Mobile touch probe response: 0\n",
      "\n",
      "Mobile touch probe response: 0\n",
      "\n",
      "Mobile touch probe response: 0\n",
      "\n",
      "Mobile touch probe response: 0\n",
      "\n",
      "Mobile touch probe response: 1\n",
      "\n",
      "Mobile touch probe response: 1\n",
      "\n",
      "Mobile touch probe response: 0\n",
      "\n",
      "Mobile touch probe response: 0\n",
      "\n",
      "Mobile touch probe response: 1\n",
      "\n",
      "Mobile touch probe response: 0\n",
      "\n",
      "Mobile touch probe response: 0\n",
      "\n",
      "Mobile touch probe response: 0\n",
      "\n",
      "Mobile touch probe response: 1\n",
      "\n",
      "Mobile touch probe response: 1\n",
      "\n",
      "Mobile touch probe response: 0\n",
      "\n",
      "Mobile touch probe response: 0\n",
      "\n",
      "Mobile touch probe response: 0\n",
      "\n",
      "Mobile touch probe response: 1\n",
      "\n",
      "Mobile touch probe response: 1\n",
      "\n",
      "Mobile touch probe response: 1\n",
      "\n",
      "Mobile touch probe response: 1\n",
      "\n",
      "Mobile touch probe response: 1\n",
      "\n",
      "Mobile touch probe response: 0\n",
      "\n",
      "Mobile touch probe response: 0\n",
      "\n",
      "Mobile touch probe response: 0\n",
      "\n",
      "Mobile touch probe response: 0\n",
      "\n",
      "Mobile touch probe response: 0\n",
      "\n",
      "Mobile touch probe response: 0\n",
      "\n",
      "Mobile touch probe response: 0\n",
      "\n",
      "Mobile touch probe response: 0\n",
      "\n",
      "Mobile touch probe response: 0\n",
      "\n",
      "Mobile touch probe response: 1\n",
      "\n",
      "Mobile touch probe response: 0\n",
      "\n",
      "Mobile touch probe response: 0\n",
      "\n",
      "Mobile touch probe response: 0\n",
      "\n",
      "Mobile touch probe response: 0\n",
      "\n",
      "Mobile touch probe response: 0\n",
      "\n",
      "Mobile touch probe response: 0\n",
      "\n",
      "Mobile touch probe response: 0\n",
      "\n",
      "Mobile touch probe response: 0\n",
      "\n",
      "Mobile touch probe response: 0\n",
      "\n",
      "Mobile touch probe response: 1\n",
      "\n",
      "Mobile touch probe response: 1\n",
      "\n",
      "Mobile touch probe response: 0\n",
      "\n",
      "Mobile touch probe response: 0\n",
      "\n",
      "Mobile touch probe response: 1\n",
      "\n",
      "Mobile touch probe response: 0\n",
      "\n",
      "Mobile touch probe response: 0\n",
      "\n",
      "Mobile touch probe response: 0\n",
      "\n",
      "Mobile touch probe response: 0\n",
      "\n",
      "Mobile touch probe response: 0\n",
      "\n",
      "Mobile touch probe response: 1\n",
      "\n",
      "Mobile touch probe response: 1\n",
      "\n",
      "Mobile touch probe response: 1\n",
      "\n",
      "Mobile touch probe response: 1\n",
      "\n",
      "Mobile touch probe response: 0\n",
      "\n",
      "Mobile touch probe response: 0\n",
      "\n",
      "Mobile touch probe response: 0\n",
      "\n",
      "Mobile touch probe response: 1\n",
      "\n",
      "Mobile touch probe response: 1\n",
      "\n",
      "Mobile touch probe response: 0\n",
      "\n",
      "Mobile touch probe response: 0\n",
      "\n",
      "Mobile touch probe response: 0\n",
      "\n",
      "Mobile touch probe response: 0\n",
      "\n",
      "Mobile touch probe response: 0\n",
      "\n",
      "Mobile touch probe response: 0\n",
      "\n",
      "Mobile touch probe response: 0\n",
      "\n",
      "Mobile touch probe response: 0\n",
      "\n",
      "Mobile touch probe response: 0\n",
      "\n",
      "Mobile touch probe response: 1\n",
      "\n",
      "Mobile touch probe response: 0\n",
      "\n",
      "Mobile touch probe response: 0\n",
      "\n",
      "Mobile touch probe response: 0\n",
      "\n",
      "Mobile touch probe response: 0\n",
      "\n",
      "Mobile touch probe response: 0\n",
      "\n",
      "Mobile touch probe response: 0\n",
      "\n",
      "Mobile touch probe response: 0\n",
      "\n",
      "Mobile touch probe response: 0\n",
      "\n",
      "Mobile touch probe response: 1\n",
      "\n",
      "Mobile touch probe response: 1\n",
      "\n",
      "Mobile touch probe response: 1\n",
      "\n",
      "Mobile touch probe response: 1\n",
      "\n",
      "Mobile touch probe response: 0\n",
      "\n",
      "Mobile touch probe response: 0\n",
      "\n",
      "Mobile touch probe response: 0\n",
      "\n",
      "Mobile touch probe response: 0\n",
      "\n",
      "Mobile touch probe response: 0\n",
      "\n",
      "Mobile touch probe response: 1\n",
      "\n",
      "Mobile touch probe response: 1\n",
      "\n",
      "Mobile touch probe response: 0\n",
      "\n",
      "Mobile touch probe response: 0\n",
      "\n",
      "Mobile touch probe response: 0\n",
      "\n",
      "Mobile touch probe response: 0\n",
      "\n",
      "Mobile touch probe response: 1\n",
      "\n",
      "Mobile touch probe response: 1\n",
      "\n",
      "Mobile touch probe response: 1\n",
      "\n",
      "Mobile touch probe response: 0\n",
      "\n",
      "Mobile touch probe response: 0\n",
      "\n",
      "Mobile touch probe response: 0\n",
      "\n",
      "Mobile touch probe response: 1\n",
      "\n",
      "Mobile touch probe response: 1\n",
      "\n",
      "Mobile touch probe response: 1\n",
      "\n",
      "Mobile touch probe response: 1\n",
      "\n",
      "Mobile touch probe response: 0\n",
      "\n",
      "Mobile touch probe response: 0\n",
      "\n",
      "Mobile touch probe response: 0\n",
      "\n",
      "Mobile touch probe response: 0\n",
      "\n",
      "Mobile touch probe response: 0\n",
      "\n",
      "Mobile touch probe response: 0\n",
      "\n",
      "Mobile touch probe response: 0\n",
      "\n",
      "Mobile touch probe response: 0\n",
      "\n",
      "Mobile touch probe response: 1\n",
      "\n",
      "Mobile touch probe response: 0\n",
      "\n",
      "Mobile touch probe response: 0\n",
      "\n",
      "Mobile touch probe response: 0\n",
      "\n",
      "Mobile touch probe response: 0\n",
      "\n",
      "Mobile touch probe response: 0\n",
      "\n",
      "Mobile touch probe response: 0\n",
      "\n",
      "Mobile touch probe response: 0\n",
      "\n",
      "Mobile touch probe response: 0\n",
      "\n",
      "Mobile touch probe response: 0\n",
      "\n",
      "Mobile touch probe response: 1\n",
      "\n",
      "Mobile touch probe response: 1\n",
      "\n",
      "Mobile touch probe response: 1\n",
      "\n",
      "Mobile touch probe response: 1\n",
      "\n"
     ]
    },
    {
     "name": "stdout",
     "output_type": "stream",
     "text": [
      "Mobile touch probe response: 0\n",
      "\n",
      "Mobile touch probe response: 0\n",
      "\n",
      "Mobile touch probe response: 0\n",
      "\n",
      "Mobile touch probe response: 0\n",
      "\n",
      "Mobile touch probe response: 1\n",
      "\n",
      "Mobile touch probe response: 1\n",
      "\n",
      "Mobile touch probe response: 1\n",
      "\n",
      "Mobile touch probe response: 0\n",
      "\n",
      "Mobile touch probe response: 0\n",
      "\n",
      "Mobile touch probe response: 0\n",
      "\n",
      "Mobile touch probe response: 1\n",
      "\n",
      "Mobile touch probe response: 1\n",
      "\n",
      "Mobile touch probe response: 0\n",
      "\n",
      "Mobile touch probe response: 0\n",
      "\n",
      "Mobile touch probe response: 0\n",
      "\n",
      "Mobile touch probe response: 1\n",
      "\n",
      "Mobile touch probe response: 1\n",
      "\n",
      "Mobile touch probe response: 1\n",
      "\n",
      "Mobile touch probe response: 1\n",
      "\n",
      "Mobile touch probe response: 1\n",
      "\n",
      "Mobile touch probe response: 1\n",
      "\n",
      "Mobile touch probe response: 1\n",
      "\n",
      "Mobile touch probe response: 0\n",
      "\n",
      "Mobile touch probe response: 0\n",
      "\n",
      "Mobile touch probe response: 0\n",
      "\n",
      "Mobile touch probe response: 0\n",
      "\n",
      "Mobile touch probe response: 0\n",
      "\n",
      "Mobile touch probe response: 0\n",
      "\n",
      "Mobile touch probe response: 0\n",
      "\n",
      "Mobile touch probe response: 0\n",
      "\n",
      "Mobile touch probe response: 0\n",
      "\n",
      "Mobile touch probe response: 0\n",
      "\n",
      "Mobile touch probe response: 0\n",
      "\n",
      "Mobile touch probe response: 0\n",
      "\n",
      "Mobile touch probe response: 0\n",
      "\n",
      "Mobile touch probe response: 1\n",
      "\n",
      "Mobile touch probe response: 0\n",
      "\n",
      "Mobile touch probe response: 0\n",
      "\n",
      "Mobile touch probe response: 0\n",
      "\n",
      "Mobile touch probe response: 0\n",
      "\n",
      "Mobile touch probe response: 0\n",
      "\n",
      "Mobile touch probe response: 0\n",
      "\n",
      "Mobile touch probe response: 1\n",
      "\n",
      "Mobile touch probe response: 1\n",
      "\n",
      "Mobile touch probe response: 0\n",
      "\n",
      "Mobile touch probe response: 0\n",
      "\n",
      "Mobile touch probe response: 1\n",
      "\n",
      "Mobile touch probe response: 0\n",
      "\n",
      "Mobile touch probe response: 0\n",
      "\n",
      "Mobile touch probe response: 0\n",
      "\n",
      "Mobile touch probe response: 0\n",
      "\n",
      "Mobile touch probe response: 0\n",
      "\n",
      "Mobile touch probe response: 1\n",
      "\n",
      "Mobile touch probe response: 1\n",
      "\n",
      "Mobile touch probe response: 1\n",
      "\n",
      "Mobile touch probe response: 1\n",
      "\n",
      "Mobile touch probe response: 0\n",
      "\n",
      "Mobile touch probe response: 0\n",
      "\n",
      "Mobile touch probe response: 0\n",
      "\n",
      "Mobile touch probe response: 1\n",
      "\n",
      "Mobile touch probe response: 1\n",
      "\n",
      "Mobile touch probe response: 0\n",
      "\n",
      "Mobile touch probe response: 0\n",
      "\n",
      "Mobile touch probe response: 0\n",
      "\n",
      "Mobile touch probe response: 0\n",
      "\n",
      "Mobile touch probe response: 0\n",
      "\n",
      "Mobile touch probe response: 0\n",
      "\n",
      "Mobile touch probe response: 0\n",
      "\n",
      "Mobile touch probe response: 0\n",
      "\n",
      "Mobile touch probe response: 0\n",
      "\n",
      "Mobile touch probe response: 1\n",
      "\n",
      "Mobile touch probe response: 0\n",
      "\n",
      "Mobile touch probe response: 0\n",
      "\n",
      "Mobile touch probe response: 0\n",
      "\n",
      "Mobile touch probe response: 0\n",
      "\n",
      "Mobile touch probe response: 0\n",
      "\n",
      "Mobile touch probe response: 0\n",
      "\n",
      "Mobile touch probe response: 1\n",
      "\n",
      "Mobile touch probe response: 1\n",
      "\n",
      "Mobile touch probe response: 0\n",
      "\n",
      "Mobile touch probe response: 0\n",
      "\n",
      "Mobile touch probe response: 1\n",
      "\n",
      "Mobile touch probe response: 0\n",
      "\n",
      "Mobile touch probe response: 0\n",
      "\n",
      "Mobile touch probe response: 0\n",
      "\n",
      "Mobile touch probe response: 0\n",
      "\n",
      "Mobile touch probe response: 0\n",
      "\n",
      "Mobile touch probe response: 1\n",
      "\n",
      "Mobile touch probe response: 1\n",
      "\n",
      "Mobile touch probe response: 1\n",
      "\n",
      "Mobile touch probe response: 1\n",
      "\n",
      "Mobile touch probe response: 0\n",
      "\n",
      "Mobile touch probe response: 0\n",
      "\n",
      "Mobile touch probe response: 0\n",
      "\n",
      "Mobile touch probe response: 1\n",
      "\n",
      "Mobile touch probe response: 1\n",
      "\n",
      "Mobile touch probe response: 0\n",
      "\n",
      "Mobile touch probe response: 0\n",
      "\n",
      "Mobile touch probe response: 0\n",
      "\n",
      "Mobile touch probe response: 0\n",
      "\n",
      "Mobile touch probe response: 0\n",
      "\n",
      "Mobile touch probe response: 0\n",
      "\n",
      "Mobile touch probe response: 0\n",
      "\n",
      "Mobile touch probe response: 0\n",
      "\n",
      "Mobile touch probe response: 0\n",
      "\n",
      "Mobile touch probe response: 1\n",
      "\n",
      "Mobile touch probe response: 0\n",
      "\n",
      "Mobile touch probe response: 0\n",
      "\n",
      "Mobile touch probe response: 0\n",
      "\n",
      "Mobile touch probe response: 0\n",
      "\n",
      "Mobile touch probe response: 0\n",
      "\n",
      "Mobile touch probe response: 0\n",
      "\n",
      "Mobile touch probe response: 0\n",
      "\n",
      "Mobile touch probe response: 0\n",
      "\n",
      "Mobile touch probe response: 0\n",
      "\n",
      "Mobile touch probe response: 0\n",
      "\n",
      "Mobile touch probe response: 1\n",
      "\n",
      "Mobile touch probe response: 1\n",
      "\n",
      "Mobile touch probe response: 0\n",
      "\n",
      "Mobile touch probe response: 0\n",
      "\n",
      "Mobile touch probe response: 1\n",
      "\n",
      "Mobile touch probe response: 0\n",
      "\n",
      "Mobile touch probe response: 0\n",
      "\n",
      "Mobile touch probe response: 0\n",
      "\n",
      "Mobile touch probe response: 0\n",
      "\n",
      "Mobile touch probe response: 0\n",
      "\n",
      "Mobile touch probe response: 1\n",
      "\n",
      "Mobile touch probe response: 1\n",
      "\n",
      "Mobile touch probe response: 1\n",
      "\n",
      "Mobile touch probe response: 1\n",
      "\n",
      "Mobile touch probe response: 0\n",
      "\n",
      "Mobile touch probe response: 0\n",
      "\n",
      "Mobile touch probe response: 0\n",
      "\n",
      "Mobile touch probe response: 1\n",
      "\n",
      "Mobile touch probe response: 1\n",
      "\n",
      "Mobile touch probe response: 0\n",
      "\n",
      "Mobile touch probe response: 0\n",
      "\n",
      "Mobile touch probe response: 0\n",
      "\n",
      "Mobile touch probe response: 0\n",
      "\n",
      "Mobile touch probe response: 0\n",
      "\n",
      "Mobile touch probe response: 0\n",
      "\n",
      "Mobile touch probe response: 0\n",
      "\n",
      "Mobile touch probe response: 0\n",
      "\n",
      "Mobile touch probe response: 0\n",
      "\n",
      "Mobile touch probe response: 1\n",
      "\n"
     ]
    }
   ],
   "source": [
    "x_values = []\n",
    "ar.move(x=550, y=300)\n",
    "ar.move(z=599, speed_z=10000)\n",
    "calibration_start_time = time.time()\n",
    "for i in range(10):\n",
    "    ar.move(x=rnd.randrange(480, 550))\n",
    "    val = tp.findWall('x', 1, step_dict=step_dict)\n",
    "    x_values.append(val)\n",
    "calibration_end_time = time.time()"
   ]
  },
  {
   "cell_type": "code",
   "execution_count": 27,
   "metadata": {},
   "outputs": [
    {
     "data": {
      "text/plain": [
       "100.26671719551086"
      ]
     },
     "execution_count": 27,
     "metadata": {},
     "output_type": "execute_result"
    }
   ],
   "source": [
    "calibration_end_time - calibration_start_time"
   ]
  },
  {
   "cell_type": "code",
   "execution_count": 33,
   "metadata": {},
   "outputs": [
    {
     "data": {
      "text/plain": [
       "118.42463731765747"
      ]
     },
     "execution_count": 33,
     "metadata": {},
     "output_type": "execute_result"
    }
   ],
   "source": [
    "calibration_end_time - calibration_start_time"
   ]
  },
  {
   "cell_type": "code",
   "execution_count": 43,
   "metadata": {},
   "outputs": [
    {
     "data": {
      "text/plain": [
       "102.76152777671814"
      ]
     },
     "execution_count": 43,
     "metadata": {},
     "output_type": "execute_result"
    }
   ],
   "source": [
    "calibration_end_time - calibration_start_time"
   ]
  },
  {
   "cell_type": "code",
   "execution_count": 44,
   "metadata": {},
   "outputs": [],
   "source": [
    "x_values5 = x_values.copy()"
   ]
  },
  {
   "cell_type": "code",
   "execution_count": 29,
   "metadata": {},
   "outputs": [
    {
     "data": {
      "text/plain": [
       "[606.6,\n",
       " 606.6,\n",
       " 606.6,\n",
       " 606.4,\n",
       " 606.4,\n",
       " 606.4,\n",
       " 606.4,\n",
       " 606.4,\n",
       " 606.4,\n",
       " 606.4,\n",
       " 606.6,\n",
       " 606.6,\n",
       " 606.6,\n",
       " 606.6,\n",
       " 606.4,\n",
       " 606.4,\n",
       " 606.3,\n",
       " 606.4,\n",
       " 606.4,\n",
       " 606.6,\n",
       " 606.6,\n",
       " 606.6,\n",
       " 606.4,\n",
       " 606.6,\n",
       " 606.6,\n",
       " 606.4,\n",
       " 606.4,\n",
       " 606.6,\n",
       " 606.6,\n",
       " 606.4,\n",
       " 606.4,\n",
       " 606.4,\n",
       " 606.4,\n",
       " 606.4,\n",
       " 606.4,\n",
       " 606.4,\n",
       " 606.6,\n",
       " 606.6,\n",
       " 606.6,\n",
       " 606.4]"
      ]
     },
     "execution_count": 29,
     "metadata": {},
     "output_type": "execute_result"
    }
   ],
   "source": [
    "x_values2"
   ]
  },
  {
   "cell_type": "code",
   "execution_count": 30,
   "metadata": {},
   "outputs": [
    {
     "data": {
      "text/plain": [
       "[606.4, 606.53, 606.4, 606.4, 606.33, 606.4, 606.4, 606.6, 606.4, 606.53]"
      ]
     },
     "execution_count": 30,
     "metadata": {},
     "output_type": "execute_result"
    }
   ],
   "source": [
    "x_values3"
   ]
  },
  {
   "cell_type": "code",
   "execution_count": 35,
   "metadata": {},
   "outputs": [
    {
     "data": {
      "text/plain": [
       "[606.5, 606.4, 606.6, 606.4, 606.6, 606.6, 606.4, 606.69, 606.4, 606.6]"
      ]
     },
     "execution_count": 35,
     "metadata": {},
     "output_type": "execute_result"
    }
   ],
   "source": [
    "x_values4"
   ]
  },
  {
   "cell_type": "code",
   "execution_count": 45,
   "metadata": {},
   "outputs": [
    {
     "data": {
      "text/plain": [
       "[606.5, 606.35, 606.45, 606.5, 606.5, 606.4, 606.5, 606.5, 606.5, 606.5]"
      ]
     },
     "execution_count": 45,
     "metadata": {},
     "output_type": "execute_result"
    }
   ],
   "source": [
    "x_values5"
   ]
  },
  {
   "cell_type": "code",
   "execution_count": 38,
   "metadata": {},
   "outputs": [
    {
     "data": {
      "text/plain": [
       "0.10349656255906924"
      ]
     },
     "execution_count": 38,
     "metadata": {},
     "output_type": "execute_result"
    }
   ],
   "source": [
    "stat.stdev(x_values2)"
   ]
  },
  {
   "cell_type": "code",
   "execution_count": 39,
   "metadata": {},
   "outputs": [
    {
     "data": {
      "text/plain": [
       "0.08399074023036317"
      ]
     },
     "execution_count": 39,
     "metadata": {},
     "output_type": "execute_result"
    }
   ],
   "source": [
    "stat.stdev(x_values3)"
   ]
  },
  {
   "cell_type": "code",
   "execution_count": 40,
   "metadata": {},
   "outputs": [
    {
     "data": {
      "text/plain": [
       "0.11179842972463881"
      ]
     },
     "execution_count": 40,
     "metadata": {},
     "output_type": "execute_result"
    }
   ],
   "source": [
    "stat.stdev(x_values4)"
   ]
  },
  {
   "cell_type": "code",
   "execution_count": 46,
   "metadata": {},
   "outputs": [
    {
     "data": {
      "text/plain": [
       "0.05374838498865277"
      ]
     },
     "execution_count": 46,
     "metadata": {},
     "output_type": "execute_result"
    }
   ],
   "source": [
    "stat.stdev(x_values5)"
   ]
  },
  {
   "cell_type": "code",
   "execution_count": 19,
   "metadata": {},
   "outputs": [
    {
     "data": {
      "text/plain": [
       "480"
      ]
     },
     "execution_count": 19,
     "metadata": {},
     "output_type": "execute_result"
    }
   ],
   "source": [
    "rnd.randrange(480, 550)"
   ]
  },
  {
   "cell_type": "code",
   "execution_count": 47,
   "metadata": {},
   "outputs": [],
   "source": [
    "tp.returnTool()"
   ]
  },
  {
   "cell_type": "code",
   "execution_count": 48,
   "metadata": {},
   "outputs": [],
   "source": [
    "ar.close()"
   ]
  },
  {
   "cell_type": "markdown",
   "metadata": {},
   "source": [
    "# Testing mobile_touch_probe.findCenterInner()"
   ]
  },
  {
   "cell_type": "code",
   "execution_count": 7,
   "metadata": {},
   "outputs": [],
   "source": [
    "import low_level_comm as llc\n",
    "import cartesian\n",
    "import tools\n",
    "import time\n",
    "from importlib import reload "
   ]
  },
  {
   "cell_type": "code",
   "execution_count": 17,
   "metadata": {},
   "outputs": [],
   "source": [
    "tools=reload(tools)"
   ]
  },
  {
   "cell_type": "code",
   "execution_count": 3,
   "metadata": {},
   "outputs": [],
   "source": [
    "ar = cartesian.arnie('COM4')\n",
    "ar.home()"
   ]
  },
  {
   "cell_type": "code",
   "execution_count": 4,
   "metadata": {},
   "outputs": [],
   "source": [
    "tp = tools.mobile_touch_probe.getTool(ar)"
   ]
  },
  {
   "cell_type": "code",
   "execution_count": 5,
   "metadata": {},
   "outputs": [],
   "source": [
    "ar.move(x=550, y=300, z=599, z_first=False, speed_z=10000)"
   ]
  },
  {
   "cell_type": "code",
   "execution_count": 10,
   "metadata": {},
   "outputs": [
    {
     "name": "stdout",
     "output_type": "stream",
     "text": [
      "Mobile touch probe response: 0\n",
      "\n",
      "Mobile touch probe response: 0\n",
      "\n",
      "Mobile touch probe response: 0\n",
      "\n",
      "Mobile touch probe response: 0\n",
      "\n",
      "Mobile touch probe response: 0\n",
      "\n",
      "Mobile touch probe response: 0\n",
      "\n",
      "Mobile touch probe response: 0\n",
      "\n",
      "Mobile touch probe response: 0\n",
      "\n",
      "Mobile touch probe response: 0\n",
      "\n",
      "Mobile touch probe response: 0\n",
      "\n",
      "Mobile touch probe response: 0\n",
      "\n",
      "Mobile touch probe response: 0\n",
      "\n",
      "Mobile touch probe response: 0\n",
      "\n",
      "Mobile touch probe response: 1\n",
      "\n",
      "Mobile touch probe response: 1\n",
      "\n",
      "Mobile touch probe response: 1\n",
      "\n",
      "Mobile touch probe response: 0\n",
      "\n",
      "Mobile touch probe response: 0\n",
      "\n",
      "Mobile touch probe response: 1\n",
      "\n",
      "Mobile touch probe response: 0\n",
      "\n",
      "Mobile touch probe response: 0\n",
      "\n",
      "Mobile touch probe response: 0\n",
      "\n",
      "Mobile touch probe response: 0\n",
      "\n",
      "Mobile touch probe response: 1\n",
      "\n",
      "Mobile touch probe response: 1\n",
      "\n",
      "Mobile touch probe response: 1\n",
      "\n",
      "Mobile touch probe response: 0\n",
      "\n",
      "Mobile touch probe response: 0\n",
      "\n",
      "Mobile touch probe response: 0\n",
      "\n",
      "Mobile touch probe response: 1\n",
      "\n",
      "Mobile touch probe response: 1\n",
      "\n",
      "Mobile touch probe response: 1\n",
      "\n",
      "Mobile touch probe response: 1\n",
      "\n",
      "Mobile touch probe response: 0\n",
      "\n",
      "Mobile touch probe response: 0\n",
      "\n",
      "Mobile touch probe response: 0\n",
      "\n",
      "Mobile touch probe response: 0\n",
      "\n",
      "Mobile touch probe response: 0\n",
      "\n",
      "Mobile touch probe response: 0\n",
      "\n",
      "Mobile touch probe response: 0\n",
      "\n",
      "Mobile touch probe response: 1\n",
      "\n",
      "Mobile touch probe response: 0\n",
      "\n",
      "Mobile touch probe response: 0\n",
      "\n",
      "Mobile touch probe response: 0\n",
      "\n",
      "Mobile touch probe response: 0\n",
      "\n",
      "Mobile touch probe response: 0\n",
      "\n",
      "Mobile touch probe response: 0\n",
      "\n",
      "Mobile touch probe response: 0\n",
      "\n",
      "Mobile touch probe response: 0\n",
      "\n",
      "Mobile touch probe response: 0\n",
      "\n",
      "Mobile touch probe response: 0\n",
      "\n",
      "Mobile touch probe response: 0\n",
      "\n",
      "Mobile touch probe response: 0\n",
      "\n",
      "Mobile touch probe response: 0\n",
      "\n",
      "Mobile touch probe response: 1\n",
      "\n",
      "Mobile touch probe response: 1\n",
      "\n",
      "Mobile touch probe response: 1\n",
      "\n",
      "Mobile touch probe response: 0\n",
      "\n",
      "Mobile touch probe response: 0\n",
      "\n",
      "Mobile touch probe response: 1\n",
      "\n",
      "Mobile touch probe response: 0\n",
      "\n",
      "Mobile touch probe response: 0\n",
      "\n",
      "Mobile touch probe response: 0\n",
      "\n",
      "Mobile touch probe response: 0\n",
      "\n",
      "Mobile touch probe response: 1\n",
      "\n",
      "Mobile touch probe response: 1\n",
      "\n",
      "Mobile touch probe response: 1\n",
      "\n",
      "Mobile touch probe response: 1\n",
      "\n",
      "Mobile touch probe response: 0\n",
      "\n",
      "Mobile touch probe response: 0\n",
      "\n",
      "Mobile touch probe response: 0\n",
      "\n",
      "Mobile touch probe response: 0\n",
      "\n",
      "Mobile touch probe response: 0\n",
      "\n",
      "Mobile touch probe response: 1\n",
      "\n",
      "Mobile touch probe response: 1\n",
      "\n",
      "Mobile touch probe response: 1\n",
      "\n",
      "Mobile touch probe response: 1\n",
      "\n",
      "Mobile touch probe response: 1\n",
      "\n",
      "Mobile touch probe response: 1\n",
      "\n",
      "Mobile touch probe response: 1\n",
      "\n",
      "Mobile touch probe response: 0\n",
      "\n",
      "Mobile touch probe response: 0\n",
      "\n",
      "Mobile touch probe response: 0\n",
      "\n",
      "Mobile touch probe response: 0\n",
      "\n",
      "Mobile touch probe response: 0\n",
      "\n",
      "Mobile touch probe response: 0\n",
      "\n",
      "Mobile touch probe response: 0\n",
      "\n",
      "Mobile touch probe response: 1\n",
      "\n"
     ]
    },
    {
     "data": {
      "text/plain": [
       "139.54999999999995"
      ]
     },
     "execution_count": 10,
     "metadata": {},
     "output_type": "execute_result"
    }
   ],
   "source": [
    "tp.findCenterInner('x')"
   ]
  },
  {
   "cell_type": "code",
   "execution_count": 11,
   "metadata": {},
   "outputs": [],
   "source": [
    "tp.close()"
   ]
  },
  {
   "cell_type": "code",
   "execution_count": 18,
   "metadata": {},
   "outputs": [
    {
     "name": "stderr",
     "output_type": "stream",
     "text": [
      "ERROR:root:matchPortsWithDevices(): could not execute finiding device in list.\n",
      "ERROR:root:matchPortsWithDevices(): Provided patterns_list: ['mobile touch probe']\n",
      "ERROR:root:None\n"
     ]
    }
   ],
   "source": [
    "tp = tools.mobile_touch_probe(ar)"
   ]
  },
  {
   "cell_type": "code",
   "execution_count": 21,
   "metadata": {},
   "outputs": [
    {
     "name": "stdout",
     "output_type": "stream",
     "text": [
      "Mobile touch probe response: 0\n",
      "\n",
      "Mobile touch probe response: 0\n",
      "\n",
      "Mobile touch probe response: 0\n",
      "\n",
      "Mobile touch probe response: 0\n",
      "\n",
      "Mobile touch probe response: 0\n",
      "\n",
      "Mobile touch probe response: 0\n",
      "\n",
      "Mobile touch probe response: 0\n",
      "\n",
      "Mobile touch probe response: 0\n",
      "\n",
      "Mobile touch probe response: 0\n",
      "\n",
      "Mobile touch probe response: 0\n",
      "\n",
      "Mobile touch probe response: 0\n",
      "\n",
      "Mobile touch probe response: 0\n",
      "\n",
      "Mobile touch probe response: 0\n",
      "\n",
      "Mobile touch probe response: 1\n",
      "\n",
      "Mobile touch probe response: 1\n",
      "\n",
      "Mobile touch probe response: 1\n",
      "\n",
      "Mobile touch probe response: 0\n",
      "\n",
      "Mobile touch probe response: 0\n",
      "\n",
      "Mobile touch probe response: 1\n",
      "\n",
      "Mobile touch probe response: 0\n",
      "\n",
      "Mobile touch probe response: 0\n",
      "\n",
      "Mobile touch probe response: 0\n",
      "\n",
      "Mobile touch probe response: 1\n",
      "\n",
      "Mobile touch probe response: 1\n",
      "\n",
      "Mobile touch probe response: 0\n",
      "\n",
      "Mobile touch probe response: 0\n",
      "\n",
      "Mobile touch probe response: 0\n",
      "\n",
      "Mobile touch probe response: 1\n",
      "\n",
      "Mobile touch probe response: 1\n",
      "\n",
      "Mobile touch probe response: 1\n",
      "\n",
      "Mobile touch probe response: 1\n",
      "\n",
      "Mobile touch probe response: 0\n",
      "\n",
      "Mobile touch probe response: 0\n",
      "\n",
      "Mobile touch probe response: 0\n",
      "\n",
      "Mobile touch probe response: 0\n",
      "\n",
      "Mobile touch probe response: 0\n",
      "\n",
      "Mobile touch probe response: 0\n",
      "\n",
      "Mobile touch probe response: 0\n",
      "\n",
      "Mobile touch probe response: 1\n",
      "\n",
      "Mobile touch probe response: 0\n",
      "\n",
      "Mobile touch probe response: 0\n",
      "\n",
      "Mobile touch probe response: 0\n",
      "\n",
      "Mobile touch probe response: 0\n",
      "\n",
      "Mobile touch probe response: 0\n",
      "\n",
      "Mobile touch probe response: 0\n",
      "\n",
      "Mobile touch probe response: 0\n",
      "\n",
      "Mobile touch probe response: 0\n",
      "\n",
      "Mobile touch probe response: 0\n",
      "\n",
      "Mobile touch probe response: 0\n",
      "\n",
      "Mobile touch probe response: 0\n",
      "\n",
      "Mobile touch probe response: 0\n",
      "\n",
      "Mobile touch probe response: 0\n",
      "\n",
      "Mobile touch probe response: 1\n",
      "\n",
      "Mobile touch probe response: 1\n",
      "\n",
      "Mobile touch probe response: 1\n",
      "\n",
      "Mobile touch probe response: 0\n",
      "\n",
      "Mobile touch probe response: 0\n",
      "\n",
      "Mobile touch probe response: 1\n",
      "\n",
      "Mobile touch probe response: 0\n",
      "\n",
      "Mobile touch probe response: 0\n",
      "\n",
      "Mobile touch probe response: 0\n",
      "\n",
      "Mobile touch probe response: 0\n",
      "\n",
      "Mobile touch probe response: 1\n",
      "\n",
      "Mobile touch probe response: 1\n",
      "\n",
      "Mobile touch probe response: 1\n",
      "\n",
      "Mobile touch probe response: 1\n",
      "\n",
      "Mobile touch probe response: 0\n",
      "\n",
      "Mobile touch probe response: 0\n",
      "\n",
      "Mobile touch probe response: 0\n",
      "\n",
      "Mobile touch probe response: 0\n",
      "\n",
      "Mobile touch probe response: 0\n",
      "\n",
      "Mobile touch probe response: 1\n",
      "\n",
      "Mobile touch probe response: 1\n",
      "\n",
      "Mobile touch probe response: 1\n",
      "\n",
      "Mobile touch probe response: 1\n",
      "\n",
      "Mobile touch probe response: 1\n",
      "\n",
      "Mobile touch probe response: 1\n",
      "\n",
      "Mobile touch probe response: 1\n",
      "\n",
      "Mobile touch probe response: 1\n",
      "\n",
      "Mobile touch probe response: 1\n",
      "\n",
      "Mobile touch probe response: 0\n",
      "\n",
      "Mobile touch probe response: 0\n",
      "\n",
      "Mobile touch probe response: 0\n",
      "\n",
      "Mobile touch probe response: 0\n",
      "\n",
      "Mobile touch probe response: 0\n",
      "\n",
      "Mobile touch probe response: 1\n",
      "\n"
     ]
    },
    {
     "data": {
      "text/plain": [
       "536.975"
      ]
     },
     "execution_count": 21,
     "metadata": {},
     "output_type": "execute_result"
    }
   ],
   "source": [
    "tp.findCenterInner('x')"
   ]
  },
  {
   "cell_type": "code",
   "execution_count": 22,
   "metadata": {},
   "outputs": [],
   "source": [
    "ar.move(x=536.975)"
   ]
  },
  {
   "cell_type": "markdown",
   "metadata": {},
   "source": [
    "# Testing mobile_touch_probe.findCenterInner()"
   ]
  },
  {
   "cell_type": "code",
   "execution_count": 1,
   "metadata": {},
   "outputs": [],
   "source": [
    "import low_level_comm as llc\n",
    "import cartesian\n",
    "import tools\n",
    "import time\n",
    "from importlib import reload "
   ]
  },
  {
   "cell_type": "code",
   "execution_count": 2,
   "metadata": {},
   "outputs": [],
   "source": [
    "ar = cartesian.arnie('COM4')\n",
    "ar.home()"
   ]
  },
  {
   "cell_type": "code",
   "execution_count": 3,
   "metadata": {},
   "outputs": [
    {
     "name": "stderr",
     "output_type": "stream",
     "text": [
      "ERROR:root:matchPortsWithDevices(): could not execute finiding device in list.\n",
      "ERROR:root:matchPortsWithDevices(): Provided patterns_list: ['mobile touch probe']\n",
      "ERROR:root:None\n"
     ]
    }
   ],
   "source": [
    "tp = tools.mobile_touch_probe(ar)"
   ]
  },
  {
   "cell_type": "code",
   "execution_count": 4,
   "metadata": {},
   "outputs": [],
   "source": [
    "ar.move(x=600, y=300, z=599, z_first=False, speed_z=10000)"
   ]
  },
  {
   "cell_type": "code",
   "execution_count": 5,
   "metadata": {},
   "outputs": [
    {
     "name": "stdout",
     "output_type": "stream",
     "text": [
      "Mobile touch probe response: 0\n",
      "\n",
      "Mobile touch probe response: 0\n",
      "\n",
      "Mobile touch probe response: 1\n",
      "\n",
      "Mobile touch probe response: 1\n",
      "\n",
      "Mobile touch probe response: 0\n",
      "\n",
      "Mobile touch probe response: 0\n",
      "\n",
      "Mobile touch probe response: 1\n",
      "\n",
      "Mobile touch probe response: 1\n",
      "\n",
      "Mobile touch probe response: 1\n",
      "\n",
      "Mobile touch probe response: 0\n",
      "\n",
      "Mobile touch probe response: 0\n",
      "\n",
      "Mobile touch probe response: 0\n",
      "\n",
      "Mobile touch probe response: 1\n",
      "\n",
      "Mobile touch probe response: 1\n",
      "\n",
      "Mobile touch probe response: 1\n",
      "\n",
      "Mobile touch probe response: 0\n",
      "\n",
      "Mobile touch probe response: 0\n",
      "\n",
      "Mobile touch probe response: 0\n",
      "\n",
      "Mobile touch probe response: 1\n",
      "\n",
      "Mobile touch probe response: 1\n",
      "\n",
      "Mobile touch probe response: 1\n",
      "\n",
      "Mobile touch probe response: 1\n",
      "\n",
      "Mobile touch probe response: 0\n",
      "\n",
      "Mobile touch probe response: 0\n",
      "\n",
      "Mobile touch probe response: 0\n",
      "\n",
      "Mobile touch probe response: 0\n",
      "\n",
      "Mobile touch probe response: 0\n",
      "\n",
      "Mobile touch probe response: 0\n",
      "\n",
      "Mobile touch probe response: 0\n",
      "\n",
      "Mobile touch probe response: 1\n",
      "\n",
      "Mobile touch probe response: 0\n",
      "\n",
      "Mobile touch probe response: 0\n",
      "\n",
      "Mobile touch probe response: 0\n",
      "\n",
      "Mobile touch probe response: 0\n",
      "\n",
      "Mobile touch probe response: 1\n",
      "\n",
      "Mobile touch probe response: 1\n",
      "\n",
      "Mobile touch probe response: 1\n",
      "\n",
      "Mobile touch probe response: 0\n",
      "\n",
      "Mobile touch probe response: 0\n",
      "\n",
      "Mobile touch probe response: 1\n",
      "\n",
      "Mobile touch probe response: 0\n",
      "\n",
      "Mobile touch probe response: 0\n",
      "\n",
      "Mobile touch probe response: 0\n",
      "\n",
      "Mobile touch probe response: 0\n",
      "\n",
      "Mobile touch probe response: 1\n",
      "\n",
      "Mobile touch probe response: 1\n",
      "\n",
      "Mobile touch probe response: 1\n",
      "\n",
      "Mobile touch probe response: 0\n",
      "\n",
      "Mobile touch probe response: 0\n",
      "\n",
      "Mobile touch probe response: 0\n",
      "\n",
      "Mobile touch probe response: 1\n",
      "\n",
      "Mobile touch probe response: 1\n",
      "\n",
      "Mobile touch probe response: 1\n",
      "\n",
      "Mobile touch probe response: 1\n",
      "\n",
      "Mobile touch probe response: 1\n",
      "\n",
      "Mobile touch probe response: 1\n",
      "\n",
      "Mobile touch probe response: 1\n",
      "\n",
      "Mobile touch probe response: 0\n",
      "\n",
      "Mobile touch probe response: 0\n",
      "\n",
      "Mobile touch probe response: 0\n",
      "\n",
      "Mobile touch probe response: 0\n",
      "\n",
      "Mobile touch probe response: 0\n",
      "\n",
      "Mobile touch probe response: 0\n",
      "\n",
      "Mobile touch probe response: 0\n",
      "\n",
      "Mobile touch probe response: 0\n",
      "\n",
      "Mobile touch probe response: 0\n",
      "\n",
      "Mobile touch probe response: 0\n",
      "\n",
      "Mobile touch probe response: 0\n",
      "\n",
      "Mobile touch probe response: 0\n",
      "\n",
      "Mobile touch probe response: 0\n",
      "\n",
      "Mobile touch probe response: 1\n",
      "\n"
     ]
    },
    {
     "data": {
      "text/plain": [
       "611.175"
      ]
     },
     "execution_count": 5,
     "metadata": {},
     "output_type": "execute_result"
    }
   ],
   "source": [
    "tp.findCenterOuter('x', raise_height=10, dist_through_obstruct=40)"
   ]
  },
  {
   "cell_type": "code",
   "execution_count": 6,
   "metadata": {},
   "outputs": [],
   "source": [
    "ar.move_delta(dz=-10)"
   ]
  },
  {
   "cell_type": "code",
   "execution_count": 7,
   "metadata": {},
   "outputs": [],
   "source": [
    "ar.move(x=611.175)"
   ]
  },
  {
   "cell_type": "code",
   "execution_count": 8,
   "metadata": {},
   "outputs": [],
   "source": [
    "ar.move_delta(dz=5)"
   ]
  },
  {
   "cell_type": "code",
   "execution_count": null,
   "metadata": {},
   "outputs": [],
   "source": []
  }
 ],
 "metadata": {
  "kernelspec": {
   "display_name": "Python 3",
   "language": "python",
   "name": "python3"
  },
  "language_info": {
   "codemirror_mode": {
    "name": "ipython",
    "version": 3
   },
   "file_extension": ".py",
   "mimetype": "text/x-python",
   "name": "python",
   "nbconvert_exporter": "python",
   "pygments_lexer": "ipython3",
   "version": "3.7.4"
  }
 },
 "nbformat": 4,
 "nbformat_minor": 2
}
