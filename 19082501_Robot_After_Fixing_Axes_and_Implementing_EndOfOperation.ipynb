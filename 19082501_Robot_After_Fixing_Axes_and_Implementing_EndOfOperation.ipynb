{
 "cells": [
  {
   "cell_type": "code",
   "execution_count": 1,
   "metadata": {
    "ExecuteTime": {
     "end_time": "2019-09-12T05:12:24.831453Z",
     "start_time": "2019-09-12T05:12:24.800534Z"
    },
    "collapsed": true
   },
   "outputs": [],
   "source": [
    "import serial\n",
    "import time\n",
    "import math\n",
    "import re"
   ]
  },
  {
   "cell_type": "code",
   "execution_count": 2,
   "metadata": {
    "ExecuteTime": {
     "end_time": "2019-09-12T05:12:26.913198Z",
     "start_time": "2019-09-12T05:12:26.895249Z"
    },
    "code_folding": [
     4
    ],
    "collapsed": true
   },
   "outputs": [],
   "source": [
    "import sys\n",
    "import glob\n",
    "\n",
    "\n",
    "def serial_ports():\n",
    "    \"\"\" Lists serial port names\n",
    "\n",
    "        :raises EnvironmentError:\n",
    "            On unsupported or unknown platforms\n",
    "        :returns:\n",
    "            A list of the serial ports available on the system\n",
    "    \"\"\"\n",
    "    if sys.platform.startswith('win'):\n",
    "        ports = ['COM%s' % (i + 1) for i in range(256)]\n",
    "    elif sys.platform.startswith('linux') or sys.platform.startswith('cygwin'):\n",
    "        # this excludes your current terminal \"/dev/tty\"\n",
    "        ports = glob.glob('/dev/tty[A-Za-z]*')\n",
    "    elif sys.platform.startswith('darwin'):\n",
    "        ports = glob.glob('/dev/tty.*')\n",
    "    else:\n",
    "        raise EnvironmentError('Unsupported platform')\n",
    "\n",
    "    result = []\n",
    "    for port in ports:\n",
    "        try:\n",
    "            s = serial.Serial(port)\n",
    "            s.close()\n",
    "            result.append(port)\n",
    "        except (OSError, serial.SerialException):\n",
    "            pass\n",
    "    return result"
   ]
  },
  {
   "cell_type": "markdown",
   "metadata": {},
   "source": [
    "# serial_device class definition"
   ]
  },
  {
   "cell_type": "code",
   "execution_count": 3,
   "metadata": {
    "ExecuteTime": {
     "end_time": "2019-09-12T05:12:28.257230Z",
     "start_time": "2019-09-12T05:12:28.155594Z"
    },
    "code_folding": [
     0
    ],
    "collapsed": true
   },
   "outputs": [],
   "source": [
    "class serial_device():\n",
    "    \"\"\"\n",
    "    Parent class, handling basic communication with a device, \n",
    "    be it an Arnie robot, or a tool or something else\n",
    "    \"\"\"\n",
    "    \n",
    "    def __init__(self, com_port_number, baudrate=115200, timeout=0.1, eol=\"\\r\"):\n",
    "        \n",
    "        \"\"\"\n",
    "        Initializes a devise to communicate through the serial port\n",
    "        (which is now most likely a USB emulation of a serial port)\n",
    "        \n",
    "        Inputs:\n",
    "            com_port_number \n",
    "                port number which robot is going to use to communicate. For now, find it manually.\n",
    "                TODO: automatic port number discovery.\n",
    "            baudrate\n",
    "                Speed of communication. For USB 115200 is good. Lower if communication becomes bad.\n",
    "            timeout\n",
    "                How long to wait (in seconds) for a device to respond before returning an error\n",
    "                0.1 seconds is default.\n",
    "            eol\n",
    "                character to pass at the end of a line when sending something to the device.\n",
    "                Default is '\\r'\n",
    "        \"\"\"\n",
    "        \n",
    "        self.eol=eol\n",
    "\n",
    "        self.openSerialPort(com_port_number, baudrate, timeout)\n",
    "    \n",
    "    \n",
    "    def openSerialPort(self, com_port_number=None, baudrate=115200, timeout=0.1):\n",
    "        \"\"\"\n",
    "        Opens serial port\n",
    "        \"\"\"\n",
    "        # Trying to use specifically provided com_port_number\n",
    "        # Otherwise using whatever internal number instance may already have.\n",
    "        if com_port_number is not None:\n",
    "            com_port = \"COM\"+str(com_port_number)\n",
    "        else:\n",
    "            com_port = \"COM\"+str(self.com_port_number)\n",
    "        # Make sure port is closed\n",
    "        self.close()\n",
    "        # Opening robot instance\n",
    "        self.port = serial.Serial(com_port, baudrate, timeout=timeout)\n",
    "        # Cleaning input buffer from hello message\n",
    "        self.port.flushInput()\n",
    "\n",
    "        \n",
    "    def close(self):\n",
    "        \"\"\"\n",
    "        Will try to close Arnie port if it is open\n",
    "        \"\"\"\n",
    "        try:\n",
    "            self.port.close()\n",
    "        except:\n",
    "            pass\n",
    "        \n",
    "        \n",
    "    def write(self, expression, eol=None):\n",
    "        \"\"\"\n",
    "        Sending an expression to a device. Expression is in str format.\n",
    "        Proper end of line will be sent. If eol specified here, it will be sent\n",
    "        Otherwise the one specified during initialization will be sent.\n",
    "        \"\"\"\n",
    "        # Cleaning input buffer (so the buffer will contain only response of a device \n",
    "        # to the command send within this function)\n",
    "        self.port.flushInput()\n",
    "        # Strip all EOL characters for consistency\n",
    "        expression = expression.strip()\n",
    "        if eol:\n",
    "            eol_to_send = eol\n",
    "        else:\n",
    "            eol_to_send = self.eol\n",
    "        # Add end of line\n",
    "        expression = expression + eol_to_send\n",
    "        # Encode to binary\n",
    "        expr_enc = expression.encode()\n",
    "        \n",
    "        # Writing to robot\n",
    "        self.port.write(expr_enc)\n",
    "        \n",
    "        \n",
    "    def read(self, number_of_bytes=1):\n",
    "        \"\"\"\n",
    "        Same functionality as Serial.read()\n",
    "        \"\"\"\n",
    "        return self.port.read(number_of_bytes).decode(\"utf-8\")\n",
    "    \n",
    "    \n",
    "    def readAll(self, timeout=0.1):\n",
    "        \"\"\"\n",
    "        Function will wait until everything that the devise send is read\n",
    "        \"\"\"\n",
    "        # Give time for device to respond\n",
    "        time.sleep(timeout)\n",
    "        # Wait forever for device to return something\n",
    "        message=self.read()\n",
    "        #message=''\n",
    "        # Continue reading until device output buffer is empty\n",
    "        while self.port.inWaiting():\n",
    "            message += self.read()\n",
    "        return message\n",
    "\n",
    "    \n",
    "    def waitUntilFinished(self, confirm_message='ok\\n'):\n",
    "        \"\"\"\n",
    "        Function will wait until confirm_message appears in the output buffer\n",
    "        \"\"\"\n",
    "        full_message = ''\n",
    "        while True:\n",
    "            message_received = self.read()\n",
    "            full_message += message_received\n",
    "            if re.search(pattern=confirm_message, string=full_message):\n",
    "                break\n",
    "        return full_message\n",
    "    \n",
    "    \n",
    "    def writeAndWait(self, expression, eol=None, confirm_message='ok\\n'):\n",
    "        \"\"\"\n",
    "        Function will write an expression to the device and wait for the proper response.\n",
    "        \n",
    "        Use this function to make the devise perform a physical operation and\n",
    "        make sure program continues after the operation is physically completed.\n",
    "        \n",
    "        Function will return an output message\n",
    "        \"\"\"\n",
    "        \n",
    "        self.write(expression, eol)\n",
    "        return self.waitUntilFinished(confirm_message)"
   ]
  },
  {
   "cell_type": "markdown",
   "metadata": {},
   "source": [
    "# arnie class definition"
   ]
  },
  {
   "cell_type": "code",
   "execution_count": 4,
   "metadata": {
    "ExecuteTime": {
     "end_time": "2019-09-12T05:12:29.851722Z",
     "start_time": "2019-09-12T05:12:29.337179Z"
    },
    "code_folding": [
     0
    ],
    "collapsed": true
   },
   "outputs": [],
   "source": [
    "class arnie(serial_device):\n",
    "    \n",
    "    def __init__(self, com_port_number, baudrate=115200, timeout=0.1, speed_x=20000, speed_y=20000, speed_z=15000):\n",
    "        super().__init__(com_port_number, baudrate, timeout, eol=\"\\r\")\n",
    "        \n",
    "        self.speed_x = speed_x\n",
    "        self.speed_y = speed_y\n",
    "        self.speed_z = speed_z\n",
    "        \n",
    "    def home(self, axis='XYZ'):\n",
    "        \"\"\"\n",
    "        Home one of the axis, X, Y or Z.\n",
    "        Axis \n",
    "            axis to home\n",
    "                x - home X axis\n",
    "                y - home Y axis\n",
    "                z - home Z axis\n",
    "        \"\"\"\n",
    "        axis = axis.upper()\n",
    "        if axis != 'X' and axis != 'Y' and axis != 'Z' and axis != 'XYZ':\n",
    "            print ('Wrong axis specified. Please specify x, y or z. You specified: '+axis)\n",
    "        elif axis == 'XYZ':\n",
    "            self.writeAndWait('G28 Z')\n",
    "            self.writeAndWait('G28 Y')\n",
    "            self.writeAndWait('G28 X')\n",
    "        else:\n",
    "            self.writeAndWait('G28 '+axis)\n",
    "    \n",
    "    \n",
    "    def _decideSpeed(self, axis, speed):\n",
    "        if speed is None:\n",
    "            if axis=='X':\n",
    "                speed = self.speed_x\n",
    "            elif axis=='Y':\n",
    "                speed = self.speed_y\n",
    "            else:\n",
    "                speed = self.speed_z\n",
    "        return speed\n",
    "    \n",
    "    \n",
    "    def moveAxis(self, axis, coordinate, speed=None):\n",
    "        \n",
    "        axis=axis.upper()\n",
    "        coordinate = str(coordinate)\n",
    "        coord_cmd = axis + coordinate\n",
    "        speed = self._decideSpeed(axis, speed)\n",
    "        speed_cmd = 'F' + str(speed)\n",
    "        full_cmd = 'G0 ' + coord_cmd + ' ' + speed_cmd\n",
    "        \n",
    "        try:\n",
    "            self.writeAndWait(full_cmd)\n",
    "        except:\n",
    "            pass\n",
    "        \n",
    "        \n",
    "    def moveXY(self, x, y, speed=None):\n",
    "        speed = self._decideSpeed('X', speed)\n",
    "        full_cmd = 'G0 X' + str(x) + ' Y' + str(y) + ' F' + str(speed)\n",
    "        try:\n",
    "            self.writeAndWait(full_cmd)\n",
    "        except:\n",
    "            pass\n",
    "    \n",
    "    \n",
    "    def moveZ(self, z, speed=None):\n",
    "        self.moveAxis('Z', z, speed)\n",
    "    \n",
    "    \n",
    "    def move(self, x=None, y=None, z=None, z_first=True, speed_xy=None, speed_z=None):\n",
    "        \"\"\"\n",
    "        Move robot to an absolute coordinates.\n",
    "        \n",
    "        Spefify z_first = True if you want Z to move first; otherwise x an y will move first.\n",
    "        \"\"\"\n",
    "        speed_xy = self._decideSpeed('X', speed_xy)\n",
    "        speed_z = self._decideSpeed('Z', speed_z)\n",
    "        \n",
    "        # Each of the functions attempting to move an axis to the coordinate. \n",
    "        # If something goes wrong, like coordinate not specified, command is ignored\n",
    "        # and the next one is attempted.\n",
    "        if z_first:\n",
    "            if z is not None:\n",
    "                self.moveZ(z, speed_z)\n",
    "            if x is not None and y is not None:\n",
    "                self.moveXY(x, y, speed_xy)\n",
    "            elif x is not None and y is None:\n",
    "                self.moveAxis('X', x, speed_xy)\n",
    "            elif y is not None and x is None:\n",
    "                self.moveAxis('Y', y, speed_xy)\n",
    "        else:\n",
    "            if x is not None and y is not None:\n",
    "                self.moveXY(x, y, speed_xy)\n",
    "            elif x is not None and y is None:\n",
    "                self.moveAxis('X', x, speed_xy)\n",
    "            elif y is not None and x is None:\n",
    "                self.moveAxis('Y', y, speed_xy)\n",
    "            if z is not None:\n",
    "                self.moveZ(z, speed_z)\n",
    "    \n",
    "    def moveDelta(self, dx=None, dy=None, dz=None, z_first=True, speed_xy=None, speed_z=None):\n",
    "        \"\"\"\n",
    "        Moves the robot arbitrarily to the current position\n",
    "        \"\"\"\n",
    "        # Getting current absolute position\n",
    "        x, y, z = self.getPosition()\n",
    "        \n",
    "        # Assigning zero movement to coordinates which are not provided\n",
    "        if dx is None:\n",
    "            dx = 0\n",
    "        if dy is None:\n",
    "            dy = 0\n",
    "        if dz is None:\n",
    "            dz = 0\n",
    "            \n",
    "        # Calculating new absolute position for Arnie\n",
    "        new_x = x + dx\n",
    "        new_y = y + dy\n",
    "        new_z = z + dz\n",
    "        \n",
    "        # Moving Arnie\n",
    "        self.move(new_x, new_y, new_z, z_first=z_first, speed_xy=speed_xy, speed_z=speed_z)\n",
    "    \n",
    "    def openTool(self):\n",
    "        \"\"\"Docker opens to accept a tool\"\"\"\n",
    "        self.write('M280 P1 S10')\n",
    "        time.sleep(1.5)\n",
    "        \n",
    "    def closeTool(self):\n",
    "        \"\"\"Docker closes, fixing a tool in place\"\"\"\n",
    "        self.write('M280 P1 S80')\n",
    "        time.sleep(1.5)\n",
    "    \n",
    "    def getPosition(self):\n",
    "        msg = self.writeAndWait(\"M114\")\n",
    "        msg_list = re.split(pattern=' ', string=msg)\n",
    "        x_str = msg_list[0]\n",
    "        y_str = msg_list[1]\n",
    "        z_str = msg_list[2]\n",
    "        #print (x_str, y_str, z_str)\n",
    "        x = float(re.split(pattern=\"\\:\", string=x_str)[1])\n",
    "        y = float(re.split(pattern=\"\\:\", string=y_str)[1])\n",
    "        z = float(re.split(pattern=\"\\:\", string=z_str)[1])\n",
    "        return x, y, z\n",
    "    \n",
    "        \n",
    "    def approachToolPosition(self, x, y, z, speed_xy=None, speed_z=None):\n",
    "        \"\"\"\n",
    "        Moves robot to specified coordinates, where the tool is expected to be.\n",
    "        Alternatively, moves robot WITH a tool to its empty slot\n",
    "        Coordinates for both operations should be the same.\n",
    "        Thif function will not engage docker, as one need to make sure the tool is at the right position\n",
    "        \"\"\"\n",
    "        \n",
    "        self.move(x, y, z, z_first=False, speed_xy=speed_xy, speed_z=speed_z)\n",
    "    \n",
    "    def approachToolAtSlot(self, tool_at_slot, speed_xy=None, speed_z=None):\n",
    "        \"\"\"\n",
    "        Moves robot towards the tool, which object is passed in \"tool_at_slot\". \n",
    "        Same as \"approachToolPosition\", but using the object of tool_at_slot class\n",
    "        \"\"\"\n",
    "        x, y, z = tool_at_slot.getCenterCoordinates()\n",
    "        self.move(x, y, z, z_first=False, speed_xy=speed_xy, speed_z=speed_z)\n",
    "    \n",
    "    \n",
    "    def getTool(self, tool, speed_xy=None, speed_z=None):\n",
    "        \"\"\"\n",
    "        Engages with a tool, using tool instance for guidance\n",
    "        \"\"\"\n",
    "        # Make sure docker is open\n",
    "        self.openTool()\n",
    "        x, y, z = tool.getToolCoordinates()\n",
    "        self.approachToolPosition(x, y, z)\n",
    "        \n",
    "        # Attempting to initialize the tool\n",
    "        attempt_successful = self.softInitToolAttempt(tool, total_attempts=2)\n",
    "        if not attempt_successful:\n",
    "            attempt_successful = self.hardInitToolAttempt(tool, total_attempts=3)\n",
    "        if attempt_successful:\n",
    "            # Locking tool\n",
    "            self.closeTool()\n",
    "            # Moving back up\n",
    "            self.move(z=0, speed_z=speed_z)\n",
    "        else:\n",
    "            self.openTool()\n",
    "            print(\"Failed to pickup tool. Program stopped.\")\n",
    "            \n",
    "    \n",
    "    def returnTool(self, tool=None, position_tuple=None, speed_xy=None, speed_z=None):\n",
    "        \"\"\"\n",
    "        Returns tool back on its place.\n",
    "        The place is provided either with tool instance, or simply as position_tuple (x, y, z)\n",
    "        \"\"\"\n",
    "        if tool is not None:\n",
    "            x, y, z = tool.getToolCoordinates()\n",
    "        elif position_tuple is not None:\n",
    "            x = position_tuple[0]\n",
    "            y = position_tuple[1]\n",
    "            z = position_tuple[2]\n",
    "        else:\n",
    "            print (\"Must provide coordinates\")\n",
    "        \n",
    "        self.home()\n",
    "        try:\n",
    "            self.move(x, y, z, z_first=False, speed_xy=speed_xy, speed_z=speed_z)\n",
    "            self.openTool()\n",
    "            self.home()\n",
    "        except:\n",
    "            pass\n",
    "        \n",
    "\n",
    "    def softInitToolAttempt(self, tool, total_attempts=4, wait_time=2, current_attempt=0):\n",
    "        # Attempt to initialize tool several times without robot movement\n",
    "        # Waiting before attempt, so electronics has time to connect\n",
    "        time.sleep(wait_time)\n",
    "        try:\n",
    "            tool.openSerialPort()\n",
    "            attempt_successful=1\n",
    "        except:\n",
    "            print(\"Tool initialization failed, attempting again\")\n",
    "            if total_attempts > current_attempt:\n",
    "                attempt_successful=0\n",
    "                current_attempt += 1\n",
    "                attempt_successful = self.softInitToolAttempt(\n",
    "                    tool=tool,\n",
    "                    total_attempts=total_attempts, \n",
    "                    wait_time=wait_time, \n",
    "                    current_attempt=current_attempt)\n",
    "            else:\n",
    "                attempt_successful = 0\n",
    "                print('Tool initialization failed after '+str(current_attempt)+' attempts')\n",
    "        return attempt_successful\n",
    "    \n",
    "    \n",
    "    def hardInitToolAttempt(self, tool, total_attempts=3, current_attempt=0):\n",
    "        # Attempt to re-connect to the tool. \n",
    "        # To be used after failed initialization\n",
    "        self.openTool()\n",
    "        # Moving Arnie up and down for an attempt to physically reconnect\n",
    "        self.moveDelta(dz=-300)\n",
    "        self.moveDelta(dz=300)\n",
    "        \n",
    "        attempt_successful = self.softInitToolAttempt(tool, total_attempts=1)\n",
    "        if not attempt_successful and total_attempts > current_attempt:\n",
    "            current_attempt += 1\n",
    "            attempt_successful = 0\n",
    "            attempt_successful = self.hardInitToolAttempt(\n",
    "                tool=tool, total_attempts=total_attempts, current_attempt=current_attempt)\n",
    "        elif not attempt_successful and total_attempts <= current_attempt:\n",
    "            print(\"Repeated tool pickup failed after \"+str(current_attempt)+\" attempts\")\n",
    "            attempt_successful = 0\n",
    "        return attempt_successful"
   ]
  },
  {
   "cell_type": "code",
   "execution_count": 5,
   "metadata": {
    "ExecuteTime": {
     "end_time": "2019-09-12T05:12:29.873670Z",
     "start_time": "2019-09-12T05:12:29.853716Z"
    },
    "code_folding": [
     0
    ],
    "collapsed": true
   },
   "outputs": [],
   "source": [
    "class slot():\n",
    "    \"\"\"\n",
    "    Handles a slot on a robot base\n",
    "    \"\"\"\n",
    "    \n",
    "    def __init__(self, x, y, z):\n",
    "        \"\"\"\n",
    "        Initializes with center position of a slot (x, y, z)\n",
    "        \"\"\"\n",
    "        \n",
    "        self.provideCenterCoordinates(x, y, z)\n",
    "\n",
    "        \n",
    "    def provideCenterCoordinates(self, x, y, z):\n",
    "        self.x = x\n",
    "        self.y = y\n",
    "        self.z = z\n",
    "        \n",
    "    def getCenterCoordinates(self):\n",
    "        return self.x, self.y, self.z"
   ]
  },
  {
   "cell_type": "code",
   "execution_count": 6,
   "metadata": {
    "ExecuteTime": {
     "end_time": "2019-09-12T05:12:30.328154Z",
     "start_time": "2019-09-12T05:12:30.317185Z"
    },
    "code_folding": [
     0
    ],
    "collapsed": true
   },
   "outputs": [],
   "source": [
    "class tool_slot(slot):\n",
    "    \"\"\"\n",
    "    Handles a slot for a tool\n",
    "    \"\"\"\n",
    "    \n",
    "    def __init__(self, x, y, z):\n",
    "        super().__init__(x=x, y=x, z=z)\n",
    "        \n",
    "    def defineResponseMessage(self, msg):\n",
    "        self.msg = msg\n",
    "    \n",
    "    def getResponseMessage(self):\n",
    "        return self.msg"
   ]
  },
  {
   "cell_type": "markdown",
   "metadata": {},
   "source": [
    "# tool class definition"
   ]
  },
  {
   "cell_type": "code",
   "execution_count": 7,
   "metadata": {
    "ExecuteTime": {
     "end_time": "2019-09-12T05:12:31.395656Z",
     "start_time": "2019-09-12T05:12:31.385469Z"
    },
    "code_folding": [],
    "collapsed": true
   },
   "outputs": [],
   "source": [
    "class tool(serial_device):\n",
    "    \n",
    "    def __init__ (self, position_tuple, com_port_number, eol=\"\\r\\n\"):\n",
    "        \n",
    "        \"\"\"\n",
    "        To initialize, provide position_tuple in the form (x, y, z). \n",
    "        Those are coordinates at which the tool can be found on a base\n",
    "        \n",
    "        To establish connection with a tool, call openSerialPort()\n",
    "        \n",
    "        To send a command, use write()\n",
    "        \n",
    "        To read all buffer, use readAll()\n",
    "        \"\"\"\n",
    "        \n",
    "        # Tool coordinates\n",
    "        self.x = position_tuple[0]\n",
    "        self.y = position_tuple[1]\n",
    "        self.z = position_tuple[2]\n",
    "        # End of line\n",
    "        self.eol = eol\n",
    "        self.com_port_number = com_port_number\n",
    "    \n",
    "    \n",
    "    def getToolCoordinates(self):\n",
    "        \"\"\"\n",
    "        Returns coordinates at which the tool should be picked up\n",
    "        \"\"\"\n",
    "        return self.x, self.y, self.z  "
   ]
  },
  {
   "cell_type": "code",
   "execution_count": 8,
   "metadata": {
    "ExecuteTime": {
     "end_time": "2019-09-12T05:12:31.878390Z",
     "start_time": "2019-09-12T05:12:31.868419Z"
    },
    "collapsed": true
   },
   "outputs": [],
   "source": [
    "class touch_probe(tool):\n",
    "    def __init__(self, position_tuple, com_port_number):\n",
    "        super().__init__(position_tuple, com_port_number, eol=\"\")\n",
    "    \n",
    "    def isTouched(self):\n",
    "        self.write('d')\n",
    "        response = self.readAll()\n",
    "        return bool(int(re.split(pattern='/r/n', string=response)[0]))"
   ]
  },
  {
   "cell_type": "markdown",
   "metadata": {},
   "source": [
    "# Functions for calibration"
   ]
  },
  {
   "cell_type": "code",
   "execution_count": 9,
   "metadata": {
    "ExecuteTime": {
     "end_time": "2019-09-12T05:12:33.030917Z",
     "start_time": "2019-09-12T05:12:33.024848Z"
    },
    "collapsed": true
   },
   "outputs": [],
   "source": [
    "GenCenter = lambda xmin, xmax: xmin + (xmax - xmin)/2.0"
   ]
  },
  {
   "cell_type": "code",
   "execution_count": 10,
   "metadata": {
    "ExecuteTime": {
     "end_time": "2019-09-12T05:12:33.632783Z",
     "start_time": "2019-09-12T05:12:33.624832Z"
    },
    "collapsed": true
   },
   "outputs": [],
   "source": [
    "GenCenterXYZ = lambda xmin, xmax, ymin, ymax, zmin, zmax: (\n",
    "    GenCenter(xmin, xmax), \n",
    "    GenCenter(ymin, ymax),\n",
    "    GenCenter(zmin, zmax),\n",
    ")"
   ]
  },
  {
   "cell_type": "code",
   "execution_count": 11,
   "metadata": {
    "ExecuteTime": {
     "end_time": "2019-09-12T05:12:34.139181Z",
     "start_time": "2019-09-12T05:12:34.126216Z"
    },
    "collapsed": true
   },
   "outputs": [],
   "source": [
    "def AxisToCoordinates(axis, value, nonetype=False):\n",
    "    \"\"\"\n",
    "    Accepts \"axis\" input as \"x\", \"y\", \"z\" and numerical value.\n",
    "    Returns tuple (x, y, z), where two of the values are 0, other is \"value\"\n",
    "    For example:\n",
    "        AxisToCoordinates('y', 5)\n",
    "    returns\n",
    "        (0, 5, 0)\n",
    "    \"\"\"\n",
    "    axis = axis.lower()\n",
    "    if nonetype:\n",
    "        t = [None, None, None]\n",
    "    else:\n",
    "        t = [0, 0, 0]\n",
    "        \n",
    "    if axis=='x':\n",
    "        t[0] = value\n",
    "    elif axis=='y':\n",
    "        t[1] = value\n",
    "    elif axis=='z':\n",
    "        t[2] = value\n",
    "    else:\n",
    "        print(\"Wrong axis provided: \", axis)\n",
    "        print(\"Provide axis x, y or z\")\n",
    "    return t"
   ]
  },
  {
   "cell_type": "code",
   "execution_count": 12,
   "metadata": {
    "ExecuteTime": {
     "end_time": "2019-09-12T05:12:34.619064Z",
     "start_time": "2019-09-12T05:12:34.605642Z"
    },
    "collapsed": true
   },
   "outputs": [],
   "source": [
    "def ApproachUntilTouch(arnie, touch_probe, axis, step):\n",
    "    \"\"\"\n",
    "    Arnie will move along specified \"axis\" by \"step\"\n",
    "    Provide:\n",
    "        arnie - instance of Arnie object\n",
    "        touch_probe - instance of touch_probe object\n",
    "        axis - string, \"x\", \"y\" or \"z\"\n",
    "        step - distance to move at every step\n",
    "    \"\"\"\n",
    "    \n",
    "    delta_coord = AxisToCoordinates(axis, step)\n",
    "    x, y, z = arnie.getPosition()\n",
    "    \n",
    "    if delta_coord != [0, 0, 0] and delta_coord != [None, None, None]:\n",
    "        while True:\n",
    "            if touch_probe.isTouched():\n",
    "                x, y, z = arnie.getPosition()\n",
    "                # Move backwards by a tiny step to disengage after sensor got engaged\n",
    "                arnie.moveDelta(dx=-delta_coord[0], dy=-delta_coord[1], dz=-delta_coord[2], speed_xy=1000)\n",
    "                break\n",
    "            # ApproachUntilTouchoach forward by a tiny step\n",
    "            arnie.moveDelta(dx=delta_coord[0], dy=delta_coord[1], dz=delta_coord[2], speed_xy=1000)\n",
    "    else:\n",
    "        print (\"Interrupted because wrong axis was provided.\")\n",
    "        \n",
    "    return x, y, z"
   ]
  },
  {
   "cell_type": "code",
   "execution_count": 13,
   "metadata": {
    "ExecuteTime": {
     "end_time": "2019-09-12T05:12:35.203766Z",
     "start_time": "2019-09-12T05:12:35.166868Z"
    },
    "collapsed": true
   },
   "outputs": [],
   "source": [
    "def findCenter(arnie, touch_probe, axis, x, y, z, axis_lift=None, lift_val=None, second_end=None, step=5.0, fine_coef=5.0):\n",
    "    \"\"\"\n",
    "    \"\"\"\n",
    "    \n",
    "    # Moving to initial position\n",
    "    arnie.move(x=x, y=y, z=z, z_first=False)\n",
    "    \n",
    "    # Starting 3 approaches\n",
    "    ApproachUntilTouch(arnie, touch_probe, axis, step)\n",
    "    time.sleep(1)\n",
    "    ApproachUntilTouch(arnie, touch_probe, axis, step/fine_coef)\n",
    "    time.sleep(1)\n",
    "    val_min = ApproachUntilTouch(arnie, touch_probe, axis, step/(fine_coef*fine_coef))\n",
    "    \n",
    "    val_center = val_min\n",
    "    \n",
    "    if axis_lift is not None and lift_val is not None and second_end is not None:\n",
    "        # Lifting up and moving to the second position\n",
    "        # To measure from the other side\n",
    "        lift_coord = AxisToCoordinates(axis_lift, lift_val)\n",
    "        second_end_coord = AxisToCoordinates(axis, second_end, nonetype=True)\n",
    "        arnie.moveDelta(dx=lift_coord[0], dy=lift_coord[1], dz=lift_coord[2])\n",
    "        arnie.move(x=second_end_coord[0], y=second_end_coord[1], z=second_end_coord[2], z_first=False)\n",
    "        arnie.moveDelta(dx=-lift_coord[0], dy=-lift_coord[1], dz=-lift_coord[2])\n",
    "        \n",
    "        ApproachUntilTouch(arnie, touch_probe, axis, -step)\n",
    "        time.sleep(1)\n",
    "        ApproachUntilTouch(arnie, touch_probe, axis, -step/fine_coef)\n",
    "        time.sleep(1)\n",
    "        val_max = ApproachUntilTouch(arnie, touch_probe, axis, -step/(fine_coef*fine_coef))\n",
    "        \n",
    "        val_center = GenCenterXYZ(val_min[0], val_max[0], val_min[1], val_max[1], val_min[2], val_max[2])\n",
    "    \n",
    "    return val_center"
   ]
  },
  {
   "cell_type": "code",
   "execution_count": 14,
   "metadata": {
    "ExecuteTime": {
     "end_time": "2019-09-12T05:12:35.633808Z",
     "start_time": "2019-09-12T05:12:35.624832Z"
    },
    "collapsed": true
   },
   "outputs": [],
   "source": [
    "def findXY(arnie, touch_probe, x1, y1, z, z_lift, x2, y2):\n",
    "    xmin, xmax = findCenter(arnie, touch_probe, 'x', x1, y1, z, axis_lift='z', lift_val=z_lift, second_end=x2)\n",
    "    ymin, ymax = findCenter(arnie, touch_probe, 'y', x1, y1, z, axis_lift='z', lift_val=z_lift, second_end=y2)\n",
    "    return xmin, xmax, ymin, ymax"
   ]
  },
  {
   "cell_type": "code",
   "execution_count": 15,
   "metadata": {
    "ExecuteTime": {
     "end_time": "2019-09-12T05:12:36.078868Z",
     "start_time": "2019-09-12T05:12:36.075603Z"
    },
    "collapsed": true
   },
   "outputs": [],
   "source": [
    "def findZ(arnie, touch_probe, x, y, z):\n",
    "    return findCenter(arnie, touch_probe, 'z', x, y, z)[0]"
   ]
  },
  {
   "cell_type": "markdown",
   "metadata": {
    "ExecuteTime": {
     "end_time": "2019-09-10T07:29:44.266585Z",
     "start_time": "2019-09-10T07:29:44.258612Z"
    }
   },
   "source": [
    "# Initializing Arnie"
   ]
  },
  {
   "cell_type": "code",
   "execution_count": 16,
   "metadata": {
    "ExecuteTime": {
     "end_time": "2019-09-12T05:12:51.918592Z",
     "start_time": "2019-09-12T05:12:51.914603Z"
    },
    "collapsed": true
   },
   "outputs": [],
   "source": [
    "try:\n",
    "    a.close()\n",
    "except:\n",
    "    pass"
   ]
  },
  {
   "cell_type": "code",
   "execution_count": 17,
   "metadata": {
    "ExecuteTime": {
     "end_time": "2019-09-12T05:12:54.055978Z",
     "start_time": "2019-09-12T05:12:53.595368Z"
    }
   },
   "outputs": [
    {
     "data": {
      "text/plain": [
       "['COM3', 'COM18']"
      ]
     },
     "execution_count": 17,
     "metadata": {},
     "output_type": "execute_result"
    }
   ],
   "source": [
    "serial_ports()"
   ]
  },
  {
   "cell_type": "code",
   "execution_count": 18,
   "metadata": {
    "ExecuteTime": {
     "end_time": "2019-09-12T05:13:05.723791Z",
     "start_time": "2019-09-12T05:13:05.715808Z"
    },
    "collapsed": true
   },
   "outputs": [],
   "source": [
    "a = arnie(18)"
   ]
  },
  {
   "cell_type": "code",
   "execution_count": 19,
   "metadata": {
    "ExecuteTime": {
     "end_time": "2019-09-12T05:13:40.283760Z",
     "start_time": "2019-09-12T05:13:07.415144Z"
    },
    "collapsed": true
   },
   "outputs": [],
   "source": [
    "a.home()"
   ]
  },
  {
   "cell_type": "code",
   "execution_count": null,
   "metadata": {
    "collapsed": true
   },
   "outputs": [],
   "source": [
    "a.openTool()"
   ]
  },
  {
   "cell_type": "code",
   "execution_count": null,
   "metadata": {
    "collapsed": true
   },
   "outputs": [],
   "source": [
    "#a.closeTool()"
   ]
  },
  {
   "cell_type": "code",
   "execution_count": null,
   "metadata": {
    "collapsed": true
   },
   "outputs": [],
   "source": [
    "a.getPosition()"
   ]
  },
  {
   "cell_type": "markdown",
   "metadata": {},
   "source": [
    "# Approaching calibration tool"
   ]
  },
  {
   "cell_type": "code",
   "execution_count": null,
   "metadata": {
    "collapsed": true
   },
   "outputs": [],
   "source": [
    "# This is the position at which tool may be locked\n",
    "a.move(x=350, y=237, z=5765, z_first=False)"
   ]
  },
  {
   "cell_type": "code",
   "execution_count": null,
   "metadata": {
    "collapsed": true
   },
   "outputs": [],
   "source": [
    "a.move(x=350, y=237, z=5000, z_first=True)"
   ]
  },
  {
   "cell_type": "code",
   "execution_count": null,
   "metadata": {
    "collapsed": true
   },
   "outputs": [],
   "source": [
    "a.getPosition()"
   ]
  },
  {
   "cell_type": "markdown",
   "metadata": {},
   "source": [
    "### Test: Arduino Mega crashes when releasing the tool; connecting and releasing hundred times"
   ]
  },
  {
   "cell_type": "code",
   "execution_count": null,
   "metadata": {
    "collapsed": true
   },
   "outputs": [],
   "source": [
    "# Previous results befor crash (cycles): 3, 5, 100"
   ]
  },
  {
   "cell_type": "code",
   "execution_count": null,
   "metadata": {
    "collapsed": true
   },
   "outputs": [],
   "source": [
    "for i in range(100):\n",
    "    a.move(x=352, y=237, z=5765, z_first=False)\n",
    "    time.sleep(4)\n",
    "    a.move(x=352, y=237, z=5000, z_first=True)\n",
    "    print (\"Step, \", i, \"device returned position: \", a.getPosition())"
   ]
  },
  {
   "cell_type": "markdown",
   "metadata": {},
   "source": [
    "### Test: Manually lifting tool up and down using raw G-code"
   ]
  },
  {
   "cell_type": "code",
   "execution_count": null,
   "metadata": {
    "collapsed": true
   },
   "outputs": [],
   "source": [
    "a.write(\"G0 X350 Y237 F15000\")"
   ]
  },
  {
   "cell_type": "code",
   "execution_count": null,
   "metadata": {
    "collapsed": true
   },
   "outputs": [],
   "source": [
    "# Wait until the end of execution of previous command before running this one\n",
    "a.readAll()"
   ]
  },
  {
   "cell_type": "code",
   "execution_count": null,
   "metadata": {
    "collapsed": true
   },
   "outputs": [],
   "source": [
    "# Wait until the end of execution of previous command before running this one\n",
    "a.readAll()"
   ]
  },
  {
   "cell_type": "code",
   "execution_count": null,
   "metadata": {
    "collapsed": true
   },
   "outputs": [],
   "source": [
    "a.write(\"G0 Z5000 F15000\")"
   ]
  },
  {
   "cell_type": "code",
   "execution_count": null,
   "metadata": {
    "collapsed": true
   },
   "outputs": [],
   "source": [
    "a.readAll()"
   ]
  },
  {
   "cell_type": "markdown",
   "metadata": {},
   "source": [
    "## Testing \"approach\" functions"
   ]
  },
  {
   "cell_type": "code",
   "execution_count": null,
   "metadata": {
    "collapsed": true
   },
   "outputs": [],
   "source": [
    "#caltool = tool_slot(x=350, y=237, z=5765)"
   ]
  },
  {
   "cell_type": "code",
   "execution_count": null,
   "metadata": {
    "collapsed": true
   },
   "outputs": [],
   "source": [
    "a.approachToolPosition(x=350, y=237, z=5765) # works"
   ]
  },
  {
   "cell_type": "markdown",
   "metadata": {},
   "source": [
    "### Testing tool pick up and return"
   ]
  },
  {
   "cell_type": "code",
   "execution_count": null,
   "metadata": {
    "collapsed": true
   },
   "outputs": [],
   "source": [
    "ct = tool(position_tuple=(350, 237, 5765), com_port_number=3, eol='')"
   ]
  },
  {
   "cell_type": "code",
   "execution_count": null,
   "metadata": {
    "collapsed": true
   },
   "outputs": [],
   "source": [
    "a.home()"
   ]
  },
  {
   "cell_type": "code",
   "execution_count": null,
   "metadata": {
    "collapsed": true
   },
   "outputs": [],
   "source": [
    "a.getTool(ct)"
   ]
  },
  {
   "cell_type": "code",
   "execution_count": null,
   "metadata": {
    "collapsed": true
   },
   "outputs": [],
   "source": [
    "a.returnTool(ct)"
   ]
  },
  {
   "cell_type": "code",
   "execution_count": null,
   "metadata": {
    "collapsed": true
   },
   "outputs": [],
   "source": [
    "ct.close()"
   ]
  },
  {
   "cell_type": "markdown",
   "metadata": {},
   "source": [
    "# Tool pick up and return, but using tocuchprobe class"
   ]
  },
  {
   "cell_type": "code",
   "execution_count": 20,
   "metadata": {
    "ExecuteTime": {
     "end_time": "2019-09-12T05:15:32.872648Z",
     "start_time": "2019-09-12T05:15:32.867071Z"
    },
    "collapsed": true
   },
   "outputs": [],
   "source": [
    "tp = touch_probe(position_tuple=(350, 237, 5765), com_port_number=3)"
   ]
  },
  {
   "cell_type": "code",
   "execution_count": 21,
   "metadata": {
    "ExecuteTime": {
     "end_time": "2019-09-12T05:15:33.842496Z",
     "start_time": "2019-09-12T05:15:33.835489Z"
    },
    "collapsed": true
   },
   "outputs": [],
   "source": [
    "# Checking if tool is already connected\n",
    "try:\n",
    "    tp.openSerialPort()\n",
    "except:\n",
    "    pass"
   ]
  },
  {
   "cell_type": "code",
   "execution_count": 22,
   "metadata": {
    "ExecuteTime": {
     "end_time": "2019-09-12T05:15:38.887697Z",
     "start_time": "2019-09-12T05:15:35.806170Z"
    },
    "collapsed": true
   },
   "outputs": [],
   "source": [
    "a.home()"
   ]
  },
  {
   "cell_type": "code",
   "execution_count": null,
   "metadata": {
    "ExecuteTime": {
     "end_time": "2019-09-10T18:48:30.636816Z",
     "start_time": "2019-09-10T18:47:32.677704Z"
    },
    "collapsed": true
   },
   "outputs": [],
   "source": [
    "a.getTool(tp)"
   ]
  },
  {
   "cell_type": "code",
   "execution_count": 23,
   "metadata": {
    "ExecuteTime": {
     "end_time": "2019-09-12T05:15:44.364176Z",
     "start_time": "2019-09-12T05:15:44.256463Z"
    }
   },
   "outputs": [
    {
     "data": {
      "text/plain": [
       "False"
      ]
     },
     "execution_count": 23,
     "metadata": {},
     "output_type": "execute_result"
    }
   ],
   "source": [
    "tp.isTouched()"
   ]
  },
  {
   "cell_type": "code",
   "execution_count": 26,
   "metadata": {
    "ExecuteTime": {
     "end_time": "2019-09-12T09:00:21.063708Z",
     "start_time": "2019-09-12T08:59:15.776480Z"
    },
    "collapsed": true
   },
   "outputs": [],
   "source": [
    "a.returnTool(tp)"
   ]
  },
  {
   "cell_type": "code",
   "execution_count": null,
   "metadata": {
    "collapsed": true
   },
   "outputs": [],
   "source": [
    "tp.close()"
   ]
  },
  {
   "cell_type": "markdown",
   "metadata": {},
   "source": [
    "## Testing communication with a tool"
   ]
  },
  {
   "cell_type": "code",
   "execution_count": null,
   "metadata": {
    "collapsed": true
   },
   "outputs": [],
   "source": [
    "caltool = tool((350, 237, 5765), eol='')"
   ]
  },
  {
   "cell_type": "code",
   "execution_count": null,
   "metadata": {
    "collapsed": true
   },
   "outputs": [],
   "source": [
    "serial_ports()"
   ]
  },
  {
   "cell_type": "code",
   "execution_count": null,
   "metadata": {
    "collapsed": true
   },
   "outputs": [],
   "source": [
    "caltool.openSerialPort(com_port_number=3)"
   ]
  },
  {
   "cell_type": "code",
   "execution_count": null,
   "metadata": {
    "collapsed": true
   },
   "outputs": [],
   "source": [
    "caltool.write('d')"
   ]
  },
  {
   "cell_type": "code",
   "execution_count": null,
   "metadata": {
    "collapsed": true
   },
   "outputs": [],
   "source": [
    "caltool.readAll()"
   ]
  },
  {
   "cell_type": "code",
   "execution_count": null,
   "metadata": {
    "collapsed": true
   },
   "outputs": [],
   "source": [
    "caltool.close()"
   ]
  },
  {
   "cell_type": "code",
   "execution_count": null,
   "metadata": {
    "collapsed": true
   },
   "outputs": [],
   "source": []
  },
  {
   "cell_type": "code",
   "execution_count": null,
   "metadata": {
    "collapsed": true
   },
   "outputs": [],
   "source": []
  },
  {
   "cell_type": "code",
   "execution_count": null,
   "metadata": {
    "collapsed": true
   },
   "outputs": [],
   "source": [
    "msg = a.writeAndWait(\"M114\")"
   ]
  },
  {
   "cell_type": "code",
   "execution_count": null,
   "metadata": {
    "collapsed": true
   },
   "outputs": [],
   "source": [
    "msg_list = re.split(pattern=' ', string=msg)"
   ]
  },
  {
   "cell_type": "code",
   "execution_count": null,
   "metadata": {
    "collapsed": true
   },
   "outputs": [],
   "source": [
    "re.split(pattern=\"\\:\", string=msg_list[0])[1]"
   ]
  },
  {
   "cell_type": "code",
   "execution_count": null,
   "metadata": {
    "collapsed": true
   },
   "outputs": [],
   "source": []
  },
  {
   "cell_type": "code",
   "execution_count": 23,
   "metadata": {
    "ExecuteTime": {
     "end_time": "2019-09-11T08:24:33.625068Z",
     "start_time": "2019-09-11T08:24:32.138540Z"
    },
    "collapsed": true
   },
   "outputs": [],
   "source": [
    "a.moveXY(x=200, y=200)"
   ]
  },
  {
   "cell_type": "code",
   "execution_count": null,
   "metadata": {
    "collapsed": true
   },
   "outputs": [],
   "source": [
    "a.moveXY(x=0, y=0)"
   ]
  },
  {
   "cell_type": "code",
   "execution_count": 26,
   "metadata": {
    "ExecuteTime": {
     "end_time": "2019-09-11T08:24:52.838849Z",
     "start_time": "2019-09-11T08:24:48.349463Z"
    },
    "collapsed": true
   },
   "outputs": [],
   "source": [
    "a.moveZ(1000)"
   ]
  },
  {
   "cell_type": "code",
   "execution_count": 25,
   "metadata": {
    "ExecuteTime": {
     "end_time": "2019-09-11T08:24:47.589785Z",
     "start_time": "2019-09-11T08:24:43.088671Z"
    },
    "collapsed": true
   },
   "outputs": [],
   "source": [
    "a.moveZ(0)"
   ]
  },
  {
   "cell_type": "code",
   "execution_count": 27,
   "metadata": {
    "ExecuteTime": {
     "end_time": "2019-09-11T08:24:53.883933Z",
     "start_time": "2019-09-11T08:24:53.872963Z"
    },
    "collapsed": true
   },
   "outputs": [],
   "source": [
    "a.move(x=200, y=200)"
   ]
  },
  {
   "cell_type": "code",
   "execution_count": 29,
   "metadata": {
    "ExecuteTime": {
     "end_time": "2019-09-11T08:25:13.837756Z",
     "start_time": "2019-09-11T08:25:12.597186Z"
    },
    "collapsed": true
   },
   "outputs": [],
   "source": [
    "a.move(y=400)"
   ]
  },
  {
   "cell_type": "code",
   "execution_count": null,
   "metadata": {
    "collapsed": true
   },
   "outputs": [],
   "source": []
  },
  {
   "cell_type": "code",
   "execution_count": null,
   "metadata": {
    "collapsed": true
   },
   "outputs": [],
   "source": [
    "a.move(x=0, y=0)"
   ]
  },
  {
   "cell_type": "code",
   "execution_count": null,
   "metadata": {
    "collapsed": true
   },
   "outputs": [],
   "source": [
    "a.move(z=200)\n",
    "a.move(z=0)"
   ]
  },
  {
   "cell_type": "code",
   "execution_count": null,
   "metadata": {
    "collapsed": true
   },
   "outputs": [],
   "source": [
    "a.move(x=200, y=200, z=1000, z_first=False)\n",
    "a.move(x=0, y=0, z=0)"
   ]
  },
  {
   "cell_type": "code",
   "execution_count": null,
   "metadata": {
    "collapsed": true
   },
   "outputs": [],
   "source": [
    "a.move(x=200, z=1000, z_first=False)\n",
    "a.move(x=0, y=0, z=0)"
   ]
  },
  {
   "cell_type": "code",
   "execution_count": null,
   "metadata": {
    "collapsed": true
   },
   "outputs": [],
   "source": [
    "a.move(y=200, z=1000, z_first=False)\n",
    "a.move(x=0, y=0, z=0)"
   ]
  },
  {
   "cell_type": "markdown",
   "metadata": {
    "collapsed": true
   },
   "source": [
    "### Testing center finding"
   ]
  },
  {
   "cell_type": "code",
   "execution_count": null,
   "metadata": {
    "ExecuteTime": {
     "end_time": "2019-09-10T18:40:50.254941Z",
     "start_time": "2019-09-10T18:40:50.246991Z"
    },
    "collapsed": true
   },
   "outputs": [],
   "source": [
    "GenCenter(100, 200)"
   ]
  },
  {
   "cell_type": "code",
   "execution_count": null,
   "metadata": {
    "ExecuteTime": {
     "end_time": "2019-09-10T18:40:53.034849Z",
     "start_time": "2019-09-10T18:40:53.026866Z"
    },
    "collapsed": true
   },
   "outputs": [],
   "source": [
    "GenCenterXYZ(50, 75, 100, 200, 3000, 4578)"
   ]
  },
  {
   "cell_type": "markdown",
   "metadata": {},
   "source": [
    "## AxisToCoordinates"
   ]
  },
  {
   "cell_type": "code",
   "execution_count": null,
   "metadata": {
    "ExecuteTime": {
     "end_time": "2019-09-10T19:21:02.990394Z",
     "start_time": "2019-09-10T19:21:02.983920Z"
    },
    "collapsed": true
   },
   "outputs": [],
   "source": [
    "AxisToCoordinates('x', 500)"
   ]
  },
  {
   "cell_type": "code",
   "execution_count": null,
   "metadata": {
    "ExecuteTime": {
     "end_time": "2019-09-10T19:21:04.079987Z",
     "start_time": "2019-09-10T19:21:04.073006Z"
    },
    "collapsed": true
   },
   "outputs": [],
   "source": [
    "AxisToCoordinates('y', 500)"
   ]
  },
  {
   "cell_type": "code",
   "execution_count": null,
   "metadata": {
    "ExecuteTime": {
     "end_time": "2019-09-10T19:21:04.930092Z",
     "start_time": "2019-09-10T19:21:04.923111Z"
    },
    "collapsed": true
   },
   "outputs": [],
   "source": [
    "AxisToCoordinates('z', 500)"
   ]
  },
  {
   "cell_type": "code",
   "execution_count": null,
   "metadata": {
    "ExecuteTime": {
     "end_time": "2019-09-10T19:21:05.722683Z",
     "start_time": "2019-09-10T19:21:05.713712Z"
    },
    "collapsed": true
   },
   "outputs": [],
   "source": [
    "AxisToCoordinates('abc', 500)"
   ]
  },
  {
   "cell_type": "code",
   "execution_count": null,
   "metadata": {
    "ExecuteTime": {
     "end_time": "2019-09-10T19:21:09.608955Z",
     "start_time": "2019-09-10T19:21:09.602976Z"
    },
    "collapsed": true
   },
   "outputs": [],
   "source": [
    "AxisToCoordinates('x', 500, True)"
   ]
  },
  {
   "cell_type": "markdown",
   "metadata": {},
   "source": [
    "## ApproachUntilTouch"
   ]
  },
  {
   "cell_type": "code",
   "execution_count": null,
   "metadata": {
    "ExecuteTime": {
     "end_time": "2019-09-10T19:20:53.388048Z",
     "start_time": "2019-09-10T19:20:41.365030Z"
    },
    "collapsed": true
   },
   "outputs": [],
   "source": [
    "ApproachUntilTouch(a, tp, 'x', 5)"
   ]
  },
  {
   "cell_type": "code",
   "execution_count": null,
   "metadata": {
    "ExecuteTime": {
     "end_time": "2019-09-10T18:59:01.043397Z",
     "start_time": "2019-09-10T18:58:56.605737Z"
    },
    "collapsed": true
   },
   "outputs": [],
   "source": [
    "ApproachUntilTouch(a, tp, 'y', 5)"
   ]
  },
  {
   "cell_type": "code",
   "execution_count": null,
   "metadata": {
    "ExecuteTime": {
     "end_time": "2019-09-10T18:59:16.304798Z",
     "start_time": "2019-09-10T18:59:12.955042Z"
    },
    "collapsed": true
   },
   "outputs": [],
   "source": [
    "ApproachUntilTouch(a, tp, 'z', 5)"
   ]
  },
  {
   "cell_type": "code",
   "execution_count": null,
   "metadata": {
    "ExecuteTime": {
     "end_time": "2019-09-10T19:05:04.972245Z",
     "start_time": "2019-09-10T19:05:04.954291Z"
    },
    "collapsed": true
   },
   "outputs": [],
   "source": [
    "ApproachUntilTouch(a, tp, 'abc', 5)"
   ]
  },
  {
   "cell_type": "markdown",
   "metadata": {
    "ExecuteTime": {
     "end_time": "2019-09-10T19:06:15.776654Z",
     "start_time": "2019-09-10T19:06:15.771668Z"
    }
   },
   "source": [
    "## findCenter"
   ]
  },
  {
   "cell_type": "code",
   "execution_count": 24,
   "metadata": {
    "ExecuteTime": {
     "end_time": "2019-09-12T05:16:25.870642Z",
     "start_time": "2019-09-12T05:16:01.725638Z"
    },
    "collapsed": true
   },
   "outputs": [],
   "source": [
    "a.move(z=5900)"
   ]
  },
  {
   "cell_type": "code",
   "execution_count": 25,
   "metadata": {
    "ExecuteTime": {
     "end_time": "2019-09-12T08:59:04.306295Z",
     "start_time": "2019-09-12T08:58:31.778407Z"
    },
    "collapsed": true
   },
   "outputs": [],
   "source": [
    "a.home()"
   ]
  },
  {
   "cell_type": "code",
   "execution_count": null,
   "metadata": {
    "ExecuteTime": {
     "end_time": "2019-09-10T19:26:00.405532Z",
     "start_time": "2019-09-10T19:25:28.454794Z"
    },
    "collapsed": true
   },
   "outputs": [],
   "source": [
    "findCenter(a, tp, 'z', 20, 20, 5950, step=20.0, fine_coef = 20.0)"
   ]
  },
  {
   "cell_type": "code",
   "execution_count": null,
   "metadata": {
    "ExecuteTime": {
     "end_time": "2019-09-10T19:26:27.234878Z",
     "start_time": "2019-09-10T19:26:09.313702Z"
    },
    "collapsed": true
   },
   "outputs": [],
   "source": [
    "findCenter(a, tp, 'x', 50, 60, 5950, step=10.0, fine_coef=10.0)"
   ]
  },
  {
   "cell_type": "code",
   "execution_count": null,
   "metadata": {
    "ExecuteTime": {
     "end_time": "2019-09-10T19:26:43.660823Z",
     "start_time": "2019-09-10T19:26:31.913966Z"
    },
    "collapsed": true
   },
   "outputs": [],
   "source": [
    "findCenter(a, tp, 'y', 50, 60, 5950, step=10.0, fine_coef=10.0)"
   ]
  },
  {
   "cell_type": "code",
   "execution_count": 34,
   "metadata": {
    "ExecuteTime": {
     "end_time": "2019-09-10T19:50:46.004603Z",
     "start_time": "2019-09-10T19:50:44.414537Z"
    },
    "collapsed": true
   },
   "outputs": [],
   "source": [
    "a.moveDelta(50, -300, 0)"
   ]
  },
  {
   "cell_type": "code",
   "execution_count": 40,
   "metadata": {
    "ExecuteTime": {
     "end_time": "2019-09-10T19:51:21.470659Z",
     "start_time": "2019-09-10T19:51:20.576487Z"
    },
    "collapsed": true
   },
   "outputs": [],
   "source": [
    "a.moveDelta(0, 0, -100)"
   ]
  },
  {
   "cell_type": "code",
   "execution_count": 37,
   "metadata": {
    "ExecuteTime": {
     "end_time": "2019-09-11T08:41:27.168523Z",
     "start_time": "2019-09-11T08:40:54.767824Z"
    }
   },
   "outputs": [
    {
     "data": {
      "text/plain": [
       "(50.0, 235.05, 5950.0)"
      ]
     },
     "execution_count": 37,
     "metadata": {},
     "output_type": "execute_result"
    }
   ],
   "source": [
    "findCenter(a, tp, 'y', 50, 60, 5950, axis_lift='z', lift_val=-900, second_end=350, step=10.0, fine_coef=10.0)"
   ]
  },
  {
   "cell_type": "code",
   "execution_count": 38,
   "metadata": {
    "ExecuteTime": {
     "end_time": "2019-09-11T08:41:47.463116Z",
     "start_time": "2019-09-11T08:41:43.173687Z"
    },
    "collapsed": true
   },
   "outputs": [],
   "source": [
    "a.move(z=5000)"
   ]
  },
  {
   "cell_type": "code",
   "execution_count": 48,
   "metadata": {
    "ExecuteTime": {
     "end_time": "2019-09-11T08:43:50.749172Z",
     "start_time": "2019-09-11T08:43:49.860567Z"
    },
    "collapsed": true
   },
   "outputs": [],
   "source": [
    "a.move(0, 235.05, 5600)"
   ]
  },
  {
   "cell_type": "code",
   "execution_count": 49,
   "metadata": {
    "ExecuteTime": {
     "end_time": "2019-09-11T08:45:11.994358Z",
     "start_time": "2019-09-11T08:44:52.111851Z"
    }
   },
   "outputs": [
    {
     "data": {
      "text/plain": [
       "(53.5, 235.05, 5600.0)"
      ]
     },
     "execution_count": 49,
     "metadata": {},
     "output_type": "execute_result"
    }
   ],
   "source": [
    "findCenter(a, tp, 'x', 0, 235.05, 5600, axis_lift='z', lift_val=-300, second_end=130, step=10.0, fine_coef=10.0)"
   ]
  },
  {
   "cell_type": "code",
   "execution_count": 50,
   "metadata": {
    "ExecuteTime": {
     "end_time": "2019-09-11T08:45:34.588269Z",
     "start_time": "2019-09-11T08:45:31.698345Z"
    },
    "collapsed": true
   },
   "outputs": [],
   "source": [
    "a.move(z=5000)"
   ]
  },
  {
   "cell_type": "code",
   "execution_count": 51,
   "metadata": {
    "ExecuteTime": {
     "end_time": "2019-09-11T08:45:45.160705Z",
     "start_time": "2019-09-11T08:45:44.578153Z"
    },
    "collapsed": true
   },
   "outputs": [],
   "source": [
    "a.move(53.5, 235.05, 5000)"
   ]
  },
  {
   "cell_type": "code",
   "execution_count": 52,
   "metadata": {
    "ExecuteTime": {
     "end_time": "2019-09-11T08:46:41.364644Z",
     "start_time": "2019-09-11T08:46:21.751137Z"
    }
   },
   "outputs": [
    {
     "data": {
      "text/plain": [
       "(53.5, 235.05, 5530.45)"
      ]
     },
     "execution_count": 52,
     "metadata": {},
     "output_type": "execute_result"
    }
   ],
   "source": [
    "findCenter(a, tp, 'z', 53.5, 235.05, 5000, step=20.0, fine_coef = 20.0)"
   ]
  },
  {
   "cell_type": "code",
   "execution_count": null,
   "metadata": {
    "collapsed": true
   },
   "outputs": [],
   "source": []
  },
  {
   "cell_type": "code",
   "execution_count": 51,
   "metadata": {
    "ExecuteTime": {
     "end_time": "2019-09-10T19:59:53.272961Z",
     "start_time": "2019-09-10T19:59:50.962368Z"
    },
    "collapsed": true
   },
   "outputs": [],
   "source": [
    "a.move(50, 50, 50)"
   ]
  },
  {
   "cell_type": "code",
   "execution_count": 46,
   "metadata": {
    "ExecuteTime": {
     "end_time": "2019-09-10T19:56:36.983623Z",
     "start_time": "2019-09-10T19:56:34.361358Z"
    },
    "collapsed": true
   },
   "outputs": [],
   "source": [
    "a.move(None, 500, None)"
   ]
  },
  {
   "cell_type": "code",
   "execution_count": 50,
   "metadata": {
    "ExecuteTime": {
     "end_time": "2019-09-10T19:59:38.418544Z",
     "start_time": "2019-09-10T19:59:36.106888Z"
    },
    "collapsed": true
   },
   "outputs": [],
   "source": [
    "a.move(x=None, y=400, z=None)"
   ]
  },
  {
   "cell_type": "code",
   "execution_count": 53,
   "metadata": {
    "ExecuteTime": {
     "end_time": "2019-09-10T20:00:35.162298Z",
     "start_time": "2019-09-10T20:00:32.371963Z"
    },
    "collapsed": true
   },
   "outputs": [],
   "source": [
    "a.move(x=500)"
   ]
  },
  {
   "cell_type": "code",
   "execution_count": 54,
   "metadata": {
    "ExecuteTime": {
     "end_time": "2019-09-10T20:01:25.144807Z",
     "start_time": "2019-09-10T20:01:22.983109Z"
    },
    "collapsed": true
   },
   "outputs": [],
   "source": [
    "a.move(x=None, y=None, z=None)"
   ]
  },
  {
   "cell_type": "code",
   "execution_count": null,
   "metadata": {
    "collapsed": true
   },
   "outputs": [],
   "source": [
    "findZ(arnie=a, touch_probe=tp, xmeas=20, ymeas=20, zstart=5000)"
   ]
  },
  {
   "cell_type": "code",
   "execution_count": null,
   "metadata": {
    "collapsed": true
   },
   "outputs": [],
   "source": [
    "a.getPosition()"
   ]
  },
  {
   "cell_type": "code",
   "execution_count": null,
   "metadata": {
    "collapsed": true
   },
   "outputs": [],
   "source": [
    "a.move(x=50, y=60, z=5900)"
   ]
  },
  {
   "cell_type": "code",
   "execution_count": null,
   "metadata": {
    "collapsed": true
   },
   "outputs": [],
   "source": [
    "a.move(x=50, y=350, z=5000)"
   ]
  },
  {
   "cell_type": "code",
   "execution_count": null,
   "metadata": {
    "collapsed": true
   },
   "outputs": [],
   "source": [
    "findZ(arnie=a, touch_probe=tp, xmeas=50, ymeas=350, zstart=5000)"
   ]
  },
  {
   "cell_type": "code",
   "execution_count": null,
   "metadata": {
    "collapsed": true
   },
   "outputs": [],
   "source": [
    "findCenterY(arnie=a, touch_probe=tp, xmeas=50, ystart=60, yend=360, zmeas=5950, zlift=800)"
   ]
  },
  {
   "cell_type": "code",
   "execution_count": null,
   "metadata": {
    "collapsed": true
   },
   "outputs": [],
   "source": []
  }
 ],
 "metadata": {
  "kernelspec": {
   "display_name": "Python [conda root]",
   "language": "python",
   "name": "conda-root-py"
  },
  "language_info": {
   "codemirror_mode": {
    "name": "ipython",
    "version": 3
   },
   "file_extension": ".py",
   "mimetype": "text/x-python",
   "name": "python",
   "nbconvert_exporter": "python",
   "pygments_lexer": "ipython3",
   "version": "3.5.3"
  },
  "toc": {
   "base_numbering": 1,
   "nav_menu": {},
   "number_sections": true,
   "sideBar": true,
   "skip_h1_title": false,
   "title_cell": "Table of Contents",
   "title_sidebar": "Contents",
   "toc_cell": false,
   "toc_position": {
    "height": "calc(100% - 180px)",
    "left": "10px",
    "top": "150px",
    "width": "300px"
   },
   "toc_section_display": true,
   "toc_window_display": true
  }
 },
 "nbformat": 4,
 "nbformat_minor": 2
}
