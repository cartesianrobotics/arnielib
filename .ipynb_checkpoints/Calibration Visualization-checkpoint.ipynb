{
 "cells": [
  {
   "cell_type": "code",
   "execution_count": 35,
   "metadata": {},
   "outputs": [
    {
     "data": {
      "image/png": "[encoded data removed]",
      "text/plain": [
       "<Figure size 432x288 with 1 Axes>"
      ]
     },
     "metadata": {
      "needs_background": "light"
     },
     "output_type": "display_data"
    }
   ],
   "source": [
    "import json\n",
    "from matplotlib import pyplot\n",
    "import numpy\n",
    "\n",
    "\n",
    "file = open(\"floor.json\", \"r\")\n",
    "contents = file.read()\n",
    "file.close()\n",
    "\n",
    "slots = json.loads(contents)[\"slots\"]\n",
    "\n",
    "points = []\n",
    "lts = []\n",
    "rts = []\n",
    "lbs = []\n",
    "rbs = []\n",
    "\n",
    "def rearrange_array(arr):\n",
    "    xs = []\n",
    "    ys = []\n",
    "    \n",
    "    for point in arr:\n",
    "        xs.append(point[0])\n",
    "        ys.append(point[1])\n",
    "    \n",
    "    return xs, ys\n",
    "\n",
    "for rc in slots:\n",
    "    for slot in rc:\n",
    "        lts.append(slot[\"LT\"])\n",
    "        lbs.append(slot[\"LB\"])\n",
    "        rts.append(slot[\"RT\"])\n",
    "        rbs.append(slot[\"RB\"])\n",
    "\n",
    "        points.append(slot[\"LT\"])\n",
    "        points.append(slot[\"LB\"])\n",
    "        points.append(slot[\"RT\"])\n",
    "        points.append(slot[\"RB\"])\n",
    "\n",
    "#n = 1\n",
    "#lts = lts[:n]\n",
    "#rts = rts[:n]\n",
    "#lbs = lbs[:n]\n",
    "#rbs = rbs[:n]\n",
    "        \n",
    "xs, ys = rearrange_array(lts)\n",
    "figure2 = pyplot.scatter(xs, ys, c=\"#ff0000\")\n",
    "\n",
    "xs, ys = rearrange_array(rts)\n",
    "figure3 = pyplot.scatter(xs, ys, c=\"#00ff00\")\n",
    "\n",
    "xs, ys = rearrange_array(lbs)\n",
    "figure4 = pyplot.scatter(xs, ys, c=\"#0000ff\")\n",
    "\n",
    "xs, ys = rearrange_array(rbs)\n",
    "figure5 = pyplot.scatter(xs, ys, c=\"#ff00ff\")\n",
    "\n",
    "pyplot.show(figure2)"
   ]
  },
  {
   "cell_type": "code",
   "execution_count": 17,
   "metadata": {},
   "outputs": [
    {
     "data": {
      "image/png": "[encoded data removed]",
      "text/plain": [
       "<Figure size 432x288 with 1 Axes>"
      ]
     },
     "metadata": {
      "needs_background": "light"
     },
     "output_type": "display_data"
    }
   ],
   "source": [
    "\n",
    "xs, ys = rearrange_array(points)\n",
    "figure1 = pyplot.scatter(xs, ys)\n"
   ]
  },
  {
   "cell_type": "code",
   "execution_count": null,
   "metadata": {},
   "outputs": [],
   "source": []
  }
 ],
 "metadata": {
  "kernelspec": {
   "display_name": "Python 3",
   "language": "python",
   "name": "python3"
  },
  "language_info": {
   "codemirror_mode": {
    "name": "ipython",
    "version": 3
   },
   "file_extension": ".py",
   "mimetype": "text/x-python",
   "name": "python",
   "nbconvert_exporter": "python",
   "pygments_lexer": "ipython3",
   "version": "3.7.4"
  }
 },
 "nbformat": 4,
 "nbformat_minor": 2
}
