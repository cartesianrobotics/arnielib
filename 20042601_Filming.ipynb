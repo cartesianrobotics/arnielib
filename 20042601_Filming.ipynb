{
 "cells": [
  {
   "cell_type": "code",
   "execution_count": 1,
   "metadata": {},
   "outputs": [],
   "source": [
    "import tools\n",
    "import param\n",
    "import cartesian\n",
    "import racks\n",
    "import calibration\n",
    "import samples\n",
    "import json\n",
    "import importlib\n",
    "import random as rnd\n",
    "import time\n",
    "import low_level_comm as llc"
   ]
  },
  {
   "cell_type": "code",
   "execution_count": 2,
   "metadata": {},
   "outputs": [
    {
     "data": {
      "text/plain": [
       "['COM3', 'COM6', 'COM10']"
      ]
     },
     "execution_count": 2,
     "metadata": {},
     "output_type": "execute_result"
    }
   ],
   "source": [
    "llc.listSerialPorts()"
   ]
  },
  {
   "cell_type": "code",
   "execution_count": 3,
   "metadata": {},
   "outputs": [],
   "source": [
    "ar = cartesian.arnie(cartesian_port=\"COM10\", docker_port=\"COM6\")"
   ]
  },
  {
   "cell_type": "code",
   "execution_count": 4,
   "metadata": {},
   "outputs": [],
   "source": [
    "ar.home()"
   ]
  },
  {
   "cell_type": "code",
   "execution_count": 5,
   "metadata": {},
   "outputs": [],
   "source": [
    "stp = tools.stationary_touch_probe(ar)"
   ]
  },
  {
   "cell_type": "markdown",
   "metadata": {},
   "source": [
    "# Initializing racks"
   ]
  },
  {
   "cell_type": "code",
   "execution_count": 6,
   "metadata": {},
   "outputs": [],
   "source": [
    "# Tips\n",
    "p1000_tip_rack = racks.consumables(rack_name='p1000_tips_1', rack_type='p1000_tips')\n",
    "p200_tip_rack = racks.consumables(rack_name='p200_tips_1', rack_type='p200_tips')\n",
    "p20_tip_rack = racks.consumables(rack_name='p20_tips_1', rack_type='p20_tips')\n",
    "p1000_tip_rack.replaceConsumables()\n",
    "# Some of the tips are missing from the box\n",
    "p1000_tip_rack.removeConsumableItems([(4,7), (5,7), (7,7), (8, 6), (8, 7)])\n",
    "p200_tip_rack.replaceConsumables()\n",
    "p20_tip_rack.replaceConsumables()\n",
    "# Tube racks\n",
    "ep1 = racks.rack(rack_name='eppendorf_1', rack_type='eppendorf')\n",
    "magep1 = racks.rack(rack_name='eppendorf_magnetic_1', rack_type='eppendorf_magnetic')\n",
    "r50 = racks.rack(rack_name='50mL_rack_1', rack_type='50mL')\n",
    "# Waste rack\n",
    "waste_rack = racks.rack(rack_name='waste', rack_type='waste_rack')\n",
    "# Have to provide slot numbers\n",
    "rack96well = racks.rack(rack_name='96well_rack', rack_type='96wells_rack', x_slot=2, y_slot=3)\n",
    "# Magnetic rack has the same geometry as normal rack, so the same rack type is used\n",
    "magrack96well = racks.rack(rack_name='96well_rack_magnetic', rack_type='96wells_rack', x_slot=3, y_slot=3)"
   ]
  },
  {
   "cell_type": "markdown",
   "metadata": {},
   "source": [
    "# Calibrating everyting"
   ]
  },
  {
   "cell_type": "code",
   "execution_count": 7,
   "metadata": {},
   "outputs": [],
   "source": [
    "tp = tools.mobile_touch_probe.getTool(ar)\n",
    "#tp = tools.mobile_touch_probe(ar)"
   ]
  },
  {
   "cell_type": "code",
   "execution_count": 8,
   "metadata": {},
   "outputs": [],
   "source": [
    "x, y, z = calibration.calibrateStationaryProbe(tp, stp)"
   ]
  },
  {
   "cell_type": "code",
   "execution_count": 40,
   "metadata": {},
   "outputs": [],
   "source": [
    "xr, yr, zr = calibration.calibrateRack(tp, p1000_tip_rack)"
   ]
  },
  {
   "cell_type": "code",
   "execution_count": 43,
   "metadata": {},
   "outputs": [],
   "source": [
    "xr, yr, zr = calibration.calibrateRack(tp, p20_tip_rack)"
   ]
  },
  {
   "cell_type": "code",
   "execution_count": 9,
   "metadata": {},
   "outputs": [],
   "source": [
    "xr, yr, zr = calibration.calibrateRack(tp, p1000_tip_rack)\n",
    "xr, yr, zr = calibration.calibrateRack(tp, p200_tip_rack)\n",
    "xr, yr, zr = calibration.calibrateRack(tp, p20_tip_rack)\n",
    "ar.move(z=400)\n",
    "xr, yr, zr = calibration.calibrateRack(tp, ep1)\n",
    "xr, yr, zr = calibration.calibrateRack(tp, magep1)\n",
    "xr, yr, zr = calibration.calibrateRack(tp, rack96well)\n",
    "xr, yr, zr = calibration.calibrateRack(tp, magrack96well)\n",
    "xr, yr, zr = calibration.calibrateRack(tp, r50)\n",
    "xr, yr, zr = calibration.calibrateRack(tp, waste_rack)"
   ]
  },
  {
   "cell_type": "code",
   "execution_count": 51,
   "metadata": {},
   "outputs": [],
   "source": [
    "xr, yr, zr = calibration.calibrateRack(tp, ep1)\n",
    "xr, yr, zr = calibration.calibrateRack(tp, magep1)"
   ]
  },
  {
   "cell_type": "code",
   "execution_count": 17,
   "metadata": {},
   "outputs": [
    {
     "data": {
      "text/plain": [
       "2.0"
      ]
     },
     "execution_count": 17,
     "metadata": {},
     "output_type": "execute_result"
    }
   ],
   "source": [
    "magep1.x_init_calibrat_dist_from_wall"
   ]
  },
  {
   "cell_type": "code",
   "execution_count": 50,
   "metadata": {},
   "outputs": [],
   "source": [
    "ar.move(z=450)"
   ]
  },
  {
   "cell_type": "code",
   "execution_count": 29,
   "metadata": {},
   "outputs": [],
   "source": [
    "xr, yr, zr = calibration.calibrateRack(tp, magep1)"
   ]
  },
  {
   "cell_type": "code",
   "execution_count": 10,
   "metadata": {},
   "outputs": [],
   "source": [
    "tp.returnTool()"
   ]
  },
  {
   "cell_type": "code",
   "execution_count": 11,
   "metadata": {},
   "outputs": [],
   "source": [
    "ar.home()"
   ]
  },
  {
   "cell_type": "markdown",
   "metadata": {},
   "source": [
    "# Initializing samples"
   ]
  },
  {
   "cell_type": "code",
   "execution_count": 7,
   "metadata": {},
   "outputs": [
    {
     "data": {
      "text/plain": [
       "[None, None, None, None, None]"
      ]
     },
     "execution_count": 7,
     "metadata": {},
     "output_type": "execute_result"
    }
   ],
   "source": [
    "# Initializing samples (total 5 samples)\n",
    "sample_list = [samples.sample(sample_name='t_ep_'+str(x), sample_type='eppendorf_tube') for x in range(5)]\n",
    "[x[0].place(ep1, x[1], 3) for x in zip(sample_list, range(5))]"
   ]
  },
  {
   "cell_type": "code",
   "execution_count": 8,
   "metadata": {},
   "outputs": [],
   "source": [
    "# Defining starting volume of each sample\n",
    "vol_list = [50, 50, 40, 25, 25]"
   ]
  },
  {
   "cell_type": "code",
   "execution_count": 37,
   "metadata": {},
   "outputs": [],
   "source": [
    "water = samples.sample(sample_name='water', sample_type='eppendorf_tube')\n",
    "water.place(ep1, 7, 0)\n",
    "water.setVolume(1300)"
   ]
  },
  {
   "cell_type": "code",
   "execution_count": 10,
   "metadata": {},
   "outputs": [],
   "source": [
    "# Tube with magnetic beads\n",
    "magbeads = samples.sample(sample_name='magbeads', sample_type='50mL_tube')\n",
    "magbeads.place(r50, 0, 0)\n",
    "# Assuming we have 20 mL of magnetic beads\n",
    "magbeads.setVolume(20000)"
   ]
  },
  {
   "cell_type": "code",
   "execution_count": 11,
   "metadata": {},
   "outputs": [
    {
     "data": {
      "text/plain": [
       "[None, None, None, None, None]"
      ]
     },
     "execution_count": 11,
     "metadata": {},
     "output_type": "execute_result"
    }
   ],
   "source": [
    "# Tubes to transfer intermediate DNA into\n",
    "upper_cut_samples = [samples.sample(sample_name='ucs_'+str(x), sample_type='eppendorf_tube') for x in range(5)]\n",
    "# Placing samples into the initial rack\n",
    "[x[0].place(ep1, x[1], 2) for x in zip(upper_cut_samples, range(5))]"
   ]
  },
  {
   "cell_type": "code",
   "execution_count": 12,
   "metadata": {},
   "outputs": [
    {
     "data": {
      "text/plain": [
       "[None, None, None, None, None]"
      ]
     },
     "execution_count": 12,
     "metadata": {},
     "output_type": "execute_result"
    }
   ],
   "source": [
    "# Empty tubes for elution\n",
    "result_samples = [samples.sample(sample_name='result_'+str(x), sample_type='eppendorf_tube') for x in range(5)]\n",
    "[x[0].place(ep1, x[1], 0) for x in zip(result_samples, range(5))]"
   ]
  },
  {
   "cell_type": "code",
   "execution_count": 13,
   "metadata": {},
   "outputs": [],
   "source": [
    "# 80% ethanol tube\n",
    "ethanol = samples.sample(sample_name='ethanol', sample_type='50mL_tube')\n",
    "ethanol.place(r50, 2, 0)\n",
    "ethanol.setVolume(50000)"
   ]
  },
  {
   "cell_type": "code",
   "execution_count": 14,
   "metadata": {},
   "outputs": [],
   "source": [
    "# Waste tube\n",
    "waste = samples.sample(sample_name='waste', sample_type='50mL_tube')\n",
    "waste.place(r50, 1, 0)\n",
    "waste.setVolume(0)"
   ]
  },
  {
   "cell_type": "markdown",
   "metadata": {},
   "source": [
    "# Beads to vol recalculation"
   ]
  },
  {
   "cell_type": "code",
   "execution_count": 15,
   "metadata": {},
   "outputs": [],
   "source": [
    "def calcBeadsVol(sample_vol, DNA_size_cutoff):\n",
    "    multiplier = 4.99325349e-01 - 9.91043764e+00 / DNA_size_cutoff + 2.57585836e+04 / DNA_size_cutoff ** 2\n",
    "    return sample_vol * multiplier"
   ]
  },
  {
   "cell_type": "markdown",
   "metadata": {},
   "source": [
    "# DNA Size Cutoff"
   ]
  },
  {
   "cell_type": "code",
   "execution_count": 17,
   "metadata": {},
   "outputs": [],
   "source": [
    "upper_cutoff_list = [1000, 500, 700, 350, 1000]\n",
    "lower_cutoff_list = [250, 100, 100, 150, 200]"
   ]
  },
  {
   "cell_type": "markdown",
   "metadata": {},
   "source": [
    "# Pre-filling tubes with \"samples\""
   ]
  },
  {
   "cell_type": "code",
   "execution_count": 29,
   "metadata": {},
   "outputs": [],
   "source": [
    "p200 = tools.pipettor.getTool(robot=ar, tool_name='p200_tool')"
   ]
  },
  {
   "cell_type": "code",
   "execution_count": 30,
   "metadata": {},
   "outputs": [],
   "source": [
    "xt, yt, zt = calibration.calibrateTool(p200, stp)"
   ]
  },
  {
   "cell_type": "code",
   "execution_count": 31,
   "metadata": {},
   "outputs": [],
   "source": [
    "xn, yn = p200_tip_rack.getNextConsumable()\n",
    "p200.pickUpTip(p200_tip_rack, xn, yn, raise_z=300)"
   ]
  },
  {
   "cell_type": "code",
   "execution_count": 32,
   "metadata": {},
   "outputs": [
    {
     "ename": "NameError",
     "evalue": "name 'dropTipToWaste' is not defined",
     "output_type": "error",
     "traceback": [
      "\u001b[1;31m---------------------------------------------------------------------------\u001b[0m",
      "\u001b[1;31mNameError\u001b[0m                                 Traceback (most recent call last)",
      "\u001b[1;32m<ipython-input-32-f29565dfeaf9>\u001b[0m in \u001b[0;36m<module>\u001b[1;34m\u001b[0m\n\u001b[0;32m      1\u001b[0m \u001b[0mp200\u001b[0m\u001b[1;33m.\u001b[0m\u001b[0mdistributeLiquid\u001b[0m\u001b[1;33m(\u001b[0m\u001b[0mwater\u001b[0m\u001b[1;33m,\u001b[0m \u001b[0msample_list\u001b[0m\u001b[1;33m,\u001b[0m \u001b[0mvol_list\u001b[0m\u001b[1;33m)\u001b[0m\u001b[1;33m\u001b[0m\u001b[1;33m\u001b[0m\u001b[0m\n\u001b[1;32m----> 2\u001b[1;33m \u001b[0mdropTipToWaste\u001b[0m\u001b[1;33m(\u001b[0m\u001b[0mtool\u001b[0m\u001b[1;33m=\u001b[0m\u001b[0mp200\u001b[0m\u001b[1;33m,\u001b[0m \u001b[0mx_slot\u001b[0m\u001b[1;33m=\u001b[0m\u001b[1;36m5\u001b[0m\u001b[1;33m,\u001b[0m \u001b[0my_slot\u001b[0m\u001b[1;33m=\u001b[0m\u001b[1;36m3\u001b[0m\u001b[1;33m,\u001b[0m \u001b[0mz\u001b[0m\u001b[1;33m=\u001b[0m\u001b[1;36m300\u001b[0m\u001b[1;33m)\u001b[0m\u001b[1;33m\u001b[0m\u001b[1;33m\u001b[0m\u001b[0m\n\u001b[0m",
      "\u001b[1;31mNameError\u001b[0m: name 'dropTipToWaste' is not defined"
     ]
    }
   ],
   "source": [
    "p200.distributeLiquid(water, sample_list, vol_list)"
   ]
  },
  {
   "cell_type": "code",
   "execution_count": 33,
   "metadata": {},
   "outputs": [],
   "source": [
    "ar.move(z=300)"
   ]
  },
  {
   "cell_type": "code",
   "execution_count": 38,
   "metadata": {},
   "outputs": [],
   "source": [
    "test1_sample = samples.sample(sample_name='test', sample_type='eppendorf_tube')\n",
    "test1_sample.place(magep1, 0, 0)"
   ]
  },
  {
   "cell_type": "code",
   "execution_count": 39,
   "metadata": {},
   "outputs": [],
   "source": [
    "p200.moveLiquid(water, test1_sample, 200, blow_extra=True)\n",
    "p200.moveLiquid(water, test1_sample, 200, blow_extra=True)\n",
    "p200.moveLiquid(water, test1_sample, 200, blow_extra=True)\n",
    "p200.moveLiquid(water, test1_sample, 200, blow_extra=True)"
   ]
  },
  {
   "cell_type": "code",
   "execution_count": 40,
   "metadata": {},
   "outputs": [],
   "source": [
    "p200.moveLiquid(test1_sample, water, 200, blow_extra=True)\n",
    "p200.moveLiquid(test1_sample, water, 200, blow_extra=True)\n",
    "p200.moveLiquid(test1_sample, water, 200, blow_extra=True)\n",
    "p200.uptakeAll(test1_sample)\n",
    "p200.dispenseLiquid(water, 200, blow_extra=True)"
   ]
  },
  {
   "cell_type": "code",
   "execution_count": 18,
   "metadata": {},
   "outputs": [
    {
     "data": {
      "text/plain": [
       "[0.0, 0.0, 0.0, 0.0, 0.0]"
      ]
     },
     "execution_count": 18,
     "metadata": {},
     "output_type": "execute_result"
    }
   ],
   "source": [
    "# Estimating volume that needs to be added to the tubes\n",
    "vol_to_add = [calcBeadsVol(x[0].getVolume(), x[1]) for x in zip(sample_list, upper_cutoff_list)]\n",
    "vol_to_add"
   ]
  },
  {
   "cell_type": "code",
   "execution_count": 41,
   "metadata": {},
   "outputs": [],
   "source": [
    "waste_rack = racks.rack(rack_name='waste', rack_type='waste_rack')"
   ]
  },
  {
   "cell_type": "code",
   "execution_count": 42,
   "metadata": {},
   "outputs": [],
   "source": [
    "p200.dropTipToWaste(waste_rack, raise_z=400)"
   ]
  },
  {
   "cell_type": "code",
   "execution_count": null,
   "metadata": {},
   "outputs": [],
   "source": []
  },
  {
   "cell_type": "code",
   "execution_count": 43,
   "metadata": {},
   "outputs": [],
   "source": [
    "p200.returnTool()"
   ]
  },
  {
   "cell_type": "code",
   "execution_count": 65,
   "metadata": {},
   "outputs": [],
   "source": [
    "ar.home()"
   ]
  },
  {
   "cell_type": "markdown",
   "metadata": {},
   "source": [
    "# Moving tube from one rack to the other"
   ]
  },
  {
   "cell_type": "code",
   "execution_count": 45,
   "metadata": {},
   "outputs": [],
   "source": [
    "gr = tools.mobile_gripper.getTool(robot=ar)"
   ]
  },
  {
   "cell_type": "code",
   "execution_count": 46,
   "metadata": {},
   "outputs": [
    {
     "data": {
      "text/plain": [
       "(94.8, 66.6, 515.9)"
      ]
     },
     "execution_count": 46,
     "metadata": {},
     "output_type": "execute_result"
    }
   ],
   "source": [
    "calibration.calibrateToolCustomPoints(tool=gr, stationary_probe=stp)"
   ]
  },
  {
   "cell_type": "code",
   "execution_count": 47,
   "metadata": {},
   "outputs": [
    {
     "data": {
      "text/plain": [
       "<samples.sample at 0x26b6cdd8b08>"
      ]
     },
     "execution_count": 47,
     "metadata": {},
     "output_type": "execute_result"
    }
   ],
   "source": [
    "gr.moveSample(test1_sample, ep1, 4, 2)"
   ]
  },
  {
   "cell_type": "markdown",
   "metadata": {},
   "source": [
    "# Moving several samples"
   ]
  },
  {
   "cell_type": "code",
   "execution_count": 48,
   "metadata": {},
   "outputs": [],
   "source": [
    "for sample in sample_list:\n",
    "    col_number = sample.sample_data['x_well']\n",
    "    sample = gr.moveSample(sample, magep1, col_number, 1)"
   ]
  },
  {
   "cell_type": "code",
   "execution_count": 49,
   "metadata": {},
   "outputs": [],
   "source": [
    "for sample in sample_list:\n",
    "    col_number = sample.sample_data['x_well']\n",
    "    sample = gr.moveSample(sample, ep1, col_number, 3)"
   ]
  },
  {
   "cell_type": "code",
   "execution_count": 63,
   "metadata": {},
   "outputs": [],
   "source": [
    "gr.operateGripper(0)"
   ]
  },
  {
   "cell_type": "code",
   "execution_count": 60,
   "metadata": {},
   "outputs": [],
   "source": [
    "# 80% ethanol tube\n",
    "ethanol = samples.sample(sample_name='ethanol', sample_type='50mL_tube')\n",
    "ethanol.place(r50, 0, 0)\n",
    "ethanol.setVolume(50000)"
   ]
  },
  {
   "cell_type": "code",
   "execution_count": 61,
   "metadata": {},
   "outputs": [],
   "source": [
    "gr.gripper_has_something = False"
   ]
  },
  {
   "cell_type": "code",
   "execution_count": 62,
   "metadata": {},
   "outputs": [],
   "source": [
    "ethanol = gr.moveSample(ethanol, r50, 1, 0)\n",
    "ethanol = gr.moveSample(ethanol, r50, 2, 0)\n",
    "ethanol = gr.moveSample(ethanol, r50, 1, 1)\n",
    "ethanol = gr.moveSample(ethanol, r50, 0, 0)"
   ]
  },
  {
   "cell_type": "code",
   "execution_count": 59,
   "metadata": {},
   "outputs": [],
   "source": [
    "ar.move(z=300)"
   ]
  },
  {
   "cell_type": "code",
   "execution_count": null,
   "metadata": {},
   "outputs": [],
   "source": []
  },
  {
   "cell_type": "code",
   "execution_count": 64,
   "metadata": {},
   "outputs": [],
   "source": [
    "gr.returnTool()"
   ]
  },
  {
   "cell_type": "code",
   "execution_count": null,
   "metadata": {},
   "outputs": [],
   "source": []
  }
 ],
 "metadata": {
  "kernelspec": {
   "display_name": "Python 3",
   "language": "python",
   "name": "python3"
  },
  "language_info": {
   "codemirror_mode": {
    "name": "ipython",
    "version": 3
   },
   "file_extension": ".py",
   "mimetype": "text/x-python",
   "name": "python",
   "nbconvert_exporter": "python",
   "pygments_lexer": "ipython3",
   "version": "3.7.4"
  }
 },
 "nbformat": 4,
 "nbformat_minor": 2
}
